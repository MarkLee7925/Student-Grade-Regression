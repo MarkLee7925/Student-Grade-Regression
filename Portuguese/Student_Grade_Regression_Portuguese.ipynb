{
  "nbformat": 4,
  "nbformat_minor": 0,
  "metadata": {
    "colab": {
      "name": "Student-Grade-Regression-Portuguese.ipynb",
      "provenance": [],
      "collapsed_sections": []
    },
    "kernelspec": {
      "display_name": "Python 3",
      "name": "python3"
    }
  },
  "cells": [
    {
      "cell_type": "markdown",
      "metadata": {
        "id": "APZVoQmL47I1"
      },
      "source": [
        "# Student Grade Regression - Portuguese"
      ]
    },
    {
      "cell_type": "markdown",
      "metadata": {
        "id": "nNx9hfINDIam"
      },
      "source": [
        "## 1. Import Libraries"
      ]
    },
    {
      "cell_type": "code",
      "metadata": {
        "id": "xuNOzl914e6q"
      },
      "source": [
        "import numpy as np\n",
        "import matplotlib.pyplot as plt\n",
        "import pandas as pd\n",
        "import seaborn as sns"
      ],
      "execution_count": 66,
      "outputs": []
    },
    {
      "cell_type": "markdown",
      "metadata": {
        "id": "dHpMeEh8Z40u"
      },
      "source": [
        "## 2. Load and Summarize Data"
      ]
    },
    {
      "cell_type": "code",
      "metadata": {
        "colab": {
          "base_uri": "https://localhost:8080/"
        },
        "id": "Vs4q7FIt4s8o",
        "outputId": "c50b43fc-31ce-497d-afeb-d952260b623a"
      },
      "source": [
        "# Load dataframe (df)\n",
        "df = pd.read_csv('student-por.csv')\n",
        "X, y = df.iloc[:, :-1].values, df.iloc[:, -1].values\n",
        "\n",
        "print(X.shape, y.shape)"
      ],
      "execution_count": 67,
      "outputs": [
        {
          "output_type": "stream",
          "text": [
            "(649, 32) (649,)\n"
          ],
          "name": "stdout"
        }
      ]
    },
    {
      "cell_type": "code",
      "metadata": {
        "colab": {
          "base_uri": "https://localhost:8080/",
          "height": 439
        },
        "id": "Y40bdlo6LmXA",
        "outputId": "0aa4254a-21f2-4e96-d24e-a1fa270ca691"
      },
      "source": [
        "df"
      ],
      "execution_count": 68,
      "outputs": [
        {
          "output_type": "execute_result",
          "data": {
            "text/html": [
              "<div>\n",
              "<style scoped>\n",
              "    .dataframe tbody tr th:only-of-type {\n",
              "        vertical-align: middle;\n",
              "    }\n",
              "\n",
              "    .dataframe tbody tr th {\n",
              "        vertical-align: top;\n",
              "    }\n",
              "\n",
              "    .dataframe thead th {\n",
              "        text-align: right;\n",
              "    }\n",
              "</style>\n",
              "<table border=\"1\" class=\"dataframe\">\n",
              "  <thead>\n",
              "    <tr style=\"text-align: right;\">\n",
              "      <th></th>\n",
              "      <th>school</th>\n",
              "      <th>sex</th>\n",
              "      <th>age</th>\n",
              "      <th>address</th>\n",
              "      <th>famsize</th>\n",
              "      <th>Pstatus</th>\n",
              "      <th>Medu</th>\n",
              "      <th>Fedu</th>\n",
              "      <th>Mjob</th>\n",
              "      <th>Fjob</th>\n",
              "      <th>reason</th>\n",
              "      <th>guardian</th>\n",
              "      <th>traveltime</th>\n",
              "      <th>studytime</th>\n",
              "      <th>failures</th>\n",
              "      <th>schoolsup</th>\n",
              "      <th>famsup</th>\n",
              "      <th>paid</th>\n",
              "      <th>activities</th>\n",
              "      <th>nursery</th>\n",
              "      <th>higher</th>\n",
              "      <th>internet</th>\n",
              "      <th>romantic</th>\n",
              "      <th>famrel</th>\n",
              "      <th>freetime</th>\n",
              "      <th>goout</th>\n",
              "      <th>Dalc</th>\n",
              "      <th>Walc</th>\n",
              "      <th>health</th>\n",
              "      <th>absences</th>\n",
              "      <th>G1</th>\n",
              "      <th>G2</th>\n",
              "      <th>G3</th>\n",
              "    </tr>\n",
              "  </thead>\n",
              "  <tbody>\n",
              "    <tr>\n",
              "      <th>0</th>\n",
              "      <td>GP</td>\n",
              "      <td>F</td>\n",
              "      <td>18</td>\n",
              "      <td>U</td>\n",
              "      <td>GT3</td>\n",
              "      <td>A</td>\n",
              "      <td>4</td>\n",
              "      <td>4</td>\n",
              "      <td>at_home</td>\n",
              "      <td>teacher</td>\n",
              "      <td>course</td>\n",
              "      <td>mother</td>\n",
              "      <td>2</td>\n",
              "      <td>2</td>\n",
              "      <td>0</td>\n",
              "      <td>yes</td>\n",
              "      <td>no</td>\n",
              "      <td>no</td>\n",
              "      <td>no</td>\n",
              "      <td>yes</td>\n",
              "      <td>yes</td>\n",
              "      <td>no</td>\n",
              "      <td>no</td>\n",
              "      <td>4</td>\n",
              "      <td>3</td>\n",
              "      <td>4</td>\n",
              "      <td>1</td>\n",
              "      <td>1</td>\n",
              "      <td>3</td>\n",
              "      <td>4</td>\n",
              "      <td>0</td>\n",
              "      <td>11</td>\n",
              "      <td>11</td>\n",
              "    </tr>\n",
              "    <tr>\n",
              "      <th>1</th>\n",
              "      <td>GP</td>\n",
              "      <td>F</td>\n",
              "      <td>17</td>\n",
              "      <td>U</td>\n",
              "      <td>GT3</td>\n",
              "      <td>T</td>\n",
              "      <td>1</td>\n",
              "      <td>1</td>\n",
              "      <td>at_home</td>\n",
              "      <td>other</td>\n",
              "      <td>course</td>\n",
              "      <td>father</td>\n",
              "      <td>1</td>\n",
              "      <td>2</td>\n",
              "      <td>0</td>\n",
              "      <td>no</td>\n",
              "      <td>yes</td>\n",
              "      <td>no</td>\n",
              "      <td>no</td>\n",
              "      <td>no</td>\n",
              "      <td>yes</td>\n",
              "      <td>yes</td>\n",
              "      <td>no</td>\n",
              "      <td>5</td>\n",
              "      <td>3</td>\n",
              "      <td>3</td>\n",
              "      <td>1</td>\n",
              "      <td>1</td>\n",
              "      <td>3</td>\n",
              "      <td>2</td>\n",
              "      <td>9</td>\n",
              "      <td>11</td>\n",
              "      <td>11</td>\n",
              "    </tr>\n",
              "    <tr>\n",
              "      <th>2</th>\n",
              "      <td>GP</td>\n",
              "      <td>F</td>\n",
              "      <td>15</td>\n",
              "      <td>U</td>\n",
              "      <td>LE3</td>\n",
              "      <td>T</td>\n",
              "      <td>1</td>\n",
              "      <td>1</td>\n",
              "      <td>at_home</td>\n",
              "      <td>other</td>\n",
              "      <td>other</td>\n",
              "      <td>mother</td>\n",
              "      <td>1</td>\n",
              "      <td>2</td>\n",
              "      <td>0</td>\n",
              "      <td>yes</td>\n",
              "      <td>no</td>\n",
              "      <td>no</td>\n",
              "      <td>no</td>\n",
              "      <td>yes</td>\n",
              "      <td>yes</td>\n",
              "      <td>yes</td>\n",
              "      <td>no</td>\n",
              "      <td>4</td>\n",
              "      <td>3</td>\n",
              "      <td>2</td>\n",
              "      <td>2</td>\n",
              "      <td>3</td>\n",
              "      <td>3</td>\n",
              "      <td>6</td>\n",
              "      <td>12</td>\n",
              "      <td>13</td>\n",
              "      <td>12</td>\n",
              "    </tr>\n",
              "    <tr>\n",
              "      <th>3</th>\n",
              "      <td>GP</td>\n",
              "      <td>F</td>\n",
              "      <td>15</td>\n",
              "      <td>U</td>\n",
              "      <td>GT3</td>\n",
              "      <td>T</td>\n",
              "      <td>4</td>\n",
              "      <td>2</td>\n",
              "      <td>health</td>\n",
              "      <td>services</td>\n",
              "      <td>home</td>\n",
              "      <td>mother</td>\n",
              "      <td>1</td>\n",
              "      <td>3</td>\n",
              "      <td>0</td>\n",
              "      <td>no</td>\n",
              "      <td>yes</td>\n",
              "      <td>no</td>\n",
              "      <td>yes</td>\n",
              "      <td>yes</td>\n",
              "      <td>yes</td>\n",
              "      <td>yes</td>\n",
              "      <td>yes</td>\n",
              "      <td>3</td>\n",
              "      <td>2</td>\n",
              "      <td>2</td>\n",
              "      <td>1</td>\n",
              "      <td>1</td>\n",
              "      <td>5</td>\n",
              "      <td>0</td>\n",
              "      <td>14</td>\n",
              "      <td>14</td>\n",
              "      <td>14</td>\n",
              "    </tr>\n",
              "    <tr>\n",
              "      <th>4</th>\n",
              "      <td>GP</td>\n",
              "      <td>F</td>\n",
              "      <td>16</td>\n",
              "      <td>U</td>\n",
              "      <td>GT3</td>\n",
              "      <td>T</td>\n",
              "      <td>3</td>\n",
              "      <td>3</td>\n",
              "      <td>other</td>\n",
              "      <td>other</td>\n",
              "      <td>home</td>\n",
              "      <td>father</td>\n",
              "      <td>1</td>\n",
              "      <td>2</td>\n",
              "      <td>0</td>\n",
              "      <td>no</td>\n",
              "      <td>yes</td>\n",
              "      <td>no</td>\n",
              "      <td>no</td>\n",
              "      <td>yes</td>\n",
              "      <td>yes</td>\n",
              "      <td>no</td>\n",
              "      <td>no</td>\n",
              "      <td>4</td>\n",
              "      <td>3</td>\n",
              "      <td>2</td>\n",
              "      <td>1</td>\n",
              "      <td>2</td>\n",
              "      <td>5</td>\n",
              "      <td>0</td>\n",
              "      <td>11</td>\n",
              "      <td>13</td>\n",
              "      <td>13</td>\n",
              "    </tr>\n",
              "    <tr>\n",
              "      <th>...</th>\n",
              "      <td>...</td>\n",
              "      <td>...</td>\n",
              "      <td>...</td>\n",
              "      <td>...</td>\n",
              "      <td>...</td>\n",
              "      <td>...</td>\n",
              "      <td>...</td>\n",
              "      <td>...</td>\n",
              "      <td>...</td>\n",
              "      <td>...</td>\n",
              "      <td>...</td>\n",
              "      <td>...</td>\n",
              "      <td>...</td>\n",
              "      <td>...</td>\n",
              "      <td>...</td>\n",
              "      <td>...</td>\n",
              "      <td>...</td>\n",
              "      <td>...</td>\n",
              "      <td>...</td>\n",
              "      <td>...</td>\n",
              "      <td>...</td>\n",
              "      <td>...</td>\n",
              "      <td>...</td>\n",
              "      <td>...</td>\n",
              "      <td>...</td>\n",
              "      <td>...</td>\n",
              "      <td>...</td>\n",
              "      <td>...</td>\n",
              "      <td>...</td>\n",
              "      <td>...</td>\n",
              "      <td>...</td>\n",
              "      <td>...</td>\n",
              "      <td>...</td>\n",
              "    </tr>\n",
              "    <tr>\n",
              "      <th>644</th>\n",
              "      <td>MS</td>\n",
              "      <td>F</td>\n",
              "      <td>19</td>\n",
              "      <td>R</td>\n",
              "      <td>GT3</td>\n",
              "      <td>T</td>\n",
              "      <td>2</td>\n",
              "      <td>3</td>\n",
              "      <td>services</td>\n",
              "      <td>other</td>\n",
              "      <td>course</td>\n",
              "      <td>mother</td>\n",
              "      <td>1</td>\n",
              "      <td>3</td>\n",
              "      <td>1</td>\n",
              "      <td>no</td>\n",
              "      <td>no</td>\n",
              "      <td>no</td>\n",
              "      <td>yes</td>\n",
              "      <td>no</td>\n",
              "      <td>yes</td>\n",
              "      <td>yes</td>\n",
              "      <td>no</td>\n",
              "      <td>5</td>\n",
              "      <td>4</td>\n",
              "      <td>2</td>\n",
              "      <td>1</td>\n",
              "      <td>2</td>\n",
              "      <td>5</td>\n",
              "      <td>4</td>\n",
              "      <td>10</td>\n",
              "      <td>11</td>\n",
              "      <td>10</td>\n",
              "    </tr>\n",
              "    <tr>\n",
              "      <th>645</th>\n",
              "      <td>MS</td>\n",
              "      <td>F</td>\n",
              "      <td>18</td>\n",
              "      <td>U</td>\n",
              "      <td>LE3</td>\n",
              "      <td>T</td>\n",
              "      <td>3</td>\n",
              "      <td>1</td>\n",
              "      <td>teacher</td>\n",
              "      <td>services</td>\n",
              "      <td>course</td>\n",
              "      <td>mother</td>\n",
              "      <td>1</td>\n",
              "      <td>2</td>\n",
              "      <td>0</td>\n",
              "      <td>no</td>\n",
              "      <td>yes</td>\n",
              "      <td>no</td>\n",
              "      <td>no</td>\n",
              "      <td>yes</td>\n",
              "      <td>yes</td>\n",
              "      <td>yes</td>\n",
              "      <td>no</td>\n",
              "      <td>4</td>\n",
              "      <td>3</td>\n",
              "      <td>4</td>\n",
              "      <td>1</td>\n",
              "      <td>1</td>\n",
              "      <td>1</td>\n",
              "      <td>4</td>\n",
              "      <td>15</td>\n",
              "      <td>15</td>\n",
              "      <td>16</td>\n",
              "    </tr>\n",
              "    <tr>\n",
              "      <th>646</th>\n",
              "      <td>MS</td>\n",
              "      <td>F</td>\n",
              "      <td>18</td>\n",
              "      <td>U</td>\n",
              "      <td>GT3</td>\n",
              "      <td>T</td>\n",
              "      <td>1</td>\n",
              "      <td>1</td>\n",
              "      <td>other</td>\n",
              "      <td>other</td>\n",
              "      <td>course</td>\n",
              "      <td>mother</td>\n",
              "      <td>2</td>\n",
              "      <td>2</td>\n",
              "      <td>0</td>\n",
              "      <td>no</td>\n",
              "      <td>no</td>\n",
              "      <td>no</td>\n",
              "      <td>yes</td>\n",
              "      <td>yes</td>\n",
              "      <td>yes</td>\n",
              "      <td>no</td>\n",
              "      <td>no</td>\n",
              "      <td>1</td>\n",
              "      <td>1</td>\n",
              "      <td>1</td>\n",
              "      <td>1</td>\n",
              "      <td>1</td>\n",
              "      <td>5</td>\n",
              "      <td>6</td>\n",
              "      <td>11</td>\n",
              "      <td>12</td>\n",
              "      <td>9</td>\n",
              "    </tr>\n",
              "    <tr>\n",
              "      <th>647</th>\n",
              "      <td>MS</td>\n",
              "      <td>M</td>\n",
              "      <td>17</td>\n",
              "      <td>U</td>\n",
              "      <td>LE3</td>\n",
              "      <td>T</td>\n",
              "      <td>3</td>\n",
              "      <td>1</td>\n",
              "      <td>services</td>\n",
              "      <td>services</td>\n",
              "      <td>course</td>\n",
              "      <td>mother</td>\n",
              "      <td>2</td>\n",
              "      <td>1</td>\n",
              "      <td>0</td>\n",
              "      <td>no</td>\n",
              "      <td>no</td>\n",
              "      <td>no</td>\n",
              "      <td>no</td>\n",
              "      <td>no</td>\n",
              "      <td>yes</td>\n",
              "      <td>yes</td>\n",
              "      <td>no</td>\n",
              "      <td>2</td>\n",
              "      <td>4</td>\n",
              "      <td>5</td>\n",
              "      <td>3</td>\n",
              "      <td>4</td>\n",
              "      <td>2</td>\n",
              "      <td>6</td>\n",
              "      <td>10</td>\n",
              "      <td>10</td>\n",
              "      <td>10</td>\n",
              "    </tr>\n",
              "    <tr>\n",
              "      <th>648</th>\n",
              "      <td>MS</td>\n",
              "      <td>M</td>\n",
              "      <td>18</td>\n",
              "      <td>R</td>\n",
              "      <td>LE3</td>\n",
              "      <td>T</td>\n",
              "      <td>3</td>\n",
              "      <td>2</td>\n",
              "      <td>services</td>\n",
              "      <td>other</td>\n",
              "      <td>course</td>\n",
              "      <td>mother</td>\n",
              "      <td>3</td>\n",
              "      <td>1</td>\n",
              "      <td>0</td>\n",
              "      <td>no</td>\n",
              "      <td>no</td>\n",
              "      <td>no</td>\n",
              "      <td>no</td>\n",
              "      <td>no</td>\n",
              "      <td>yes</td>\n",
              "      <td>yes</td>\n",
              "      <td>no</td>\n",
              "      <td>4</td>\n",
              "      <td>4</td>\n",
              "      <td>1</td>\n",
              "      <td>3</td>\n",
              "      <td>4</td>\n",
              "      <td>5</td>\n",
              "      <td>4</td>\n",
              "      <td>10</td>\n",
              "      <td>11</td>\n",
              "      <td>11</td>\n",
              "    </tr>\n",
              "  </tbody>\n",
              "</table>\n",
              "<p>649 rows × 33 columns</p>\n",
              "</div>"
            ],
            "text/plain": [
              "    school sex  age address famsize Pstatus  ...  Walc  health absences  G1  G2  G3\n",
              "0       GP   F   18       U     GT3       A  ...     1       3        4   0  11  11\n",
              "1       GP   F   17       U     GT3       T  ...     1       3        2   9  11  11\n",
              "2       GP   F   15       U     LE3       T  ...     3       3        6  12  13  12\n",
              "3       GP   F   15       U     GT3       T  ...     1       5        0  14  14  14\n",
              "4       GP   F   16       U     GT3       T  ...     2       5        0  11  13  13\n",
              "..     ...  ..  ...     ...     ...     ...  ...   ...     ...      ...  ..  ..  ..\n",
              "644     MS   F   19       R     GT3       T  ...     2       5        4  10  11  10\n",
              "645     MS   F   18       U     LE3       T  ...     1       1        4  15  15  16\n",
              "646     MS   F   18       U     GT3       T  ...     1       5        6  11  12   9\n",
              "647     MS   M   17       U     LE3       T  ...     4       2        6  10  10  10\n",
              "648     MS   M   18       R     LE3       T  ...     4       5        4  10  11  11\n",
              "\n",
              "[649 rows x 33 columns]"
            ]
          },
          "metadata": {
            "tags": []
          },
          "execution_count": 68
        }
      ]
    },
    {
      "cell_type": "code",
      "metadata": {
        "colab": {
          "base_uri": "https://localhost:8080/"
        },
        "id": "RUXT12RH4xJs",
        "outputId": "ae7fd943-be59-46fd-e155-797b21c37da2"
      },
      "source": [
        "df.info()"
      ],
      "execution_count": 69,
      "outputs": [
        {
          "output_type": "stream",
          "text": [
            "<class 'pandas.core.frame.DataFrame'>\n",
            "RangeIndex: 649 entries, 0 to 648\n",
            "Data columns (total 33 columns):\n",
            " #   Column      Non-Null Count  Dtype \n",
            "---  ------      --------------  ----- \n",
            " 0   school      649 non-null    object\n",
            " 1   sex         649 non-null    object\n",
            " 2   age         649 non-null    int64 \n",
            " 3   address     649 non-null    object\n",
            " 4   famsize     649 non-null    object\n",
            " 5   Pstatus     649 non-null    object\n",
            " 6   Medu        649 non-null    int64 \n",
            " 7   Fedu        649 non-null    int64 \n",
            " 8   Mjob        649 non-null    object\n",
            " 9   Fjob        649 non-null    object\n",
            " 10  reason      649 non-null    object\n",
            " 11  guardian    649 non-null    object\n",
            " 12  traveltime  649 non-null    int64 \n",
            " 13  studytime   649 non-null    int64 \n",
            " 14  failures    649 non-null    int64 \n",
            " 15  schoolsup   649 non-null    object\n",
            " 16  famsup      649 non-null    object\n",
            " 17  paid        649 non-null    object\n",
            " 18  activities  649 non-null    object\n",
            " 19  nursery     649 non-null    object\n",
            " 20  higher      649 non-null    object\n",
            " 21  internet    649 non-null    object\n",
            " 22  romantic    649 non-null    object\n",
            " 23  famrel      649 non-null    int64 \n",
            " 24  freetime    649 non-null    int64 \n",
            " 25  goout       649 non-null    int64 \n",
            " 26  Dalc        649 non-null    int64 \n",
            " 27  Walc        649 non-null    int64 \n",
            " 28  health      649 non-null    int64 \n",
            " 29  absences    649 non-null    int64 \n",
            " 30  G1          649 non-null    int64 \n",
            " 31  G2          649 non-null    int64 \n",
            " 32  G3          649 non-null    int64 \n",
            "dtypes: int64(16), object(17)\n",
            "memory usage: 167.4+ KB\n"
          ],
          "name": "stdout"
        }
      ]
    },
    {
      "cell_type": "code",
      "metadata": {
        "colab": {
          "base_uri": "https://localhost:8080/",
          "height": 317
        },
        "id": "ey97ULPW4yvY",
        "outputId": "64972dc6-9927-45e4-f2a4-4c0916e2ffe6"
      },
      "source": [
        "df.describe()"
      ],
      "execution_count": 70,
      "outputs": [
        {
          "output_type": "execute_result",
          "data": {
            "text/html": [
              "<div>\n",
              "<style scoped>\n",
              "    .dataframe tbody tr th:only-of-type {\n",
              "        vertical-align: middle;\n",
              "    }\n",
              "\n",
              "    .dataframe tbody tr th {\n",
              "        vertical-align: top;\n",
              "    }\n",
              "\n",
              "    .dataframe thead th {\n",
              "        text-align: right;\n",
              "    }\n",
              "</style>\n",
              "<table border=\"1\" class=\"dataframe\">\n",
              "  <thead>\n",
              "    <tr style=\"text-align: right;\">\n",
              "      <th></th>\n",
              "      <th>age</th>\n",
              "      <th>Medu</th>\n",
              "      <th>Fedu</th>\n",
              "      <th>traveltime</th>\n",
              "      <th>studytime</th>\n",
              "      <th>failures</th>\n",
              "      <th>famrel</th>\n",
              "      <th>freetime</th>\n",
              "      <th>goout</th>\n",
              "      <th>Dalc</th>\n",
              "      <th>Walc</th>\n",
              "      <th>health</th>\n",
              "      <th>absences</th>\n",
              "      <th>G1</th>\n",
              "      <th>G2</th>\n",
              "      <th>G3</th>\n",
              "    </tr>\n",
              "  </thead>\n",
              "  <tbody>\n",
              "    <tr>\n",
              "      <th>count</th>\n",
              "      <td>649.000000</td>\n",
              "      <td>649.000000</td>\n",
              "      <td>649.000000</td>\n",
              "      <td>649.000000</td>\n",
              "      <td>649.000000</td>\n",
              "      <td>649.000000</td>\n",
              "      <td>649.000000</td>\n",
              "      <td>649.000000</td>\n",
              "      <td>649.000000</td>\n",
              "      <td>649.000000</td>\n",
              "      <td>649.000000</td>\n",
              "      <td>649.000000</td>\n",
              "      <td>649.000000</td>\n",
              "      <td>649.000000</td>\n",
              "      <td>649.000000</td>\n",
              "      <td>649.000000</td>\n",
              "    </tr>\n",
              "    <tr>\n",
              "      <th>mean</th>\n",
              "      <td>16.744222</td>\n",
              "      <td>2.514638</td>\n",
              "      <td>2.306626</td>\n",
              "      <td>1.568567</td>\n",
              "      <td>1.930663</td>\n",
              "      <td>0.221880</td>\n",
              "      <td>3.930663</td>\n",
              "      <td>3.180277</td>\n",
              "      <td>3.184900</td>\n",
              "      <td>1.502311</td>\n",
              "      <td>2.280431</td>\n",
              "      <td>3.536210</td>\n",
              "      <td>3.659476</td>\n",
              "      <td>11.399076</td>\n",
              "      <td>11.570108</td>\n",
              "      <td>11.906009</td>\n",
              "    </tr>\n",
              "    <tr>\n",
              "      <th>std</th>\n",
              "      <td>1.218138</td>\n",
              "      <td>1.134552</td>\n",
              "      <td>1.099931</td>\n",
              "      <td>0.748660</td>\n",
              "      <td>0.829510</td>\n",
              "      <td>0.593235</td>\n",
              "      <td>0.955717</td>\n",
              "      <td>1.051093</td>\n",
              "      <td>1.175766</td>\n",
              "      <td>0.924834</td>\n",
              "      <td>1.284380</td>\n",
              "      <td>1.446259</td>\n",
              "      <td>4.640759</td>\n",
              "      <td>2.745265</td>\n",
              "      <td>2.913639</td>\n",
              "      <td>3.230656</td>\n",
              "    </tr>\n",
              "    <tr>\n",
              "      <th>min</th>\n",
              "      <td>15.000000</td>\n",
              "      <td>0.000000</td>\n",
              "      <td>0.000000</td>\n",
              "      <td>1.000000</td>\n",
              "      <td>1.000000</td>\n",
              "      <td>0.000000</td>\n",
              "      <td>1.000000</td>\n",
              "      <td>1.000000</td>\n",
              "      <td>1.000000</td>\n",
              "      <td>1.000000</td>\n",
              "      <td>1.000000</td>\n",
              "      <td>1.000000</td>\n",
              "      <td>0.000000</td>\n",
              "      <td>0.000000</td>\n",
              "      <td>0.000000</td>\n",
              "      <td>0.000000</td>\n",
              "    </tr>\n",
              "    <tr>\n",
              "      <th>25%</th>\n",
              "      <td>16.000000</td>\n",
              "      <td>2.000000</td>\n",
              "      <td>1.000000</td>\n",
              "      <td>1.000000</td>\n",
              "      <td>1.000000</td>\n",
              "      <td>0.000000</td>\n",
              "      <td>4.000000</td>\n",
              "      <td>3.000000</td>\n",
              "      <td>2.000000</td>\n",
              "      <td>1.000000</td>\n",
              "      <td>1.000000</td>\n",
              "      <td>2.000000</td>\n",
              "      <td>0.000000</td>\n",
              "      <td>10.000000</td>\n",
              "      <td>10.000000</td>\n",
              "      <td>10.000000</td>\n",
              "    </tr>\n",
              "    <tr>\n",
              "      <th>50%</th>\n",
              "      <td>17.000000</td>\n",
              "      <td>2.000000</td>\n",
              "      <td>2.000000</td>\n",
              "      <td>1.000000</td>\n",
              "      <td>2.000000</td>\n",
              "      <td>0.000000</td>\n",
              "      <td>4.000000</td>\n",
              "      <td>3.000000</td>\n",
              "      <td>3.000000</td>\n",
              "      <td>1.000000</td>\n",
              "      <td>2.000000</td>\n",
              "      <td>4.000000</td>\n",
              "      <td>2.000000</td>\n",
              "      <td>11.000000</td>\n",
              "      <td>11.000000</td>\n",
              "      <td>12.000000</td>\n",
              "    </tr>\n",
              "    <tr>\n",
              "      <th>75%</th>\n",
              "      <td>18.000000</td>\n",
              "      <td>4.000000</td>\n",
              "      <td>3.000000</td>\n",
              "      <td>2.000000</td>\n",
              "      <td>2.000000</td>\n",
              "      <td>0.000000</td>\n",
              "      <td>5.000000</td>\n",
              "      <td>4.000000</td>\n",
              "      <td>4.000000</td>\n",
              "      <td>2.000000</td>\n",
              "      <td>3.000000</td>\n",
              "      <td>5.000000</td>\n",
              "      <td>6.000000</td>\n",
              "      <td>13.000000</td>\n",
              "      <td>13.000000</td>\n",
              "      <td>14.000000</td>\n",
              "    </tr>\n",
              "    <tr>\n",
              "      <th>max</th>\n",
              "      <td>22.000000</td>\n",
              "      <td>4.000000</td>\n",
              "      <td>4.000000</td>\n",
              "      <td>4.000000</td>\n",
              "      <td>4.000000</td>\n",
              "      <td>3.000000</td>\n",
              "      <td>5.000000</td>\n",
              "      <td>5.000000</td>\n",
              "      <td>5.000000</td>\n",
              "      <td>5.000000</td>\n",
              "      <td>5.000000</td>\n",
              "      <td>5.000000</td>\n",
              "      <td>32.000000</td>\n",
              "      <td>19.000000</td>\n",
              "      <td>19.000000</td>\n",
              "      <td>19.000000</td>\n",
              "    </tr>\n",
              "  </tbody>\n",
              "</table>\n",
              "</div>"
            ],
            "text/plain": [
              "              age        Medu        Fedu  ...          G1          G2          G3\n",
              "count  649.000000  649.000000  649.000000  ...  649.000000  649.000000  649.000000\n",
              "mean    16.744222    2.514638    2.306626  ...   11.399076   11.570108   11.906009\n",
              "std      1.218138    1.134552    1.099931  ...    2.745265    2.913639    3.230656\n",
              "min     15.000000    0.000000    0.000000  ...    0.000000    0.000000    0.000000\n",
              "25%     16.000000    2.000000    1.000000  ...   10.000000   10.000000   10.000000\n",
              "50%     17.000000    2.000000    2.000000  ...   11.000000   11.000000   12.000000\n",
              "75%     18.000000    4.000000    3.000000  ...   13.000000   13.000000   14.000000\n",
              "max     22.000000    4.000000    4.000000  ...   19.000000   19.000000   19.000000\n",
              "\n",
              "[8 rows x 16 columns]"
            ]
          },
          "metadata": {
            "tags": []
          },
          "execution_count": 70
        }
      ]
    },
    {
      "cell_type": "code",
      "metadata": {
        "colab": {
          "base_uri": "https://localhost:8080/"
        },
        "id": "0USxoxCsmgVM",
        "outputId": "1ed4b187-514b-4058-bba7-6df145f64c83"
      },
      "source": [
        "# Check for missing values\n",
        "df.isnull().sum()"
      ],
      "execution_count": 71,
      "outputs": [
        {
          "output_type": "execute_result",
          "data": {
            "text/plain": [
              "school        0\n",
              "sex           0\n",
              "age           0\n",
              "address       0\n",
              "famsize       0\n",
              "Pstatus       0\n",
              "Medu          0\n",
              "Fedu          0\n",
              "Mjob          0\n",
              "Fjob          0\n",
              "reason        0\n",
              "guardian      0\n",
              "traveltime    0\n",
              "studytime     0\n",
              "failures      0\n",
              "schoolsup     0\n",
              "famsup        0\n",
              "paid          0\n",
              "activities    0\n",
              "nursery       0\n",
              "higher        0\n",
              "internet      0\n",
              "romantic      0\n",
              "famrel        0\n",
              "freetime      0\n",
              "goout         0\n",
              "Dalc          0\n",
              "Walc          0\n",
              "health        0\n",
              "absences      0\n",
              "G1            0\n",
              "G2            0\n",
              "G3            0\n",
              "dtype: int64"
            ]
          },
          "metadata": {
            "tags": []
          },
          "execution_count": 71
        }
      ]
    },
    {
      "cell_type": "markdown",
      "metadata": {
        "id": "g0L7LJYASx4n"
      },
      "source": [
        "## 3. Visualize Data"
      ]
    },
    {
      "cell_type": "markdown",
      "metadata": {
        "id": "NyJSwKlTGHfP"
      },
      "source": [
        "#### Age Distribution"
      ]
    },
    {
      "cell_type": "code",
      "metadata": {
        "colab": {
          "base_uri": "https://localhost:8080/",
          "height": 408
        },
        "id": "AGP7MPe0DLJ8",
        "outputId": "8e88d947-8550-4f73-a0a8-8532a128c26f"
      },
      "source": [
        "plt.figure(figsize=(9, 6))\n",
        "plt.yticks(np.arange(0, 200, 20))\n",
        "age_dist = df['age']\n",
        "plt.hist(x=age_dist, alpha=0.7, edgecolor='black')\n",
        "plt.xlabel('Age', fontsize=12)\n",
        "plt.ylabel('Number of Students', fontsize=12)\n",
        "plt.title('Age Distribution of Students', fontsize=14)\n",
        "plt.show()"
      ],
      "execution_count": 72,
      "outputs": [
        {
          "output_type": "display_data",
          "data": {
            "image/png": "[encoded data removed]",
            "text/plain": [
              "<Figure size 648x432 with 1 Axes>"
            ]
          },
          "metadata": {
            "tags": [],
            "needs_background": "light"
          }
        }
      ]
    },
    {
      "cell_type": "markdown",
      "metadata": {
        "id": "UumUSRbZ4zIx"
      },
      "source": [
        "#### Gender Distribution"
      ]
    },
    {
      "cell_type": "code",
      "metadata": {
        "colab": {
          "base_uri": "https://localhost:8080/",
          "height": 408
        },
        "id": "pzkA6c0r45-a",
        "outputId": "63aac6c6-0777-43e2-fb34-806f1e79cbe9"
      },
      "source": [
        "plt.figure(figsize=(8, 6))\n",
        "gender_labels = ['F - Female', 'M - Male']\n",
        "gender_dist = df['sex']\n",
        "gender_plot = sns.countplot(x=df['sex'], hue=df['sex'], dodge=False)\n",
        "plt.yticks(np.arange(0, 425, 50))\n",
        "plt.xlabel('Gender', fontsize=12)\n",
        "plt.ylabel('Number of Students', fontsize=12)\n",
        "plt.title('Gender Distribution', fontsize=14)\n",
        "plt.legend(labels=gender_labels, loc='upper right')\n",
        "plt.show()"
      ],
      "execution_count": 73,
      "outputs": [
        {
          "output_type": "display_data",
          "data": {
            "image/png": "[encoded data removed]",
            "text/plain": [
              "<Figure size 576x432 with 1 Axes>"
            ]
          },
          "metadata": {
            "tags": [],
            "needs_background": "light"
          }
        }
      ]
    },
    {
      "cell_type": "markdown",
      "metadata": {
        "id": "h7dw-h0qJMS6"
      },
      "source": [
        "#### Extracurricular Activities"
      ]
    },
    {
      "cell_type": "code",
      "metadata": {
        "colab": {
          "base_uri": "https://localhost:8080/",
          "height": 408
        },
        "id": "mjUgceieJPK2",
        "outputId": "7fa770d5-7c5a-4a14-d90c-0de99fa280da"
      },
      "source": [
        "plt.figure(figsize=(8, 6))\n",
        "activities_labels = ['No', 'Yes']\n",
        "sns.countplot(x=df['activities'], hue=df['sex'], dodge=True)\n",
        "plt.yticks(np.arange(0, 150, 25))\n",
        "plt.xlabel('Have Activities?', fontsize=12)\n",
        "plt.ylabel('Number of Students', fontsize=12)\n",
        "plt.title('Extracurricular Activities per Gender', fontsize=14)\n",
        "plt.legend(labels=gender_labels, loc='upper right')\n",
        "plt.show()"
      ],
      "execution_count": 74,
      "outputs": [
        {
          "output_type": "display_data",
          "data": {
            "image/png": "[encoded data removed]",
            "text/plain": [
              "<Figure size 576x432 with 1 Axes>"
            ]
          },
          "metadata": {
            "tags": [],
            "needs_background": "light"
          }
        }
      ]
    },
    {
      "cell_type": "markdown",
      "metadata": {
        "id": "fQrrlmrbfiu6"
      },
      "source": [
        "#### Travel Time from Home to School"
      ]
    },
    {
      "cell_type": "code",
      "metadata": {
        "colab": {
          "base_uri": "https://localhost:8080/",
          "height": 408
        },
        "id": "VKc084C8fl2T",
        "outputId": "85f4e4e4-3330-4fd0-8868-e53f3decfb43"
      },
      "source": [
        "plt.figure(figsize=(8, 6))\n",
        "sns.countplot(x=df['traveltime'])\n",
        "plt.yticks(np.arange(0, 400, 25))\n",
        "plt.xlabel('Travel Time Category', fontsize=12)\n",
        "plt.ylabel('Number of Students', fontsize=12)\n",
        "plt.title('Travel Time from Home to School', fontsize=14)\n",
        "plt.show()"
      ],
      "execution_count": 75,
      "outputs": [
        {
          "output_type": "display_data",
          "data": {
            "image/png": "[encoded data removed]",
            "text/plain": [
              "<Figure size 576x432 with 1 Axes>"
            ]
          },
          "metadata": {
            "tags": [],
            "needs_background": "light"
          }
        }
      ]
    },
    {
      "cell_type": "markdown",
      "metadata": {
        "id": "5U9e6Pd8t0Oa"
      },
      "source": [
        "###### **Travel Time Category:**\n",
        "1 = <15 minutes, 2 = 15-30 minutes, 3 = 30 minutes - 1 hour, 4 = >1 hour"
      ]
    },
    {
      "cell_type": "markdown",
      "metadata": {
        "id": "44pETsAvpuDB"
      },
      "source": [
        "#### Weekly Studying Time "
      ]
    },
    {
      "cell_type": "code",
      "metadata": {
        "colab": {
          "base_uri": "https://localhost:8080/",
          "height": 408
        },
        "id": "-4kePrvQpzJE",
        "outputId": "409e948a-c8d9-48df-8643-ad85a004b5bf"
      },
      "source": [
        "plt.figure(figsize=(8, 6))\n",
        "study_labels = ['1 - <2 hours', '2 - 2-5 hours', '3 - 5-10 hours', '4 - >10 hours']\n",
        "sns.countplot(x=df['studytime'], dodge=True)\n",
        "plt.yticks(np.arange(0, 350, 50))\n",
        "plt.xlabel('Weekly Study Hours Category', fontsize=12)\n",
        "plt.ylabel('Number of Hours', fontsize=12)\n",
        "plt.title('Weekly Study Hours', fontsize=14)\n",
        "plt.show()"
      ],
      "execution_count": 76,
      "outputs": [
        {
          "output_type": "display_data",
          "data": {
            "image/png": "[encoded data removed]",
            "text/plain": [
              "<Figure size 576x432 with 1 Axes>"
            ]
          },
          "metadata": {
            "tags": [],
            "needs_background": "light"
          }
        }
      ]
    },
    {
      "cell_type": "markdown",
      "metadata": {
        "id": "T7L2H-2rt7t-"
      },
      "source": [
        "#### Number of Absences per Age"
      ]
    },
    {
      "cell_type": "code",
      "metadata": {
        "colab": {
          "base_uri": "https://localhost:8080/",
          "height": 408
        },
        "id": "gBE1etUJt8JG",
        "outputId": "32f6ea17-6b19-4a4a-f681-3f2ef064acb1"
      },
      "source": [
        "gender_labels_2 = ['Female', 'Male']\n",
        "plt.figure(figsize=(11, 6))\n",
        "sns.barplot(x=df['age'], y=df['absences'], hue=df['sex'], ci=None)\n",
        "plt.yticks(np.arange(0, 24, 2))\n",
        "plt.xlabel('Age', fontsize=12)\n",
        "plt.ylabel('Number of Absences', fontsize=12)\n",
        "plt.title('Number of Absenses per Age', fontsize=14)\n",
        "plt.legend(labels=gender_labels_2, loc='upper right')\n",
        "plt.show()"
      ],
      "execution_count": 77,
      "outputs": [
        {
          "output_type": "display_data",
          "data": {
            "image/png": "[encoded data removed]",
            "text/plain": [
              "<Figure size 792x432 with 1 Axes>"
            ]
          },
          "metadata": {
            "tags": [],
            "needs_background": "light"
          }
        }
      ]
    },
    {
      "cell_type": "markdown",
      "metadata": {
        "id": "-IGTU2g-t_Kx"
      },
      "source": [
        "#### Number of Failures per Age"
      ]
    },
    {
      "cell_type": "code",
      "metadata": {
        "colab": {
          "base_uri": "https://localhost:8080/",
          "height": 408
        },
        "id": "Nl_gNIS7uASu",
        "outputId": "1aab999a-cf43-43e1-9e15-0292841c1800"
      },
      "source": [
        "# Number of failure rates per age\n",
        "plt.figure(figsize=(9, 6))\n",
        "failure_labels = ['0 failures', '1 failure', '2 failures', '3 failures']\n",
        "sns.countplot(x=df['age'], hue=df['failures'])\n",
        "plt.yticks(np.arange(0, 170, 10))\n",
        "plt.xlabel('Age', fontsize=12)\n",
        "plt.ylabel('Number of Failures', fontsize=12)\n",
        "plt.title('Number of Failures per Age', fontsize=14)\n",
        "plt.legend(labels=failure_labels, loc='upper right')\n",
        "plt.show()"
      ],
      "execution_count": 78,
      "outputs": [
        {
          "output_type": "display_data",
          "data": {
            "image/png": "[encoded data removed]",
            "text/plain": [
              "<Figure size 648x432 with 1 Axes>"
            ]
          },
          "metadata": {
            "tags": [],
            "needs_background": "light"
          }
        }
      ]
    },
    {
      "cell_type": "markdown",
      "metadata": {
        "id": "0zZePuPq0eDY"
      },
      "source": [
        "#### Grades Distribution"
      ]
    },
    {
      "cell_type": "code",
      "metadata": {
        "colab": {
          "base_uri": "https://localhost:8080/",
          "height": 680
        },
        "id": "qJwBKdMp64Se",
        "outputId": "abe5002f-8fe0-431a-e27f-9ee12e073937"
      },
      "source": [
        "# First period grades\n",
        "fig1 = plt.figure(figsize=(17, 11))\n",
        "ax1 = fig1.add_subplot(2, 2, 1)\n",
        "ax1 = sns.countplot(x=df['G1'], hue=df['sex'])\n",
        "plt.yticks(np.arange(0, 70, 10))\n",
        "plt.xlabel('Grade', fontsize=12)\n",
        "plt.ylabel('Number of Students', fontsize=12)\n",
        "plt.title('First Period Grades', fontsize=14)\n",
        "plt.legend(labels=gender_labels_2, loc='upper right')\n",
        "\n",
        "# Second period grades\n",
        "ax2 = fig1.add_subplot(2, 2, 2)\n",
        "ax2 = sns.countplot(x=df['G2'], hue=df['sex'])\n",
        "plt.yticks(np.arange(0, 70, 10))\n",
        "plt.xlabel('Grade', fontsize=12)\n",
        "plt.ylabel('Number of Students', fontsize=12)\n",
        "plt.title('Second Period Grades', fontsize=14)\n",
        "plt.legend(labels=gender_labels_2, loc='upper right')\n",
        "\n",
        "# Final grades\n",
        "ax3 = fig1.add_subplot(2, 2, 3)\n",
        "ax3 = sns.countplot(x=df['G3'], hue=df['sex'])\n",
        "plt.yticks(np.arange(0, 70, 10))\n",
        "plt.xlabel('Grade', fontsize=12)\n",
        "plt.ylabel('Number of Students', fontsize=12)\n",
        "plt.title('Final Grades', fontsize=14)\n",
        "plt.legend(labels=gender_labels_2, loc='upper right')\n",
        "\n",
        "plt.show()"
      ],
      "execution_count": 79,
      "outputs": [
        {
          "output_type": "display_data",
          "data": {
            "image/png": "[encoded data removed]",
            "text/plain": [
              "<Figure size 1224x792 with 3 Axes>"
            ]
          },
          "metadata": {
            "tags": [],
            "needs_background": "light"
          }
        }
      ]
    },
    {
      "cell_type": "markdown",
      "metadata": {
        "id": "OepfTMjrlNYD"
      },
      "source": [
        "#### Correlation Map"
      ]
    },
    {
      "cell_type": "code",
      "metadata": {
        "colab": {
          "base_uri": "https://localhost:8080/",
          "height": 750
        },
        "id": "JkHBy9_OeE2j",
        "outputId": "98830a84-56cf-455a-9e49-893f9175f0cb"
      },
      "source": [
        "# Correlation Map\n",
        "plt.figure(figsize=(12,12))\n",
        "sns.heatmap(df.corr(), cmap='YlGn', annot=True, fmt = \".2f\")\n",
        "plt.xticks(rotation=45)\n",
        "plt.yticks(rotation=0)\n",
        "plt.title('Correlation Map')\n",
        "plt.show()"
      ],
      "execution_count": 80,
      "outputs": [
        {
          "output_type": "display_data",
          "data": {
            "image/png": "[encoded data removed]",
            "text/plain": [
              "<Figure size 864x864 with 2 Axes>"
            ]
          },
          "metadata": {
            "tags": [],
            "needs_background": "light"
          }
        }
      ]
    },
    {
      "cell_type": "markdown",
      "metadata": {
        "id": "91jMLTuvaU_Q"
      },
      "source": [
        "## 4. Data Preprocessing and Feature Engineering"
      ]
    },
    {
      "cell_type": "code",
      "metadata": {
        "colab": {
          "base_uri": "https://localhost:8080/"
        },
        "id": "NRfW8j3Jqq6q",
        "outputId": "fa48f700-8222-4d50-cee6-281b54a99cb0"
      },
      "source": [
        "# Categorical Columns (indices) - 0:1, 3:5, 8:11, 15:22\n",
        "from sklearn.preprocessing import LabelEncoder\n",
        "\n",
        "# Label Encode - 0:1, 3:5, 15:22\n",
        "le = LabelEncoder()\n",
        "# le_columns = X[:, [0, 1, 3, 4, 5, 15, 16, 17, 18, 19, 20, 21, 22]]\n",
        "\n",
        "# for i in X[:]:\n",
        "#   if i in le_columns:\n",
        "#     X[:, i] = le.fit_transform(X[:, i])\n",
        "\n",
        "# Encode nominal attributes\n",
        "X[:, 0] = le.fit_transform(X[:, 0])\n",
        "X[:, 1] = le.fit_transform(X[:, 1])\n",
        "X[:, 3] = le.fit_transform(X[:, 3])\n",
        "X[:, 4] = le.fit_transform(X[:, 4])\n",
        "X[:, 5] = le.fit_transform(X[:, 5])\n",
        "X[:, 8] = le.fit_transform(X[:, 8])\n",
        "X[:, 9] = le.fit_transform(X[:, 9])\n",
        "X[:, 10] = le.fit_transform(X[:, 10])\n",
        "X[:, 11] = le.fit_transform(X[:, 11])\n",
        "\n",
        "# Encode binary attributes\n",
        "X[:, 15] = le.fit_transform(X[:, 15])\n",
        "X[:, 16] = le.fit_transform(X[:, 16])\n",
        "X[:, 17] = le.fit_transform(X[:, 17])\n",
        "X[:, 18] = le.fit_transform(X[:, 18])\n",
        "X[:, 19] = le.fit_transform(X[:, 19])\n",
        "X[:, 20] = le.fit_transform(X[:, 20])\n",
        "X[:, 21] = le.fit_transform(X[:, 21])\n",
        "X[:, 22] = le.fit_transform(X[:, 22])\n",
        "\n",
        "print(X)"
      ],
      "execution_count": 81,
      "outputs": [
        {
          "output_type": "stream",
          "text": [
            "[[0 0 18 ... 4 0 11]\n",
            " [0 0 17 ... 2 9 11]\n",
            " [0 0 15 ... 6 12 13]\n",
            " ...\n",
            " [1 0 18 ... 6 11 12]\n",
            " [1 1 17 ... 6 10 10]\n",
            " [1 1 18 ... 4 10 11]]\n"
          ],
          "name": "stdout"
        }
      ]
    },
    {
      "cell_type": "code",
      "metadata": {
        "id": "HVDtA_UylPEp"
      },
      "source": [
        "# Split dataframe (df) into training and test sets\n",
        "from sklearn.model_selection import train_test_split\n",
        "\n",
        "X_train, X_test, y_train, y_test = train_test_split(X, y, test_size=0.2, \n",
        "                                                    random_state=0)"
      ],
      "execution_count": 82,
      "outputs": []
    },
    {
      "cell_type": "code",
      "metadata": {
        "id": "buM5XRz9lS3n"
      },
      "source": [
        "# Feature scaling\n",
        "from sklearn.preprocessing import StandardScaler\n",
        "\n",
        "sc = StandardScaler()\n",
        "X_train = sc.fit_transform(X_train)\n",
        "X_test = sc.fit_transform(X_test)"
      ],
      "execution_count": 83,
      "outputs": []
    },
    {
      "cell_type": "markdown",
      "metadata": {
        "id": "wSYVbECkakwm"
      },
      "source": [
        "## 5. Define and Evalutate Models"
      ]
    },
    {
      "cell_type": "code",
      "metadata": {
        "id": "f0TXcf2dklHZ"
      },
      "source": [
        "# Decision Tree\n",
        "from sklearn.tree import DecisionTreeRegressor\n",
        "# Random Forest\n",
        "from sklearn.ensemble import RandomForestRegressor\n",
        "# XGBoost\n",
        "import xgboost as xgb\n",
        "from xgboost import XGBRegressor\n",
        "# LightGBM\n",
        "import lightgbm as lgb\n",
        "from lightgbm import LGBMRegressor\n",
        "\n",
        "# Additional Libraries\n",
        "from sklearn.metrics import mean_absolute_error, mean_squared_error, r2_score\n",
        "from sklearn.model_selection import cross_val_score, RepeatedStratifiedKFold\n",
        "from sklearn.model_selection import GridSearchCV"
      ],
      "execution_count": 84,
      "outputs": []
    },
    {
      "cell_type": "markdown",
      "metadata": {
        "id": "XJ-wQwibkPrU"
      },
      "source": [
        "### Decision Tree (DT)"
      ]
    },
    {
      "cell_type": "code",
      "metadata": {
        "colab": {
          "base_uri": "https://localhost:8080/"
        },
        "id": "dD2I3unlmYbB",
        "outputId": "fa25d475-e034-4f42-a343-84a68b73eea2"
      },
      "source": [
        "dt_reg = DecisionTreeRegressor(criterion='mse', max_depth=4, min_samples_leaf=9,\n",
        "                               min_samples_split=20, random_state=0)\n",
        "dt_reg.fit(X_train, y_train)"
      ],
      "execution_count": 85,
      "outputs": [
        {
          "output_type": "execute_result",
          "data": {
            "text/plain": [
              "DecisionTreeRegressor(ccp_alpha=0.0, criterion='mse', max_depth=4,\n",
              "                      max_features=None, max_leaf_nodes=None,\n",
              "                      min_impurity_decrease=0.0, min_impurity_split=None,\n",
              "                      min_samples_leaf=9, min_samples_split=20,\n",
              "                      min_weight_fraction_leaf=0.0, presort='deprecated',\n",
              "                      random_state=0, splitter='best')"
            ]
          },
          "metadata": {
            "tags": []
          },
          "execution_count": 85
        }
      ]
    },
    {
      "cell_type": "code",
      "metadata": {
        "colab": {
          "base_uri": "https://localhost:8080/"
        },
        "id": "t2cyyfZRmoDT",
        "outputId": "67e00f85-05a8-4b08-dd4a-532917c034a9"
      },
      "source": [
        "# Predict test set results\n",
        "y_pred = dt_reg.predict(X_test)\n",
        "np.set_printoptions(precision = 2)\n",
        "print(np.concatenate((y_pred.reshape(len(y_pred), 1), y_test.reshape(len(y_test), 1)), 1 ))\n",
        "print('')\n",
        "\n",
        "# Summarize results\n",
        "print('MAE: %.3f' % (mean_absolute_error(y_test, y_pred)))\n",
        "print('MSE: %.3f' % (mean_squared_error(y_test, y_pred)))\n",
        "print('RMSE: %.3f' % (mean_squared_error(y_test, y_pred, squared=False)))\n",
        "print('R^2 Score: %.3f' % (r2_score(y_test, y_pred)))"
      ],
      "execution_count": 86,
      "outputs": [
        {
          "output_type": "stream",
          "text": [
            "[[ 7.45  8.  ]\n",
            " [14.66 15.  ]\n",
            " [15.79 16.  ]\n",
            " [10.32 10.  ]\n",
            " [ 9.55 10.  ]\n",
            " [12.57 12.  ]\n",
            " [12.57 13.  ]\n",
            " [18.   17.  ]\n",
            " [12.57 12.  ]\n",
            " [11.12 12.  ]\n",
            " [10.32 11.  ]\n",
            " [10.32 10.  ]\n",
            " [13.37 13.  ]\n",
            " [ 8.    8.  ]\n",
            " [18.   18.  ]\n",
            " [12.57 12.  ]\n",
            " [12.57 13.  ]\n",
            " [13.22 13.  ]\n",
            " [10.32 10.  ]\n",
            " [10.32 10.  ]\n",
            " [12.57 12.  ]\n",
            " [10.32 10.  ]\n",
            " [17.35 17.  ]\n",
            " [13.37 15.  ]\n",
            " [12.57 14.  ]\n",
            " [ 1.64  0.  ]\n",
            " [12.57 12.  ]\n",
            " [13.37 14.  ]\n",
            " [11.12 12.  ]\n",
            " [13.22  9.  ]\n",
            " [13.37 13.  ]\n",
            " [15.79 16.  ]\n",
            " [13.37 13.  ]\n",
            " [15.79 16.  ]\n",
            " [12.57 12.  ]\n",
            " [ 9.55 10.  ]\n",
            " [ 9.55 10.  ]\n",
            " [11.12 11.  ]\n",
            " [12.57 13.  ]\n",
            " [11.12 10.  ]\n",
            " [15.79 15.  ]\n",
            " [17.35 18.  ]\n",
            " [11.12 11.  ]\n",
            " [13.37 13.  ]\n",
            " [12.57 13.  ]\n",
            " [ 9.55 10.  ]\n",
            " [12.57 14.  ]\n",
            " [ 9.55  9.  ]\n",
            " [11.12 11.  ]\n",
            " [ 9.55 10.  ]\n",
            " [ 7.45  8.  ]\n",
            " [14.66 17.  ]\n",
            " [ 9.55  9.  ]\n",
            " [12.57 13.  ]\n",
            " [ 7.45  8.  ]\n",
            " [11.12 11.  ]\n",
            " [11.12 12.  ]\n",
            " [11.12 12.  ]\n",
            " [14.66 15.  ]\n",
            " [14.66 15.  ]\n",
            " [13.37 13.  ]\n",
            " [ 8.    7.  ]\n",
            " [11.12 12.  ]\n",
            " [ 9.55 10.  ]\n",
            " [13.37 12.  ]\n",
            " [12.57 12.  ]\n",
            " [11.12 11.  ]\n",
            " [12.82 13.  ]\n",
            " [14.66 14.  ]\n",
            " [ 1.64  8.  ]\n",
            " [ 8.    9.  ]\n",
            " [11.12 11.  ]\n",
            " [13.37 13.  ]\n",
            " [10.32 11.  ]\n",
            " [14.66 14.  ]\n",
            " [13.37 13.  ]\n",
            " [13.37 14.  ]\n",
            " [11.12 13.  ]\n",
            " [13.37 13.  ]\n",
            " [12.57 13.  ]\n",
            " [14.66 14.  ]\n",
            " [ 9.55 11.  ]\n",
            " [10.32 10.  ]\n",
            " [13.37 14.  ]\n",
            " [18.   17.  ]\n",
            " [11.12 13.  ]\n",
            " [10.32 10.  ]\n",
            " [13.37 12.  ]\n",
            " [13.37 13.  ]\n",
            " [12.82 10.  ]\n",
            " [11.12 12.  ]\n",
            " [15.79 16.  ]\n",
            " [18.   17.  ]\n",
            " [11.12 11.  ]\n",
            " [ 7.45  6.  ]\n",
            " [10.32 11.  ]\n",
            " [13.37 14.  ]\n",
            " [11.12 11.  ]\n",
            " [13.37 13.  ]\n",
            " [14.66 15.  ]\n",
            " [12.57 14.  ]\n",
            " [ 9.55 10.  ]\n",
            " [ 7.45  8.  ]\n",
            " [11.12 11.  ]\n",
            " [10.32 10.  ]\n",
            " [11.12 12.  ]\n",
            " [15.79 17.  ]\n",
            " [11.12 11.  ]\n",
            " [10.32  9.  ]\n",
            " [15.79 15.  ]\n",
            " [12.57 12.  ]\n",
            " [13.37 13.  ]\n",
            " [14.66 14.  ]\n",
            " [13.37 14.  ]\n",
            " [11.12 12.  ]\n",
            " [10.32 11.  ]\n",
            " [15.79 15.  ]\n",
            " [15.79 16.  ]\n",
            " [10.32 10.  ]\n",
            " [11.12 12.  ]\n",
            " [ 7.45  8.  ]\n",
            " [10.32 11.  ]\n",
            " [10.32 11.  ]\n",
            " [11.12 11.  ]\n",
            " [12.82 14.  ]\n",
            " [15.79 15.  ]\n",
            " [14.66 14.  ]\n",
            " [17.35 15.  ]\n",
            " [13.37 10.  ]\n",
            " [10.32 11.  ]]\n",
            "\n",
            "MAE: 0.744\n",
            "MSE: 1.183\n",
            "RMSE: 1.088\n",
            "R^2 Score: 0.833\n"
          ],
          "name": "stdout"
        }
      ]
    },
    {
      "cell_type": "markdown",
      "metadata": {
        "id": "PbnHyalPwG5K"
      },
      "source": [
        "<table border = \"1\">\n",
        "  <thead>\n",
        "    <th colspan = \"5\">Decision Tree Prediction Scores</th>\n",
        "  </thead>\n",
        "  <tbody>\n",
        "    <tr>\n",
        "      <td><b>MAE:<b></td>\n",
        "      <td>1.728</td>\n",
        "    </tr>\n",
        "    <tr>\n",
        "      <td><b>MSE:<b></td>\n",
        "      <td>7.696</td>\n",
        "    </tr>\n",
        "    <tr>\n",
        "      <td><b>RMSE:<b></td>\n",
        "      <td>2.774</td>\n",
        "    </tr>\n",
        "    <tr>\n",
        "      <td><b>R^2:<b></td>\n",
        "      <td>0.721</td>\n",
        "    </tr>\n",
        "  </tbody>\n",
        "</table>"
      ]
    },
    {
      "cell_type": "code",
      "metadata": {
        "colab": {
          "base_uri": "https://localhost:8080/",
          "height": 408
        },
        "id": "bs5zcd8wwJez",
        "outputId": "782eac1e-c4cf-4c61-8d3e-9c03b7718589"
      },
      "source": [
        "# Plot histogram for y_pred\n",
        "fig1 = plt.figure(figsize=(15, 6))\n",
        "ax1 = fig1.add_subplot(1, 2, 1)\n",
        "plt.xticks(np.arange(0, 20, 2))\n",
        "plt.yticks(np.arange(0, 42, 4))\n",
        "plt.hist(x=y_pred, facecolor='red', alpha=0.6, edgecolor='black')\n",
        "plt.xlabel('Grade', fontsize=12)\n",
        "plt.ylabel('Number of students', fontsize=12)\n",
        "plt.title('Predicted Grade Distribution', fontsize=14)\n",
        "\n",
        "# Plot histogram for y_test\n",
        "ax1 = fig1.add_subplot(1, 2, 2)\n",
        "plt.xticks(np.arange(0, 20, 2))\n",
        "plt.yticks(np.arange(0, 40, 4))\n",
        "plt.hist(x=y_test, facecolor='orange', alpha=0.6, edgecolor='black')\n",
        "plt.xlabel('Grade', fontsize=12)\n",
        "plt.ylabel('Number of students', fontsize=12)\n",
        "plt.title('Validation Grade Distribution', fontsize=14)\n",
        "\n",
        "# Show subplot\n",
        "plt.show()"
      ],
      "execution_count": 90,
      "outputs": [
        {
          "output_type": "display_data",
          "data": {
            "image/png": "[encoded data removed]",
            "text/plain": [
              "<Figure size 1080x432 with 2 Axes>"
            ]
          },
          "metadata": {
            "tags": [],
            "needs_background": "light"
          }
        }
      ]
    },
    {
      "cell_type": "code",
      "metadata": {
        "colab": {
          "base_uri": "https://localhost:8080/",
          "height": 1000
        },
        "id": "XEh1RpQNmqZN",
        "outputId": "6106d65e-7e3b-497f-90b2-3d32312ad84d"
      },
      "source": [
        "# Apply k-Fold Cross Validation on the training set\n",
        "\n",
        "# Lists of values\n",
        "r2_means, r2_stds, r2_mins, r2_maxs = [], [], [], []  # R^2 Scoring\n",
        "rmse_means, rmse_stds, rmse_mins, rmse_maxs = [], [], [], []  # RMSE Scoring\n",
        "# Cross validate for 10 k-folds, each with 3 repeats\n",
        "for k in range(2, 12):\n",
        "  cv = RepeatedStratifiedKFold(n_splits = k, n_repeats = 3, random_state = 0)\n",
        "  r2_scores = cross_val_score(dt_reg, X_train, y_train, scoring='r2', cv=cv, n_jobs=-1)\n",
        "  # scores = cross_val_score(dt_reg, X_train, y_train, scoring='neg_mean_absolute_error', cv=cv, n_jobs=-1)\n",
        "  # scores = cross_val_score(dt_reg, X_train, y_train, scoring='neg_mean_squared_error', cv=cv, n_jobs=-1)\n",
        "  rmse_scores = cross_val_score(dt_reg, X_train, y_train, scoring='neg_root_mean_squared_error', cv=cv, n_jobs=-1)\n",
        "  \n",
        "  # Force scores to be positive\n",
        "  r2_scores = abs(r2_scores)\n",
        "  rmse_scores = abs(rmse_scores)\n",
        "\n",
        "  # Print values\n",
        "  print('')\n",
        "  print('-- Fold: %d --' % (k-1))\n",
        "  print('')\n",
        "  print('R^2 Scoring:')\n",
        "  print(\"Mean: %f\" % (np.mean(r2_scores)))\n",
        "  print(\"Std: +/- %f\" % (np.std(r2_scores)))\n",
        "  print(\"Min: %f\" % (np.min(r2_scores)))\n",
        "  print(\"Max: %f\" % (np.max(r2_scores)))\n",
        "  \n",
        "  print('')\n",
        "  print('RMSE Scoring:')\n",
        "  print(\"Mean: %f\" % (np.mean(rmse_scores)))\n",
        "  print(\"Std: +/- %f\" % (np.std(rmse_scores)))\n",
        "  print(\"Min: %f\" % (np.min(rmse_scores)))\n",
        "  print(\"Max: %f\" % (np.max(rmse_scores)))\n",
        "  print('')\n",
        "  \n",
        "  # Append R^2 scores\n",
        "  r2_means.append(np.mean(r2_scores))\n",
        "  r2_stds.append(np.std(r2_scores))\n",
        "  r2_mins.append(np.min(r2_scores))\n",
        "  r2_maxs.append(np.max(r2_scores))\n",
        "  \n",
        "  # Append RMSE scores\n",
        "  rmse_means.append(np.mean(rmse_scores))\n",
        "  rmse_stds.append(np.std(rmse_scores))\n",
        "  rmse_mins.append(np.min(rmse_scores))\n",
        "  rmse_maxs.append(np.max(rmse_scores))\n",
        "\n",
        "\n",
        "# Plot R^2 scores per k-fold:\n",
        "fig2 = plt.figure(figsize=(15, 10))\n",
        "ax1 = fig2.add_subplot(2, 2, 1)\n",
        "ax1.plot(np.arange(1,11), r2_means, color='red', label='Mean')\n",
        "ax1.plot(np.arange(1,11), r2_mins, color='green', label='Min')\n",
        "ax1.plot(np.arange(1,11), r2_maxs, color='blue', label='Max')\n",
        "ax1.set_xlabel('k-Fold', fontsize=12)\n",
        "ax1.set_ylabel('R^2 Score', fontsize=12)\n",
        "ax1.set_title('R^2 Score per k-Fold', fontsize=14)\n",
        "ax1.legend()\n",
        "ax1.grid(True)\n",
        "\n",
        "# Plot R^2 Standard Deviations per k-fold:\n",
        "ax2 = fig2.add_subplot(2, 2, 2)\n",
        "ax2.plot(np.arange(1,11), r2_stds, color='red')\n",
        "ax2.set_xlabel('k-Fold', fontsize=12)\n",
        "ax2.set_ylabel('Standard Deviation (+/-)', fontsize=12)\n",
        "ax2.set_title('R^2 Standard Deviation per k-fold', fontsize=14)\n",
        "ax2.grid(True)\n",
        "\n",
        "# Plot RMSE scores per k-fold:\n",
        "ax3 = fig2.add_subplot(2, 2, 3)\n",
        "ax3.plot(np.arange(1,11), rmse_means, color='orangered', label='Mean')\n",
        "ax3.plot(np.arange(1,11), rmse_mins, color='green', label='Min')\n",
        "ax3.plot(np.arange(1,11), rmse_maxs, color='blue', label='Max')\n",
        "ax3.set_xlabel('k-Fold', fontsize=12)\n",
        "ax3.set_ylabel('RMSE Score', fontsize=12)\n",
        "ax3.set_title('RMSE Score per k-Fold', fontsize=14)\n",
        "ax3.legend()\n",
        "ax3.grid(True)\n",
        "\n",
        "# Plot RMSE Standard Deviations per k-fold:\n",
        "ax4 = fig2.add_subplot(2, 2, 4)\n",
        "ax4.plot(np.arange(1,11), rmse_stds, color='orangered')\n",
        "ax4.set_xlabel('k-Fold', fontsize=12)\n",
        "ax4.set_ylabel('Standard Deviation (+/-)', fontsize=12)\n",
        "ax4.set_title('RMSE Standard Deviation per k-fold', fontsize=14)\n",
        "ax4.grid(True)\n",
        "\n",
        "# Show subplot\n",
        "plt.show()"
      ],
      "execution_count": 92,
      "outputs": [
        {
          "output_type": "stream",
          "text": [
            "/usr/local/lib/python3.7/dist-packages/sklearn/model_selection/_split.py:667: UserWarning: The least populated class in y has only 1 members, which is less than n_splits=2.\n",
            "  % (min_groups, self.n_splits)), UserWarning)\n",
            "/usr/local/lib/python3.7/dist-packages/sklearn/model_selection/_split.py:667: UserWarning: The least populated class in y has only 1 members, which is less than n_splits=2.\n",
            "  % (min_groups, self.n_splits)), UserWarning)\n",
            "/usr/local/lib/python3.7/dist-packages/sklearn/model_selection/_split.py:667: UserWarning: The least populated class in y has only 1 members, which is less than n_splits=2.\n",
            "  % (min_groups, self.n_splits)), UserWarning)\n",
            "/usr/local/lib/python3.7/dist-packages/sklearn/model_selection/_split.py:667: UserWarning: The least populated class in y has only 1 members, which is less than n_splits=2.\n",
            "  % (min_groups, self.n_splits)), UserWarning)\n",
            "/usr/local/lib/python3.7/dist-packages/sklearn/model_selection/_split.py:667: UserWarning: The least populated class in y has only 1 members, which is less than n_splits=2.\n",
            "  % (min_groups, self.n_splits)), UserWarning)\n",
            "/usr/local/lib/python3.7/dist-packages/sklearn/model_selection/_split.py:667: UserWarning: The least populated class in y has only 1 members, which is less than n_splits=2.\n",
            "  % (min_groups, self.n_splits)), UserWarning)\n",
            "/usr/local/lib/python3.7/dist-packages/sklearn/model_selection/_split.py:667: UserWarning: The least populated class in y has only 1 members, which is less than n_splits=3.\n",
            "  % (min_groups, self.n_splits)), UserWarning)\n",
            "/usr/local/lib/python3.7/dist-packages/sklearn/model_selection/_split.py:667: UserWarning: The least populated class in y has only 1 members, which is less than n_splits=3.\n",
            "  % (min_groups, self.n_splits)), UserWarning)\n",
            "/usr/local/lib/python3.7/dist-packages/sklearn/model_selection/_split.py:667: UserWarning: The least populated class in y has only 1 members, which is less than n_splits=3.\n",
            "  % (min_groups, self.n_splits)), UserWarning)\n",
            "/usr/local/lib/python3.7/dist-packages/sklearn/model_selection/_split.py:667: UserWarning: The least populated class in y has only 1 members, which is less than n_splits=3.\n",
            "  % (min_groups, self.n_splits)), UserWarning)\n",
            "/usr/local/lib/python3.7/dist-packages/sklearn/model_selection/_split.py:667: UserWarning: The least populated class in y has only 1 members, which is less than n_splits=3.\n",
            "  % (min_groups, self.n_splits)), UserWarning)\n",
            "/usr/local/lib/python3.7/dist-packages/sklearn/model_selection/_split.py:667: UserWarning: The least populated class in y has only 1 members, which is less than n_splits=3.\n",
            "  % (min_groups, self.n_splits)), UserWarning)\n",
            "/usr/local/lib/python3.7/dist-packages/sklearn/model_selection/_split.py:667: UserWarning: The least populated class in y has only 1 members, which is less than n_splits=4.\n",
            "  % (min_groups, self.n_splits)), UserWarning)\n",
            "/usr/local/lib/python3.7/dist-packages/sklearn/model_selection/_split.py:667: UserWarning: The least populated class in y has only 1 members, which is less than n_splits=4.\n",
            "  % (min_groups, self.n_splits)), UserWarning)\n",
            "/usr/local/lib/python3.7/dist-packages/sklearn/model_selection/_split.py:667: UserWarning: The least populated class in y has only 1 members, which is less than n_splits=4.\n",
            "  % (min_groups, self.n_splits)), UserWarning)\n",
            "/usr/local/lib/python3.7/dist-packages/sklearn/model_selection/_split.py:667: UserWarning: The least populated class in y has only 1 members, which is less than n_splits=4.\n",
            "  % (min_groups, self.n_splits)), UserWarning)\n"
          ],
          "name": "stderr"
        },
        {
          "output_type": "stream",
          "text": [
            "\n",
            "-- Fold: 1 --\n",
            "\n",
            "R^2 Scoring:\n",
            "Mean: 0.803564\n",
            "Std: +/- 0.023586\n",
            "Min: 0.771117\n",
            "Max: 0.839208\n",
            "\n",
            "RMSE Scoring:\n",
            "Mean: 1.483330\n",
            "Std: +/- 0.098741\n",
            "Min: 1.332153\n",
            "Max: 1.617578\n",
            "\n",
            "\n",
            "-- Fold: 2 --\n",
            "\n",
            "R^2 Scoring:\n",
            "Mean: 0.803139\n",
            "Std: +/- 0.021729\n",
            "Min: 0.762300\n",
            "Max: 0.835407\n",
            "\n",
            "RMSE Scoring:\n",
            "Mean: 1.484387\n",
            "Std: +/- 0.073841\n",
            "Min: 1.372297\n",
            "Max: 1.610106\n",
            "\n",
            "\n",
            "-- Fold: 3 --\n",
            "\n",
            "R^2 Scoring:\n",
            "Mean: 0.800231\n",
            "Std: +/- 0.054541\n",
            "Min: 0.706607\n",
            "Max: 0.883661\n",
            "\n",
            "RMSE Scoring:\n",
            "Mean: 1.482262\n",
            "Std: +/- 0.206007\n",
            "Min: 1.167027\n",
            "Max: 1.838735\n",
            "\n"
          ],
          "name": "stdout"
        },
        {
          "output_type": "stream",
          "text": [
            "/usr/local/lib/python3.7/dist-packages/sklearn/model_selection/_split.py:667: UserWarning: The least populated class in y has only 1 members, which is less than n_splits=4.\n",
            "  % (min_groups, self.n_splits)), UserWarning)\n",
            "/usr/local/lib/python3.7/dist-packages/sklearn/model_selection/_split.py:667: UserWarning: The least populated class in y has only 1 members, which is less than n_splits=4.\n",
            "  % (min_groups, self.n_splits)), UserWarning)\n",
            "/usr/local/lib/python3.7/dist-packages/sklearn/model_selection/_split.py:667: UserWarning: The least populated class in y has only 1 members, which is less than n_splits=5.\n",
            "  % (min_groups, self.n_splits)), UserWarning)\n",
            "/usr/local/lib/python3.7/dist-packages/sklearn/model_selection/_split.py:667: UserWarning: The least populated class in y has only 1 members, which is less than n_splits=5.\n",
            "  % (min_groups, self.n_splits)), UserWarning)\n",
            "/usr/local/lib/python3.7/dist-packages/sklearn/model_selection/_split.py:667: UserWarning: The least populated class in y has only 1 members, which is less than n_splits=5.\n",
            "  % (min_groups, self.n_splits)), UserWarning)\n",
            "/usr/local/lib/python3.7/dist-packages/sklearn/model_selection/_split.py:667: UserWarning: The least populated class in y has only 1 members, which is less than n_splits=5.\n",
            "  % (min_groups, self.n_splits)), UserWarning)\n",
            "/usr/local/lib/python3.7/dist-packages/sklearn/model_selection/_split.py:667: UserWarning: The least populated class in y has only 1 members, which is less than n_splits=5.\n",
            "  % (min_groups, self.n_splits)), UserWarning)\n",
            "/usr/local/lib/python3.7/dist-packages/sklearn/model_selection/_split.py:667: UserWarning: The least populated class in y has only 1 members, which is less than n_splits=5.\n",
            "  % (min_groups, self.n_splits)), UserWarning)\n",
            "/usr/local/lib/python3.7/dist-packages/sklearn/model_selection/_split.py:667: UserWarning: The least populated class in y has only 1 members, which is less than n_splits=6.\n",
            "  % (min_groups, self.n_splits)), UserWarning)\n",
            "/usr/local/lib/python3.7/dist-packages/sklearn/model_selection/_split.py:667: UserWarning: The least populated class in y has only 1 members, which is less than n_splits=6.\n",
            "  % (min_groups, self.n_splits)), UserWarning)\n"
          ],
          "name": "stderr"
        },
        {
          "output_type": "stream",
          "text": [
            "\n",
            "-- Fold: 4 --\n",
            "\n",
            "R^2 Scoring:\n",
            "Mean: 0.801439\n",
            "Std: +/- 0.067368\n",
            "Min: 0.677962\n",
            "Max: 0.922825\n",
            "\n",
            "RMSE Scoring:\n",
            "Mean: 1.471239\n",
            "Std: +/- 0.267366\n",
            "Min: 0.934782\n",
            "Max: 1.887785\n",
            "\n",
            "\n",
            "-- Fold: 5 --\n",
            "\n",
            "R^2 Scoring:\n",
            "Mean: 0.804010\n",
            "Std: +/- 0.080644\n",
            "Min: 0.619018\n",
            "Max: 0.893184\n",
            "\n",
            "RMSE Scoring:\n",
            "Mean: 1.456958\n",
            "Std: +/- 0.305539\n",
            "Min: 1.114953\n",
            "Max: 2.097210\n",
            "\n"
          ],
          "name": "stdout"
        },
        {
          "output_type": "stream",
          "text": [
            "/usr/local/lib/python3.7/dist-packages/sklearn/model_selection/_split.py:667: UserWarning: The least populated class in y has only 1 members, which is less than n_splits=6.\n",
            "  % (min_groups, self.n_splits)), UserWarning)\n",
            "/usr/local/lib/python3.7/dist-packages/sklearn/model_selection/_split.py:667: UserWarning: The least populated class in y has only 1 members, which is less than n_splits=6.\n",
            "  % (min_groups, self.n_splits)), UserWarning)\n",
            "/usr/local/lib/python3.7/dist-packages/sklearn/model_selection/_split.py:667: UserWarning: The least populated class in y has only 1 members, which is less than n_splits=6.\n",
            "  % (min_groups, self.n_splits)), UserWarning)\n",
            "/usr/local/lib/python3.7/dist-packages/sklearn/model_selection/_split.py:667: UserWarning: The least populated class in y has only 1 members, which is less than n_splits=6.\n",
            "  % (min_groups, self.n_splits)), UserWarning)\n",
            "/usr/local/lib/python3.7/dist-packages/sklearn/model_selection/_split.py:667: UserWarning: The least populated class in y has only 1 members, which is less than n_splits=7.\n",
            "  % (min_groups, self.n_splits)), UserWarning)\n",
            "/usr/local/lib/python3.7/dist-packages/sklearn/model_selection/_split.py:667: UserWarning: The least populated class in y has only 1 members, which is less than n_splits=7.\n",
            "  % (min_groups, self.n_splits)), UserWarning)\n",
            "/usr/local/lib/python3.7/dist-packages/sklearn/model_selection/_split.py:667: UserWarning: The least populated class in y has only 1 members, which is less than n_splits=7.\n",
            "  % (min_groups, self.n_splits)), UserWarning)\n",
            "/usr/local/lib/python3.7/dist-packages/sklearn/model_selection/_split.py:667: UserWarning: The least populated class in y has only 1 members, which is less than n_splits=7.\n",
            "  % (min_groups, self.n_splits)), UserWarning)\n",
            "/usr/local/lib/python3.7/dist-packages/sklearn/model_selection/_split.py:667: UserWarning: The least populated class in y has only 1 members, which is less than n_splits=7.\n",
            "  % (min_groups, self.n_splits)), UserWarning)\n",
            "/usr/local/lib/python3.7/dist-packages/sklearn/model_selection/_split.py:667: UserWarning: The least populated class in y has only 1 members, which is less than n_splits=7.\n",
            "  % (min_groups, self.n_splits)), UserWarning)\n",
            "/usr/local/lib/python3.7/dist-packages/sklearn/model_selection/_split.py:667: UserWarning: The least populated class in y has only 1 members, which is less than n_splits=8.\n",
            "  % (min_groups, self.n_splits)), UserWarning)\n"
          ],
          "name": "stderr"
        },
        {
          "output_type": "stream",
          "text": [
            "\n",
            "-- Fold: 6 --\n",
            "\n",
            "R^2 Scoring:\n",
            "Mean: 0.816556\n",
            "Std: +/- 0.077661\n",
            "Min: 0.632476\n",
            "Max: 0.924941\n",
            "\n",
            "RMSE Scoring:\n",
            "Mean: 1.403737\n",
            "Std: +/- 0.307959\n",
            "Min: 0.915739\n",
            "Max: 1.975591\n",
            "\n",
            "\n",
            "-- Fold: 7 --\n",
            "\n",
            "R^2 Scoring:\n",
            "Mean: 0.830918\n",
            "Std: +/- 0.077318\n",
            "Min: 0.581817\n",
            "Max: 0.946325\n",
            "\n",
            "RMSE Scoring:\n",
            "Mean: 1.342278\n",
            "Std: +/- 0.344992\n",
            "Min: 0.804092\n",
            "Max: 2.324993\n",
            "\n"
          ],
          "name": "stdout"
        },
        {
          "output_type": "stream",
          "text": [
            "/usr/local/lib/python3.7/dist-packages/sklearn/model_selection/_split.py:667: UserWarning: The least populated class in y has only 1 members, which is less than n_splits=8.\n",
            "  % (min_groups, self.n_splits)), UserWarning)\n",
            "/usr/local/lib/python3.7/dist-packages/sklearn/model_selection/_split.py:667: UserWarning: The least populated class in y has only 1 members, which is less than n_splits=8.\n",
            "  % (min_groups, self.n_splits)), UserWarning)\n",
            "/usr/local/lib/python3.7/dist-packages/sklearn/model_selection/_split.py:667: UserWarning: The least populated class in y has only 1 members, which is less than n_splits=8.\n",
            "  % (min_groups, self.n_splits)), UserWarning)\n",
            "/usr/local/lib/python3.7/dist-packages/sklearn/model_selection/_split.py:667: UserWarning: The least populated class in y has only 1 members, which is less than n_splits=8.\n",
            "  % (min_groups, self.n_splits)), UserWarning)\n",
            "/usr/local/lib/python3.7/dist-packages/sklearn/model_selection/_split.py:667: UserWarning: The least populated class in y has only 1 members, which is less than n_splits=8.\n",
            "  % (min_groups, self.n_splits)), UserWarning)\n",
            "/usr/local/lib/python3.7/dist-packages/sklearn/model_selection/_split.py:667: UserWarning: The least populated class in y has only 1 members, which is less than n_splits=9.\n",
            "  % (min_groups, self.n_splits)), UserWarning)\n",
            "/usr/local/lib/python3.7/dist-packages/sklearn/model_selection/_split.py:667: UserWarning: The least populated class in y has only 1 members, which is less than n_splits=9.\n",
            "  % (min_groups, self.n_splits)), UserWarning)\n",
            "/usr/local/lib/python3.7/dist-packages/sklearn/model_selection/_split.py:667: UserWarning: The least populated class in y has only 1 members, which is less than n_splits=9.\n",
            "  % (min_groups, self.n_splits)), UserWarning)\n",
            "/usr/local/lib/python3.7/dist-packages/sklearn/model_selection/_split.py:667: UserWarning: The least populated class in y has only 1 members, which is less than n_splits=9.\n",
            "  % (min_groups, self.n_splits)), UserWarning)\n",
            "/usr/local/lib/python3.7/dist-packages/sklearn/model_selection/_split.py:667: UserWarning: The least populated class in y has only 1 members, which is less than n_splits=9.\n",
            "  % (min_groups, self.n_splits)), UserWarning)\n",
            "/usr/local/lib/python3.7/dist-packages/sklearn/model_selection/_split.py:667: UserWarning: The least populated class in y has only 1 members, which is less than n_splits=9.\n",
            "  % (min_groups, self.n_splits)), UserWarning)\n",
            "/usr/local/lib/python3.7/dist-packages/sklearn/model_selection/_split.py:667: UserWarning: The least populated class in y has only 1 members, which is less than n_splits=10.\n",
            "  % (min_groups, self.n_splits)), UserWarning)\n",
            "/usr/local/lib/python3.7/dist-packages/sklearn/model_selection/_split.py:667: UserWarning: The least populated class in y has only 1 members, which is less than n_splits=10.\n",
            "  % (min_groups, self.n_splits)), UserWarning)\n",
            "/usr/local/lib/python3.7/dist-packages/sklearn/model_selection/_split.py:667: UserWarning: The least populated class in y has only 1 members, which is less than n_splits=10.\n",
            "  % (min_groups, self.n_splits)), UserWarning)\n",
            "/usr/local/lib/python3.7/dist-packages/sklearn/model_selection/_split.py:667: UserWarning: The least populated class in y has only 1 members, which is less than n_splits=10.\n",
            "  % (min_groups, self.n_splits)), UserWarning)\n",
            "/usr/local/lib/python3.7/dist-packages/sklearn/model_selection/_split.py:667: UserWarning: The least populated class in y has only 1 members, which is less than n_splits=10.\n",
            "  % (min_groups, self.n_splits)), UserWarning)\n"
          ],
          "name": "stderr"
        },
        {
          "output_type": "stream",
          "text": [
            "\n",
            "-- Fold: 8 --\n",
            "\n",
            "R^2 Scoring:\n",
            "Mean: 0.827052\n",
            "Std: +/- 0.086490\n",
            "Min: 0.618966\n",
            "Max: 0.939037\n",
            "\n",
            "RMSE Scoring:\n",
            "Mean: 1.352668\n",
            "Std: +/- 0.378462\n",
            "Min: 0.777122\n",
            "Max: 2.185265\n",
            "\n",
            "\n",
            "-- Fold: 9 --\n",
            "\n",
            "R^2 Scoring:\n",
            "Mean: 0.832124\n",
            "Std: +/- 0.086397\n",
            "Min: 0.589549\n",
            "Max: 0.929158\n",
            "\n",
            "RMSE Scoring:\n",
            "Mean: 1.337023\n",
            "Std: +/- 0.398315\n",
            "Min: 0.808708\n",
            "Max: 2.486416\n",
            "\n"
          ],
          "name": "stdout"
        },
        {
          "output_type": "stream",
          "text": [
            "/usr/local/lib/python3.7/dist-packages/sklearn/model_selection/_split.py:667: UserWarning: The least populated class in y has only 1 members, which is less than n_splits=10.\n",
            "  % (min_groups, self.n_splits)), UserWarning)\n",
            "/usr/local/lib/python3.7/dist-packages/sklearn/model_selection/_split.py:667: UserWarning: The least populated class in y has only 1 members, which is less than n_splits=11.\n",
            "  % (min_groups, self.n_splits)), UserWarning)\n",
            "/usr/local/lib/python3.7/dist-packages/sklearn/model_selection/_split.py:667: UserWarning: The least populated class in y has only 1 members, which is less than n_splits=11.\n",
            "  % (min_groups, self.n_splits)), UserWarning)\n",
            "/usr/local/lib/python3.7/dist-packages/sklearn/model_selection/_split.py:667: UserWarning: The least populated class in y has only 1 members, which is less than n_splits=11.\n",
            "  % (min_groups, self.n_splits)), UserWarning)\n",
            "/usr/local/lib/python3.7/dist-packages/sklearn/model_selection/_split.py:667: UserWarning: The least populated class in y has only 1 members, which is less than n_splits=11.\n",
            "  % (min_groups, self.n_splits)), UserWarning)\n",
            "/usr/local/lib/python3.7/dist-packages/sklearn/model_selection/_split.py:667: UserWarning: The least populated class in y has only 1 members, which is less than n_splits=11.\n",
            "  % (min_groups, self.n_splits)), UserWarning)\n"
          ],
          "name": "stderr"
        },
        {
          "output_type": "stream",
          "text": [
            "\n",
            "-- Fold: 10 --\n",
            "\n",
            "R^2 Scoring:\n",
            "Mean: 0.842260\n",
            "Std: +/- 0.090819\n",
            "Min: 0.664683\n",
            "Max: 0.956773\n",
            "\n",
            "RMSE Scoring:\n",
            "Mean: 1.273544\n",
            "Std: +/- 0.402307\n",
            "Min: 0.747239\n",
            "Max: 1.958928\n",
            "\n"
          ],
          "name": "stdout"
        },
        {
          "output_type": "stream",
          "text": [
            "/usr/local/lib/python3.7/dist-packages/sklearn/model_selection/_split.py:667: UserWarning: The least populated class in y has only 1 members, which is less than n_splits=11.\n",
            "  % (min_groups, self.n_splits)), UserWarning)\n"
          ],
          "name": "stderr"
        },
        {
          "output_type": "display_data",
          "data": {
            "image/png": "[encoded data removed]",
            "text/plain": [
              "<Figure size 1080x720 with 4 Axes>"
            ]
          },
          "metadata": {
            "tags": [],
            "needs_background": "light"
          }
        }
      ]
    },
    {
      "cell_type": "markdown",
      "metadata": {
        "id": "QFJ-AJOcm7fP"
      },
      "source": [
        "<table border = \"1\">\n",
        "  <thead>\n",
        "    <th colspan = \"3\">Decision Tree Cross-Validation Results</th>\n",
        "  </thead>\n",
        "  <tbody>\n",
        "    <tr>\n",
        "      <td><b></b></td>\n",
        "      <td><b>R^2</b></td>\n",
        "      <td><b>RMSE</b></td>\n",
        "    </tr>\n",
        "    <tr>\n",
        "      <td><b>Mean</b></td>\n",
        "      <td>0.842</td>\n",
        "      <td>1.275</td>\n",
        "    </tr>\n",
        "    <tr>\n",
        "      <td><b>Std.</b></td>\n",
        "      <td>0.091</td>\n",
        "      <td>0.402</td>\n",
        "    </tr>\n",
        "    <tr>\n",
        "      <td><b>Min</b></td>\n",
        "      <td>0.665</td>\n",
        "      <td>0.747</td>\n",
        "    </tr>\n",
        "    <tr>\n",
        "      <td><b>Max</b></td>\n",
        "      <td>0.957</td>\n",
        "      <td>1.959</td>\n",
        "    </tr>\n",
        "  </tbody>\n",
        "</table>"
      ]
    },
    {
      "cell_type": "code",
      "metadata": {
        "colab": {
          "base_uri": "https://localhost:8080/"
        },
        "id": "Gy5W6MOWmtPv",
        "outputId": "5c1947d3-7a91-4b82-f956-628e3435d0bb"
      },
      "source": [
        "# Apply Grid Search for parameter tuning\n",
        "\n",
        "# param_dict = {'n_estimators': [50, 100, 150, 200, 250],\n",
        "#               'criterion': ['mse', 'mae'],\n",
        "#               'max_depth': [1, 5, 10, 25, 50, 75, 100],\n",
        "#               'min_samples_leaf': [2, 5, 10],\n",
        "#               'min_samples_split': [2, 5, 10],\n",
        "#               'random_state': [0, 1, 2, 5, 10, 15, 20]}\n",
        "\n",
        "param_dict = {'criterion': ['mse'],\n",
        "              'max_depth': [3, 4],\n",
        "              'min_samples_leaf': [8, 9, 10],\n",
        "              'min_samples_split': [19, 20, 21],\n",
        "              'random_state': [0, 1]}\n",
        "\n",
        "# grid = GridSearchCV(dt_reg, param_dict, scoring='neg_mean_absolute_error', cv=cv, n_jobs=-1)\n",
        "# grid = GridSearchCV(dt_reg, param_dict, scoring='neg_mean_squared_error', cv=cv, n_jobs=-1)\n",
        "# grid = GridSearchCV(dt_reg, param_dict, scoring='neg_root_mean_squared_error', cv=cv, n_jobs=-1)\n",
        "grid = GridSearchCV(dt_reg, param_dict, scoring='r2', cv=cv, n_jobs=-1)\n",
        "results = grid.fit(X_train, y_train)\n",
        "\n",
        "# Summarize results\n",
        "best_score = grid.best_score_\n",
        "best_parameters = grid.best_params_\n",
        "print(\"Best Score: %.3f%%\" % (np.abs(best_score * 100)))  # R^2 Scoring\n",
        "# print(\"Best Score: %.3f%%\" % (np.abs(best_score)))  # RMSE\n",
        "print(\"Best Parameters: \", best_parameters)"
      ],
      "execution_count": 93,
      "outputs": [
        {
          "output_type": "stream",
          "text": [
            "/usr/local/lib/python3.7/dist-packages/sklearn/model_selection/_split.py:667: UserWarning: The least populated class in y has only 1 members, which is less than n_splits=11.\n",
            "  % (min_groups, self.n_splits)), UserWarning)\n",
            "/usr/local/lib/python3.7/dist-packages/sklearn/model_selection/_split.py:667: UserWarning: The least populated class in y has only 1 members, which is less than n_splits=11.\n",
            "  % (min_groups, self.n_splits)), UserWarning)\n",
            "/usr/local/lib/python3.7/dist-packages/sklearn/model_selection/_split.py:667: UserWarning: The least populated class in y has only 1 members, which is less than n_splits=11.\n",
            "  % (min_groups, self.n_splits)), UserWarning)\n"
          ],
          "name": "stderr"
        },
        {
          "output_type": "stream",
          "text": [
            "Best Score: 84.226%\n",
            "Best Parameters:  {'criterion': 'mse', 'max_depth': 4, 'min_samples_leaf': 9, 'min_samples_split': 20, 'random_state': 0}\n"
          ],
          "name": "stdout"
        }
      ]
    },
    {
      "cell_type": "markdown",
      "metadata": {
        "id": "KJLWzXhsnCs4"
      },
      "source": [
        "<table border = \"1\">\n",
        "  <thead>\n",
        "    <th colspan = \"2\">Decision Tree Grid Search Results</th>\n",
        "  </thead>\n",
        "  <tbody>\n",
        "    <tr>\n",
        "      <td><b>Best Score</b></td>\n",
        "      <td>84.226%</td>\n",
        "    </tr>\n",
        "    <tr>\n",
        "      <td colspan=\"2\"><b>Best Parameters:</b></td>\n",
        "    </tr>\n",
        "    <tr>\n",
        "      <td><b>criterion</b></td>\n",
        "      <td>'mse'</td>\n",
        "    </tr>\n",
        "    <tr>\n",
        "      <td><b>max_depth</b></td>\n",
        "      <td>4</td>\n",
        "    </tr>\n",
        "    <tr>\n",
        "      <td><b>min_samples_leaf</b></td>\n",
        "      <td>9</td>\n",
        "    </tr>\n",
        "    <tr>\n",
        "      <td><b>min_samples_split</b></td>\n",
        "      <td>20</td>\n",
        "    </tr>\n",
        "    <tr>\n",
        "      <td><b>random_state</b></td>\n",
        "      <td>0</td>\n",
        "    </tr>\n",
        "  </tbody>\n",
        "</table>"
      ]
    },
    {
      "cell_type": "markdown",
      "metadata": {
        "id": "R0zI1XtnkS_c"
      },
      "source": [
        "### Random Forest (RF)"
      ]
    },
    {
      "cell_type": "code",
      "metadata": {
        "colab": {
          "base_uri": "https://localhost:8080/"
        },
        "id": "s_cX-xjYpQlB",
        "outputId": "05f539f0-adf1-43f5-fa56-8f2f083e1a7b"
      },
      "source": [
        "rf_reg = RandomForestRegressor(criterion='mse', max_depth=4, min_samples_split=2,\n",
        "                            min_samples_leaf=3, n_estimators=53, random_state=2)\n",
        "rf_reg.fit(X_train, y_train)"
      ],
      "execution_count": 94,
      "outputs": [
        {
          "output_type": "execute_result",
          "data": {
            "text/plain": [
              "RandomForestRegressor(bootstrap=True, ccp_alpha=0.0, criterion='mse',\n",
              "                      max_depth=4, max_features='auto', max_leaf_nodes=None,\n",
              "                      max_samples=None, min_impurity_decrease=0.0,\n",
              "                      min_impurity_split=None, min_samples_leaf=3,\n",
              "                      min_samples_split=2, min_weight_fraction_leaf=0.0,\n",
              "                      n_estimators=53, n_jobs=None, oob_score=False,\n",
              "                      random_state=2, verbose=0, warm_start=False)"
            ]
          },
          "metadata": {
            "tags": []
          },
          "execution_count": 94
        }
      ]
    },
    {
      "cell_type": "code",
      "metadata": {
        "colab": {
          "base_uri": "https://localhost:8080/"
        },
        "id": "fzak43i4pT4X",
        "outputId": "dcf43c24-023e-477a-e468-7f69d98d979f"
      },
      "source": [
        "# Predict test set results\n",
        "y_pred = rf_reg.predict(X_test)\n",
        "np.set_printoptions(precision = 2)\n",
        "print(np.concatenate((y_pred.reshape(len(y_pred), 1), y_test.reshape(len(y_test), 1)), 1 ))\n",
        "print('')\n",
        "\n",
        "# Summarize results\n",
        "print('MAE: %.3f' % (mean_absolute_error(y_test, y_pred)))\n",
        "print('MSE: %.3f' % (mean_squared_error(y_test, y_pred)))\n",
        "print('RMSE: %.3f' % (mean_squared_error(y_test, y_pred, squared=False)))\n",
        "print('R^2 Score: %.3f' % (r2_score(y_test, y_pred)))"
      ],
      "execution_count": 95,
      "outputs": [
        {
          "output_type": "stream",
          "text": [
            "[[ 7.12  8.  ]\n",
            " [14.94 15.  ]\n",
            " [15.88 16.  ]\n",
            " [10.49 10.  ]\n",
            " [ 9.46 10.  ]\n",
            " [13.09 12.  ]\n",
            " [12.77 13.  ]\n",
            " [17.73 17.  ]\n",
            " [12.63 12.  ]\n",
            " [11.01 12.  ]\n",
            " [10.51 11.  ]\n",
            " [10.51 10.  ]\n",
            " [13.11 13.  ]\n",
            " [ 8.53  8.  ]\n",
            " [17.73 18.  ]\n",
            " [12.87 12.  ]\n",
            " [12.7  13.  ]\n",
            " [12.9  13.  ]\n",
            " [10.51 10.  ]\n",
            " [10.49 10.  ]\n",
            " [12.78 12.  ]\n",
            " [10.41 10.  ]\n",
            " [17.49 17.  ]\n",
            " [13.13 15.  ]\n",
            " [12.79 14.  ]\n",
            " [ 1.2   0.  ]\n",
            " [12.77 12.  ]\n",
            " [13.21 14.  ]\n",
            " [11.03 12.  ]\n",
            " [12.8   9.  ]\n",
            " [13.07 13.  ]\n",
            " [15.93 16.  ]\n",
            " [13.3  13.  ]\n",
            " [15.93 16.  ]\n",
            " [12.83 12.  ]\n",
            " [ 9.4  10.  ]\n",
            " [ 9.53 10.  ]\n",
            " [11.03 11.  ]\n",
            " [12.79 13.  ]\n",
            " [10.75 10.  ]\n",
            " [15.56 15.  ]\n",
            " [17.55 18.  ]\n",
            " [11.03 11.  ]\n",
            " [13.46 13.  ]\n",
            " [12.78 13.  ]\n",
            " [ 9.69 10.  ]\n",
            " [12.67 14.  ]\n",
            " [ 9.71  9.  ]\n",
            " [11.03 11.  ]\n",
            " [ 9.29 10.  ]\n",
            " [ 6.33  8.  ]\n",
            " [15.07 17.  ]\n",
            " [ 9.72  9.  ]\n",
            " [12.7  13.  ]\n",
            " [ 7.58  8.  ]\n",
            " [10.75 11.  ]\n",
            " [11.03 12.  ]\n",
            " [10.99 12.  ]\n",
            " [14.37 15.  ]\n",
            " [15.01 15.  ]\n",
            " [13.57 13.  ]\n",
            " [ 7.98  7.  ]\n",
            " [10.99 12.  ]\n",
            " [ 9.37 10.  ]\n",
            " [13.13 12.  ]\n",
            " [12.76 12.  ]\n",
            " [11.03 11.  ]\n",
            " [13.19 13.  ]\n",
            " [14.99 14.  ]\n",
            " [ 2.76  8.  ]\n",
            " [ 7.33  9.  ]\n",
            " [11.03 11.  ]\n",
            " [13.1  13.  ]\n",
            " [10.49 11.  ]\n",
            " [14.43 14.  ]\n",
            " [13.08 13.  ]\n",
            " [13.17 14.  ]\n",
            " [11.03 13.  ]\n",
            " [13.07 13.  ]\n",
            " [12.84 13.  ]\n",
            " [14.99 14.  ]\n",
            " [ 9.8  11.  ]\n",
            " [10.05 10.  ]\n",
            " [13.35 14.  ]\n",
            " [17.83 17.  ]\n",
            " [11.01 13.  ]\n",
            " [10.51 10.  ]\n",
            " [13.08 12.  ]\n",
            " [13.13 13.  ]\n",
            " [13.28 10.  ]\n",
            " [11.03 12.  ]\n",
            " [15.59 16.  ]\n",
            " [17.69 17.  ]\n",
            " [11.28 11.  ]\n",
            " [ 7.78  6.  ]\n",
            " [ 9.98 11.  ]\n",
            " [13.19 14.  ]\n",
            " [10.84 11.  ]\n",
            " [13.17 13.  ]\n",
            " [14.46 15.  ]\n",
            " [12.82 14.  ]\n",
            " [ 9.43 10.  ]\n",
            " [ 6.81  8.  ]\n",
            " [10.99 11.  ]\n",
            " [10.26 10.  ]\n",
            " [10.8  12.  ]\n",
            " [15.96 17.  ]\n",
            " [10.99 11.  ]\n",
            " [10.41  9.  ]\n",
            " [15.61 15.  ]\n",
            " [12.69 12.  ]\n",
            " [13.14 13.  ]\n",
            " [14.43 14.  ]\n",
            " [13.12 14.  ]\n",
            " [11.01 12.  ]\n",
            " [ 9.65 11.  ]\n",
            " [15.52 15.  ]\n",
            " [15.98 16.  ]\n",
            " [10.26 10.  ]\n",
            " [10.99 12.  ]\n",
            " [ 7.62  8.  ]\n",
            " [10.51 11.  ]\n",
            " [10.49 11.  ]\n",
            " [10.62 11.  ]\n",
            " [13.1  14.  ]\n",
            " [15.24 15.  ]\n",
            " [15.14 14.  ]\n",
            " [17.35 15.  ]\n",
            " [13.04 10.  ]\n",
            " [10.62 11.  ]]\n",
            "\n",
            "MAE: 0.745\n",
            "MSE: 1.115\n",
            "RMSE: 1.056\n",
            "R^2 Score: 0.843\n"
          ],
          "name": "stdout"
        }
      ]
    },
    {
      "cell_type": "markdown",
      "metadata": {
        "id": "dlzTZTnbxz0J"
      },
      "source": [
        "<table border = \"1\">\n",
        "  <thead>\n",
        "    <th colspan = \"5\">Random Forest Prediction Scores</th>\n",
        "  </thead>\n",
        "  <tbody>\n",
        "    <tr>\n",
        "      <td><b>MAE:<b></td>\n",
        "      <td>0.745</td>\n",
        "    </tr>\n",
        "    <tr>\n",
        "      <td><b>MSE:<b></td>\n",
        "      <td>1.115</td>\n",
        "    </tr>\n",
        "    <tr>\n",
        "      <td><b>RMSE:<b></td>\n",
        "      <td>1.056</td>\n",
        "    </tr>\n",
        "    <tr>\n",
        "      <td><b>R^2:<b></td>\n",
        "      <td>0.843</td>\n",
        "    </tr>\n",
        "  </tbody>\n",
        "</table>"
      ]
    },
    {
      "cell_type": "code",
      "metadata": {
        "colab": {
          "base_uri": "https://localhost:8080/",
          "height": 408
        },
        "id": "BGsPKqBYyEpc",
        "outputId": "fb9063da-a30e-4b08-ee18-bd69839eb3a3"
      },
      "source": [
        "# Plot histogram for y_pred\n",
        "fig1 = plt.figure(figsize=(15, 6))\n",
        "ax1 = fig1.add_subplot(1, 2, 1)\n",
        "plt.xticks(np.arange(0, 20, 2))\n",
        "plt.yticks(np.arange(0, 50, 4))\n",
        "plt.hist(x=y_pred, facecolor='violet', alpha=0.7, edgecolor='black')\n",
        "plt.xlabel('Grade', fontsize=12)\n",
        "plt.ylabel('Number of students', fontsize=12)\n",
        "plt.title('Predicted Grade Distribution', fontsize=14)\n",
        "\n",
        "# Plot histogram for y_test\n",
        "ax1 = fig1.add_subplot(1, 2, 2)\n",
        "plt.xticks(np.arange(0, 20, 2))\n",
        "plt.yticks(np.arange(0, 40, 4))\n",
        "plt.hist(x=y_test, facecolor='orange', alpha=0.6, edgecolor='black')\n",
        "plt.xlabel('Grade', fontsize=12)\n",
        "plt.ylabel('Number of students', fontsize=12)\n",
        "plt.title('Validation Grade Distribution', fontsize=14)\n",
        "\n",
        "# Show subplot\n",
        "plt.show()"
      ],
      "execution_count": 100,
      "outputs": [
        {
          "output_type": "display_data",
          "data": {
            "image/png": "[encoded data removed]",
            "text/plain": [
              "<Figure size 1080x432 with 2 Axes>"
            ]
          },
          "metadata": {
            "tags": [],
            "needs_background": "light"
          }
        }
      ]
    },
    {
      "cell_type": "code",
      "metadata": {
        "colab": {
          "base_uri": "https://localhost:8080/",
          "height": 1000
        },
        "id": "3OwQvmnnpWSX",
        "outputId": "dd385bcd-80f3-4428-f560-d153c0587b86"
      },
      "source": [
        "# Apply k-Fold Cross Validation on the training set\n",
        "\n",
        "# Lists of values\n",
        "r2_means, r2_stds, r2_mins, r2_maxs = [], [], [], []  # R^2 Scoring\n",
        "rmse_means, rmse_stds, rmse_mins, rmse_maxs = [], [], [], []  # RMSE Scoring\n",
        "# Cross validate for 10 k-folds, each with 3 repeats\n",
        "for k in range(2, 12):\n",
        "  cv = RepeatedStratifiedKFold(n_splits = k, n_repeats = 3, random_state = 0)\n",
        "  r2_scores = cross_val_score(rf_reg, X_train, y_train, scoring='r2', cv=cv, n_jobs=-1)\n",
        "  # scores = cross_val_score(rf_reg, X_train, y_train, scoring='neg_mean_absolute_error', cv=cv, n_jobs=-1)\n",
        "  # scores = cross_val_score(rf_reg, X_train, y_train, scoring='neg_mean_squared_error', cv=cv, n_jobs=-1)\n",
        "  rmse_scores = cross_val_score(rf_reg, X_train, y_train, scoring='neg_root_mean_squared_error', cv=cv, n_jobs=-1)\n",
        "  \n",
        "  # Force scores to be positive\n",
        "  r2_scores = abs(r2_scores)\n",
        "  rmse_scores = abs(rmse_scores)\n",
        "\n",
        "  # Print values\n",
        "  print('')\n",
        "  print('-- Fold: %d --' % (k-1))\n",
        "  print('')\n",
        "  print('R^2 Scoring:')\n",
        "  print(\"Mean: %f\" % (np.mean(r2_scores)))\n",
        "  print(\"Std: +/- %f\" % (np.std(r2_scores)))\n",
        "  print(\"Min: %f\" % (np.min(r2_scores)))\n",
        "  print(\"Max: %f\" % (np.max(r2_scores)))\n",
        "  \n",
        "  print('')\n",
        "  print('RMSE Scoring:')\n",
        "  print(\"Mean: %f\" % (np.mean(rmse_scores)))\n",
        "  print(\"Std: +/- %f\" % (np.std(rmse_scores)))\n",
        "  print(\"Min: %f\" % (np.min(rmse_scores)))\n",
        "  print(\"Max: %f\" % (np.max(rmse_scores)))\n",
        "  print('')\n",
        "  \n",
        "  # Append R^2 scores\n",
        "  r2_means.append(np.mean(r2_scores))\n",
        "  r2_stds.append(np.std(r2_scores))\n",
        "  r2_mins.append(np.min(r2_scores))\n",
        "  r2_maxs.append(np.max(r2_scores))\n",
        "  \n",
        "  # Append RMSE scores\n",
        "  rmse_means.append(np.mean(rmse_scores))\n",
        "  rmse_stds.append(np.std(rmse_scores))\n",
        "  rmse_mins.append(np.min(rmse_scores))\n",
        "  rmse_maxs.append(np.max(rmse_scores))\n",
        "\n",
        "# Plot R^2 scores per k-fold:\n",
        "fig2 = plt.figure(figsize=(15, 10))\n",
        "ax1 = fig2.add_subplot(2, 2, 1)\n",
        "ax1.plot(np.arange(1,11), r2_means, color='red', label='Mean')\n",
        "ax1.plot(np.arange(1,11), r2_mins, color='green', label='Min')\n",
        "ax1.plot(np.arange(1,11), r2_maxs, color='blue', label='Max')\n",
        "ax1.set_xlabel('k-Fold', fontsize=12)\n",
        "ax1.set_ylabel('R^2 Score', fontsize=12)\n",
        "ax1.set_title('R^2 Score per k-Fold', fontsize=14)\n",
        "ax1.legend()\n",
        "ax1.grid(True)\n",
        "\n",
        "# Plot R^2 Standard Deviations per k-fold:\n",
        "ax2 = fig2.add_subplot(2, 2, 2)\n",
        "ax2.plot(np.arange(1,11), r2_stds, color='red')\n",
        "ax2.set_xlabel('k-Fold', fontsize=12)\n",
        "ax2.set_ylabel('Standard Deviation (+/-)', fontsize=12)\n",
        "ax2.set_title('R^2 Standard Deviation per k-fold', fontsize=14)\n",
        "ax2.grid(True)\n",
        "\n",
        "# Plot RMSE scores per k-fold:\n",
        "ax3 = fig2.add_subplot(2, 2, 3)\n",
        "ax3.plot(np.arange(1,11), rmse_means, color='orangered', label='Mean')\n",
        "ax3.plot(np.arange(1,11), rmse_mins, color='green', label='Min')\n",
        "ax3.plot(np.arange(1,11), rmse_maxs, color='blue', label='Max')\n",
        "ax3.set_xlabel('k-Fold', fontsize=12)\n",
        "ax3.set_ylabel('RMSE Score', fontsize=12)\n",
        "ax3.set_title('RMSE Score per k-Fold', fontsize=14)\n",
        "ax3.legend()\n",
        "ax3.grid(True)\n",
        "\n",
        "# Plot RMSE Standard Deviations per k-fold:\n",
        "ax4 = fig2.add_subplot(2, 2, 4)\n",
        "ax4.plot(np.arange(1,11), rmse_stds, color='orangered')\n",
        "ax4.set_xlabel('k-Fold', fontsize=12)\n",
        "ax4.set_ylabel('Standard Deviation (+/-)', fontsize=12)\n",
        "ax4.set_title('RMSE Standard Deviation per k-fold', fontsize=14)\n",
        "ax4.grid(True)\n",
        "\n",
        "# Show subplot\n",
        "plt.show()"
      ],
      "execution_count": 101,
      "outputs": [
        {
          "output_type": "stream",
          "text": [
            "/usr/local/lib/python3.7/dist-packages/sklearn/model_selection/_split.py:667: UserWarning: The least populated class in y has only 1 members, which is less than n_splits=2.\n",
            "  % (min_groups, self.n_splits)), UserWarning)\n",
            "/usr/local/lib/python3.7/dist-packages/sklearn/model_selection/_split.py:667: UserWarning: The least populated class in y has only 1 members, which is less than n_splits=2.\n",
            "  % (min_groups, self.n_splits)), UserWarning)\n",
            "/usr/local/lib/python3.7/dist-packages/sklearn/model_selection/_split.py:667: UserWarning: The least populated class in y has only 1 members, which is less than n_splits=2.\n",
            "  % (min_groups, self.n_splits)), UserWarning)\n",
            "/usr/local/lib/python3.7/dist-packages/sklearn/model_selection/_split.py:667: UserWarning: The least populated class in y has only 1 members, which is less than n_splits=2.\n",
            "  % (min_groups, self.n_splits)), UserWarning)\n",
            "/usr/local/lib/python3.7/dist-packages/sklearn/model_selection/_split.py:667: UserWarning: The least populated class in y has only 1 members, which is less than n_splits=2.\n",
            "  % (min_groups, self.n_splits)), UserWarning)\n",
            "/usr/local/lib/python3.7/dist-packages/sklearn/model_selection/_split.py:667: UserWarning: The least populated class in y has only 1 members, which is less than n_splits=2.\n",
            "  % (min_groups, self.n_splits)), UserWarning)\n"
          ],
          "name": "stderr"
        },
        {
          "output_type": "stream",
          "text": [
            "\n",
            "-- Fold: 1 --\n",
            "\n",
            "R^2 Scoring:\n",
            "Mean: 0.839150\n",
            "Std: +/- 0.027267\n",
            "Min: 0.792395\n",
            "Max: 0.871773\n",
            "\n",
            "RMSE Scoring:\n",
            "Mean: 1.340077\n",
            "Std: +/- 0.119992\n",
            "Min: 1.189629\n",
            "Max: 1.540555\n",
            "\n"
          ],
          "name": "stdout"
        },
        {
          "output_type": "stream",
          "text": [
            "/usr/local/lib/python3.7/dist-packages/sklearn/model_selection/_split.py:667: UserWarning: The least populated class in y has only 1 members, which is less than n_splits=3.\n",
            "  % (min_groups, self.n_splits)), UserWarning)\n",
            "/usr/local/lib/python3.7/dist-packages/sklearn/model_selection/_split.py:667: UserWarning: The least populated class in y has only 1 members, which is less than n_splits=3.\n",
            "  % (min_groups, self.n_splits)), UserWarning)\n",
            "/usr/local/lib/python3.7/dist-packages/sklearn/model_selection/_split.py:667: UserWarning: The least populated class in y has only 1 members, which is less than n_splits=3.\n",
            "  % (min_groups, self.n_splits)), UserWarning)\n",
            "/usr/local/lib/python3.7/dist-packages/sklearn/model_selection/_split.py:667: UserWarning: The least populated class in y has only 1 members, which is less than n_splits=3.\n",
            "  % (min_groups, self.n_splits)), UserWarning)\n",
            "/usr/local/lib/python3.7/dist-packages/sklearn/model_selection/_split.py:667: UserWarning: The least populated class in y has only 1 members, which is less than n_splits=3.\n",
            "  % (min_groups, self.n_splits)), UserWarning)\n",
            "/usr/local/lib/python3.7/dist-packages/sklearn/model_selection/_split.py:667: UserWarning: The least populated class in y has only 1 members, which is less than n_splits=3.\n",
            "  % (min_groups, self.n_splits)), UserWarning)\n"
          ],
          "name": "stderr"
        },
        {
          "output_type": "stream",
          "text": [
            "\n",
            "-- Fold: 2 --\n",
            "\n",
            "R^2 Scoring:\n",
            "Mean: 0.836316\n",
            "Std: +/- 0.019153\n",
            "Min: 0.807075\n",
            "Max: 0.860069\n",
            "\n",
            "RMSE Scoring:\n",
            "Mean: 1.353319\n",
            "Std: +/- 0.074926\n",
            "Min: 1.260605\n",
            "Max: 1.450553\n",
            "\n"
          ],
          "name": "stdout"
        },
        {
          "output_type": "stream",
          "text": [
            "/usr/local/lib/python3.7/dist-packages/sklearn/model_selection/_split.py:667: UserWarning: The least populated class in y has only 1 members, which is less than n_splits=4.\n",
            "  % (min_groups, self.n_splits)), UserWarning)\n",
            "/usr/local/lib/python3.7/dist-packages/sklearn/model_selection/_split.py:667: UserWarning: The least populated class in y has only 1 members, which is less than n_splits=4.\n",
            "  % (min_groups, self.n_splits)), UserWarning)\n",
            "/usr/local/lib/python3.7/dist-packages/sklearn/model_selection/_split.py:667: UserWarning: The least populated class in y has only 1 members, which is less than n_splits=4.\n",
            "  % (min_groups, self.n_splits)), UserWarning)\n",
            "/usr/local/lib/python3.7/dist-packages/sklearn/model_selection/_split.py:667: UserWarning: The least populated class in y has only 1 members, which is less than n_splits=4.\n",
            "  % (min_groups, self.n_splits)), UserWarning)\n",
            "/usr/local/lib/python3.7/dist-packages/sklearn/model_selection/_split.py:667: UserWarning: The least populated class in y has only 1 members, which is less than n_splits=4.\n",
            "  % (min_groups, self.n_splits)), UserWarning)\n",
            "/usr/local/lib/python3.7/dist-packages/sklearn/model_selection/_split.py:667: UserWarning: The least populated class in y has only 1 members, which is less than n_splits=4.\n",
            "  % (min_groups, self.n_splits)), UserWarning)\n"
          ],
          "name": "stderr"
        },
        {
          "output_type": "stream",
          "text": [
            "\n",
            "-- Fold: 3 --\n",
            "\n",
            "R^2 Scoring:\n",
            "Mean: 0.843531\n",
            "Std: +/- 0.047088\n",
            "Min: 0.753968\n",
            "Max: 0.906292\n",
            "\n",
            "RMSE Scoring:\n",
            "Mean: 1.310440\n",
            "Std: +/- 0.203763\n",
            "Min: 1.039158\n",
            "Max: 1.655196\n",
            "\n"
          ],
          "name": "stdout"
        },
        {
          "output_type": "stream",
          "text": [
            "/usr/local/lib/python3.7/dist-packages/sklearn/model_selection/_split.py:667: UserWarning: The least populated class in y has only 1 members, which is less than n_splits=5.\n",
            "  % (min_groups, self.n_splits)), UserWarning)\n",
            "/usr/local/lib/python3.7/dist-packages/sklearn/model_selection/_split.py:667: UserWarning: The least populated class in y has only 1 members, which is less than n_splits=5.\n",
            "  % (min_groups, self.n_splits)), UserWarning)\n",
            "/usr/local/lib/python3.7/dist-packages/sklearn/model_selection/_split.py:667: UserWarning: The least populated class in y has only 1 members, which is less than n_splits=5.\n",
            "  % (min_groups, self.n_splits)), UserWarning)\n",
            "/usr/local/lib/python3.7/dist-packages/sklearn/model_selection/_split.py:667: UserWarning: The least populated class in y has only 1 members, which is less than n_splits=5.\n",
            "  % (min_groups, self.n_splits)), UserWarning)\n",
            "/usr/local/lib/python3.7/dist-packages/sklearn/model_selection/_split.py:667: UserWarning: The least populated class in y has only 1 members, which is less than n_splits=5.\n",
            "  % (min_groups, self.n_splits)), UserWarning)\n",
            "/usr/local/lib/python3.7/dist-packages/sklearn/model_selection/_split.py:667: UserWarning: The least populated class in y has only 1 members, which is less than n_splits=5.\n",
            "  % (min_groups, self.n_splits)), UserWarning)\n"
          ],
          "name": "stderr"
        },
        {
          "output_type": "stream",
          "text": [
            "\n",
            "-- Fold: 4 --\n",
            "\n",
            "R^2 Scoring:\n",
            "Mean: 0.839254\n",
            "Std: +/- 0.045966\n",
            "Min: 0.737547\n",
            "Max: 0.904170\n",
            "\n",
            "RMSE Scoring:\n",
            "Mean: 1.330606\n",
            "Std: +/- 0.192816\n",
            "Min: 1.028874\n",
            "Max: 1.704218\n",
            "\n"
          ],
          "name": "stdout"
        },
        {
          "output_type": "stream",
          "text": [
            "/usr/local/lib/python3.7/dist-packages/sklearn/model_selection/_split.py:667: UserWarning: The least populated class in y has only 1 members, which is less than n_splits=6.\n",
            "  % (min_groups, self.n_splits)), UserWarning)\n",
            "/usr/local/lib/python3.7/dist-packages/sklearn/model_selection/_split.py:667: UserWarning: The least populated class in y has only 1 members, which is less than n_splits=6.\n",
            "  % (min_groups, self.n_splits)), UserWarning)\n",
            "/usr/local/lib/python3.7/dist-packages/sklearn/model_selection/_split.py:667: UserWarning: The least populated class in y has only 1 members, which is less than n_splits=6.\n",
            "  % (min_groups, self.n_splits)), UserWarning)\n",
            "/usr/local/lib/python3.7/dist-packages/sklearn/model_selection/_split.py:667: UserWarning: The least populated class in y has only 1 members, which is less than n_splits=6.\n",
            "  % (min_groups, self.n_splits)), UserWarning)\n",
            "/usr/local/lib/python3.7/dist-packages/sklearn/model_selection/_split.py:667: UserWarning: The least populated class in y has only 1 members, which is less than n_splits=6.\n",
            "  % (min_groups, self.n_splits)), UserWarning)\n",
            "/usr/local/lib/python3.7/dist-packages/sklearn/model_selection/_split.py:667: UserWarning: The least populated class in y has only 1 members, which is less than n_splits=6.\n",
            "  % (min_groups, self.n_splits)), UserWarning)\n"
          ],
          "name": "stderr"
        },
        {
          "output_type": "stream",
          "text": [
            "\n",
            "-- Fold: 5 --\n",
            "\n",
            "R^2 Scoring:\n",
            "Mean: 0.840842\n",
            "Std: +/- 0.067719\n",
            "Min: 0.699198\n",
            "Max: 0.936145\n",
            "\n",
            "RMSE Scoring:\n",
            "Mean: 1.308873\n",
            "Std: +/- 0.291044\n",
            "Min: 0.828364\n",
            "Max: 1.863503\n",
            "\n"
          ],
          "name": "stdout"
        },
        {
          "output_type": "stream",
          "text": [
            "/usr/local/lib/python3.7/dist-packages/sklearn/model_selection/_split.py:667: UserWarning: The least populated class in y has only 1 members, which is less than n_splits=7.\n",
            "  % (min_groups, self.n_splits)), UserWarning)\n",
            "/usr/local/lib/python3.7/dist-packages/sklearn/model_selection/_split.py:667: UserWarning: The least populated class in y has only 1 members, which is less than n_splits=7.\n",
            "  % (min_groups, self.n_splits)), UserWarning)\n",
            "/usr/local/lib/python3.7/dist-packages/sklearn/model_selection/_split.py:667: UserWarning: The least populated class in y has only 1 members, which is less than n_splits=7.\n",
            "  % (min_groups, self.n_splits)), UserWarning)\n",
            "/usr/local/lib/python3.7/dist-packages/sklearn/model_selection/_split.py:667: UserWarning: The least populated class in y has only 1 members, which is less than n_splits=7.\n",
            "  % (min_groups, self.n_splits)), UserWarning)\n",
            "/usr/local/lib/python3.7/dist-packages/sklearn/model_selection/_split.py:667: UserWarning: The least populated class in y has only 1 members, which is less than n_splits=7.\n",
            "  % (min_groups, self.n_splits)), UserWarning)\n",
            "/usr/local/lib/python3.7/dist-packages/sklearn/model_selection/_split.py:667: UserWarning: The least populated class in y has only 1 members, which is less than n_splits=7.\n",
            "  % (min_groups, self.n_splits)), UserWarning)\n"
          ],
          "name": "stderr"
        },
        {
          "output_type": "stream",
          "text": [
            "\n",
            "-- Fold: 6 --\n",
            "\n",
            "R^2 Scoring:\n",
            "Mean: 0.842925\n",
            "Std: +/- 0.074109\n",
            "Min: 0.650781\n",
            "Max: 0.943564\n",
            "\n",
            "RMSE Scoring:\n",
            "Mean: 1.293519\n",
            "Std: +/- 0.307678\n",
            "Min: 0.794050\n",
            "Max: 1.928151\n",
            "\n"
          ],
          "name": "stdout"
        },
        {
          "output_type": "stream",
          "text": [
            "/usr/local/lib/python3.7/dist-packages/sklearn/model_selection/_split.py:667: UserWarning: The least populated class in y has only 1 members, which is less than n_splits=8.\n",
            "  % (min_groups, self.n_splits)), UserWarning)\n",
            "/usr/local/lib/python3.7/dist-packages/sklearn/model_selection/_split.py:667: UserWarning: The least populated class in y has only 1 members, which is less than n_splits=8.\n",
            "  % (min_groups, self.n_splits)), UserWarning)\n",
            "/usr/local/lib/python3.7/dist-packages/sklearn/model_selection/_split.py:667: UserWarning: The least populated class in y has only 1 members, which is less than n_splits=8.\n",
            "  % (min_groups, self.n_splits)), UserWarning)\n",
            "/usr/local/lib/python3.7/dist-packages/sklearn/model_selection/_split.py:667: UserWarning: The least populated class in y has only 1 members, which is less than n_splits=8.\n",
            "  % (min_groups, self.n_splits)), UserWarning)\n",
            "/usr/local/lib/python3.7/dist-packages/sklearn/model_selection/_split.py:667: UserWarning: The least populated class in y has only 1 members, which is less than n_splits=8.\n",
            "  % (min_groups, self.n_splits)), UserWarning)\n",
            "/usr/local/lib/python3.7/dist-packages/sklearn/model_selection/_split.py:667: UserWarning: The least populated class in y has only 1 members, which is less than n_splits=8.\n",
            "  % (min_groups, self.n_splits)), UserWarning)\n"
          ],
          "name": "stderr"
        },
        {
          "output_type": "stream",
          "text": [
            "\n",
            "-- Fold: 7 --\n",
            "\n",
            "R^2 Scoring:\n",
            "Mean: 0.848990\n",
            "Std: +/- 0.067624\n",
            "Min: 0.642855\n",
            "Max: 0.944451\n",
            "\n",
            "RMSE Scoring:\n",
            "Mean: 1.273924\n",
            "Std: +/- 0.320932\n",
            "Min: 0.794491\n",
            "Max: 2.148625\n",
            "\n"
          ],
          "name": "stdout"
        },
        {
          "output_type": "stream",
          "text": [
            "/usr/local/lib/python3.7/dist-packages/sklearn/model_selection/_split.py:667: UserWarning: The least populated class in y has only 1 members, which is less than n_splits=9.\n",
            "  % (min_groups, self.n_splits)), UserWarning)\n",
            "/usr/local/lib/python3.7/dist-packages/sklearn/model_selection/_split.py:667: UserWarning: The least populated class in y has only 1 members, which is less than n_splits=9.\n",
            "  % (min_groups, self.n_splits)), UserWarning)\n",
            "/usr/local/lib/python3.7/dist-packages/sklearn/model_selection/_split.py:667: UserWarning: The least populated class in y has only 1 members, which is less than n_splits=9.\n",
            "  % (min_groups, self.n_splits)), UserWarning)\n",
            "/usr/local/lib/python3.7/dist-packages/sklearn/model_selection/_split.py:667: UserWarning: The least populated class in y has only 1 members, which is less than n_splits=9.\n",
            "  % (min_groups, self.n_splits)), UserWarning)\n",
            "/usr/local/lib/python3.7/dist-packages/sklearn/model_selection/_split.py:667: UserWarning: The least populated class in y has only 1 members, which is less than n_splits=9.\n",
            "  % (min_groups, self.n_splits)), UserWarning)\n",
            "/usr/local/lib/python3.7/dist-packages/sklearn/model_selection/_split.py:667: UserWarning: The least populated class in y has only 1 members, which is less than n_splits=9.\n",
            "  % (min_groups, self.n_splits)), UserWarning)\n"
          ],
          "name": "stderr"
        },
        {
          "output_type": "stream",
          "text": [
            "\n",
            "-- Fold: 8 --\n",
            "\n",
            "R^2 Scoring:\n",
            "Mean: 0.846078\n",
            "Std: +/- 0.070024\n",
            "Min: 0.676982\n",
            "Max: 0.936574\n",
            "\n",
            "RMSE Scoring:\n",
            "Mean: 1.283317\n",
            "Std: +/- 0.318862\n",
            "Min: 0.818062\n",
            "Max: 2.012036\n",
            "\n"
          ],
          "name": "stdout"
        },
        {
          "output_type": "stream",
          "text": [
            "/usr/local/lib/python3.7/dist-packages/sklearn/model_selection/_split.py:667: UserWarning: The least populated class in y has only 1 members, which is less than n_splits=10.\n",
            "  % (min_groups, self.n_splits)), UserWarning)\n",
            "/usr/local/lib/python3.7/dist-packages/sklearn/model_selection/_split.py:667: UserWarning: The least populated class in y has only 1 members, which is less than n_splits=10.\n",
            "  % (min_groups, self.n_splits)), UserWarning)\n",
            "/usr/local/lib/python3.7/dist-packages/sklearn/model_selection/_split.py:667: UserWarning: The least populated class in y has only 1 members, which is less than n_splits=10.\n",
            "  % (min_groups, self.n_splits)), UserWarning)\n",
            "/usr/local/lib/python3.7/dist-packages/sklearn/model_selection/_split.py:667: UserWarning: The least populated class in y has only 1 members, which is less than n_splits=10.\n",
            "  % (min_groups, self.n_splits)), UserWarning)\n",
            "/usr/local/lib/python3.7/dist-packages/sklearn/model_selection/_split.py:667: UserWarning: The least populated class in y has only 1 members, which is less than n_splits=10.\n",
            "  % (min_groups, self.n_splits)), UserWarning)\n",
            "/usr/local/lib/python3.7/dist-packages/sklearn/model_selection/_split.py:667: UserWarning: The least populated class in y has only 1 members, which is less than n_splits=10.\n",
            "  % (min_groups, self.n_splits)), UserWarning)\n"
          ],
          "name": "stderr"
        },
        {
          "output_type": "stream",
          "text": [
            "\n",
            "-- Fold: 9 --\n",
            "\n",
            "R^2 Scoring:\n",
            "Mean: 0.852890\n",
            "Std: +/- 0.067994\n",
            "Min: 0.651458\n",
            "Max: 0.942086\n",
            "\n",
            "RMSE Scoring:\n",
            "Mean: 1.260258\n",
            "Std: +/- 0.358444\n",
            "Min: 0.731202\n",
            "Max: 2.291241\n",
            "\n"
          ],
          "name": "stdout"
        },
        {
          "output_type": "stream",
          "text": [
            "/usr/local/lib/python3.7/dist-packages/sklearn/model_selection/_split.py:667: UserWarning: The least populated class in y has only 1 members, which is less than n_splits=11.\n",
            "  % (min_groups, self.n_splits)), UserWarning)\n",
            "/usr/local/lib/python3.7/dist-packages/sklearn/model_selection/_split.py:667: UserWarning: The least populated class in y has only 1 members, which is less than n_splits=11.\n",
            "  % (min_groups, self.n_splits)), UserWarning)\n",
            "/usr/local/lib/python3.7/dist-packages/sklearn/model_selection/_split.py:667: UserWarning: The least populated class in y has only 1 members, which is less than n_splits=11.\n",
            "  % (min_groups, self.n_splits)), UserWarning)\n",
            "/usr/local/lib/python3.7/dist-packages/sklearn/model_selection/_split.py:667: UserWarning: The least populated class in y has only 1 members, which is less than n_splits=11.\n",
            "  % (min_groups, self.n_splits)), UserWarning)\n",
            "/usr/local/lib/python3.7/dist-packages/sklearn/model_selection/_split.py:667: UserWarning: The least populated class in y has only 1 members, which is less than n_splits=11.\n",
            "  % (min_groups, self.n_splits)), UserWarning)\n",
            "/usr/local/lib/python3.7/dist-packages/sklearn/model_selection/_split.py:667: UserWarning: The least populated class in y has only 1 members, which is less than n_splits=11.\n",
            "  % (min_groups, self.n_splits)), UserWarning)\n"
          ],
          "name": "stderr"
        },
        {
          "output_type": "stream",
          "text": [
            "\n",
            "-- Fold: 10 --\n",
            "\n",
            "R^2 Scoring:\n",
            "Mean: 0.845338\n",
            "Std: +/- 0.076073\n",
            "Min: 0.704904\n",
            "Max: 0.947076\n",
            "\n",
            "RMSE Scoring:\n",
            "Mean: 1.277898\n",
            "Std: +/- 0.340479\n",
            "Min: 0.752811\n",
            "Max: 1.932167\n",
            "\n"
          ],
          "name": "stdout"
        },
        {
          "output_type": "display_data",
          "data": {
            "image/png": "[encoded data removed]",
            "text/plain": [
              "<Figure size 1080x720 with 4 Axes>"
            ]
          },
          "metadata": {
            "tags": [],
            "needs_background": "light"
          }
        }
      ]
    },
    {
      "cell_type": "markdown",
      "metadata": {
        "id": "uKGKjWPupY-6"
      },
      "source": [
        "<table border = \"1\">\n",
        "  <thead>\n",
        "    <th colspan = \"3\">Random Forest Cross-Validation Results</th>\n",
        "  </thead>\n",
        "  <tbody>\n",
        "    <tr>\n",
        "      <td><b></b></td>\n",
        "      <td><b>R^2</b></td>\n",
        "      <td><b>RMSE</b></td>\n",
        "    </tr>\n",
        "    <tr>\n",
        "      <td><b>Mean</b></td>\n",
        "      <td>0.845</td>\n",
        "      <td>1.278</td>\n",
        "    </tr>\n",
        "    <tr>\n",
        "      <td><b>Std.</b></td>\n",
        "      <td>0.076</td>\n",
        "      <td>0.341</td>\n",
        "    </tr>\n",
        "    <tr>\n",
        "      <td><b>Min</b></td>\n",
        "      <td>0.705</td>\n",
        "      <td>0.753</td>\n",
        "    </tr>\n",
        "    <tr>\n",
        "      <td><b>Max</b></td>\n",
        "      <td>0.947</td>\n",
        "      <td>1.932</td>\n",
        "    </tr>\n",
        "  </tbody>\n",
        "</table>"
      ]
    },
    {
      "cell_type": "code",
      "metadata": {
        "colab": {
          "base_uri": "https://localhost:8080/"
        },
        "id": "yYg-84s7payv",
        "outputId": "9baa6308-d0ed-4cb2-ae92-75069d2a2bba"
      },
      "source": [
        "# Apply Grid Search for parameter tuning\n",
        "\n",
        "# param_dict = {'n_estimators': [50, 100, 150, 200, 250],\n",
        "#               'criterion': ['mse', 'mae'],\n",
        "#               'max_depth': [1, 5, 10, 25, 50, 75, 100],\n",
        "#               'min_samples_leaf': [2, 5, 10],\n",
        "#               'min_samples_split': [2, 5, 10],\n",
        "#               'random_state': [0, 1, 2, 5, 10]}\n",
        "\n",
        "param_dict = {'criterion': ['mse'],\n",
        "              'max_depth': [4],\n",
        "              'min_samples_split': [2, 3],\n",
        "              'min_samples_leaf': [3, 4],\n",
        "              'n_estimators': [52, 53],\n",
        "              'random_state': [1, 2, 3]}\n",
        "\n",
        "# grid = GridSearchCV(rf_reg, param_dict, scoring='neg_mean_absolute_error', cv=cv, n_jobs=-1)\n",
        "# grid = GridSearchCV(rf_reg, param_dict, scoring='neg_mean_squared_error', cv=cv, n_jobs=-1)\n",
        "# grid = GridSearchCV(rf_reg, param_dict, scoring='neg_root_mean_squared_error', cv=cv, n_jobs=-1)\n",
        "grid = GridSearchCV(rf_reg, param_dict, scoring='r2', cv=cv, n_jobs=-1)\n",
        "results = grid.fit(X_train, y_train)\n",
        "\n",
        "# Summarize results\n",
        "best_score = grid.best_score_\n",
        "best_parameters = grid.best_params_\n",
        "print(\"Best Score: %.3f%%\" % (np.abs(best_score * 100)))  # R^2 Scoring\n",
        "# print(\"Best Score: %.3f%%\" % (np.abs(best_score)))  # RMSE\n",
        "print(\"Best Parameters: \", best_parameters)"
      ],
      "execution_count": 102,
      "outputs": [
        {
          "output_type": "stream",
          "text": [
            "/usr/local/lib/python3.7/dist-packages/sklearn/model_selection/_split.py:667: UserWarning: The least populated class in y has only 1 members, which is less than n_splits=11.\n",
            "  % (min_groups, self.n_splits)), UserWarning)\n",
            "/usr/local/lib/python3.7/dist-packages/sklearn/model_selection/_split.py:667: UserWarning: The least populated class in y has only 1 members, which is less than n_splits=11.\n",
            "  % (min_groups, self.n_splits)), UserWarning)\n",
            "/usr/local/lib/python3.7/dist-packages/sklearn/model_selection/_split.py:667: UserWarning: The least populated class in y has only 1 members, which is less than n_splits=11.\n",
            "  % (min_groups, self.n_splits)), UserWarning)\n"
          ],
          "name": "stderr"
        },
        {
          "output_type": "stream",
          "text": [
            "Best Score: 84.534%\n",
            "Best Parameters:  {'criterion': 'mse', 'max_depth': 4, 'min_samples_leaf': 3, 'min_samples_split': 2, 'n_estimators': 53, 'random_state': 2}\n"
          ],
          "name": "stdout"
        }
      ]
    },
    {
      "cell_type": "markdown",
      "metadata": {
        "id": "WPT3J6Popf29"
      },
      "source": [
        "<table border = \"1\">\n",
        "  <thead>\n",
        "    <th colspan = \"2\">Random Forest Grid Search Results</th>\n",
        "  </thead>\n",
        "  <tbody>\n",
        "    <tr>\n",
        "      <td><b>Best Score</b></td>\n",
        "      <td>84.534%</td>\n",
        "    </tr>\n",
        "    <tr>\n",
        "      <td colspan=\"2\"><b>Best Parameters:</b></td>\n",
        "    </tr>\n",
        "    <tr>\n",
        "      <td><b>criterion</b></td>\n",
        "      <td>'mse'</td>\n",
        "    </tr>\n",
        "    <tr>\n",
        "      <td><b>max_depth</b></td>\n",
        "      <td>4</td>\n",
        "    </tr>\n",
        "    <tr>\n",
        "      <td><b>min_samples_split</b></td>\n",
        "      <td>2</td>\n",
        "    </tr>\n",
        "    <tr>\n",
        "      <td><b>n_estimators</b></td>\n",
        "      <td>53</td>\n",
        "    </tr>\n",
        "    <tr>\n",
        "      <td><b>random_state</b></td>\n",
        "      <td>2</td>\n",
        "    </tr>\n",
        "  </tbody>\n",
        "</table>"
      ]
    },
    {
      "cell_type": "markdown",
      "metadata": {
        "id": "WYMgAchVkbcl"
      },
      "source": [
        "### XGBoost (XGB)"
      ]
    },
    {
      "cell_type": "code",
      "metadata": {
        "colab": {
          "base_uri": "https://localhost:8080/"
        },
        "id": "y2EqP41tpqCB",
        "outputId": "e6df8e32-0168-47a1-a3d4-6f9601d0bab4"
      },
      "source": [
        "xgb_reg = XGBRegressor(max_depth=3, min_child_weight=9, gamma=0.07, subsample=1.0, \n",
        "                   colsample_bytree=0.66, reg_alpha=5, n_estimators=44,\n",
        "                   learning_rate=0.13, random_state=50)\n",
        "xgb_reg.fit(X_train, y_train)"
      ],
      "execution_count": 103,
      "outputs": [
        {
          "output_type": "stream",
          "text": [
            "[23:14:02] WARNING: /workspace/src/objective/regression_obj.cu:152: reg:linear is now deprecated in favor of reg:squarederror.\n"
          ],
          "name": "stdout"
        },
        {
          "output_type": "execute_result",
          "data": {
            "text/plain": [
              "XGBRegressor(base_score=0.5, booster='gbtree', colsample_bylevel=1,\n",
              "             colsample_bynode=1, colsample_bytree=0.66, gamma=0.07,\n",
              "             importance_type='gain', learning_rate=0.13, max_delta_step=0,\n",
              "             max_depth=3, min_child_weight=9, missing=None, n_estimators=44,\n",
              "             n_jobs=1, nthread=None, objective='reg:linear', random_state=50,\n",
              "             reg_alpha=5, reg_lambda=1, scale_pos_weight=1, seed=None,\n",
              "             silent=None, subsample=1.0, verbosity=1)"
            ]
          },
          "metadata": {
            "tags": []
          },
          "execution_count": 103
        }
      ]
    },
    {
      "cell_type": "code",
      "metadata": {
        "colab": {
          "base_uri": "https://localhost:8080/"
        },
        "id": "TQYaniw2preB",
        "outputId": "b1241602-45cf-4c8e-bf2d-f364d3802a68"
      },
      "source": [
        "# Predict test set results\n",
        "y_pred = xgb_reg.predict(X_test)\n",
        "np.set_printoptions(precision = 2)\n",
        "print(np.concatenate((y_pred.reshape(len(y_pred), 1), y_test.reshape(len(y_test), 1)), 1 ))\n",
        "print('')\n",
        "\n",
        "# Summarize results\n",
        "print('MAE: %.3f' % (mean_absolute_error(y_test, y_pred)))\n",
        "print('MSE: %.3f' % (mean_squared_error(y_test, y_pred)))\n",
        "print('RMSE: %.3f' % (mean_squared_error(y_test, y_pred, squared=False)))\n",
        "print('R^2 Score: %.3f' % (r2_score(y_test, y_pred)))"
      ],
      "execution_count": 104,
      "outputs": [
        {
          "output_type": "stream",
          "text": [
            "[[ 5.87  8.  ]\n",
            " [14.87 15.  ]\n",
            " [16.08 16.  ]\n",
            " [10.67 10.  ]\n",
            " [ 9.41 10.  ]\n",
            " [12.6  12.  ]\n",
            " [13.39 13.  ]\n",
            " [17.4  17.  ]\n",
            " [12.52 12.  ]\n",
            " [11.25 12.  ]\n",
            " [10.65 11.  ]\n",
            " [10.5  10.  ]\n",
            " [13.07 13.  ]\n",
            " [ 8.71  8.  ]\n",
            " [17.4  18.  ]\n",
            " [12.75 12.  ]\n",
            " [13.34 13.  ]\n",
            " [12.9  13.  ]\n",
            " [10.44 10.  ]\n",
            " [10.76 10.  ]\n",
            " [12.57 12.  ]\n",
            " [10.66 10.  ]\n",
            " [17.4  17.  ]\n",
            " [13.26 15.  ]\n",
            " [12.88 14.  ]\n",
            " [ 3.46  0.  ]\n",
            " [12.85 12.  ]\n",
            " [13.23 14.  ]\n",
            " [11.41 12.  ]\n",
            " [12.86  9.  ]\n",
            " [13.72 13.  ]\n",
            " [16.02 16.  ]\n",
            " [12.77 13.  ]\n",
            " [15.78 16.  ]\n",
            " [12.83 12.  ]\n",
            " [ 9.06 10.  ]\n",
            " [ 9.65 10.  ]\n",
            " [11.05 11.  ]\n",
            " [12.68 13.  ]\n",
            " [11.04 10.  ]\n",
            " [15.54 15.  ]\n",
            " [17.27 18.  ]\n",
            " [11.49 11.  ]\n",
            " [13.22 13.  ]\n",
            " [12.72 13.  ]\n",
            " [10.15 10.  ]\n",
            " [12.95 14.  ]\n",
            " [10.21  9.  ]\n",
            " [11.17 11.  ]\n",
            " [ 9.21 10.  ]\n",
            " [ 5.44  8.  ]\n",
            " [14.95 17.  ]\n",
            " [10.01  9.  ]\n",
            " [12.47 13.  ]\n",
            " [ 5.73  8.  ]\n",
            " [10.66 11.  ]\n",
            " [11.55 12.  ]\n",
            " [11.15 12.  ]\n",
            " [14.43 15.  ]\n",
            " [14.58 15.  ]\n",
            " [13.3  13.  ]\n",
            " [ 7.57  7.  ]\n",
            " [11.16 12.  ]\n",
            " [ 8.93 10.  ]\n",
            " [13.2  12.  ]\n",
            " [12.75 12.  ]\n",
            " [11.44 11.  ]\n",
            " [12.99 13.  ]\n",
            " [14.66 14.  ]\n",
            " [ 3.3   8.  ]\n",
            " [ 8.13  9.  ]\n",
            " [11.26 11.  ]\n",
            " [13.23 13.  ]\n",
            " [10.81 11.  ]\n",
            " [14.15 14.  ]\n",
            " [13.64 13.  ]\n",
            " [13.71 14.  ]\n",
            " [11.46 13.  ]\n",
            " [13.63 13.  ]\n",
            " [12.69 13.  ]\n",
            " [14.71 14.  ]\n",
            " [10.19 11.  ]\n",
            " [10.26 10.  ]\n",
            " [13.01 14.  ]\n",
            " [17.   17.  ]\n",
            " [11.25 13.  ]\n",
            " [10.52 10.  ]\n",
            " [13.47 12.  ]\n",
            " [13.41 13.  ]\n",
            " [12.95 10.  ]\n",
            " [11.13 12.  ]\n",
            " [15.62 16.  ]\n",
            " [17.17 17.  ]\n",
            " [11.31 11.  ]\n",
            " [ 6.44  6.  ]\n",
            " [10.21 11.  ]\n",
            " [13.37 14.  ]\n",
            " [11.4  11.  ]\n",
            " [13.07 13.  ]\n",
            " [14.31 15.  ]\n",
            " [12.84 14.  ]\n",
            " [ 9.49 10.  ]\n",
            " [ 5.53  8.  ]\n",
            " [11.04 11.  ]\n",
            " [ 9.94 10.  ]\n",
            " [11.19 12.  ]\n",
            " [15.95 17.  ]\n",
            " [11.12 11.  ]\n",
            " [10.64  9.  ]\n",
            " [15.47 15.  ]\n",
            " [12.34 12.  ]\n",
            " [13.16 13.  ]\n",
            " [14.32 14.  ]\n",
            " [13.01 14.  ]\n",
            " [11.34 12.  ]\n",
            " [ 9.83 11.  ]\n",
            " [15.85 15.  ]\n",
            " [16.11 16.  ]\n",
            " [10.06 10.  ]\n",
            " [11.08 12.  ]\n",
            " [ 6.38  8.  ]\n",
            " [10.82 11.  ]\n",
            " [10.6  11.  ]\n",
            " [ 9.47 11.  ]\n",
            " [13.1  14.  ]\n",
            " [15.24 15.  ]\n",
            " [14.95 14.  ]\n",
            " [16.98 15.  ]\n",
            " [12.39 10.  ]\n",
            " [10.64 11.  ]]\n",
            "\n",
            "MAE: 0.777\n",
            "MSE: 1.188\n",
            "RMSE: 1.090\n",
            "R^2 Score: 0.833\n"
          ],
          "name": "stdout"
        }
      ]
    },
    {
      "cell_type": "markdown",
      "metadata": {
        "id": "nLzZI5aajQdC"
      },
      "source": [
        "<table border = \"1\">\n",
        "  <thead>\n",
        "    <th colspan = \"5\">Prediction Scores</th>\n",
        "  </thead>\n",
        "  <tbody>\n",
        "    <tr>\n",
        "      <td><b>MAE:<b></td>\n",
        "      <td>0.777</td>\n",
        "    </tr>\n",
        "    <tr>\n",
        "      <td><b>MSE:<b></td>\n",
        "      <td>1.188</td>\n",
        "    </tr>\n",
        "    <tr>\n",
        "      <td><b>RMSE:<b></td>\n",
        "      <td>1.090</td>\n",
        "    </tr>\n",
        "    <tr>\n",
        "      <td><b>R^2:<b></td>\n",
        "      <td>0.833</td>\n",
        "    </tr>\n",
        "  </tbody>\n",
        "</table>"
      ]
    },
    {
      "cell_type": "code",
      "metadata": {
        "colab": {
          "base_uri": "https://localhost:8080/",
          "height": 408
        },
        "id": "lmZK_rrRjAj8",
        "outputId": "271e8f2e-ec2b-4a95-9336-3f4afa6a162d"
      },
      "source": [
        "# Plot histogram for y_pred\n",
        "fig1 = plt.figure(figsize=(15, 6))\n",
        "ax1 = fig1.add_subplot(1, 2, 1)\n",
        "plt.xticks(np.arange(0, 20, 2))\n",
        "plt.yticks(np.arange(0, 36, 4))\n",
        "plt.hist(x=y_pred, facecolor='forestgreen', alpha=0.6, edgecolor='black')\n",
        "plt.xlabel('Grade', fontsize=12)\n",
        "plt.ylabel('Number of students', fontsize=12)\n",
        "plt.title('Predicted Grade Distribution', fontsize=14)\n",
        "\n",
        "# Plot histogram for y_test\n",
        "ax1 = fig1.add_subplot(1, 2, 2)\n",
        "plt.xticks(np.arange(0, 20, 2))\n",
        "plt.yticks(np.arange(0, 44, 4))\n",
        "plt.hist(x=y_test, facecolor='orange', alpha=0.6, edgecolor='black')\n",
        "plt.xlabel('Grade', fontsize=12)\n",
        "plt.ylabel('Number of students', fontsize=12)\n",
        "plt.title('Validation Grade Distribution', fontsize=14)\n",
        "\n",
        "# Show subplot\n",
        "plt.show()"
      ],
      "execution_count": 111,
      "outputs": [
        {
          "output_type": "display_data",
          "data": {
            "image/png": "[encoded data removed]",
            "text/plain": [
              "<Figure size 1080x432 with 2 Axes>"
            ]
          },
          "metadata": {
            "tags": [],
            "needs_background": "light"
          }
        }
      ]
    },
    {
      "cell_type": "code",
      "metadata": {
        "colab": {
          "base_uri": "https://localhost:8080/",
          "height": 1000
        },
        "id": "y2VhYeLrpuze",
        "outputId": "12000603-0467-4214-b0d2-79c9e891d305"
      },
      "source": [
        "# Apply k-Fold Cross Validation on the training set\n",
        "\n",
        "# Lists of values\n",
        "r2_means, r2_stds, r2_mins, r2_maxs = [], [], [], []  # R^2 Scoring\n",
        "rmse_means, rmse_stds, rmse_mins, rmse_maxs = [], [], [], []  # RMSE Scoring\n",
        "# Cross validate for 10 k-folds, each with 3 repeats\n",
        "for k in range(2, 12):\n",
        "  cv = RepeatedStratifiedKFold(n_splits = k, n_repeats = 3, random_state = 0)\n",
        "  r2_scores = cross_val_score(xgb_reg, X_train, y_train, scoring='r2', cv=cv, n_jobs=-1)\n",
        "  # scores = cross_val_score(xgb_reg, X_train, y_train, scoring='neg_mean_absolute_error', cv=cv, n_jobs=-1)\n",
        "  # scores = cross_val_score(xgb_reg, X_train, y_train, scoring='neg_mean_squared_error', cv=cv, n_jobs=-1)\n",
        "  rmse_scores = cross_val_score(xgb_reg, X_train, y_train, scoring='neg_root_mean_squared_error', cv=cv, n_jobs=-1)\n",
        "  \n",
        "  # Force scores to be positive\n",
        "  r2_scores = abs(r2_scores)\n",
        "  rmse_scores = abs(rmse_scores)\n",
        "\n",
        "  # Print values\n",
        "  print('')\n",
        "  print('-- Fold: %d --' % (k-1))\n",
        "  print('')\n",
        "  print('R^2 Scoring:')\n",
        "  print(\"Mean: %f\" % (np.mean(r2_scores)))\n",
        "  print(\"Std: +/- %f\" % (np.std(r2_scores)))\n",
        "  print(\"Min: %f\" % (np.min(r2_scores)))\n",
        "  print(\"Max: %f\" % (np.max(r2_scores)))\n",
        "  \n",
        "  print('')\n",
        "  print('RMSE Scoring:')\n",
        "  print(\"Mean: %f\" % (np.mean(rmse_scores)))\n",
        "  print(\"Std: +/- %f\" % (np.std(rmse_scores)))\n",
        "  print(\"Min: %f\" % (np.min(rmse_scores)))\n",
        "  print(\"Max: %f\" % (np.max(rmse_scores)))\n",
        "  print('')\n",
        "  \n",
        "  # Append R^2 scores\n",
        "  r2_means.append(np.mean(r2_scores))\n",
        "  r2_stds.append(np.std(r2_scores))\n",
        "  r2_mins.append(np.min(r2_scores))\n",
        "  r2_maxs.append(np.max(r2_scores))\n",
        "  \n",
        "  # Append RMSE scores\n",
        "  rmse_means.append(np.mean(rmse_scores))\n",
        "  rmse_stds.append(np.std(rmse_scores))\n",
        "  rmse_mins.append(np.min(rmse_scores))\n",
        "  rmse_maxs.append(np.max(rmse_scores))\n",
        "\n",
        "# Plot R^2 scores per k-fold:\n",
        "fig2 = plt.figure(figsize=(15, 10))\n",
        "ax1 = fig2.add_subplot(2, 2, 1)\n",
        "ax1.plot(np.arange(1,11), r2_means, color='red', label='Mean')\n",
        "ax1.plot(np.arange(1,11), r2_mins, color='green', label='Min')\n",
        "ax1.plot(np.arange(1,11), r2_maxs, color='blue', label='Max')\n",
        "ax1.set_xlabel('k-Fold', fontsize=12)\n",
        "ax1.set_ylabel('R^2 Score', fontsize=12)\n",
        "ax1.set_title('R^2 Score per k-Fold', fontsize=14)\n",
        "ax1.legend()\n",
        "ax1.grid(True)\n",
        "\n",
        "# Plot R^2 Standard Deviations per k-fold:\n",
        "ax2 = fig2.add_subplot(2, 2, 2)\n",
        "ax2.plot(np.arange(1,11), r2_stds, color='red')\n",
        "ax2.set_xlabel('k-Fold', fontsize=12)\n",
        "ax2.set_ylabel('Standard Deviation (+/-)', fontsize=12)\n",
        "ax2.set_title('R^2 Standard Deviation per k-fold', fontsize=14)\n",
        "ax2.grid(True)\n",
        "\n",
        "# Plot RMSE scores per k-fold:\n",
        "ax3 = fig2.add_subplot(2, 2, 3)\n",
        "ax3.plot(np.arange(1,11), rmse_means, color='orangered', label='Mean')\n",
        "ax3.plot(np.arange(1,11), rmse_mins, color='green', label='Min')\n",
        "ax3.plot(np.arange(1,11), rmse_maxs, color='blue', label='Max')\n",
        "ax3.set_xlabel('k-Fold', fontsize=12)\n",
        "ax3.set_ylabel('RMSE Score', fontsize=12)\n",
        "ax3.set_title('RMSE Score per k-Fold', fontsize=14)\n",
        "ax3.legend()\n",
        "ax3.grid(True)\n",
        "\n",
        "# Plot RMSE Standard Deviations per k-fold:\n",
        "ax4 = fig2.add_subplot(2, 2, 4)\n",
        "ax4.plot(np.arange(1,11), rmse_stds, color='orangered')\n",
        "ax4.set_xlabel('k-Fold', fontsize=12)\n",
        "ax4.set_ylabel('Standard Deviation (+/-)', fontsize=12)\n",
        "ax4.set_title('RMSE Standard Deviation per k-fold', fontsize=14)\n",
        "ax4.grid(True)\n",
        "\n",
        "# Show subplot\n",
        "plt.show()"
      ],
      "execution_count": 112,
      "outputs": [
        {
          "output_type": "stream",
          "text": [
            "/usr/local/lib/python3.7/dist-packages/sklearn/model_selection/_split.py:667: UserWarning: The least populated class in y has only 1 members, which is less than n_splits=2.\n",
            "  % (min_groups, self.n_splits)), UserWarning)\n",
            "/usr/local/lib/python3.7/dist-packages/sklearn/model_selection/_split.py:667: UserWarning: The least populated class in y has only 1 members, which is less than n_splits=2.\n",
            "  % (min_groups, self.n_splits)), UserWarning)\n",
            "/usr/local/lib/python3.7/dist-packages/sklearn/model_selection/_split.py:667: UserWarning: The least populated class in y has only 1 members, which is less than n_splits=2.\n",
            "  % (min_groups, self.n_splits)), UserWarning)\n",
            "/usr/local/lib/python3.7/dist-packages/sklearn/model_selection/_split.py:667: UserWarning: The least populated class in y has only 1 members, which is less than n_splits=2.\n",
            "  % (min_groups, self.n_splits)), UserWarning)\n",
            "/usr/local/lib/python3.7/dist-packages/sklearn/model_selection/_split.py:667: UserWarning: The least populated class in y has only 1 members, which is less than n_splits=2.\n",
            "  % (min_groups, self.n_splits)), UserWarning)\n",
            "/usr/local/lib/python3.7/dist-packages/sklearn/model_selection/_split.py:667: UserWarning: The least populated class in y has only 1 members, which is less than n_splits=2.\n",
            "  % (min_groups, self.n_splits)), UserWarning)\n",
            "/usr/local/lib/python3.7/dist-packages/sklearn/model_selection/_split.py:667: UserWarning: The least populated class in y has only 1 members, which is less than n_splits=3.\n",
            "  % (min_groups, self.n_splits)), UserWarning)\n",
            "/usr/local/lib/python3.7/dist-packages/sklearn/model_selection/_split.py:667: UserWarning: The least populated class in y has only 1 members, which is less than n_splits=3.\n",
            "  % (min_groups, self.n_splits)), UserWarning)\n"
          ],
          "name": "stderr"
        },
        {
          "output_type": "stream",
          "text": [
            "\n",
            "-- Fold: 1 --\n",
            "\n",
            "R^2 Scoring:\n",
            "Mean: 0.823022\n",
            "Std: +/- 0.018451\n",
            "Min: 0.802530\n",
            "Max: 0.851588\n",
            "\n",
            "RMSE Scoring:\n",
            "Mean: 1.408308\n",
            "Std: +/- 0.080048\n",
            "Min: 1.279842\n",
            "Max: 1.502482\n",
            "\n"
          ],
          "name": "stdout"
        },
        {
          "output_type": "stream",
          "text": [
            "/usr/local/lib/python3.7/dist-packages/sklearn/model_selection/_split.py:667: UserWarning: The least populated class in y has only 1 members, which is less than n_splits=3.\n",
            "  % (min_groups, self.n_splits)), UserWarning)\n",
            "/usr/local/lib/python3.7/dist-packages/sklearn/model_selection/_split.py:667: UserWarning: The least populated class in y has only 1 members, which is less than n_splits=3.\n",
            "  % (min_groups, self.n_splits)), UserWarning)\n",
            "/usr/local/lib/python3.7/dist-packages/sklearn/model_selection/_split.py:667: UserWarning: The least populated class in y has only 1 members, which is less than n_splits=3.\n",
            "  % (min_groups, self.n_splits)), UserWarning)\n",
            "/usr/local/lib/python3.7/dist-packages/sklearn/model_selection/_split.py:667: UserWarning: The least populated class in y has only 1 members, which is less than n_splits=3.\n",
            "  % (min_groups, self.n_splits)), UserWarning)\n"
          ],
          "name": "stderr"
        },
        {
          "output_type": "stream",
          "text": [
            "\n",
            "-- Fold: 2 --\n",
            "\n",
            "R^2 Scoring:\n",
            "Mean: 0.831888\n",
            "Std: +/- 0.020868\n",
            "Min: 0.784799\n",
            "Max: 0.860076\n",
            "\n",
            "RMSE Scoring:\n",
            "Mean: 1.371135\n",
            "Std: +/- 0.074877\n",
            "Min: 1.260571\n",
            "Max: 1.532010\n",
            "\n"
          ],
          "name": "stdout"
        },
        {
          "output_type": "stream",
          "text": [
            "/usr/local/lib/python3.7/dist-packages/sklearn/model_selection/_split.py:667: UserWarning: The least populated class in y has only 1 members, which is less than n_splits=4.\n",
            "  % (min_groups, self.n_splits)), UserWarning)\n",
            "/usr/local/lib/python3.7/dist-packages/sklearn/model_selection/_split.py:667: UserWarning: The least populated class in y has only 1 members, which is less than n_splits=4.\n",
            "  % (min_groups, self.n_splits)), UserWarning)\n",
            "/usr/local/lib/python3.7/dist-packages/sklearn/model_selection/_split.py:667: UserWarning: The least populated class in y has only 1 members, which is less than n_splits=4.\n",
            "  % (min_groups, self.n_splits)), UserWarning)\n",
            "/usr/local/lib/python3.7/dist-packages/sklearn/model_selection/_split.py:667: UserWarning: The least populated class in y has only 1 members, which is less than n_splits=4.\n",
            "  % (min_groups, self.n_splits)), UserWarning)\n",
            "/usr/local/lib/python3.7/dist-packages/sklearn/model_selection/_split.py:667: UserWarning: The least populated class in y has only 1 members, which is less than n_splits=4.\n",
            "  % (min_groups, self.n_splits)), UserWarning)\n",
            "/usr/local/lib/python3.7/dist-packages/sklearn/model_selection/_split.py:667: UserWarning: The least populated class in y has only 1 members, which is less than n_splits=4.\n",
            "  % (min_groups, self.n_splits)), UserWarning)\n",
            "/usr/local/lib/python3.7/dist-packages/sklearn/model_selection/_split.py:667: UserWarning: The least populated class in y has only 1 members, which is less than n_splits=5.\n",
            "  % (min_groups, self.n_splits)), UserWarning)\n"
          ],
          "name": "stderr"
        },
        {
          "output_type": "stream",
          "text": [
            "\n",
            "-- Fold: 3 --\n",
            "\n",
            "R^2 Scoring:\n",
            "Mean: 0.838512\n",
            "Std: +/- 0.041247\n",
            "Min: 0.760209\n",
            "Max: 0.904207\n",
            "\n",
            "RMSE Scoring:\n",
            "Mean: 1.334996\n",
            "Std: +/- 0.174960\n",
            "Min: 1.050658\n",
            "Max: 1.634069\n",
            "\n"
          ],
          "name": "stdout"
        },
        {
          "output_type": "stream",
          "text": [
            "/usr/local/lib/python3.7/dist-packages/sklearn/model_selection/_split.py:667: UserWarning: The least populated class in y has only 1 members, which is less than n_splits=5.\n",
            "  % (min_groups, self.n_splits)), UserWarning)\n",
            "/usr/local/lib/python3.7/dist-packages/sklearn/model_selection/_split.py:667: UserWarning: The least populated class in y has only 1 members, which is less than n_splits=5.\n",
            "  % (min_groups, self.n_splits)), UserWarning)\n",
            "/usr/local/lib/python3.7/dist-packages/sklearn/model_selection/_split.py:667: UserWarning: The least populated class in y has only 1 members, which is less than n_splits=5.\n",
            "  % (min_groups, self.n_splits)), UserWarning)\n",
            "/usr/local/lib/python3.7/dist-packages/sklearn/model_selection/_split.py:667: UserWarning: The least populated class in y has only 1 members, which is less than n_splits=5.\n",
            "  % (min_groups, self.n_splits)), UserWarning)\n",
            "/usr/local/lib/python3.7/dist-packages/sklearn/model_selection/_split.py:667: UserWarning: The least populated class in y has only 1 members, which is less than n_splits=5.\n",
            "  % (min_groups, self.n_splits)), UserWarning)\n"
          ],
          "name": "stderr"
        },
        {
          "output_type": "stream",
          "text": [
            "\n",
            "-- Fold: 4 --\n",
            "\n",
            "R^2 Scoring:\n",
            "Mean: 0.835935\n",
            "Std: +/- 0.039203\n",
            "Min: 0.750603\n",
            "Max: 0.899937\n",
            "\n",
            "RMSE Scoring:\n",
            "Mean: 1.347819\n",
            "Std: +/- 0.166270\n",
            "Min: 1.051356\n",
            "Max: 1.661287\n",
            "\n"
          ],
          "name": "stdout"
        },
        {
          "output_type": "stream",
          "text": [
            "/usr/local/lib/python3.7/dist-packages/sklearn/model_selection/_split.py:667: UserWarning: The least populated class in y has only 1 members, which is less than n_splits=6.\n",
            "  % (min_groups, self.n_splits)), UserWarning)\n",
            "/usr/local/lib/python3.7/dist-packages/sklearn/model_selection/_split.py:667: UserWarning: The least populated class in y has only 1 members, which is less than n_splits=6.\n",
            "  % (min_groups, self.n_splits)), UserWarning)\n",
            "/usr/local/lib/python3.7/dist-packages/sklearn/model_selection/_split.py:667: UserWarning: The least populated class in y has only 1 members, which is less than n_splits=6.\n",
            "  % (min_groups, self.n_splits)), UserWarning)\n",
            "/usr/local/lib/python3.7/dist-packages/sklearn/model_selection/_split.py:667: UserWarning: The least populated class in y has only 1 members, which is less than n_splits=6.\n",
            "  % (min_groups, self.n_splits)), UserWarning)\n",
            "/usr/local/lib/python3.7/dist-packages/sklearn/model_selection/_split.py:667: UserWarning: The least populated class in y has only 1 members, which is less than n_splits=6.\n",
            "  % (min_groups, self.n_splits)), UserWarning)\n",
            "/usr/local/lib/python3.7/dist-packages/sklearn/model_selection/_split.py:667: UserWarning: The least populated class in y has only 1 members, which is less than n_splits=6.\n",
            "  % (min_groups, self.n_splits)), UserWarning)\n"
          ],
          "name": "stderr"
        },
        {
          "output_type": "stream",
          "text": [
            "\n",
            "-- Fold: 5 --\n",
            "\n",
            "R^2 Scoring:\n",
            "Mean: 0.841584\n",
            "Std: +/- 0.062155\n",
            "Min: 0.710418\n",
            "Max: 0.926550\n",
            "\n",
            "RMSE Scoring:\n",
            "Mean: 1.310970\n",
            "Std: +/- 0.268001\n",
            "Min: 0.888417\n",
            "Max: 1.828417\n",
            "\n"
          ],
          "name": "stdout"
        },
        {
          "output_type": "stream",
          "text": [
            "/usr/local/lib/python3.7/dist-packages/sklearn/model_selection/_split.py:667: UserWarning: The least populated class in y has only 1 members, which is less than n_splits=7.\n",
            "  % (min_groups, self.n_splits)), UserWarning)\n",
            "/usr/local/lib/python3.7/dist-packages/sklearn/model_selection/_split.py:667: UserWarning: The least populated class in y has only 1 members, which is less than n_splits=7.\n",
            "  % (min_groups, self.n_splits)), UserWarning)\n",
            "/usr/local/lib/python3.7/dist-packages/sklearn/model_selection/_split.py:667: UserWarning: The least populated class in y has only 1 members, which is less than n_splits=7.\n",
            "  % (min_groups, self.n_splits)), UserWarning)\n",
            "/usr/local/lib/python3.7/dist-packages/sklearn/model_selection/_split.py:667: UserWarning: The least populated class in y has only 1 members, which is less than n_splits=7.\n",
            "  % (min_groups, self.n_splits)), UserWarning)\n",
            "/usr/local/lib/python3.7/dist-packages/sklearn/model_selection/_split.py:667: UserWarning: The least populated class in y has only 1 members, which is less than n_splits=7.\n",
            "  % (min_groups, self.n_splits)), UserWarning)\n",
            "/usr/local/lib/python3.7/dist-packages/sklearn/model_selection/_split.py:667: UserWarning: The least populated class in y has only 1 members, which is less than n_splits=7.\n",
            "  % (min_groups, self.n_splits)), UserWarning)\n"
          ],
          "name": "stderr"
        },
        {
          "output_type": "stream",
          "text": [
            "\n",
            "-- Fold: 6 --\n",
            "\n",
            "R^2 Scoring:\n",
            "Mean: 0.841844\n",
            "Std: +/- 0.062562\n",
            "Min: 0.709634\n",
            "Max: 0.939566\n",
            "\n",
            "RMSE Scoring:\n",
            "Mean: 1.307378\n",
            "Std: +/- 0.266311\n",
            "Min: 0.821695\n",
            "Max: 1.866255\n",
            "\n"
          ],
          "name": "stdout"
        },
        {
          "output_type": "stream",
          "text": [
            "/usr/local/lib/python3.7/dist-packages/sklearn/model_selection/_split.py:667: UserWarning: The least populated class in y has only 1 members, which is less than n_splits=8.\n",
            "  % (min_groups, self.n_splits)), UserWarning)\n",
            "/usr/local/lib/python3.7/dist-packages/sklearn/model_selection/_split.py:667: UserWarning: The least populated class in y has only 1 members, which is less than n_splits=8.\n",
            "  % (min_groups, self.n_splits)), UserWarning)\n",
            "/usr/local/lib/python3.7/dist-packages/sklearn/model_selection/_split.py:667: UserWarning: The least populated class in y has only 1 members, which is less than n_splits=8.\n",
            "  % (min_groups, self.n_splits)), UserWarning)\n",
            "/usr/local/lib/python3.7/dist-packages/sklearn/model_selection/_split.py:667: UserWarning: The least populated class in y has only 1 members, which is less than n_splits=8.\n",
            "  % (min_groups, self.n_splits)), UserWarning)\n",
            "/usr/local/lib/python3.7/dist-packages/sklearn/model_selection/_split.py:667: UserWarning: The least populated class in y has only 1 members, which is less than n_splits=8.\n",
            "  % (min_groups, self.n_splits)), UserWarning)\n",
            "/usr/local/lib/python3.7/dist-packages/sklearn/model_selection/_split.py:667: UserWarning: The least populated class in y has only 1 members, which is less than n_splits=8.\n",
            "  % (min_groups, self.n_splits)), UserWarning)\n"
          ],
          "name": "stderr"
        },
        {
          "output_type": "stream",
          "text": [
            "\n",
            "-- Fold: 7 --\n",
            "\n",
            "R^2 Scoring:\n",
            "Mean: 0.847557\n",
            "Std: +/- 0.056554\n",
            "Min: 0.692755\n",
            "Max: 0.929628\n",
            "\n",
            "RMSE Scoring:\n",
            "Mean: 1.286645\n",
            "Std: +/- 0.270695\n",
            "Min: 0.894236\n",
            "Max: 1.992881\n",
            "\n"
          ],
          "name": "stdout"
        },
        {
          "output_type": "stream",
          "text": [
            "/usr/local/lib/python3.7/dist-packages/sklearn/model_selection/_split.py:667: UserWarning: The least populated class in y has only 1 members, which is less than n_splits=9.\n",
            "  % (min_groups, self.n_splits)), UserWarning)\n",
            "/usr/local/lib/python3.7/dist-packages/sklearn/model_selection/_split.py:667: UserWarning: The least populated class in y has only 1 members, which is less than n_splits=9.\n",
            "  % (min_groups, self.n_splits)), UserWarning)\n",
            "/usr/local/lib/python3.7/dist-packages/sklearn/model_selection/_split.py:667: UserWarning: The least populated class in y has only 1 members, which is less than n_splits=9.\n",
            "  % (min_groups, self.n_splits)), UserWarning)\n",
            "/usr/local/lib/python3.7/dist-packages/sklearn/model_selection/_split.py:667: UserWarning: The least populated class in y has only 1 members, which is less than n_splits=9.\n",
            "  % (min_groups, self.n_splits)), UserWarning)\n",
            "/usr/local/lib/python3.7/dist-packages/sklearn/model_selection/_split.py:667: UserWarning: The least populated class in y has only 1 members, which is less than n_splits=9.\n",
            "  % (min_groups, self.n_splits)), UserWarning)\n",
            "/usr/local/lib/python3.7/dist-packages/sklearn/model_selection/_split.py:667: UserWarning: The least populated class in y has only 1 members, which is less than n_splits=9.\n",
            "  % (min_groups, self.n_splits)), UserWarning)\n"
          ],
          "name": "stderr"
        },
        {
          "output_type": "stream",
          "text": [
            "\n",
            "-- Fold: 8 --\n",
            "\n",
            "R^2 Scoring:\n",
            "Mean: 0.845747\n",
            "Std: +/- 0.065327\n",
            "Min: 0.681435\n",
            "Max: 0.933980\n",
            "\n",
            "RMSE Scoring:\n",
            "Mean: 1.285395\n",
            "Std: +/- 0.284208\n",
            "Min: 0.898426\n",
            "Max: 1.998117\n",
            "\n"
          ],
          "name": "stdout"
        },
        {
          "output_type": "stream",
          "text": [
            "/usr/local/lib/python3.7/dist-packages/sklearn/model_selection/_split.py:667: UserWarning: The least populated class in y has only 1 members, which is less than n_splits=10.\n",
            "  % (min_groups, self.n_splits)), UserWarning)\n",
            "/usr/local/lib/python3.7/dist-packages/sklearn/model_selection/_split.py:667: UserWarning: The least populated class in y has only 1 members, which is less than n_splits=10.\n",
            "  % (min_groups, self.n_splits)), UserWarning)\n",
            "/usr/local/lib/python3.7/dist-packages/sklearn/model_selection/_split.py:667: UserWarning: The least populated class in y has only 1 members, which is less than n_splits=10.\n",
            "  % (min_groups, self.n_splits)), UserWarning)\n",
            "/usr/local/lib/python3.7/dist-packages/sklearn/model_selection/_split.py:667: UserWarning: The least populated class in y has only 1 members, which is less than n_splits=10.\n",
            "  % (min_groups, self.n_splits)), UserWarning)\n",
            "/usr/local/lib/python3.7/dist-packages/sklearn/model_selection/_split.py:667: UserWarning: The least populated class in y has only 1 members, which is less than n_splits=10.\n",
            "  % (min_groups, self.n_splits)), UserWarning)\n",
            "/usr/local/lib/python3.7/dist-packages/sklearn/model_selection/_split.py:667: UserWarning: The least populated class in y has only 1 members, which is less than n_splits=10.\n",
            "  % (min_groups, self.n_splits)), UserWarning)\n"
          ],
          "name": "stderr"
        },
        {
          "output_type": "stream",
          "text": [
            "\n",
            "-- Fold: 9 --\n",
            "\n",
            "R^2 Scoring:\n",
            "Mean: 0.851870\n",
            "Std: +/- 0.059489\n",
            "Min: 0.696646\n",
            "Max: 0.943476\n",
            "\n",
            "RMSE Scoring:\n",
            "Mean: 1.270318\n",
            "Std: +/- 0.327021\n",
            "Min: 0.722371\n",
            "Max: 2.137557\n",
            "\n"
          ],
          "name": "stdout"
        },
        {
          "output_type": "stream",
          "text": [
            "/usr/local/lib/python3.7/dist-packages/sklearn/model_selection/_split.py:667: UserWarning: The least populated class in y has only 1 members, which is less than n_splits=11.\n",
            "  % (min_groups, self.n_splits)), UserWarning)\n",
            "/usr/local/lib/python3.7/dist-packages/sklearn/model_selection/_split.py:667: UserWarning: The least populated class in y has only 1 members, which is less than n_splits=11.\n",
            "  % (min_groups, self.n_splits)), UserWarning)\n",
            "/usr/local/lib/python3.7/dist-packages/sklearn/model_selection/_split.py:667: UserWarning: The least populated class in y has only 1 members, which is less than n_splits=11.\n",
            "  % (min_groups, self.n_splits)), UserWarning)\n",
            "/usr/local/lib/python3.7/dist-packages/sklearn/model_selection/_split.py:667: UserWarning: The least populated class in y has only 1 members, which is less than n_splits=11.\n",
            "  % (min_groups, self.n_splits)), UserWarning)\n",
            "/usr/local/lib/python3.7/dist-packages/sklearn/model_selection/_split.py:667: UserWarning: The least populated class in y has only 1 members, which is less than n_splits=11.\n",
            "  % (min_groups, self.n_splits)), UserWarning)\n",
            "/usr/local/lib/python3.7/dist-packages/sklearn/model_selection/_split.py:667: UserWarning: The least populated class in y has only 1 members, which is less than n_splits=11.\n",
            "  % (min_groups, self.n_splits)), UserWarning)\n"
          ],
          "name": "stderr"
        },
        {
          "output_type": "stream",
          "text": [
            "\n",
            "-- Fold: 10 --\n",
            "\n",
            "R^2 Scoring:\n",
            "Mean: 0.850728\n",
            "Std: +/- 0.064957\n",
            "Min: 0.711564\n",
            "Max: 0.953468\n",
            "\n",
            "RMSE Scoring:\n",
            "Mean: 1.263111\n",
            "Std: +/- 0.300058\n",
            "Min: 0.705891\n",
            "Max: 1.930227\n",
            "\n"
          ],
          "name": "stdout"
        },
        {
          "output_type": "display_data",
          "data": {
            "image/png": "[encoded data removed]",
            "text/plain": [
              "<Figure size 1080x720 with 4 Axes>"
            ]
          },
          "metadata": {
            "tags": [],
            "needs_background": "light"
          }
        }
      ]
    },
    {
      "cell_type": "markdown",
      "metadata": {
        "id": "XDbkuzGWp2sy"
      },
      "source": [
        "<table border = \"1\">\n",
        "  <thead>\n",
        "    <th colspan = \"3\">XGBoost Cross-Validation Results</th>\n",
        "  </thead>\n",
        "  <tbody>\n",
        "    <tr>\n",
        "      <td><b></b></td>\n",
        "      <td><b>R^2</b></td>\n",
        "      <td><b>RMSE</b></td>\n",
        "    </tr>\n",
        "    <tr>\n",
        "      <td><b>Mean</b></td>\n",
        "      <td>0.851</td>\n",
        "      <td>1.263</td>\n",
        "    </tr>\n",
        "    <tr>\n",
        "      <td><b>Std.</b></td>\n",
        "      <td>0.065</td>\n",
        "      <td>0.300</td>\n",
        "    </tr>\n",
        "    <tr>\n",
        "      <td><b>Min</b></td>\n",
        "      <td>0.712</td>\n",
        "      <td>0.706</td>\n",
        "    </tr>\n",
        "    <tr>\n",
        "      <td><b>Max</b></td>\n",
        "      <td>0.954</td>\n",
        "      <td>1.930</td>\n",
        "    </tr>\n",
        "  </tbody>\n",
        "</table>"
      ]
    },
    {
      "cell_type": "code",
      "metadata": {
        "colab": {
          "base_uri": "https://localhost:8080/"
        },
        "id": "lVuvxtBqp0Dj",
        "outputId": "7e2e3289-cb4e-47d2-849f-f3ed631c5857"
      },
      "source": [
        "# Apply Grid Search for parameter tuning\n",
        "\n",
        "# param_dict = {'max_depth': [1, 2, 3, 4, 5, 10, 20, 30], \n",
        "#               'learning_rate': [0.05, 0.1, 0.15],\n",
        "#               'colsample_bytree': [0.3, 0.5, 0.7],\n",
        "#               'n_estimators': [25, 50, 75, 100, 150, 200],\n",
        "#               'min_child_weight': [1, 2, 4, 5, 8, 10],\n",
        "#               'reg_alpha': [0.5, 1, 1.5, 2, 5, 10],\n",
        "#               'gamma': [0, 0.1, 0.2, 0.3],\n",
        "#               'subsample': [0.6, 0.8, 1.0],\n",
        "#               'random_state': [0, 1]}\n",
        "\n",
        "param_dict = {'max_depth': [3],\n",
        "              'min_child_weight': [9],\n",
        "              'gamma': [0.07],\n",
        "              'subsample': [1],\n",
        "              'colsample_bytree': [0.66],\n",
        "              'reg_alpha': [5],\n",
        "              'learning_rate': [.13],\n",
        "              'n_estimators': [43, 44, 45],\n",
        "              'random_state': [49, 50, 51]}\n",
        "\n",
        "# grid = GridSearchCV(xgb_reg, param_dict, scoring='neg_mean_absolute_error', cv=cv, n_jobs=-1)\n",
        "# grid = GridSearchCV(xgb_reg, param_dict, scoring='neg_mean_squared_error', cv=cv, n_jobs=-1)\n",
        "# grid = GridSearchCV(xgb_reg, param_dict, scoring='neg_root_mean_squared_error', cv=cv, n_jobs=-1)\n",
        "grid = GridSearchCV(xgb_reg, param_dict, scoring='r2', cv=cv, n_jobs=-1)\n",
        "results = grid.fit(X_train, y_train)\n",
        "\n",
        "# Summarize results\n",
        "best_score = grid.best_score_\n",
        "best_parameters = grid.best_params_\n",
        "print(\"Best Score: %.3f%%\" % (np.abs(best_score * 100)))  # R^2 Scoring\n",
        "# print(\"Best Score: %.3f%%\" % (np.abs(best_score)))  # RMSE\n",
        "print(\"Best Parameters: \", best_parameters)"
      ],
      "execution_count": 113,
      "outputs": [
        {
          "output_type": "stream",
          "text": [
            "/usr/local/lib/python3.7/dist-packages/sklearn/model_selection/_split.py:667: UserWarning: The least populated class in y has only 1 members, which is less than n_splits=11.\n",
            "  % (min_groups, self.n_splits)), UserWarning)\n",
            "/usr/local/lib/python3.7/dist-packages/sklearn/model_selection/_split.py:667: UserWarning: The least populated class in y has only 1 members, which is less than n_splits=11.\n",
            "  % (min_groups, self.n_splits)), UserWarning)\n",
            "/usr/local/lib/python3.7/dist-packages/sklearn/model_selection/_split.py:667: UserWarning: The least populated class in y has only 1 members, which is less than n_splits=11.\n",
            "  % (min_groups, self.n_splits)), UserWarning)\n"
          ],
          "name": "stderr"
        },
        {
          "output_type": "stream",
          "text": [
            "[23:17:44] WARNING: /workspace/src/objective/regression_obj.cu:152: reg:linear is now deprecated in favor of reg:squarederror.\n",
            "Best Score: 85.073%\n",
            "Best Parameters:  {'colsample_bytree': 0.66, 'gamma': 0.07, 'learning_rate': 0.13, 'max_depth': 3, 'min_child_weight': 9, 'n_estimators': 44, 'random_state': 50, 'reg_alpha': 5, 'subsample': 1}\n"
          ],
          "name": "stdout"
        }
      ]
    },
    {
      "cell_type": "markdown",
      "metadata": {
        "id": "LrrU8z4FjluF"
      },
      "source": [
        "<table border = \"1\">\n",
        "  <thead>\n",
        "    <th colspan = \"2\">XGBoost Grid Search Results</th>\n",
        "  </thead>\n",
        "  <tbody>\n",
        "    <tr>\n",
        "      <td><b>Best Score</b></td>\n",
        "      <td>85.073%</td>\n",
        "    </tr>\n",
        "    <tr>\n",
        "      <td colspan=\"2\"><b>Best Parameters:</b></td>\n",
        "    </tr>\n",
        "    <tr>\n",
        "      <td><b>max_depth</b></td>\n",
        "      <td>3</td>\n",
        "    </tr>\n",
        "    <tr>\n",
        "      <td><b>min_child_weight</b></td>\n",
        "      <td>9</td>\n",
        "    </tr>\n",
        "    <tr>\n",
        "      <td><b>gamma</b></td>\n",
        "      <td>0.07</td>\n",
        "    </tr>\n",
        "    <tr>\n",
        "      <td><b>colsample_bytree</b></td>\n",
        "      <td>0.66</td>\n",
        "    </tr>\n",
        "    <tr>\n",
        "      <td><b>subsample</b></td>\n",
        "      <td>1</td>\n",
        "    </tr>\n",
        "    <tr>\n",
        "      <td><b>reg_alpha</b></td>\n",
        "      <td>5</td>\n",
        "    </tr>\n",
        "    <tr>\n",
        "      <td><b>learning_rate</b></td>\n",
        "      <td>0.13</td>\n",
        "    </tr>\n",
        "    <tr>\n",
        "      <td><b>n_estimators</b></td>\n",
        "      <td>44</td>\n",
        "    </tr>\n",
        "    <tr>\n",
        "      <td><b>random_state</b></td>\n",
        "      <td>50</td>\n",
        "    </tr>\n",
        "  </tbody>\n",
        "</table>"
      ]
    },
    {
      "cell_type": "markdown",
      "metadata": {
        "id": "i3e1porpkdGO"
      },
      "source": [
        "### LightGBM (LGB)"
      ]
    },
    {
      "cell_type": "code",
      "metadata": {
        "colab": {
          "base_uri": "https://localhost:8080/"
        },
        "id": "cTjcGEIxqBI_",
        "outputId": "91f42ede-dd84-4fcb-a518-0fa34f4e5da5"
      },
      "source": [
        "lgb_reg = LGBMRegressor(max_depth=3, n_estimators=32, learning_rate=0.1,\n",
        "                    num_leaves=7, min_split_gain=2, max_samples=0.01,\n",
        "                    reg_lambda=2.11, subsample=1, subsample_freq=1,\n",
        "                    colsample_bytree=0.94, random_state=0)\n",
        "lgb_reg.fit(X_train, y_train)"
      ],
      "execution_count": 124,
      "outputs": [
        {
          "output_type": "execute_result",
          "data": {
            "text/plain": [
              "LGBMRegressor(boosting_type='gbdt', class_weight=None, colsample_bytree=0.94,\n",
              "              importance_type='split', learning_rate=0.1, max_depth=3,\n",
              "              max_samples=0.01, min_child_samples=20, min_child_weight=0.001,\n",
              "              min_split_gain=2, n_estimators=32, n_jobs=-1, num_leaves=7,\n",
              "              objective=None, random_state=0, reg_alpha=0.0, reg_lambda=2.11,\n",
              "              silent=True, subsample=1, subsample_for_bin=200000,\n",
              "              subsample_freq=1)"
            ]
          },
          "metadata": {
            "tags": []
          },
          "execution_count": 124
        }
      ]
    },
    {
      "cell_type": "code",
      "metadata": {
        "colab": {
          "base_uri": "https://localhost:8080/"
        },
        "id": "TlmpHXunqD43",
        "outputId": "41e174f9-5563-4aa1-fd6d-97c488665762"
      },
      "source": [
        "# Predict test set results\n",
        "y_pred = lgb_reg.predict(X_test)\n",
        "np.set_printoptions(precision = 2)\n",
        "print(np.concatenate((y_pred.reshape(len(y_pred), 1), y_test.reshape(len(y_test), 1)), 1 ))\n",
        "print('')\n",
        "\n",
        "# Summarize results\n",
        "print('MAE: %.3f' % (mean_absolute_error(y_test, y_pred)))\n",
        "print('MSE: %.3f' % (mean_squared_error(y_test, y_pred)))\n",
        "print('RMSE: %.3f' % (mean_squared_error(y_test, y_pred, squared=False)))\n",
        "print('R^2 Score: %.3f' % (r2_score(y_test, y_pred)))"
      ],
      "execution_count": 125,
      "outputs": [
        {
          "output_type": "stream",
          "text": [
            "[[ 6.43  8.  ]\n",
            " [14.79 15.  ]\n",
            " [15.92 16.  ]\n",
            " [10.71 10.  ]\n",
            " [ 9.47 10.  ]\n",
            " [12.8  12.  ]\n",
            " [13.3  13.  ]\n",
            " [17.34 17.  ]\n",
            " [12.44 12.  ]\n",
            " [11.46 12.  ]\n",
            " [10.87 11.  ]\n",
            " [10.55 10.  ]\n",
            " [13.06 13.  ]\n",
            " [ 8.76  8.  ]\n",
            " [17.34 18.  ]\n",
            " [12.69 12.  ]\n",
            " [13.1  13.  ]\n",
            " [12.89 13.  ]\n",
            " [10.73 10.  ]\n",
            " [10.64 10.  ]\n",
            " [12.8  12.  ]\n",
            " [10.61 10.  ]\n",
            " [17.34 17.  ]\n",
            " [13.19 15.  ]\n",
            " [12.61 14.  ]\n",
            " [ 3.89  0.  ]\n",
            " [12.77 12.  ]\n",
            " [13.27 14.  ]\n",
            " [11.21 12.  ]\n",
            " [12.67  9.  ]\n",
            " [13.4  13.  ]\n",
            " [16.17 16.  ]\n",
            " [12.77 13.  ]\n",
            " [15.78 16.  ]\n",
            " [12.82 12.  ]\n",
            " [ 8.97 10.  ]\n",
            " [ 9.42 10.  ]\n",
            " [11.1  11.  ]\n",
            " [12.73 13.  ]\n",
            " [10.6  10.  ]\n",
            " [15.46 15.  ]\n",
            " [17.25 18.  ]\n",
            " [11.21 11.  ]\n",
            " [13.17 13.  ]\n",
            " [12.61 13.  ]\n",
            " [10.03 10.  ]\n",
            " [12.77 14.  ]\n",
            " [10.07  9.  ]\n",
            " [11.18 11.  ]\n",
            " [ 9.46 10.  ]\n",
            " [ 6.39  8.  ]\n",
            " [14.86 17.  ]\n",
            " [10.04  9.  ]\n",
            " [12.44 13.  ]\n",
            " [ 6.49  8.  ]\n",
            " [10.57 11.  ]\n",
            " [11.46 12.  ]\n",
            " [11.05 12.  ]\n",
            " [14.42 15.  ]\n",
            " [14.6  15.  ]\n",
            " [13.05 13.  ]\n",
            " [ 8.67  7.  ]\n",
            " [11.2  12.  ]\n",
            " [ 8.97 10.  ]\n",
            " [13.04 12.  ]\n",
            " [12.8  12.  ]\n",
            " [11.35 11.  ]\n",
            " [13.21 13.  ]\n",
            " [14.63 14.  ]\n",
            " [ 3.68  8.  ]\n",
            " [ 6.38  9.  ]\n",
            " [11.22 11.  ]\n",
            " [13.17 13.  ]\n",
            " [10.6  11.  ]\n",
            " [14.26 14.  ]\n",
            " [13.41 13.  ]\n",
            " [13.62 14.  ]\n",
            " [11.53 13.  ]\n",
            " [13.41 13.  ]\n",
            " [12.46 13.  ]\n",
            " [14.63 14.  ]\n",
            " [10.2  11.  ]\n",
            " [10.11 10.  ]\n",
            " [13.04 14.  ]\n",
            " [17.27 17.  ]\n",
            " [11.1  13.  ]\n",
            " [10.82 10.  ]\n",
            " [13.39 12.  ]\n",
            " [13.41 13.  ]\n",
            " [13.04 10.  ]\n",
            " [11.17 12.  ]\n",
            " [15.53 16.  ]\n",
            " [17.27 17.  ]\n",
            " [11.32 11.  ]\n",
            " [ 7.06  6.  ]\n",
            " [ 9.98 11.  ]\n",
            " [13.27 14.  ]\n",
            " [11.15 11.  ]\n",
            " [13.04 13.  ]\n",
            " [14.42 15.  ]\n",
            " [12.64 14.  ]\n",
            " [ 9.39 10.  ]\n",
            " [ 5.97  8.  ]\n",
            " [11.18 11.  ]\n",
            " [ 9.76 10.  ]\n",
            " [11.11 12.  ]\n",
            " [15.83 17.  ]\n",
            " [11.12 11.  ]\n",
            " [10.61  9.  ]\n",
            " [15.41 15.  ]\n",
            " [12.42 12.  ]\n",
            " [13.04 13.  ]\n",
            " [14.39 14.  ]\n",
            " [12.95 14.  ]\n",
            " [11.24 12.  ]\n",
            " [10.   11.  ]\n",
            " [15.88 15.  ]\n",
            " [16.1  16.  ]\n",
            " [10.25 10.  ]\n",
            " [11.09 12.  ]\n",
            " [ 6.62  8.  ]\n",
            " [10.74 11.  ]\n",
            " [10.55 11.  ]\n",
            " [10.27 11.  ]\n",
            " [13.06 14.  ]\n",
            " [15.09 15.  ]\n",
            " [14.86 14.  ]\n",
            " [16.92 15.  ]\n",
            " [11.59 10.  ]\n",
            " [10.55 11.  ]]\n",
            "\n",
            "MAE: 0.774\n",
            "MSE: 1.136\n",
            "RMSE: 1.066\n",
            "R^2 Score: 0.840\n"
          ],
          "name": "stdout"
        }
      ]
    },
    {
      "cell_type": "markdown",
      "metadata": {
        "id": "c1V0ohAWj5kN"
      },
      "source": [
        "<table border = \"1\">\n",
        "  <thead>\n",
        "    <th colspan = \"5\">Prediction Scores</th>\n",
        "  </thead>\n",
        "  <tbody>\n",
        "    <tr>\n",
        "      <td><b>MAE:<b></td>\n",
        "      <td>0.774</td>\n",
        "    </tr>\n",
        "    <tr>\n",
        "      <td><b>MSE:<b></td>\n",
        "      <td>1.136</td>\n",
        "    </tr>\n",
        "    <tr>\n",
        "      <td><b>RMSE:<b></td>\n",
        "      <td>1.066</td>\n",
        "    </tr>\n",
        "    <tr>\n",
        "      <td><b>R^2:<b></td>\n",
        "      <td>0.840</td>\n",
        "    </tr>\n",
        "  </tbody>\n",
        "</table>"
      ]
    },
    {
      "cell_type": "code",
      "metadata": {
        "colab": {
          "base_uri": "https://localhost:8080/",
          "height": 408
        },
        "id": "maStpdP7j9Xl",
        "outputId": "ee4e04ef-4462-432b-b8a5-149b0ba3f8f5"
      },
      "source": [
        "# Plot histogram for y_pred\n",
        "fig1 = plt.figure(figsize=(15, 6))\n",
        "ax1 = fig1.add_subplot(1, 2, 1)\n",
        "plt.xticks(np.arange(0, 20, 2))\n",
        "plt.yticks(np.arange(0, 40, 4))\n",
        "plt.hist(x=y_pred, facecolor='deepskyblue', alpha=0.6, edgecolor='black')\n",
        "plt.xlabel('Grade', fontsize=12)\n",
        "plt.ylabel('Number of students', fontsize=12)\n",
        "plt.title('Predicted Grade Distribution', fontsize=14)\n",
        "\n",
        "# Plot histogram for y_test\n",
        "ax1 = fig1.add_subplot(1, 2, 2)\n",
        "plt.xticks(np.arange(0, 20, 2))\n",
        "plt.yticks(np.arange(0, 40, 4))\n",
        "plt.hist(x=y_test, facecolor='orange', alpha=0.6, edgecolor='black')\n",
        "plt.xlabel('Grade', fontsize=12)\n",
        "plt.ylabel('Number of students', fontsize=12)\n",
        "plt.title('Validation Grade Distribution', fontsize=14)\n",
        "\n",
        "# Show subplot\n",
        "plt.show()"
      ],
      "execution_count": 126,
      "outputs": [
        {
          "output_type": "display_data",
          "data": {
            "image/png": "[encoded data removed]",
            "text/plain": [
              "<Figure size 1080x432 with 2 Axes>"
            ]
          },
          "metadata": {
            "tags": [],
            "needs_background": "light"
          }
        }
      ]
    },
    {
      "cell_type": "code",
      "metadata": {
        "colab": {
          "base_uri": "https://localhost:8080/",
          "height": 1000
        },
        "id": "qbdQIQeAqF30",
        "outputId": "01cdb065-8241-4401-c192-0a73481c88b8"
      },
      "source": [
        "# Apply k-Fold Cross Validation on the training set\n",
        "\n",
        "# Lists of values\n",
        "r2_means, r2_stds, r2_mins, r2_maxs = [], [], [], []  # R^2 Scoring\n",
        "rmse_means, rmse_stds, rmse_mins, rmse_maxs = [], [], [], []  # RMSE Scoring\n",
        "# Cross validate for 10 k-folds, each with 3 repeats\n",
        "for k in range(2, 12):\n",
        "  cv = RepeatedStratifiedKFold(n_splits = k, n_repeats = 3, random_state = 0)\n",
        "  r2_scores = cross_val_score(lgb_reg, X_train, y_train, scoring='r2', cv=cv, n_jobs=-1)\n",
        "  # scores = cross_val_score(lgb_reg, X_train, y_train, scoring='neg_mean_absolute_error', cv=cv, n_jobs=-1)\n",
        "  # scores = cross_val_score(lgb_reg, X_train, y_train, scoring='neg_mean_squared_error', cv=cv, n_jobs=-1)\n",
        "  rmse_scores = cross_val_score(lgb_reg, X_train, y_train, scoring='neg_root_mean_squared_error', cv=cv, n_jobs=-1)\n",
        "  \n",
        "  # Force scores to be positive\n",
        "  r2_scores = abs(r2_scores)\n",
        "  rmse_scores = abs(rmse_scores)\n",
        "\n",
        "  # Print values\n",
        "  print('')\n",
        "  print('-- Fold: %d --' % (k-1))\n",
        "  print('')\n",
        "  print('R^2 Scoring:')\n",
        "  print(\"Mean: %f\" % (np.mean(r2_scores)))\n",
        "  print(\"Std: +/- %f\" % (np.std(r2_scores)))\n",
        "  print(\"Min: %f\" % (np.min(r2_scores)))\n",
        "  print(\"Max: %f\" % (np.max(r2_scores)))\n",
        "  \n",
        "  print('')\n",
        "  print('RMSE Scoring:')\n",
        "  print(\"Mean: %f\" % (np.mean(rmse_scores)))\n",
        "  print(\"Std: +/- %f\" % (np.std(rmse_scores)))\n",
        "  print(\"Min: %f\" % (np.min(rmse_scores)))\n",
        "  print(\"Max: %f\" % (np.max(rmse_scores)))\n",
        "  print('')\n",
        "  \n",
        "  # Append R^2 scores\n",
        "  r2_means.append(np.mean(r2_scores))\n",
        "  r2_stds.append(np.std(r2_scores))\n",
        "  r2_mins.append(np.min(r2_scores))\n",
        "  r2_maxs.append(np.max(r2_scores))\n",
        "  \n",
        "  # Append RMSE scores\n",
        "  rmse_means.append(np.mean(rmse_scores))\n",
        "  rmse_stds.append(np.std(rmse_scores))\n",
        "  rmse_mins.append(np.min(rmse_scores))\n",
        "  rmse_maxs.append(np.max(rmse_scores))\n",
        "\n",
        "# Plot R^2 scores per k-fold:\n",
        "fig2 = plt.figure(figsize=(15, 10))\n",
        "ax1 = fig2.add_subplot(2, 2, 1)\n",
        "ax1.plot(np.arange(1,11), r2_means, color='red', label='Mean')\n",
        "ax1.plot(np.arange(1,11), r2_mins, color='green', label='Min')\n",
        "ax1.plot(np.arange(1,11), r2_maxs, color='blue', label='Max')\n",
        "ax1.set_xlabel('k-Fold', fontsize=12)\n",
        "ax1.set_ylabel('R^2 Score', fontsize=12)\n",
        "ax1.set_title('R^2 Score per k-Fold', fontsize=14)\n",
        "ax1.legend()\n",
        "ax1.grid(True)\n",
        "\n",
        "# Plot R^2 Standard Deviations per k-fold:\n",
        "ax2 = fig2.add_subplot(2, 2, 2)\n",
        "ax2.plot(np.arange(1,11), r2_stds, color='red')\n",
        "ax2.set_xlabel('k-Fold', fontsize=12)\n",
        "ax2.set_ylabel('Standard Deviation (+/-)', fontsize=12)\n",
        "ax2.set_title('R^2 Standard Deviation per k-fold', fontsize=14)\n",
        "ax2.grid(True)\n",
        "\n",
        "# Plot RMSE scores per k-fold:\n",
        "ax3 = fig2.add_subplot(2, 2, 3)\n",
        "ax3.plot(np.arange(1,11), rmse_means, color='orangered', label='Mean')\n",
        "ax3.plot(np.arange(1,11), rmse_mins, color='green', label='Min')\n",
        "ax3.plot(np.arange(1,11), rmse_maxs, color='blue', label='Max')\n",
        "ax3.set_xlabel('k-Fold', fontsize=12)\n",
        "ax3.set_ylabel('RMSE Score', fontsize=12)\n",
        "ax3.set_title('RMSE Score per k-Fold', fontsize=14)\n",
        "ax3.legend()\n",
        "ax3.grid(True)\n",
        "\n",
        "# Plot RMSE Standard Deviations per k-fold:\n",
        "ax4 = fig2.add_subplot(2, 2, 4)\n",
        "ax4.plot(np.arange(1,11), rmse_stds, color='orangered')\n",
        "ax4.set_xlabel('k-Fold', fontsize=12)\n",
        "ax4.set_ylabel('Standard Deviation (+/-)', fontsize=12)\n",
        "ax4.set_title('RMSE Standard Deviation per k-fold', fontsize=14)\n",
        "ax4.grid(True)\n",
        "\n",
        "# Show subplot\n",
        "plt.show()"
      ],
      "execution_count": 127,
      "outputs": [
        {
          "output_type": "stream",
          "text": [
            "/usr/local/lib/python3.7/dist-packages/sklearn/model_selection/_split.py:667: UserWarning: The least populated class in y has only 1 members, which is less than n_splits=2.\n",
            "  % (min_groups, self.n_splits)), UserWarning)\n",
            "/usr/local/lib/python3.7/dist-packages/sklearn/model_selection/_split.py:667: UserWarning: The least populated class in y has only 1 members, which is less than n_splits=2.\n",
            "  % (min_groups, self.n_splits)), UserWarning)\n",
            "/usr/local/lib/python3.7/dist-packages/sklearn/model_selection/_split.py:667: UserWarning: The least populated class in y has only 1 members, which is less than n_splits=2.\n",
            "  % (min_groups, self.n_splits)), UserWarning)\n",
            "/usr/local/lib/python3.7/dist-packages/sklearn/model_selection/_split.py:667: UserWarning: The least populated class in y has only 1 members, which is less than n_splits=2.\n",
            "  % (min_groups, self.n_splits)), UserWarning)\n",
            "/usr/local/lib/python3.7/dist-packages/sklearn/model_selection/_split.py:667: UserWarning: The least populated class in y has only 1 members, which is less than n_splits=2.\n",
            "  % (min_groups, self.n_splits)), UserWarning)\n",
            "/usr/local/lib/python3.7/dist-packages/sklearn/model_selection/_split.py:667: UserWarning: The least populated class in y has only 1 members, which is less than n_splits=2.\n",
            "  % (min_groups, self.n_splits)), UserWarning)\n",
            "/usr/local/lib/python3.7/dist-packages/sklearn/model_selection/_split.py:667: UserWarning: The least populated class in y has only 1 members, which is less than n_splits=3.\n",
            "  % (min_groups, self.n_splits)), UserWarning)\n",
            "/usr/local/lib/python3.7/dist-packages/sklearn/model_selection/_split.py:667: UserWarning: The least populated class in y has only 1 members, which is less than n_splits=3.\n",
            "  % (min_groups, self.n_splits)), UserWarning)\n",
            "/usr/local/lib/python3.7/dist-packages/sklearn/model_selection/_split.py:667: UserWarning: The least populated class in y has only 1 members, which is less than n_splits=3.\n",
            "  % (min_groups, self.n_splits)), UserWarning)\n",
            "/usr/local/lib/python3.7/dist-packages/sklearn/model_selection/_split.py:667: UserWarning: The least populated class in y has only 1 members, which is less than n_splits=3.\n",
            "  % (min_groups, self.n_splits)), UserWarning)\n",
            "/usr/local/lib/python3.7/dist-packages/sklearn/model_selection/_split.py:667: UserWarning: The least populated class in y has only 1 members, which is less than n_splits=3.\n",
            "  % (min_groups, self.n_splits)), UserWarning)\n"
          ],
          "name": "stderr"
        },
        {
          "output_type": "stream",
          "text": [
            "\n",
            "-- Fold: 1 --\n",
            "\n",
            "R^2 Scoring:\n",
            "Mean: 0.799129\n",
            "Std: +/- 0.012889\n",
            "Min: 0.782335\n",
            "Max: 0.821879\n",
            "\n",
            "RMSE Scoring:\n",
            "Mean: 1.501592\n",
            "Std: +/- 0.056456\n",
            "Min: 1.402098\n",
            "Max: 1.577441\n",
            "\n",
            "\n",
            "-- Fold: 2 --\n",
            "\n",
            "R^2 Scoring:\n",
            "Mean: 0.813106\n",
            "Std: +/- 0.029405\n",
            "Min: 0.740032\n",
            "Max: 0.849207\n",
            "\n",
            "RMSE Scoring:\n",
            "Mean: 1.444220\n",
            "Std: +/- 0.100733\n",
            "Min: 1.308615\n",
            "Max: 1.683836\n",
            "\n"
          ],
          "name": "stdout"
        },
        {
          "output_type": "stream",
          "text": [
            "/usr/local/lib/python3.7/dist-packages/sklearn/model_selection/_split.py:667: UserWarning: The least populated class in y has only 1 members, which is less than n_splits=3.\n",
            "  % (min_groups, self.n_splits)), UserWarning)\n",
            "/usr/local/lib/python3.7/dist-packages/sklearn/model_selection/_split.py:667: UserWarning: The least populated class in y has only 1 members, which is less than n_splits=4.\n",
            "  % (min_groups, self.n_splits)), UserWarning)\n",
            "/usr/local/lib/python3.7/dist-packages/sklearn/model_selection/_split.py:667: UserWarning: The least populated class in y has only 1 members, which is less than n_splits=4.\n",
            "  % (min_groups, self.n_splits)), UserWarning)\n",
            "/usr/local/lib/python3.7/dist-packages/sklearn/model_selection/_split.py:667: UserWarning: The least populated class in y has only 1 members, which is less than n_splits=4.\n",
            "  % (min_groups, self.n_splits)), UserWarning)\n",
            "/usr/local/lib/python3.7/dist-packages/sklearn/model_selection/_split.py:667: UserWarning: The least populated class in y has only 1 members, which is less than n_splits=4.\n",
            "  % (min_groups, self.n_splits)), UserWarning)\n",
            "/usr/local/lib/python3.7/dist-packages/sklearn/model_selection/_split.py:667: UserWarning: The least populated class in y has only 1 members, which is less than n_splits=4.\n",
            "  % (min_groups, self.n_splits)), UserWarning)\n",
            "/usr/local/lib/python3.7/dist-packages/sklearn/model_selection/_split.py:667: UserWarning: The least populated class in y has only 1 members, which is less than n_splits=4.\n",
            "  % (min_groups, self.n_splits)), UserWarning)\n",
            "/usr/local/lib/python3.7/dist-packages/sklearn/model_selection/_split.py:667: UserWarning: The least populated class in y has only 1 members, which is less than n_splits=5.\n",
            "  % (min_groups, self.n_splits)), UserWarning)\n",
            "/usr/local/lib/python3.7/dist-packages/sklearn/model_selection/_split.py:667: UserWarning: The least populated class in y has only 1 members, which is less than n_splits=5.\n",
            "  % (min_groups, self.n_splits)), UserWarning)\n",
            "/usr/local/lib/python3.7/dist-packages/sklearn/model_selection/_split.py:667: UserWarning: The least populated class in y has only 1 members, which is less than n_splits=5.\n",
            "  % (min_groups, self.n_splits)), UserWarning)\n",
            "/usr/local/lib/python3.7/dist-packages/sklearn/model_selection/_split.py:667: UserWarning: The least populated class in y has only 1 members, which is less than n_splits=5.\n",
            "  % (min_groups, self.n_splits)), UserWarning)\n"
          ],
          "name": "stderr"
        },
        {
          "output_type": "stream",
          "text": [
            "\n",
            "-- Fold: 3 --\n",
            "\n",
            "R^2 Scoring:\n",
            "Mean: 0.820453\n",
            "Std: +/- 0.034215\n",
            "Min: 0.755152\n",
            "Max: 0.862957\n",
            "\n",
            "RMSE Scoring:\n",
            "Mean: 1.411753\n",
            "Std: +/- 0.129858\n",
            "Min: 1.265633\n",
            "Max: 1.651210\n",
            "\n"
          ],
          "name": "stdout"
        },
        {
          "output_type": "stream",
          "text": [
            "/usr/local/lib/python3.7/dist-packages/sklearn/model_selection/_split.py:667: UserWarning: The least populated class in y has only 1 members, which is less than n_splits=5.\n",
            "  % (min_groups, self.n_splits)), UserWarning)\n",
            "/usr/local/lib/python3.7/dist-packages/sklearn/model_selection/_split.py:667: UserWarning: The least populated class in y has only 1 members, which is less than n_splits=5.\n",
            "  % (min_groups, self.n_splits)), UserWarning)\n",
            "/usr/local/lib/python3.7/dist-packages/sklearn/model_selection/_split.py:667: UserWarning: The least populated class in y has only 1 members, which is less than n_splits=6.\n",
            "  % (min_groups, self.n_splits)), UserWarning)\n",
            "/usr/local/lib/python3.7/dist-packages/sklearn/model_selection/_split.py:667: UserWarning: The least populated class in y has only 1 members, which is less than n_splits=6.\n",
            "  % (min_groups, self.n_splits)), UserWarning)\n"
          ],
          "name": "stderr"
        },
        {
          "output_type": "stream",
          "text": [
            "\n",
            "-- Fold: 4 --\n",
            "\n",
            "R^2 Scoring:\n",
            "Mean: 0.827598\n",
            "Std: +/- 0.040543\n",
            "Min: 0.768930\n",
            "Max: 0.892324\n",
            "\n",
            "RMSE Scoring:\n",
            "Mean: 1.382683\n",
            "Std: +/- 0.181202\n",
            "Min: 1.104154\n",
            "Max: 1.683605\n",
            "\n"
          ],
          "name": "stdout"
        },
        {
          "output_type": "stream",
          "text": [
            "/usr/local/lib/python3.7/dist-packages/sklearn/model_selection/_split.py:667: UserWarning: The least populated class in y has only 1 members, which is less than n_splits=6.\n",
            "  % (min_groups, self.n_splits)), UserWarning)\n",
            "/usr/local/lib/python3.7/dist-packages/sklearn/model_selection/_split.py:667: UserWarning: The least populated class in y has only 1 members, which is less than n_splits=6.\n",
            "  % (min_groups, self.n_splits)), UserWarning)\n",
            "/usr/local/lib/python3.7/dist-packages/sklearn/model_selection/_split.py:667: UserWarning: The least populated class in y has only 1 members, which is less than n_splits=6.\n",
            "  % (min_groups, self.n_splits)), UserWarning)\n",
            "/usr/local/lib/python3.7/dist-packages/sklearn/model_selection/_split.py:667: UserWarning: The least populated class in y has only 1 members, which is less than n_splits=6.\n",
            "  % (min_groups, self.n_splits)), UserWarning)\n"
          ],
          "name": "stderr"
        },
        {
          "output_type": "stream",
          "text": [
            "\n",
            "-- Fold: 5 --\n",
            "\n",
            "R^2 Scoring:\n",
            "Mean: 0.835918\n",
            "Std: +/- 0.059861\n",
            "Min: 0.705564\n",
            "Max: 0.914401\n",
            "\n",
            "RMSE Scoring:\n",
            "Mean: 1.338916\n",
            "Std: +/- 0.254331\n",
            "Min: 0.937556\n",
            "Max: 1.843679\n",
            "\n"
          ],
          "name": "stdout"
        },
        {
          "output_type": "stream",
          "text": [
            "/usr/local/lib/python3.7/dist-packages/sklearn/model_selection/_split.py:667: UserWarning: The least populated class in y has only 1 members, which is less than n_splits=7.\n",
            "  % (min_groups, self.n_splits)), UserWarning)\n",
            "/usr/local/lib/python3.7/dist-packages/sklearn/model_selection/_split.py:667: UserWarning: The least populated class in y has only 1 members, which is less than n_splits=7.\n",
            "  % (min_groups, self.n_splits)), UserWarning)\n",
            "/usr/local/lib/python3.7/dist-packages/sklearn/model_selection/_split.py:667: UserWarning: The least populated class in y has only 1 members, which is less than n_splits=7.\n",
            "  % (min_groups, self.n_splits)), UserWarning)\n",
            "/usr/local/lib/python3.7/dist-packages/sklearn/model_selection/_split.py:667: UserWarning: The least populated class in y has only 1 members, which is less than n_splits=7.\n",
            "  % (min_groups, self.n_splits)), UserWarning)\n",
            "/usr/local/lib/python3.7/dist-packages/sklearn/model_selection/_split.py:667: UserWarning: The least populated class in y has only 1 members, which is less than n_splits=7.\n",
            "  % (min_groups, self.n_splits)), UserWarning)\n",
            "/usr/local/lib/python3.7/dist-packages/sklearn/model_selection/_split.py:667: UserWarning: The least populated class in y has only 1 members, which is less than n_splits=7.\n",
            "  % (min_groups, self.n_splits)), UserWarning)\n",
            "/usr/local/lib/python3.7/dist-packages/sklearn/model_selection/_split.py:667: UserWarning: The least populated class in y has only 1 members, which is less than n_splits=8.\n",
            "  % (min_groups, self.n_splits)), UserWarning)\n",
            "/usr/local/lib/python3.7/dist-packages/sklearn/model_selection/_split.py:667: UserWarning: The least populated class in y has only 1 members, which is less than n_splits=8.\n",
            "  % (min_groups, self.n_splits)), UserWarning)\n",
            "/usr/local/lib/python3.7/dist-packages/sklearn/model_selection/_split.py:667: UserWarning: The least populated class in y has only 1 members, which is less than n_splits=8.\n",
            "  % (min_groups, self.n_splits)), UserWarning)\n"
          ],
          "name": "stderr"
        },
        {
          "output_type": "stream",
          "text": [
            "\n",
            "-- Fold: 6 --\n",
            "\n",
            "R^2 Scoring:\n",
            "Mean: 0.834057\n",
            "Std: +/- 0.059066\n",
            "Min: 0.687953\n",
            "Max: 0.900869\n",
            "\n",
            "RMSE Scoring:\n",
            "Mean: 1.346004\n",
            "Std: +/- 0.245620\n",
            "Min: 1.027261\n",
            "Max: 1.934676\n",
            "\n"
          ],
          "name": "stdout"
        },
        {
          "output_type": "stream",
          "text": [
            "/usr/local/lib/python3.7/dist-packages/sklearn/model_selection/_split.py:667: UserWarning: The least populated class in y has only 1 members, which is less than n_splits=8.\n",
            "  % (min_groups, self.n_splits)), UserWarning)\n",
            "/usr/local/lib/python3.7/dist-packages/sklearn/model_selection/_split.py:667: UserWarning: The least populated class in y has only 1 members, which is less than n_splits=8.\n",
            "  % (min_groups, self.n_splits)), UserWarning)\n",
            "/usr/local/lib/python3.7/dist-packages/sklearn/model_selection/_split.py:667: UserWarning: The least populated class in y has only 1 members, which is less than n_splits=8.\n",
            "  % (min_groups, self.n_splits)), UserWarning)\n"
          ],
          "name": "stderr"
        },
        {
          "output_type": "stream",
          "text": [
            "\n",
            "-- Fold: 7 --\n",
            "\n",
            "R^2 Scoring:\n",
            "Mean: 0.839432\n",
            "Std: +/- 0.050618\n",
            "Min: 0.732724\n",
            "Max: 0.906510\n",
            "\n",
            "RMSE Scoring:\n",
            "Mean: 1.325730\n",
            "Std: +/- 0.243199\n",
            "Min: 1.061212\n",
            "Max: 1.857055\n",
            "\n"
          ],
          "name": "stdout"
        },
        {
          "output_type": "stream",
          "text": [
            "/usr/local/lib/python3.7/dist-packages/sklearn/model_selection/_split.py:667: UserWarning: The least populated class in y has only 1 members, which is less than n_splits=9.\n",
            "  % (min_groups, self.n_splits)), UserWarning)\n",
            "/usr/local/lib/python3.7/dist-packages/sklearn/model_selection/_split.py:667: UserWarning: The least populated class in y has only 1 members, which is less than n_splits=9.\n",
            "  % (min_groups, self.n_splits)), UserWarning)\n",
            "/usr/local/lib/python3.7/dist-packages/sklearn/model_selection/_split.py:667: UserWarning: The least populated class in y has only 1 members, which is less than n_splits=9.\n",
            "  % (min_groups, self.n_splits)), UserWarning)\n",
            "/usr/local/lib/python3.7/dist-packages/sklearn/model_selection/_split.py:667: UserWarning: The least populated class in y has only 1 members, which is less than n_splits=9.\n",
            "  % (min_groups, self.n_splits)), UserWarning)\n",
            "/usr/local/lib/python3.7/dist-packages/sklearn/model_selection/_split.py:667: UserWarning: The least populated class in y has only 1 members, which is less than n_splits=9.\n",
            "  % (min_groups, self.n_splits)), UserWarning)\n",
            "/usr/local/lib/python3.7/dist-packages/sklearn/model_selection/_split.py:667: UserWarning: The least populated class in y has only 1 members, which is less than n_splits=9.\n",
            "  % (min_groups, self.n_splits)), UserWarning)\n"
          ],
          "name": "stderr"
        },
        {
          "output_type": "stream",
          "text": [
            "\n",
            "-- Fold: 8 --\n",
            "\n",
            "R^2 Scoring:\n",
            "Mean: 0.837616\n",
            "Std: +/- 0.053452\n",
            "Min: 0.717966\n",
            "Max: 0.903137\n",
            "\n",
            "RMSE Scoring:\n",
            "Mean: 1.330107\n",
            "Std: +/- 0.235899\n",
            "Min: 1.006776\n",
            "Max: 1.816621\n",
            "\n"
          ],
          "name": "stdout"
        },
        {
          "output_type": "stream",
          "text": [
            "/usr/local/lib/python3.7/dist-packages/sklearn/model_selection/_split.py:667: UserWarning: The least populated class in y has only 1 members, which is less than n_splits=10.\n",
            "  % (min_groups, self.n_splits)), UserWarning)\n",
            "/usr/local/lib/python3.7/dist-packages/sklearn/model_selection/_split.py:667: UserWarning: The least populated class in y has only 1 members, which is less than n_splits=10.\n",
            "  % (min_groups, self.n_splits)), UserWarning)\n",
            "/usr/local/lib/python3.7/dist-packages/sklearn/model_selection/_split.py:667: UserWarning: The least populated class in y has only 1 members, which is less than n_splits=10.\n",
            "  % (min_groups, self.n_splits)), UserWarning)\n",
            "/usr/local/lib/python3.7/dist-packages/sklearn/model_selection/_split.py:667: UserWarning: The least populated class in y has only 1 members, which is less than n_splits=10.\n",
            "  % (min_groups, self.n_splits)), UserWarning)\n",
            "/usr/local/lib/python3.7/dist-packages/sklearn/model_selection/_split.py:667: UserWarning: The least populated class in y has only 1 members, which is less than n_splits=10.\n",
            "  % (min_groups, self.n_splits)), UserWarning)\n",
            "/usr/local/lib/python3.7/dist-packages/sklearn/model_selection/_split.py:667: UserWarning: The least populated class in y has only 1 members, which is less than n_splits=10.\n",
            "  % (min_groups, self.n_splits)), UserWarning)\n"
          ],
          "name": "stderr"
        },
        {
          "output_type": "stream",
          "text": [
            "\n",
            "-- Fold: 9 --\n",
            "\n",
            "R^2 Scoring:\n",
            "Mean: 0.845247\n",
            "Std: +/- 0.058930\n",
            "Min: 0.685376\n",
            "Max: 0.924468\n",
            "\n",
            "RMSE Scoring:\n",
            "Mean: 1.302810\n",
            "Std: +/- 0.325674\n",
            "Min: 0.835049\n",
            "Max: 2.176904\n",
            "\n"
          ],
          "name": "stdout"
        },
        {
          "output_type": "stream",
          "text": [
            "/usr/local/lib/python3.7/dist-packages/sklearn/model_selection/_split.py:667: UserWarning: The least populated class in y has only 1 members, which is less than n_splits=11.\n",
            "  % (min_groups, self.n_splits)), UserWarning)\n",
            "/usr/local/lib/python3.7/dist-packages/sklearn/model_selection/_split.py:667: UserWarning: The least populated class in y has only 1 members, which is less than n_splits=11.\n",
            "  % (min_groups, self.n_splits)), UserWarning)\n",
            "/usr/local/lib/python3.7/dist-packages/sklearn/model_selection/_split.py:667: UserWarning: The least populated class in y has only 1 members, which is less than n_splits=11.\n",
            "  % (min_groups, self.n_splits)), UserWarning)\n",
            "/usr/local/lib/python3.7/dist-packages/sklearn/model_selection/_split.py:667: UserWarning: The least populated class in y has only 1 members, which is less than n_splits=11.\n",
            "  % (min_groups, self.n_splits)), UserWarning)\n",
            "/usr/local/lib/python3.7/dist-packages/sklearn/model_selection/_split.py:667: UserWarning: The least populated class in y has only 1 members, which is less than n_splits=11.\n",
            "  % (min_groups, self.n_splits)), UserWarning)\n",
            "/usr/local/lib/python3.7/dist-packages/sklearn/model_selection/_split.py:667: UserWarning: The least populated class in y has only 1 members, which is less than n_splits=11.\n",
            "  % (min_groups, self.n_splits)), UserWarning)\n"
          ],
          "name": "stderr"
        },
        {
          "output_type": "stream",
          "text": [
            "\n",
            "-- Fold: 10 --\n",
            "\n",
            "R^2 Scoring:\n",
            "Mean: 0.840751\n",
            "Std: +/- 0.070635\n",
            "Min: 0.706313\n",
            "Max: 0.927524\n",
            "\n",
            "RMSE Scoring:\n",
            "Mean: 1.305771\n",
            "Std: +/- 0.309670\n",
            "Min: 0.880961\n",
            "Max: 1.833297\n",
            "\n"
          ],
          "name": "stdout"
        },
        {
          "output_type": "display_data",
          "data": {
            "image/png": "[encoded data removed]",
            "text/plain": [
              "<Figure size 1080x720 with 4 Axes>"
            ]
          },
          "metadata": {
            "tags": [],
            "needs_background": "light"
          }
        }
      ]
    },
    {
      "cell_type": "markdown",
      "metadata": {
        "id": "Vov8NBqgqHc7"
      },
      "source": [
        "<table border = \"1\">\n",
        "  <thead>\n",
        "    <th colspan = \"3\">LightGBM Cross-Validation Results</th>\n",
        "  </thead>\n",
        "  <tbody>\n",
        "    <tr>\n",
        "      <td><b></b></td>\n",
        "      <td><b>R^2</b></td>\n",
        "      <td><b>RMSE</b></td>\n",
        "    </tr>\n",
        "    <tr>\n",
        "      <td><b>Mean</b></td>\n",
        "      <td>0.841</td>\n",
        "      <td>1.306</td>\n",
        "    </tr>\n",
        "    <tr>\n",
        "      <td><b>Std.</b></td>\n",
        "      <td>0.071</td>\n",
        "      <td>0.310</td>\n",
        "    </tr>\n",
        "    <tr>\n",
        "      <td><b>Min</b></td>\n",
        "      <td>0.707</td>\n",
        "      <td>0.881</td>\n",
        "    </tr>\n",
        "    <tr>\n",
        "      <td><b>Max</b></td>\n",
        "      <td>0.928</td>\n",
        "      <td>1.830</td>\n",
        "    </tr>\n",
        "  </tbody>\n",
        "</table>"
      ]
    },
    {
      "cell_type": "code",
      "metadata": {
        "colab": {
          "base_uri": "https://localhost:8080/"
        },
        "id": "Hv4sgUZEqLfQ",
        "outputId": "c5cdfaf3-bbf8-4c06-aa00-88789781c455"
      },
      "source": [
        "# Apply Grid Search for parameter tuning\n",
        "\n",
        "# param_dict = {'boosting_type': ['gbst'],\n",
        "#               'max_depth': [10, 25, 50, 75, 100],\n",
        "#               'n_estimators': [50, 100, 150, 200, 250],\n",
        "#               'learning_rate': [0.01, 0.05, 0.1, 0.15],\n",
        "#               'colsample_bytree': [0.2, 0.4, 0.6, 0.8, 1],\n",
        "#               'num_leaves': [1, 5, 10, 20],\n",
        "#               'min_split_gain': [2, 5, 10],\n",
        "#               'max_samples': [0.2, 0.4, 0.6, 0.8, 1],\n",
        "#               'reg_alpha': [0.5, 1, 1.5, 2, 5, 10],\n",
        "#               'reg_lambda': [0.5, 1, 1.5, 2, 5, 10],\n",
        "#               'subsample': [1, 1.5, 2, 5, 10],\n",
        "#               'subsample_freq': [5, 10, 15, 20, 25],\n",
        "#               'random_state': [0, 1, 2, 5, 10, 20, 40]}\n",
        "\n",
        "param_dict = {'boosting_type': ['gbdt'],\n",
        "              'max_depth': [3],\n",
        "              'n_estimators': [32],\n",
        "              'colsample_bytree': [0.94],\n",
        "              'learning_rate': [0.1],\n",
        "              'num_leaves': [7],\n",
        "              'min_split_gain': [2],\n",
        "              'max_samples': [0.01],\n",
        "              'reg_lambda': [2.11],\n",
        "              'subsample': [1],\n",
        "              'subsample_freq': [1],\n",
        "              'random_state': [0]}\n",
        "\n",
        "# grid = GridSearchCV(lgb_reg, param_dict, scoring='neg_mean_absolute_error', cv=cv, n_jobs=-1)\n",
        "# grid = GridSearchCV(lgb_reg, param_dict, scoring='neg_mean_squared_error', cv=cv, n_jobs=-1)\n",
        "# grid = GridSearchCV(lgb_reg, param_dict, scoring='neg_root_mean_squared_error', cv=cv, n_jobs=-1)\n",
        "grid = GridSearchCV(lgb_reg, param_dict, scoring='r2', cv=cv, n_jobs=-1)\n",
        "results = grid.fit(X_train, y_train)\n",
        "\n",
        "# Summarize results\n",
        "best_score = grid.best_score_\n",
        "best_parameters = grid.best_params_\n",
        "print(\"Best Score: %.3f%%\" % (np.abs(best_score * 100)))  # R^2 Scoring\n",
        "# print(\"Best Score: %.3f%%\" % (np.abs(best_score)))  # RMSE\n",
        "print(\"Best Parameters: \", best_parameters)"
      ],
      "execution_count": 128,
      "outputs": [
        {
          "output_type": "stream",
          "text": [
            "/usr/local/lib/python3.7/dist-packages/sklearn/model_selection/_split.py:667: UserWarning: The least populated class in y has only 1 members, which is less than n_splits=11.\n",
            "  % (min_groups, self.n_splits)), UserWarning)\n",
            "/usr/local/lib/python3.7/dist-packages/sklearn/model_selection/_split.py:667: UserWarning: The least populated class in y has only 1 members, which is less than n_splits=11.\n",
            "  % (min_groups, self.n_splits)), UserWarning)\n",
            "/usr/local/lib/python3.7/dist-packages/sklearn/model_selection/_split.py:667: UserWarning: The least populated class in y has only 1 members, which is less than n_splits=11.\n",
            "  % (min_groups, self.n_splits)), UserWarning)\n"
          ],
          "name": "stderr"
        },
        {
          "output_type": "stream",
          "text": [
            "Best Score: 84.075%\n",
            "Best Parameters:  {'boosting_type': 'gbdt', 'colsample_bytree': 0.94, 'learning_rate': 0.1, 'max_depth': 3, 'max_samples': 0.01, 'min_split_gain': 2, 'n_estimators': 32, 'num_leaves': 7, 'random_state': 0, 'reg_lambda': 2.11, 'subsample': 1, 'subsample_freq': 1}\n"
          ],
          "name": "stdout"
        }
      ]
    },
    {
      "cell_type": "markdown",
      "metadata": {
        "id": "_jPd0w9SqPG7"
      },
      "source": [
        "<table border = \"1\">\n",
        "  <thead>\n",
        "    <th colspan = \"2\">LightGBM Grid Search Results</th>\n",
        "  </thead>\n",
        "  <tbody>\n",
        "    <tr>\n",
        "      <td><b>Best Score</b></td>\n",
        "      <td>84.075%</td>\n",
        "    </tr>\n",
        "    <tr>\n",
        "      <td colspan=\"2\"><b>Best Parameters:</b></td>\n",
        "    </tr>\n",
        "    <tr>\n",
        "      <td><b>max_depth</b></td>\n",
        "      <td>3</td>\n",
        "    </tr>\n",
        "    <tr>\n",
        "      <td><b>n_estimators</b></td>\n",
        "      <td>32</td>\n",
        "    </tr>\n",
        "    <tr>\n",
        "      <td><b>learning_rate</b></td>\n",
        "      <td>0.1</td>\n",
        "    </tr>\n",
        "    <tr>\n",
        "      <td><b>colsample_bytree</b></td>\n",
        "      <td>0.94</td>\n",
        "    </tr>\n",
        "    <tr>\n",
        "      <td><b>num_leaves</b></td>\n",
        "      <td>7</td>\n",
        "    </tr>\n",
        "    <tr>\n",
        "      <td><b>min_split_gain</b></td>\n",
        "      <td>2</td>\n",
        "    </tr>\n",
        "    <tr>\n",
        "      <td><b>max_samples</b></td>\n",
        "      <td>0.01</td>\n",
        "    </tr>\n",
        "    <tr>\n",
        "      <td><b>reg_lambda</b></td>\n",
        "      <td>2.11</td>\n",
        "    </tr>\n",
        "    <tr>\n",
        "      <td><b>subsample</b></td>\n",
        "      <td>1</td>\n",
        "    </tr>\n",
        "    <tr>\n",
        "      <td><b>subsample_freq</b></td>\n",
        "      <td>1</td>\n",
        "    </tr>\n",
        "    <tr>\n",
        "      <td><b>random_state</b></td>\n",
        "      <td>0</td>\n",
        "    </tr>\n",
        "  </tbody>\n",
        "</table>"
      ]
    },
    {
      "cell_type": "markdown",
      "metadata": {
        "id": "R91HskYKawd1"
      },
      "source": [
        "## 6. Final Results"
      ]
    },
    {
      "cell_type": "markdown",
      "metadata": {
        "id": "IJsl2nDTqYT2"
      },
      "source": [
        "<table border = \"1\">\n",
        "  <thead>\n",
        "    <th colspan = \"3\">Regression Scores - Portuguese </th>\n",
        "  </thead>\n",
        "  <tbody>\n",
        "    <tr>\n",
        "      <td><b>Model</b></td>\n",
        "      <td><b>R^2</b></td>\n",
        "      <td><b>RMSE</b></td>\n",
        "    </tr>\n",
        "    <tr>\n",
        "      <td><b>Decision Tree (DT)</b></td>\n",
        "      <td>0.842</td>\n",
        "      <td>1.275</td>\n",
        "    </tr>\n",
        "    <tr>\n",
        "      <td><b>LightGBM (LGB)</b></td>\n",
        "      <td>0.841</td>\n",
        "      <td>1.306</td>\n",
        "    </tr>\n",
        "    <tr>\n",
        "      <td><b>Random Forest (RF)</b></td>\n",
        "      <td>0.845</td>\n",
        "      <td>1.278</td>\n",
        "    </tr>\n",
        "    <tr>\n",
        "      <td><b>XGBoost (XGB)</b></td>\n",
        "      <td>0.851</td>\n",
        "      <td>1.263</td>\n",
        "    </tr>\n",
        "  </tbody>\n",
        "</table>"
      ]
    }
  ]
}
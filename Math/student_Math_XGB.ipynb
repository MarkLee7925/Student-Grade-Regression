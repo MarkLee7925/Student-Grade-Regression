{
  "nbformat": 4,
  "nbformat_minor": 0,
  "metadata": {
    "colab": {
      "name": "student-Math-XGB.ipynb",
      "provenance": [],
      "collapsed_sections": []
    },
    "kernelspec": {
      "display_name": "Python 3",
      "name": "python3"
    }
  },
  "cells": [
    {
      "cell_type": "markdown",
      "metadata": {
        "id": "dqzCkBIE4Kxb"
      },
      "source": [
        "# Student Grade Regression - Math - XGBoost"
      ]
    },
    {
      "cell_type": "markdown",
      "metadata": {
        "id": "CRPhEIH74HqH"
      },
      "source": [
        "## Import base libraries"
      ]
    },
    {
      "cell_type": "code",
      "metadata": {
        "id": "evXrcw1n1j7A"
      },
      "source": [
        "import numpy as np\n",
        "import matplotlib.pyplot as plt\n",
        "import pandas as pd"
      ],
      "execution_count": null,
      "outputs": []
    },
    {
      "cell_type": "markdown",
      "metadata": {
        "id": "AwQgmYb-5ORR"
      },
      "source": [
        "## Data preprocessing"
      ]
    },
    {
      "cell_type": "code",
      "metadata": {
        "colab": {
          "base_uri": "https://localhost:8080/"
        },
        "id": "S-exXZFi13SS",
        "outputId": "cb28f5df-9224-4540-c6ac-86afcd3f9f57"
      },
      "source": [
        "df = pd.read_csv('student-mat.csv')  # Math class\n",
        "# df = pd.read_csv('student-por.csv')  # Portuguese class\n",
        "X, y = df.iloc[:, :-1].values, df.iloc[:, -1].values\n",
        "\n",
        "print(X.shape, y.shape)"
      ],
      "execution_count": null,
      "outputs": [
        {
          "output_type": "stream",
          "text": [
            "(395, 32) (395,)\n"
          ],
          "name": "stdout"
        }
      ]
    },
    {
      "cell_type": "code",
      "metadata": {
        "colab": {
          "base_uri": "https://localhost:8080/"
        },
        "id": "5eZkNzxii5e0",
        "outputId": "64e58983-d3d2-46a2-a995-212613a3e5e8"
      },
      "source": [
        "df.dtypes"
      ],
      "execution_count": null,
      "outputs": [
        {
          "output_type": "execute_result",
          "data": {
            "text/plain": [
              "school        object\n",
              "sex           object\n",
              "age            int64\n",
              "address       object\n",
              "famsize       object\n",
              "Pstatus       object\n",
              "Medu           int64\n",
              "Fedu           int64\n",
              "Mjob          object\n",
              "Fjob          object\n",
              "reason        object\n",
              "guardian      object\n",
              "traveltime     int64\n",
              "studytime      int64\n",
              "failures       int64\n",
              "schoolsup     object\n",
              "famsup        object\n",
              "paid          object\n",
              "activities    object\n",
              "nursery       object\n",
              "higher        object\n",
              "internet      object\n",
              "romantic      object\n",
              "famrel         int64\n",
              "freetime       int64\n",
              "goout          int64\n",
              "Dalc           int64\n",
              "Walc           int64\n",
              "health         int64\n",
              "absences       int64\n",
              "G1             int64\n",
              "G2             int64\n",
              "G3             int64\n",
              "dtype: object"
            ]
          },
          "metadata": {
            "tags": []
          },
          "execution_count": 3
        }
      ]
    },
    {
      "cell_type": "code",
      "metadata": {
        "colab": {
          "base_uri": "https://localhost:8080/",
          "height": 310
        },
        "id": "ZX-TsmiZyzoP",
        "outputId": "e50c4d1e-21db-437e-db47-a2f823a3e584"
      },
      "source": [
        "df.describe()"
      ],
      "execution_count": null,
      "outputs": [
        {
          "output_type": "execute_result",
          "data": {
            "text/html": [
              "<div>\n",
              "<style scoped>\n",
              "    .dataframe tbody tr th:only-of-type {\n",
              "        vertical-align: middle;\n",
              "    }\n",
              "\n",
              "    .dataframe tbody tr th {\n",
              "        vertical-align: top;\n",
              "    }\n",
              "\n",
              "    .dataframe thead th {\n",
              "        text-align: right;\n",
              "    }\n",
              "</style>\n",
              "<table border=\"1\" class=\"dataframe\">\n",
              "  <thead>\n",
              "    <tr style=\"text-align: right;\">\n",
              "      <th></th>\n",
              "      <th>age</th>\n",
              "      <th>Medu</th>\n",
              "      <th>Fedu</th>\n",
              "      <th>traveltime</th>\n",
              "      <th>studytime</th>\n",
              "      <th>failures</th>\n",
              "      <th>famrel</th>\n",
              "      <th>freetime</th>\n",
              "      <th>goout</th>\n",
              "      <th>Dalc</th>\n",
              "      <th>Walc</th>\n",
              "      <th>health</th>\n",
              "      <th>absences</th>\n",
              "      <th>G1</th>\n",
              "      <th>G2</th>\n",
              "      <th>G3</th>\n",
              "    </tr>\n",
              "  </thead>\n",
              "  <tbody>\n",
              "    <tr>\n",
              "      <th>count</th>\n",
              "      <td>395.000000</td>\n",
              "      <td>395.000000</td>\n",
              "      <td>395.000000</td>\n",
              "      <td>395.000000</td>\n",
              "      <td>395.000000</td>\n",
              "      <td>395.000000</td>\n",
              "      <td>395.000000</td>\n",
              "      <td>395.000000</td>\n",
              "      <td>395.000000</td>\n",
              "      <td>395.000000</td>\n",
              "      <td>395.000000</td>\n",
              "      <td>395.000000</td>\n",
              "      <td>395.000000</td>\n",
              "      <td>395.000000</td>\n",
              "      <td>395.000000</td>\n",
              "      <td>395.000000</td>\n",
              "    </tr>\n",
              "    <tr>\n",
              "      <th>mean</th>\n",
              "      <td>16.696203</td>\n",
              "      <td>2.749367</td>\n",
              "      <td>2.521519</td>\n",
              "      <td>1.448101</td>\n",
              "      <td>2.035443</td>\n",
              "      <td>0.334177</td>\n",
              "      <td>3.944304</td>\n",
              "      <td>3.235443</td>\n",
              "      <td>3.108861</td>\n",
              "      <td>1.481013</td>\n",
              "      <td>2.291139</td>\n",
              "      <td>3.554430</td>\n",
              "      <td>5.708861</td>\n",
              "      <td>10.908861</td>\n",
              "      <td>10.713924</td>\n",
              "      <td>10.415190</td>\n",
              "    </tr>\n",
              "    <tr>\n",
              "      <th>std</th>\n",
              "      <td>1.276043</td>\n",
              "      <td>1.094735</td>\n",
              "      <td>1.088201</td>\n",
              "      <td>0.697505</td>\n",
              "      <td>0.839240</td>\n",
              "      <td>0.743651</td>\n",
              "      <td>0.896659</td>\n",
              "      <td>0.998862</td>\n",
              "      <td>1.113278</td>\n",
              "      <td>0.890741</td>\n",
              "      <td>1.287897</td>\n",
              "      <td>1.390303</td>\n",
              "      <td>8.003096</td>\n",
              "      <td>3.319195</td>\n",
              "      <td>3.761505</td>\n",
              "      <td>4.581443</td>\n",
              "    </tr>\n",
              "    <tr>\n",
              "      <th>min</th>\n",
              "      <td>15.000000</td>\n",
              "      <td>0.000000</td>\n",
              "      <td>0.000000</td>\n",
              "      <td>1.000000</td>\n",
              "      <td>1.000000</td>\n",
              "      <td>0.000000</td>\n",
              "      <td>1.000000</td>\n",
              "      <td>1.000000</td>\n",
              "      <td>1.000000</td>\n",
              "      <td>1.000000</td>\n",
              "      <td>1.000000</td>\n",
              "      <td>1.000000</td>\n",
              "      <td>0.000000</td>\n",
              "      <td>3.000000</td>\n",
              "      <td>0.000000</td>\n",
              "      <td>0.000000</td>\n",
              "    </tr>\n",
              "    <tr>\n",
              "      <th>25%</th>\n",
              "      <td>16.000000</td>\n",
              "      <td>2.000000</td>\n",
              "      <td>2.000000</td>\n",
              "      <td>1.000000</td>\n",
              "      <td>1.000000</td>\n",
              "      <td>0.000000</td>\n",
              "      <td>4.000000</td>\n",
              "      <td>3.000000</td>\n",
              "      <td>2.000000</td>\n",
              "      <td>1.000000</td>\n",
              "      <td>1.000000</td>\n",
              "      <td>3.000000</td>\n",
              "      <td>0.000000</td>\n",
              "      <td>8.000000</td>\n",
              "      <td>9.000000</td>\n",
              "      <td>8.000000</td>\n",
              "    </tr>\n",
              "    <tr>\n",
              "      <th>50%</th>\n",
              "      <td>17.000000</td>\n",
              "      <td>3.000000</td>\n",
              "      <td>2.000000</td>\n",
              "      <td>1.000000</td>\n",
              "      <td>2.000000</td>\n",
              "      <td>0.000000</td>\n",
              "      <td>4.000000</td>\n",
              "      <td>3.000000</td>\n",
              "      <td>3.000000</td>\n",
              "      <td>1.000000</td>\n",
              "      <td>2.000000</td>\n",
              "      <td>4.000000</td>\n",
              "      <td>4.000000</td>\n",
              "      <td>11.000000</td>\n",
              "      <td>11.000000</td>\n",
              "      <td>11.000000</td>\n",
              "    </tr>\n",
              "    <tr>\n",
              "      <th>75%</th>\n",
              "      <td>18.000000</td>\n",
              "      <td>4.000000</td>\n",
              "      <td>3.000000</td>\n",
              "      <td>2.000000</td>\n",
              "      <td>2.000000</td>\n",
              "      <td>0.000000</td>\n",
              "      <td>5.000000</td>\n",
              "      <td>4.000000</td>\n",
              "      <td>4.000000</td>\n",
              "      <td>2.000000</td>\n",
              "      <td>3.000000</td>\n",
              "      <td>5.000000</td>\n",
              "      <td>8.000000</td>\n",
              "      <td>13.000000</td>\n",
              "      <td>13.000000</td>\n",
              "      <td>14.000000</td>\n",
              "    </tr>\n",
              "    <tr>\n",
              "      <th>max</th>\n",
              "      <td>22.000000</td>\n",
              "      <td>4.000000</td>\n",
              "      <td>4.000000</td>\n",
              "      <td>4.000000</td>\n",
              "      <td>4.000000</td>\n",
              "      <td>3.000000</td>\n",
              "      <td>5.000000</td>\n",
              "      <td>5.000000</td>\n",
              "      <td>5.000000</td>\n",
              "      <td>5.000000</td>\n",
              "      <td>5.000000</td>\n",
              "      <td>5.000000</td>\n",
              "      <td>75.000000</td>\n",
              "      <td>19.000000</td>\n",
              "      <td>19.000000</td>\n",
              "      <td>20.000000</td>\n",
              "    </tr>\n",
              "  </tbody>\n",
              "</table>\n",
              "</div>"
            ],
            "text/plain": [
              "              age        Medu        Fedu  ...          G1          G2          G3\n",
              "count  395.000000  395.000000  395.000000  ...  395.000000  395.000000  395.000000\n",
              "mean    16.696203    2.749367    2.521519  ...   10.908861   10.713924   10.415190\n",
              "std      1.276043    1.094735    1.088201  ...    3.319195    3.761505    4.581443\n",
              "min     15.000000    0.000000    0.000000  ...    3.000000    0.000000    0.000000\n",
              "25%     16.000000    2.000000    2.000000  ...    8.000000    9.000000    8.000000\n",
              "50%     17.000000    3.000000    2.000000  ...   11.000000   11.000000   11.000000\n",
              "75%     18.000000    4.000000    3.000000  ...   13.000000   13.000000   14.000000\n",
              "max     22.000000    4.000000    4.000000  ...   19.000000   19.000000   20.000000\n",
              "\n",
              "[8 rows x 16 columns]"
            ]
          },
          "metadata": {
            "tags": []
          },
          "execution_count": 4
        }
      ]
    },
    {
      "cell_type": "code",
      "metadata": {
        "colab": {
          "base_uri": "https://localhost:8080/",
          "height": 219
        },
        "id": "FmipTIQ6kFFZ",
        "outputId": "2f9a484f-5367-4a34-e27f-3f5a27f12c90"
      },
      "source": [
        "# Identify all categorical columns\n",
        "obj_df = df.select_dtypes(include=['object']).copy()\n",
        "obj_df.head()"
      ],
      "execution_count": null,
      "outputs": [
        {
          "output_type": "execute_result",
          "data": {
            "text/html": [
              "<div>\n",
              "<style scoped>\n",
              "    .dataframe tbody tr th:only-of-type {\n",
              "        vertical-align: middle;\n",
              "    }\n",
              "\n",
              "    .dataframe tbody tr th {\n",
              "        vertical-align: top;\n",
              "    }\n",
              "\n",
              "    .dataframe thead th {\n",
              "        text-align: right;\n",
              "    }\n",
              "</style>\n",
              "<table border=\"1\" class=\"dataframe\">\n",
              "  <thead>\n",
              "    <tr style=\"text-align: right;\">\n",
              "      <th></th>\n",
              "      <th>school</th>\n",
              "      <th>sex</th>\n",
              "      <th>address</th>\n",
              "      <th>famsize</th>\n",
              "      <th>Pstatus</th>\n",
              "      <th>Mjob</th>\n",
              "      <th>Fjob</th>\n",
              "      <th>reason</th>\n",
              "      <th>guardian</th>\n",
              "      <th>schoolsup</th>\n",
              "      <th>famsup</th>\n",
              "      <th>paid</th>\n",
              "      <th>activities</th>\n",
              "      <th>nursery</th>\n",
              "      <th>higher</th>\n",
              "      <th>internet</th>\n",
              "      <th>romantic</th>\n",
              "    </tr>\n",
              "  </thead>\n",
              "  <tbody>\n",
              "    <tr>\n",
              "      <th>0</th>\n",
              "      <td>GP</td>\n",
              "      <td>F</td>\n",
              "      <td>U</td>\n",
              "      <td>GT3</td>\n",
              "      <td>A</td>\n",
              "      <td>at_home</td>\n",
              "      <td>teacher</td>\n",
              "      <td>course</td>\n",
              "      <td>mother</td>\n",
              "      <td>yes</td>\n",
              "      <td>no</td>\n",
              "      <td>no</td>\n",
              "      <td>no</td>\n",
              "      <td>yes</td>\n",
              "      <td>yes</td>\n",
              "      <td>no</td>\n",
              "      <td>no</td>\n",
              "    </tr>\n",
              "    <tr>\n",
              "      <th>1</th>\n",
              "      <td>GP</td>\n",
              "      <td>F</td>\n",
              "      <td>U</td>\n",
              "      <td>GT3</td>\n",
              "      <td>T</td>\n",
              "      <td>at_home</td>\n",
              "      <td>other</td>\n",
              "      <td>course</td>\n",
              "      <td>father</td>\n",
              "      <td>no</td>\n",
              "      <td>yes</td>\n",
              "      <td>no</td>\n",
              "      <td>no</td>\n",
              "      <td>no</td>\n",
              "      <td>yes</td>\n",
              "      <td>yes</td>\n",
              "      <td>no</td>\n",
              "    </tr>\n",
              "    <tr>\n",
              "      <th>2</th>\n",
              "      <td>GP</td>\n",
              "      <td>F</td>\n",
              "      <td>U</td>\n",
              "      <td>LE3</td>\n",
              "      <td>T</td>\n",
              "      <td>at_home</td>\n",
              "      <td>other</td>\n",
              "      <td>other</td>\n",
              "      <td>mother</td>\n",
              "      <td>yes</td>\n",
              "      <td>no</td>\n",
              "      <td>yes</td>\n",
              "      <td>no</td>\n",
              "      <td>yes</td>\n",
              "      <td>yes</td>\n",
              "      <td>yes</td>\n",
              "      <td>no</td>\n",
              "    </tr>\n",
              "    <tr>\n",
              "      <th>3</th>\n",
              "      <td>GP</td>\n",
              "      <td>F</td>\n",
              "      <td>U</td>\n",
              "      <td>GT3</td>\n",
              "      <td>T</td>\n",
              "      <td>health</td>\n",
              "      <td>services</td>\n",
              "      <td>home</td>\n",
              "      <td>mother</td>\n",
              "      <td>no</td>\n",
              "      <td>yes</td>\n",
              "      <td>yes</td>\n",
              "      <td>yes</td>\n",
              "      <td>yes</td>\n",
              "      <td>yes</td>\n",
              "      <td>yes</td>\n",
              "      <td>yes</td>\n",
              "    </tr>\n",
              "    <tr>\n",
              "      <th>4</th>\n",
              "      <td>GP</td>\n",
              "      <td>F</td>\n",
              "      <td>U</td>\n",
              "      <td>GT3</td>\n",
              "      <td>T</td>\n",
              "      <td>other</td>\n",
              "      <td>other</td>\n",
              "      <td>home</td>\n",
              "      <td>father</td>\n",
              "      <td>no</td>\n",
              "      <td>yes</td>\n",
              "      <td>yes</td>\n",
              "      <td>no</td>\n",
              "      <td>yes</td>\n",
              "      <td>yes</td>\n",
              "      <td>no</td>\n",
              "      <td>no</td>\n",
              "    </tr>\n",
              "  </tbody>\n",
              "</table>\n",
              "</div>"
            ],
            "text/plain": [
              "  school sex address famsize  ... nursery higher internet romantic\n",
              "0     GP   F       U     GT3  ...     yes    yes       no       no\n",
              "1     GP   F       U     GT3  ...      no    yes      yes       no\n",
              "2     GP   F       U     LE3  ...     yes    yes      yes       no\n",
              "3     GP   F       U     GT3  ...     yes    yes      yes      yes\n",
              "4     GP   F       U     GT3  ...     yes    yes       no       no\n",
              "\n",
              "[5 rows x 17 columns]"
            ]
          },
          "metadata": {
            "tags": []
          },
          "execution_count": 5
        }
      ]
    },
    {
      "cell_type": "code",
      "metadata": {
        "colab": {
          "base_uri": "https://localhost:8080/",
          "height": 219
        },
        "id": "SKypUeQCyRv9",
        "outputId": "696253d7-dcf0-4466-c65f-96bc2b1ebf93"
      },
      "source": [
        "# Identify all numerical columns\n",
        "obj_df = df.select_dtypes(include=['int64']).copy()\n",
        "obj_df.head()"
      ],
      "execution_count": null,
      "outputs": [
        {
          "output_type": "execute_result",
          "data": {
            "text/html": [
              "<div>\n",
              "<style scoped>\n",
              "    .dataframe tbody tr th:only-of-type {\n",
              "        vertical-align: middle;\n",
              "    }\n",
              "\n",
              "    .dataframe tbody tr th {\n",
              "        vertical-align: top;\n",
              "    }\n",
              "\n",
              "    .dataframe thead th {\n",
              "        text-align: right;\n",
              "    }\n",
              "</style>\n",
              "<table border=\"1\" class=\"dataframe\">\n",
              "  <thead>\n",
              "    <tr style=\"text-align: right;\">\n",
              "      <th></th>\n",
              "      <th>age</th>\n",
              "      <th>Medu</th>\n",
              "      <th>Fedu</th>\n",
              "      <th>traveltime</th>\n",
              "      <th>studytime</th>\n",
              "      <th>failures</th>\n",
              "      <th>famrel</th>\n",
              "      <th>freetime</th>\n",
              "      <th>goout</th>\n",
              "      <th>Dalc</th>\n",
              "      <th>Walc</th>\n",
              "      <th>health</th>\n",
              "      <th>absences</th>\n",
              "      <th>G1</th>\n",
              "      <th>G2</th>\n",
              "      <th>G3</th>\n",
              "    </tr>\n",
              "  </thead>\n",
              "  <tbody>\n",
              "    <tr>\n",
              "      <th>0</th>\n",
              "      <td>18</td>\n",
              "      <td>4</td>\n",
              "      <td>4</td>\n",
              "      <td>2</td>\n",
              "      <td>2</td>\n",
              "      <td>0</td>\n",
              "      <td>4</td>\n",
              "      <td>3</td>\n",
              "      <td>4</td>\n",
              "      <td>1</td>\n",
              "      <td>1</td>\n",
              "      <td>3</td>\n",
              "      <td>6</td>\n",
              "      <td>5</td>\n",
              "      <td>6</td>\n",
              "      <td>6</td>\n",
              "    </tr>\n",
              "    <tr>\n",
              "      <th>1</th>\n",
              "      <td>17</td>\n",
              "      <td>1</td>\n",
              "      <td>1</td>\n",
              "      <td>1</td>\n",
              "      <td>2</td>\n",
              "      <td>0</td>\n",
              "      <td>5</td>\n",
              "      <td>3</td>\n",
              "      <td>3</td>\n",
              "      <td>1</td>\n",
              "      <td>1</td>\n",
              "      <td>3</td>\n",
              "      <td>4</td>\n",
              "      <td>5</td>\n",
              "      <td>5</td>\n",
              "      <td>6</td>\n",
              "    </tr>\n",
              "    <tr>\n",
              "      <th>2</th>\n",
              "      <td>15</td>\n",
              "      <td>1</td>\n",
              "      <td>1</td>\n",
              "      <td>1</td>\n",
              "      <td>2</td>\n",
              "      <td>3</td>\n",
              "      <td>4</td>\n",
              "      <td>3</td>\n",
              "      <td>2</td>\n",
              "      <td>2</td>\n",
              "      <td>3</td>\n",
              "      <td>3</td>\n",
              "      <td>10</td>\n",
              "      <td>7</td>\n",
              "      <td>8</td>\n",
              "      <td>10</td>\n",
              "    </tr>\n",
              "    <tr>\n",
              "      <th>3</th>\n",
              "      <td>15</td>\n",
              "      <td>4</td>\n",
              "      <td>2</td>\n",
              "      <td>1</td>\n",
              "      <td>3</td>\n",
              "      <td>0</td>\n",
              "      <td>3</td>\n",
              "      <td>2</td>\n",
              "      <td>2</td>\n",
              "      <td>1</td>\n",
              "      <td>1</td>\n",
              "      <td>5</td>\n",
              "      <td>2</td>\n",
              "      <td>15</td>\n",
              "      <td>14</td>\n",
              "      <td>15</td>\n",
              "    </tr>\n",
              "    <tr>\n",
              "      <th>4</th>\n",
              "      <td>16</td>\n",
              "      <td>3</td>\n",
              "      <td>3</td>\n",
              "      <td>1</td>\n",
              "      <td>2</td>\n",
              "      <td>0</td>\n",
              "      <td>4</td>\n",
              "      <td>3</td>\n",
              "      <td>2</td>\n",
              "      <td>1</td>\n",
              "      <td>2</td>\n",
              "      <td>5</td>\n",
              "      <td>4</td>\n",
              "      <td>6</td>\n",
              "      <td>10</td>\n",
              "      <td>10</td>\n",
              "    </tr>\n",
              "  </tbody>\n",
              "</table>\n",
              "</div>"
            ],
            "text/plain": [
              "   age  Medu  Fedu  traveltime  studytime  ...  health  absences  G1  G2  G3\n",
              "0   18     4     4           2          2  ...       3         6   5   6   6\n",
              "1   17     1     1           1          2  ...       3         4   5   5   6\n",
              "2   15     1     1           1          2  ...       3        10   7   8  10\n",
              "3   15     4     2           1          3  ...       5         2  15  14  15\n",
              "4   16     3     3           1          2  ...       5         4   6  10  10\n",
              "\n",
              "[5 rows x 16 columns]"
            ]
          },
          "metadata": {
            "tags": []
          },
          "execution_count": 6
        }
      ]
    },
    {
      "cell_type": "code",
      "metadata": {
        "colab": {
          "base_uri": "https://localhost:8080/"
        },
        "id": "ZRlD-CxiyuYC",
        "outputId": "55703c97-09f0-4cca-dec5-15ec255e6b63"
      },
      "source": [
        "# Check for missing values\n",
        "df.isnull().sum()"
      ],
      "execution_count": null,
      "outputs": [
        {
          "output_type": "execute_result",
          "data": {
            "text/plain": [
              "school        0\n",
              "sex           0\n",
              "age           0\n",
              "address       0\n",
              "famsize       0\n",
              "Pstatus       0\n",
              "Medu          0\n",
              "Fedu          0\n",
              "Mjob          0\n",
              "Fjob          0\n",
              "reason        0\n",
              "guardian      0\n",
              "traveltime    0\n",
              "studytime     0\n",
              "failures      0\n",
              "schoolsup     0\n",
              "famsup        0\n",
              "paid          0\n",
              "activities    0\n",
              "nursery       0\n",
              "higher        0\n",
              "internet      0\n",
              "romantic      0\n",
              "famrel        0\n",
              "freetime      0\n",
              "goout         0\n",
              "Dalc          0\n",
              "Walc          0\n",
              "health        0\n",
              "absences      0\n",
              "G1            0\n",
              "G2            0\n",
              "G3            0\n",
              "dtype: int64"
            ]
          },
          "metadata": {
            "tags": []
          },
          "execution_count": 7
        }
      ]
    },
    {
      "cell_type": "code",
      "metadata": {
        "colab": {
          "base_uri": "https://localhost:8080/"
        },
        "id": "gNqSwRCOa6pv",
        "outputId": "d50ccfff-0dd1-4140-cf14-8e398af86ab4"
      },
      "source": [
        "# Categorical Columns (indices) - 0:1, 3:5, 8:11, 15:22\n",
        "from sklearn.preprocessing import LabelEncoder\n",
        "\n",
        "# Label Encode - 0:1, 3:5, 15:22\n",
        "le = LabelEncoder()\n",
        "# le_columns = X[:, [0, 1, 3, 4, 5, 15, 16, 17, 18, 19, 20, 21, 22]]\n",
        "\n",
        "# for i in X[:]:\n",
        "#   if i in le_columns:\n",
        "#     X[:, i] = le.fit_transform(X[:, i])\n",
        "\n",
        "# Encode nominal attributes\n",
        "X[:, 0] = le.fit_transform(X[:, 0])\n",
        "X[:, 1] = le.fit_transform(X[:, 1])\n",
        "X[:, 3] = le.fit_transform(X[:, 3])\n",
        "X[:, 4] = le.fit_transform(X[:, 4])\n",
        "X[:, 5] = le.fit_transform(X[:, 5])\n",
        "X[:, 8] = le.fit_transform(X[:, 8])\n",
        "X[:, 9] = le.fit_transform(X[:, 9])\n",
        "X[:, 10] = le.fit_transform(X[:, 10])\n",
        "X[:, 11] = le.fit_transform(X[:, 11])\n",
        "\n",
        "# Encode binary attributes\n",
        "X[:, 15] = le.fit_transform(X[:, 15])\n",
        "X[:, 16] = le.fit_transform(X[:, 16])\n",
        "X[:, 17] = le.fit_transform(X[:, 17])\n",
        "X[:, 18] = le.fit_transform(X[:, 18])\n",
        "X[:, 19] = le.fit_transform(X[:, 19])\n",
        "X[:, 20] = le.fit_transform(X[:, 20])\n",
        "X[:, 21] = le.fit_transform(X[:, 21])\n",
        "X[:, 22] = le.fit_transform(X[:, 22])\n",
        "\n",
        "print(X)"
      ],
      "execution_count": null,
      "outputs": [
        {
          "output_type": "stream",
          "text": [
            "[[0 0 18 ... 6 5 6]\n",
            " [0 0 17 ... 4 5 5]\n",
            " [0 0 15 ... 10 7 8]\n",
            " ...\n",
            " [1 1 21 ... 3 10 8]\n",
            " [1 1 18 ... 0 11 12]\n",
            " [1 1 19 ... 5 8 9]]\n"
          ],
          "name": "stdout"
        }
      ]
    },
    {
      "cell_type": "code",
      "metadata": {
        "id": "gFUBpVfq4nZE"
      },
      "source": [
        "# Split dataframe (df) into training and test sets\n",
        "from sklearn.model_selection import train_test_split\n",
        "\n",
        "X_train, X_test, y_train, y_test = train_test_split(X, y, test_size=0.2, \n",
        "                                                    random_state=0)"
      ],
      "execution_count": null,
      "outputs": []
    },
    {
      "cell_type": "code",
      "metadata": {
        "id": "ElvDrV3sUqUn"
      },
      "source": [
        "# Feature scaling\n",
        "from sklearn.preprocessing import StandardScaler\n",
        "\n",
        "sc = StandardScaler()\n",
        "X_train = sc.fit_transform(X_train)\n",
        "X_test = sc.fit_transform(X_test)"
      ],
      "execution_count": null,
      "outputs": []
    },
    {
      "cell_type": "code",
      "metadata": {
        "id": "GF4LhSGQNxI7"
      },
      "source": [
        "# Apply PCA (dimensionality reduction)\n",
        "# from sklearn.decomposition import PCA\n",
        "\n",
        "# pca = PCA(n_components=10)\n",
        "# X_train = pca.fit_transform(X_train)\n",
        "# X_test = pca.transform(X_test)"
      ],
      "execution_count": null,
      "outputs": []
    },
    {
      "cell_type": "markdown",
      "metadata": {
        "id": "sDrH6M7K4gq3"
      },
      "source": [
        "## Define XGBoost model"
      ]
    },
    {
      "cell_type": "code",
      "metadata": {
        "colab": {
          "base_uri": "https://localhost:8080/"
        },
        "id": "SayW9c-e4FkJ",
        "outputId": "717c4e7e-3779-4861-bd76-1d6abe10569c"
      },
      "source": [
        "import xgboost as xgb\n",
        "from xgboost import XGBRegressor\n",
        "\n",
        "reg = XGBRegressor(max_depth=14, min_child_weight=4, gamma=0.01, \n",
        "                   colsample_bytree=0.88, subsample=1, reg_alpha=0.9,\n",
        "                   learning_rate=0.1, n_estimators=111, random_state=0)\n",
        "reg.fit(X_train, y_train)"
      ],
      "execution_count": null,
      "outputs": [
        {
          "output_type": "stream",
          "text": [
            "[14:32:38] WARNING: /workspace/src/objective/regression_obj.cu:152: reg:linear is now deprecated in favor of reg:squarederror.\n"
          ],
          "name": "stdout"
        },
        {
          "output_type": "execute_result",
          "data": {
            "text/plain": [
              "XGBRegressor(base_score=0.5, booster='gbtree', colsample_bylevel=1,\n",
              "             colsample_bynode=1, colsample_bytree=0.88, gamma=0.01,\n",
              "             importance_type='gain', learning_rate=0.1, max_delta_step=0,\n",
              "             max_depth=14, min_child_weight=4, missing=None, n_estimators=111,\n",
              "             n_jobs=1, nthread=None, objective='reg:linear', random_state=0,\n",
              "             reg_alpha=0.9, reg_lambda=1, scale_pos_weight=1, seed=None,\n",
              "             silent=None, subsample=1, verbosity=1)"
            ]
          },
          "metadata": {
            "tags": []
          },
          "execution_count": 13
        }
      ]
    },
    {
      "cell_type": "markdown",
      "metadata": {
        "id": "mwaBieZF5wBw"
      },
      "source": [
        "## Evaluate model"
      ]
    },
    {
      "cell_type": "code",
      "metadata": {
        "colab": {
          "base_uri": "https://localhost:8080/"
        },
        "id": "RvTtmY7T5xwO",
        "outputId": "d7aa8162-a8ca-4af5-f2b4-6cdce5bb4438"
      },
      "source": [
        "from sklearn.metrics import mean_absolute_error, mean_squared_error, r2_score\n",
        "\n",
        "# Predict test set results\n",
        "y_pred = reg.predict(X_test)\n",
        "np.set_printoptions(precision = 2)\n",
        "print(np.concatenate((y_pred.reshape(len(y_pred), 1), y_test.reshape(len(y_test), 1)), 1 ))\n",
        "print('')\n",
        "\n",
        "# Summarize results\n",
        "print('MAE: %.3f' % (mean_absolute_error(y_test, y_pred)))\n",
        "print('MSE: %.3f' % (mean_squared_error(y_test, y_pred)))\n",
        "print('RMSE: %.3f' % (mean_squared_error(y_test, y_pred, squared=False)))\n",
        "print('R^2 Score: %.3f' % (r2_score(y_test, y_pred)))\n"
      ],
      "execution_count": null,
      "outputs": [
        {
          "output_type": "stream",
          "text": [
            "[[13.44 14.  ]\n",
            " [10.93 10.  ]\n",
            " [10.06  9.  ]\n",
            " [15.16 15.  ]\n",
            " [15.35 16.  ]\n",
            " [12.16 12.  ]\n",
            " [12.67 14.  ]\n",
            " [10.97 11.  ]\n",
            " [ 9.27  9.  ]\n",
            " [14.13 15.  ]\n",
            " [ 8.15 10.  ]\n",
            " [10.69 11.  ]\n",
            " [11.26 10.  ]\n",
            " [ 8.93  8.  ]\n",
            " [13.55 15.  ]\n",
            " [13.32 14.  ]\n",
            " [12.92 12.  ]\n",
            " [ 9.46  0.  ]\n",
            " [ 9.6  10.  ]\n",
            " [14.11 16.  ]\n",
            " [ 8.28  0.  ]\n",
            " [ 4.67  0.  ]\n",
            " [ 6.94  8.  ]\n",
            " [13.87 16.  ]\n",
            " [12.18 12.  ]\n",
            " [16.15 15.  ]\n",
            " [10.28 10.  ]\n",
            " [18.36 19.  ]\n",
            " [ 4.14  0.  ]\n",
            " [13.37 14.  ]\n",
            " [ 3.71  0.  ]\n",
            " [ 8.71 10.  ]\n",
            " [ 8.22  8.  ]\n",
            " [ 6.34  4.  ]\n",
            " [12.95 13.  ]\n",
            " [10.73 10.  ]\n",
            " [12.67 13.  ]\n",
            " [17.28 18.  ]\n",
            " [ 9.51  8.  ]\n",
            " [11.75 11.  ]\n",
            " [ 5.33  6.  ]\n",
            " [18.06 18.  ]\n",
            " [ 7.45  8.  ]\n",
            " [ 9.54  8.  ]\n",
            " [10.13 11.  ]\n",
            " [ 3.59  0.  ]\n",
            " [11.65 13.  ]\n",
            " [ 4.39  0.  ]\n",
            " [12.25 13.  ]\n",
            " [ 8.39  7.  ]\n",
            " [ 9.71 10.  ]\n",
            " [17.79 18.  ]\n",
            " [10.91 10.  ]\n",
            " [ 7.29  9.  ]\n",
            " [11.81 11.  ]\n",
            " [ 9.13  6.  ]\n",
            " [ 9.6   9.  ]\n",
            " [12.73 13.  ]\n",
            " [13.58 15.  ]\n",
            " [12.86 14.  ]\n",
            " [12.99 14.  ]\n",
            " [14.04 15.  ]\n",
            " [13.25 14.  ]\n",
            " [14.32 15.  ]\n",
            " [ 8.87  0.  ]\n",
            " [14.36 15.  ]\n",
            " [17.3  19.  ]\n",
            " [12.16 12.  ]\n",
            " [ 5.6   6.  ]\n",
            " [10.25  9.  ]\n",
            " [ 9.43  8.  ]\n",
            " [13.47 15.  ]\n",
            " [ 7.49  5.  ]\n",
            " [ 4.39  0.  ]\n",
            " [ 8.43  9.  ]\n",
            " [ 9.18  0.  ]\n",
            " [10.85 11.  ]\n",
            " [17.27 18.  ]\n",
            " [ 7.65  0.  ]]\n",
            "\n",
            "MAE: 1.648\n",
            "MSE: 7.176\n",
            "RMSE: 2.679\n",
            "R^2 Score: 0.740\n"
          ],
          "name": "stdout"
        }
      ]
    },
    {
      "cell_type": "markdown",
      "metadata": {
        "id": "C_B8EAgwmgZU"
      },
      "source": [
        "<table border = \"1\">\n",
        "  <thead>\n",
        "    <th colspan = \"5\">Prediction Scores</th>\n",
        "  </thead>\n",
        "  <tbody>\n",
        "    <tr>\n",
        "      <td><b>MAE:<b></td>\n",
        "      <td>1.648</td>\n",
        "    </tr>\n",
        "    <tr>\n",
        "      <td><b>MSE:<b></td>\n",
        "      <td>7.176</td>\n",
        "    </tr>\n",
        "    <tr>\n",
        "      <td><b>RMSE:<b></td>\n",
        "      <td>2.679</td>\n",
        "    </tr>\n",
        "    <tr>\n",
        "      <td><b>R^2:<b></td>\n",
        "      <td>0.740</td>\n",
        "    </tr>\n",
        "  </tbody>\n",
        "</table>"
      ]
    },
    {
      "cell_type": "code",
      "metadata": {
        "colab": {
          "base_uri": "https://localhost:8080/",
          "height": 408
        },
        "id": "1Emo3CzHuPKE",
        "outputId": "6406e40b-2ff2-480f-fb40-05dc482c9d13"
      },
      "source": [
        "# Plot histogram for y_pred\n",
        "fig1 = plt.figure(figsize=(15, 6))\n",
        "ax1 = fig1.add_subplot(1, 2, 1)\n",
        "plt.xticks(np.arange(0, 20, 2))\n",
        "plt.yticks(np.arange(0, 16, 2))\n",
        "plt.hist(x=y_pred, facecolor='forestgreen', alpha=0.6, edgecolor='black')\n",
        "plt.xlabel('Grade', fontsize=12)\n",
        "plt.ylabel('Number of students', fontsize=12)\n",
        "plt.title('Predicted Grade Distribution', fontsize=14)\n",
        "\n",
        "# Plot histogram for y_test\n",
        "ax1 = fig1.add_subplot(1, 2, 2)\n",
        "plt.xticks(np.arange(0, 20, 2))\n",
        "plt.yticks(np.arange(0, 16, 2))\n",
        "plt.hist(x=y_test, facecolor='orange', alpha=0.6, edgecolor='black')\n",
        "plt.xlabel('Grade', fontsize=12)\n",
        "plt.ylabel('Number of students', fontsize=12)\n",
        "plt.title('Validation Grade Distribution', fontsize=14)\n",
        "\n",
        "# Show subplot\n",
        "plt.show()"
      ],
      "execution_count": null,
      "outputs": [
        {
          "output_type": "display_data",
          "data": {
            "image/png": "[encoded data removed]",
            "text/plain": [
              "<Figure size 1080x432 with 2 Axes>"
            ]
          },
          "metadata": {
            "tags": [],
            "needs_background": "light"
          }
        }
      ]
    },
    {
      "cell_type": "code",
      "metadata": {
        "colab": {
          "base_uri": "https://localhost:8080/",
          "height": 1000
        },
        "id": "KY44a5zVEEkT",
        "outputId": "f355fc23-015f-4b29-f210-6a0ddbdf5088"
      },
      "source": [
        "# Apply k-Fold Cross Validation on the training set\n",
        "from sklearn.model_selection import cross_val_score, RepeatedStratifiedKFold\n",
        "from sklearn.metrics import mean_absolute_error, mean_squared_error, r2_score\n",
        "\n",
        "# Lists of values\n",
        "r2_means, r2_stds, r2_mins, r2_maxs = [], [], [], []  # R^2 Scoring\n",
        "rmse_means, rmse_stds, rmse_mins, rmse_maxs = [], [], [], []  # RMSE Scoring\n",
        "# Cross validate for 10 k-folds, each with 3 repeats\n",
        "for k in range(2, 12):\n",
        "  cv = RepeatedStratifiedKFold(n_splits = k, n_repeats = 3, random_state = 0)\n",
        "  r2_scores = cross_val_score(reg, X_train, y_train, scoring='r2', cv=cv, n_jobs=-1)\n",
        "  # scores = cross_val_score(reg, X_train, y_train, scoring='neg_mean_absolute_error', cv=cv, n_jobs=-1)\n",
        "  # scores = cross_val_score(reg, X_train, y_train, scoring='neg_mean_squared_error', cv=cv, n_jobs=-1)\n",
        "  rmse_scores = cross_val_score(reg, X_train, y_train, scoring='neg_root_mean_squared_error', cv=cv, n_jobs=-1)\n",
        "  \n",
        "  # Force scores to be positive\n",
        "  r2_scores = abs(r2_scores)\n",
        "  rmse_scores = abs(rmse_scores)\n",
        "\n",
        "  # Print values\n",
        "  print('')\n",
        "  print('-- Fold: %d --' % (k-1))\n",
        "  print('')\n",
        "  print('R^2 Scoring:')\n",
        "  print(\"Mean: %f\" % (np.mean(r2_scores)))\n",
        "  print(\"Std: +/- %f\" % (np.std(r2_scores)))\n",
        "  print(\"Min: %f\" % (np.min(r2_scores)))\n",
        "  print(\"Max: %f\" % (np.max(r2_scores)))\n",
        "  \n",
        "  print('')\n",
        "  print('RMSE Scoring:')\n",
        "  print(\"Mean: %f\" % (np.mean(rmse_scores)))\n",
        "  print(\"Std: +/- %f\" % (np.std(rmse_scores)))\n",
        "  print(\"Min: %f\" % (np.min(rmse_scores)))\n",
        "  print(\"Max: %f\" % (np.max(rmse_scores)))\n",
        "  print('')\n",
        "  \n",
        "  # Append R^2 scores\n",
        "  r2_means.append(np.mean(r2_scores))\n",
        "  r2_stds.append(np.std(r2_scores))\n",
        "  r2_mins.append(np.min(r2_scores))\n",
        "  r2_maxs.append(np.max(r2_scores))\n",
        "  \n",
        "  # Append RMSE scores\n",
        "  rmse_means.append(np.mean(rmse_scores))\n",
        "  rmse_stds.append(np.std(rmse_scores))\n",
        "  rmse_mins.append(np.min(rmse_scores))\n",
        "  rmse_maxs.append(np.max(rmse_scores))\n",
        "\n",
        "# Plot R^2 scores per k-fold:\n",
        "fig2 = plt.figure(figsize=(15, 10))\n",
        "ax1 = fig2.add_subplot(2, 2, 1)\n",
        "ax1.plot(np.arange(1,11), r2_means, color='red', label='Mean')\n",
        "ax1.plot(np.arange(1,11), r2_mins, color='green', label='Min')\n",
        "ax1.plot(np.arange(1,11), r2_maxs, color='blue', label='Max')\n",
        "ax1.set_xlabel('k-Fold', fontsize=12)\n",
        "ax1.set_ylabel('R^2 Score', fontsize=12)\n",
        "ax1.set_title('R^2 Score per k-Fold', fontsize=14)\n",
        "ax1.legend()\n",
        "ax1.grid(True)\n",
        "\n",
        "# Plot R^2 Standard Deviations per k-fold:\n",
        "ax2 = fig2.add_subplot(2, 2, 2)\n",
        "ax2.plot(np.arange(1,11), r2_stds, color='red')\n",
        "ax2.set_xlabel('k-Fold', fontsize=12)\n",
        "ax2.set_ylabel('Standard Deviation (+/-)', fontsize=12)\n",
        "ax2.set_title('R^2 Standard Deviation per k-fold', fontsize=14)\n",
        "ax2.grid(True)\n",
        "\n",
        "# Plot RMSE scores per k-fold:\n",
        "ax3 = fig2.add_subplot(2, 2, 3)\n",
        "ax3.plot(np.arange(1,11), rmse_means, color='orangered', label='Mean')\n",
        "ax3.plot(np.arange(1,11), rmse_mins, color='green', label='Min')\n",
        "ax3.plot(np.arange(1,11), rmse_maxs, color='blue', label='Max')\n",
        "ax3.set_xlabel('k-Fold', fontsize=12)\n",
        "ax3.set_ylabel('RMSE Score', fontsize=12)\n",
        "ax3.set_title('RMSE Score per k-Fold', fontsize=14)\n",
        "ax3.legend()\n",
        "ax3.grid(True)\n",
        "\n",
        "# Plot RMSE Standard Deviations per k-fold:\n",
        "ax4 = fig2.add_subplot(2, 2, 4)\n",
        "ax4.plot(np.arange(1,11), rmse_stds, color='orangered')\n",
        "ax4.set_xlabel('k-Fold', fontsize=12)\n",
        "ax4.set_ylabel('Standard Deviation (+/-)', fontsize=12)\n",
        "ax4.set_title('RMSE Standard Deviation per k-fold', fontsize=14)\n",
        "ax4.grid(True)\n",
        "\n",
        "# Show subplot\n",
        "plt.show()\n"
      ],
      "execution_count": null,
      "outputs": [
        {
          "output_type": "stream",
          "text": [
            "/usr/local/lib/python3.7/dist-packages/sklearn/model_selection/_split.py:667: UserWarning: The least populated class in y has only 1 members, which is less than n_splits=2.\n",
            "  % (min_groups, self.n_splits)), UserWarning)\n",
            "/usr/local/lib/python3.7/dist-packages/sklearn/model_selection/_split.py:667: UserWarning: The least populated class in y has only 1 members, which is less than n_splits=2.\n",
            "  % (min_groups, self.n_splits)), UserWarning)\n",
            "/usr/local/lib/python3.7/dist-packages/sklearn/model_selection/_split.py:667: UserWarning: The least populated class in y has only 1 members, which is less than n_splits=2.\n",
            "  % (min_groups, self.n_splits)), UserWarning)\n",
            "/usr/local/lib/python3.7/dist-packages/sklearn/model_selection/_split.py:667: UserWarning: The least populated class in y has only 1 members, which is less than n_splits=2.\n",
            "  % (min_groups, self.n_splits)), UserWarning)\n",
            "/usr/local/lib/python3.7/dist-packages/sklearn/model_selection/_split.py:667: UserWarning: The least populated class in y has only 1 members, which is less than n_splits=2.\n",
            "  % (min_groups, self.n_splits)), UserWarning)\n",
            "/usr/local/lib/python3.7/dist-packages/sklearn/model_selection/_split.py:667: UserWarning: The least populated class in y has only 1 members, which is less than n_splits=2.\n",
            "  % (min_groups, self.n_splits)), UserWarning)\n"
          ],
          "name": "stderr"
        },
        {
          "output_type": "stream",
          "text": [
            "\n",
            "-- Fold: 1 --\n",
            "\n",
            "R^2 Scoring:\n",
            "Mean: 0.864157\n",
            "Std: +/- 0.029866\n",
            "Min: 0.803269\n",
            "Max: 0.892337\n",
            "\n",
            "RMSE Scoring:\n",
            "Mean: 1.605443\n",
            "Std: +/- 0.143595\n",
            "Min: 1.468639\n",
            "Max: 1.906592\n",
            "\n"
          ],
          "name": "stdout"
        },
        {
          "output_type": "stream",
          "text": [
            "/usr/local/lib/python3.7/dist-packages/sklearn/model_selection/_split.py:667: UserWarning: The least populated class in y has only 1 members, which is less than n_splits=3.\n",
            "  % (min_groups, self.n_splits)), UserWarning)\n",
            "/usr/local/lib/python3.7/dist-packages/sklearn/model_selection/_split.py:667: UserWarning: The least populated class in y has only 1 members, which is less than n_splits=3.\n",
            "  % (min_groups, self.n_splits)), UserWarning)\n",
            "/usr/local/lib/python3.7/dist-packages/sklearn/model_selection/_split.py:667: UserWarning: The least populated class in y has only 1 members, which is less than n_splits=3.\n",
            "  % (min_groups, self.n_splits)), UserWarning)\n",
            "/usr/local/lib/python3.7/dist-packages/sklearn/model_selection/_split.py:667: UserWarning: The least populated class in y has only 1 members, which is less than n_splits=3.\n",
            "  % (min_groups, self.n_splits)), UserWarning)\n",
            "/usr/local/lib/python3.7/dist-packages/sklearn/model_selection/_split.py:667: UserWarning: The least populated class in y has only 1 members, which is less than n_splits=3.\n",
            "  % (min_groups, self.n_splits)), UserWarning)\n",
            "/usr/local/lib/python3.7/dist-packages/sklearn/model_selection/_split.py:667: UserWarning: The least populated class in y has only 1 members, which is less than n_splits=3.\n",
            "  % (min_groups, self.n_splits)), UserWarning)\n"
          ],
          "name": "stderr"
        },
        {
          "output_type": "stream",
          "text": [
            "\n",
            "-- Fold: 2 --\n",
            "\n",
            "R^2 Scoring:\n",
            "Mean: 0.884489\n",
            "Std: +/- 0.013334\n",
            "Min: 0.865986\n",
            "Max: 0.904269\n",
            "\n",
            "RMSE Scoring:\n",
            "Mean: 1.489030\n",
            "Std: +/- 0.089222\n",
            "Min: 1.355130\n",
            "Max: 1.614801\n",
            "\n"
          ],
          "name": "stdout"
        },
        {
          "output_type": "stream",
          "text": [
            "/usr/local/lib/python3.7/dist-packages/sklearn/model_selection/_split.py:667: UserWarning: The least populated class in y has only 1 members, which is less than n_splits=4.\n",
            "  % (min_groups, self.n_splits)), UserWarning)\n",
            "/usr/local/lib/python3.7/dist-packages/sklearn/model_selection/_split.py:667: UserWarning: The least populated class in y has only 1 members, which is less than n_splits=4.\n",
            "  % (min_groups, self.n_splits)), UserWarning)\n",
            "/usr/local/lib/python3.7/dist-packages/sklearn/model_selection/_split.py:667: UserWarning: The least populated class in y has only 1 members, which is less than n_splits=4.\n",
            "  % (min_groups, self.n_splits)), UserWarning)\n",
            "/usr/local/lib/python3.7/dist-packages/sklearn/model_selection/_split.py:667: UserWarning: The least populated class in y has only 1 members, which is less than n_splits=4.\n",
            "  % (min_groups, self.n_splits)), UserWarning)\n",
            "/usr/local/lib/python3.7/dist-packages/sklearn/model_selection/_split.py:667: UserWarning: The least populated class in y has only 1 members, which is less than n_splits=4.\n",
            "  % (min_groups, self.n_splits)), UserWarning)\n",
            "/usr/local/lib/python3.7/dist-packages/sklearn/model_selection/_split.py:667: UserWarning: The least populated class in y has only 1 members, which is less than n_splits=4.\n",
            "  % (min_groups, self.n_splits)), UserWarning)\n"
          ],
          "name": "stderr"
        },
        {
          "output_type": "stream",
          "text": [
            "\n",
            "-- Fold: 3 --\n",
            "\n",
            "R^2 Scoring:\n",
            "Mean: 0.874957\n",
            "Std: +/- 0.040590\n",
            "Min: 0.794014\n",
            "Max: 0.921984\n",
            "\n",
            "RMSE Scoring:\n",
            "Mean: 1.530411\n",
            "Std: +/- 0.238166\n",
            "Min: 1.203471\n",
            "Max: 1.995947\n",
            "\n"
          ],
          "name": "stdout"
        },
        {
          "output_type": "stream",
          "text": [
            "/usr/local/lib/python3.7/dist-packages/sklearn/model_selection/_split.py:667: UserWarning: The least populated class in y has only 1 members, which is less than n_splits=5.\n",
            "  % (min_groups, self.n_splits)), UserWarning)\n",
            "/usr/local/lib/python3.7/dist-packages/sklearn/model_selection/_split.py:667: UserWarning: The least populated class in y has only 1 members, which is less than n_splits=5.\n",
            "  % (min_groups, self.n_splits)), UserWarning)\n",
            "/usr/local/lib/python3.7/dist-packages/sklearn/model_selection/_split.py:667: UserWarning: The least populated class in y has only 1 members, which is less than n_splits=5.\n",
            "  % (min_groups, self.n_splits)), UserWarning)\n",
            "/usr/local/lib/python3.7/dist-packages/sklearn/model_selection/_split.py:667: UserWarning: The least populated class in y has only 1 members, which is less than n_splits=5.\n",
            "  % (min_groups, self.n_splits)), UserWarning)\n",
            "/usr/local/lib/python3.7/dist-packages/sklearn/model_selection/_split.py:667: UserWarning: The least populated class in y has only 1 members, which is less than n_splits=5.\n",
            "  % (min_groups, self.n_splits)), UserWarning)\n",
            "/usr/local/lib/python3.7/dist-packages/sklearn/model_selection/_split.py:667: UserWarning: The least populated class in y has only 1 members, which is less than n_splits=5.\n",
            "  % (min_groups, self.n_splits)), UserWarning)\n"
          ],
          "name": "stderr"
        },
        {
          "output_type": "stream",
          "text": [
            "\n",
            "-- Fold: 4 --\n",
            "\n",
            "R^2 Scoring:\n",
            "Mean: 0.882082\n",
            "Std: +/- 0.045176\n",
            "Min: 0.783907\n",
            "Max: 0.948265\n",
            "\n",
            "RMSE Scoring:\n",
            "Mean: 1.476410\n",
            "Std: +/- 0.288184\n",
            "Min: 1.033224\n",
            "Max: 2.021818\n",
            "\n"
          ],
          "name": "stdout"
        },
        {
          "output_type": "stream",
          "text": [
            "/usr/local/lib/python3.7/dist-packages/sklearn/model_selection/_split.py:667: UserWarning: The least populated class in y has only 1 members, which is less than n_splits=6.\n",
            "  % (min_groups, self.n_splits)), UserWarning)\n",
            "/usr/local/lib/python3.7/dist-packages/sklearn/model_selection/_split.py:667: UserWarning: The least populated class in y has only 1 members, which is less than n_splits=6.\n",
            "  % (min_groups, self.n_splits)), UserWarning)\n",
            "/usr/local/lib/python3.7/dist-packages/sklearn/model_selection/_split.py:667: UserWarning: The least populated class in y has only 1 members, which is less than n_splits=6.\n",
            "  % (min_groups, self.n_splits)), UserWarning)\n",
            "/usr/local/lib/python3.7/dist-packages/sklearn/model_selection/_split.py:667: UserWarning: The least populated class in y has only 1 members, which is less than n_splits=6.\n",
            "  % (min_groups, self.n_splits)), UserWarning)\n",
            "/usr/local/lib/python3.7/dist-packages/sklearn/model_selection/_split.py:667: UserWarning: The least populated class in y has only 1 members, which is less than n_splits=6.\n",
            "  % (min_groups, self.n_splits)), UserWarning)\n",
            "/usr/local/lib/python3.7/dist-packages/sklearn/model_selection/_split.py:667: UserWarning: The least populated class in y has only 1 members, which is less than n_splits=6.\n",
            "  % (min_groups, self.n_splits)), UserWarning)\n"
          ],
          "name": "stderr"
        },
        {
          "output_type": "stream",
          "text": [
            "\n",
            "-- Fold: 5 --\n",
            "\n",
            "R^2 Scoring:\n",
            "Mean: 0.887846\n",
            "Std: +/- 0.039220\n",
            "Min: 0.808348\n",
            "Max: 0.930774\n",
            "\n",
            "RMSE Scoring:\n",
            "Mean: 1.442281\n",
            "Std: +/- 0.222864\n",
            "Min: 1.163295\n",
            "Max: 1.896174\n",
            "\n"
          ],
          "name": "stdout"
        },
        {
          "output_type": "stream",
          "text": [
            "/usr/local/lib/python3.7/dist-packages/sklearn/model_selection/_split.py:667: UserWarning: The least populated class in y has only 1 members, which is less than n_splits=7.\n",
            "  % (min_groups, self.n_splits)), UserWarning)\n",
            "/usr/local/lib/python3.7/dist-packages/sklearn/model_selection/_split.py:667: UserWarning: The least populated class in y has only 1 members, which is less than n_splits=7.\n",
            "  % (min_groups, self.n_splits)), UserWarning)\n",
            "/usr/local/lib/python3.7/dist-packages/sklearn/model_selection/_split.py:667: UserWarning: The least populated class in y has only 1 members, which is less than n_splits=7.\n",
            "  % (min_groups, self.n_splits)), UserWarning)\n",
            "/usr/local/lib/python3.7/dist-packages/sklearn/model_selection/_split.py:667: UserWarning: The least populated class in y has only 1 members, which is less than n_splits=7.\n",
            "  % (min_groups, self.n_splits)), UserWarning)\n",
            "/usr/local/lib/python3.7/dist-packages/sklearn/model_selection/_split.py:667: UserWarning: The least populated class in y has only 1 members, which is less than n_splits=7.\n",
            "  % (min_groups, self.n_splits)), UserWarning)\n",
            "/usr/local/lib/python3.7/dist-packages/sklearn/model_selection/_split.py:667: UserWarning: The least populated class in y has only 1 members, which is less than n_splits=7.\n",
            "  % (min_groups, self.n_splits)), UserWarning)\n"
          ],
          "name": "stderr"
        },
        {
          "output_type": "stream",
          "text": [
            "\n",
            "-- Fold: 6 --\n",
            "\n",
            "R^2 Scoring:\n",
            "Mean: 0.886243\n",
            "Std: +/- 0.066566\n",
            "Min: 0.657652\n",
            "Max: 0.969472\n",
            "\n",
            "RMSE Scoring:\n",
            "Mean: 1.424169\n",
            "Std: +/- 0.374177\n",
            "Min: 0.756223\n",
            "Max: 2.540419\n",
            "\n"
          ],
          "name": "stdout"
        },
        {
          "output_type": "stream",
          "text": [
            "/usr/local/lib/python3.7/dist-packages/sklearn/model_selection/_split.py:667: UserWarning: The least populated class in y has only 1 members, which is less than n_splits=8.\n",
            "  % (min_groups, self.n_splits)), UserWarning)\n",
            "/usr/local/lib/python3.7/dist-packages/sklearn/model_selection/_split.py:667: UserWarning: The least populated class in y has only 1 members, which is less than n_splits=8.\n",
            "  % (min_groups, self.n_splits)), UserWarning)\n",
            "/usr/local/lib/python3.7/dist-packages/sklearn/model_selection/_split.py:667: UserWarning: The least populated class in y has only 1 members, which is less than n_splits=8.\n",
            "  % (min_groups, self.n_splits)), UserWarning)\n",
            "/usr/local/lib/python3.7/dist-packages/sklearn/model_selection/_split.py:667: UserWarning: The least populated class in y has only 1 members, which is less than n_splits=8.\n",
            "  % (min_groups, self.n_splits)), UserWarning)\n",
            "/usr/local/lib/python3.7/dist-packages/sklearn/model_selection/_split.py:667: UserWarning: The least populated class in y has only 1 members, which is less than n_splits=8.\n",
            "  % (min_groups, self.n_splits)), UserWarning)\n",
            "/usr/local/lib/python3.7/dist-packages/sklearn/model_selection/_split.py:667: UserWarning: The least populated class in y has only 1 members, which is less than n_splits=8.\n",
            "  % (min_groups, self.n_splits)), UserWarning)\n"
          ],
          "name": "stderr"
        },
        {
          "output_type": "stream",
          "text": [
            "\n",
            "-- Fold: 7 --\n",
            "\n",
            "R^2 Scoring:\n",
            "Mean: 0.895149\n",
            "Std: +/- 0.036846\n",
            "Min: 0.810464\n",
            "Max: 0.960563\n",
            "\n",
            "RMSE Scoring:\n",
            "Mean: 1.391910\n",
            "Std: +/- 0.242635\n",
            "Min: 0.823991\n",
            "Max: 1.887375\n",
            "\n"
          ],
          "name": "stdout"
        },
        {
          "output_type": "stream",
          "text": [
            "/usr/local/lib/python3.7/dist-packages/sklearn/model_selection/_split.py:667: UserWarning: The least populated class in y has only 1 members, which is less than n_splits=9.\n",
            "  % (min_groups, self.n_splits)), UserWarning)\n",
            "/usr/local/lib/python3.7/dist-packages/sklearn/model_selection/_split.py:667: UserWarning: The least populated class in y has only 1 members, which is less than n_splits=9.\n",
            "  % (min_groups, self.n_splits)), UserWarning)\n",
            "/usr/local/lib/python3.7/dist-packages/sklearn/model_selection/_split.py:667: UserWarning: The least populated class in y has only 1 members, which is less than n_splits=9.\n",
            "  % (min_groups, self.n_splits)), UserWarning)\n",
            "/usr/local/lib/python3.7/dist-packages/sklearn/model_selection/_split.py:667: UserWarning: The least populated class in y has only 1 members, which is less than n_splits=9.\n",
            "  % (min_groups, self.n_splits)), UserWarning)\n",
            "/usr/local/lib/python3.7/dist-packages/sklearn/model_selection/_split.py:667: UserWarning: The least populated class in y has only 1 members, which is less than n_splits=9.\n",
            "  % (min_groups, self.n_splits)), UserWarning)\n",
            "/usr/local/lib/python3.7/dist-packages/sklearn/model_selection/_split.py:667: UserWarning: The least populated class in y has only 1 members, which is less than n_splits=9.\n",
            "  % (min_groups, self.n_splits)), UserWarning)\n"
          ],
          "name": "stderr"
        },
        {
          "output_type": "stream",
          "text": [
            "\n",
            "-- Fold: 8 --\n",
            "\n",
            "R^2 Scoring:\n",
            "Mean: 0.894739\n",
            "Std: +/- 0.045798\n",
            "Min: 0.777222\n",
            "Max: 0.971717\n",
            "\n",
            "RMSE Scoring:\n",
            "Mean: 1.388043\n",
            "Std: +/- 0.305999\n",
            "Min: 0.741592\n",
            "Max: 2.031801\n",
            "\n"
          ],
          "name": "stdout"
        },
        {
          "output_type": "stream",
          "text": [
            "/usr/local/lib/python3.7/dist-packages/sklearn/model_selection/_split.py:667: UserWarning: The least populated class in y has only 1 members, which is less than n_splits=10.\n",
            "  % (min_groups, self.n_splits)), UserWarning)\n",
            "/usr/local/lib/python3.7/dist-packages/sklearn/model_selection/_split.py:667: UserWarning: The least populated class in y has only 1 members, which is less than n_splits=10.\n",
            "  % (min_groups, self.n_splits)), UserWarning)\n",
            "/usr/local/lib/python3.7/dist-packages/sklearn/model_selection/_split.py:667: UserWarning: The least populated class in y has only 1 members, which is less than n_splits=10.\n",
            "  % (min_groups, self.n_splits)), UserWarning)\n",
            "/usr/local/lib/python3.7/dist-packages/sklearn/model_selection/_split.py:667: UserWarning: The least populated class in y has only 1 members, which is less than n_splits=10.\n",
            "  % (min_groups, self.n_splits)), UserWarning)\n",
            "/usr/local/lib/python3.7/dist-packages/sklearn/model_selection/_split.py:667: UserWarning: The least populated class in y has only 1 members, which is less than n_splits=10.\n",
            "  % (min_groups, self.n_splits)), UserWarning)\n",
            "/usr/local/lib/python3.7/dist-packages/sklearn/model_selection/_split.py:667: UserWarning: The least populated class in y has only 1 members, which is less than n_splits=10.\n",
            "  % (min_groups, self.n_splits)), UserWarning)\n"
          ],
          "name": "stderr"
        },
        {
          "output_type": "stream",
          "text": [
            "\n",
            "-- Fold: 9 --\n",
            "\n",
            "R^2 Scoring:\n",
            "Mean: 0.899910\n",
            "Std: +/- 0.040926\n",
            "Min: 0.803722\n",
            "Max: 0.971442\n",
            "\n",
            "RMSE Scoring:\n",
            "Mean: 1.354652\n",
            "Std: +/- 0.295678\n",
            "Min: 0.725625\n",
            "Max: 1.945327\n",
            "\n"
          ],
          "name": "stdout"
        },
        {
          "output_type": "stream",
          "text": [
            "/usr/local/lib/python3.7/dist-packages/sklearn/model_selection/_split.py:667: UserWarning: The least populated class in y has only 1 members, which is less than n_splits=11.\n",
            "  % (min_groups, self.n_splits)), UserWarning)\n",
            "/usr/local/lib/python3.7/dist-packages/sklearn/model_selection/_split.py:667: UserWarning: The least populated class in y has only 1 members, which is less than n_splits=11.\n",
            "  % (min_groups, self.n_splits)), UserWarning)\n",
            "/usr/local/lib/python3.7/dist-packages/sklearn/model_selection/_split.py:667: UserWarning: The least populated class in y has only 1 members, which is less than n_splits=11.\n",
            "  % (min_groups, self.n_splits)), UserWarning)\n",
            "/usr/local/lib/python3.7/dist-packages/sklearn/model_selection/_split.py:667: UserWarning: The least populated class in y has only 1 members, which is less than n_splits=11.\n",
            "  % (min_groups, self.n_splits)), UserWarning)\n",
            "/usr/local/lib/python3.7/dist-packages/sklearn/model_selection/_split.py:667: UserWarning: The least populated class in y has only 1 members, which is less than n_splits=11.\n",
            "  % (min_groups, self.n_splits)), UserWarning)\n",
            "/usr/local/lib/python3.7/dist-packages/sklearn/model_selection/_split.py:667: UserWarning: The least populated class in y has only 1 members, which is less than n_splits=11.\n",
            "  % (min_groups, self.n_splits)), UserWarning)\n"
          ],
          "name": "stderr"
        },
        {
          "output_type": "stream",
          "text": [
            "\n",
            "-- Fold: 10 --\n",
            "\n",
            "R^2 Scoring:\n",
            "Mean: 0.903937\n",
            "Std: +/- 0.048131\n",
            "Min: 0.804352\n",
            "Max: 0.978623\n",
            "\n",
            "RMSE Scoring:\n",
            "Mean: 1.310674\n",
            "Std: +/- 0.371314\n",
            "Min: 0.666226\n",
            "Max: 2.106474\n",
            "\n"
          ],
          "name": "stdout"
        },
        {
          "output_type": "display_data",
          "data": {
            "image/png": "[encoded data removed]",
            "text/plain": [
              "<Figure size 1080x720 with 4 Axes>"
            ]
          },
          "metadata": {
            "tags": [],
            "needs_background": "light"
          }
        }
      ]
    },
    {
      "cell_type": "markdown",
      "metadata": {
        "id": "dAN8sW_-0PWt"
      },
      "source": [
        "##### Cross-Validation Results for R^2 Scoring\n",
        "\n",
        "<table border = \"1\">\n",
        "  <thead>\n",
        "    <th colspan = \"3\">Cross-Validation Results</th>\n",
        "  </thead>\n",
        "  <tbody>\n",
        "    <tr>\n",
        "      <td><b></b></td>\n",
        "      <td><b>R^2</b></td>\n",
        "      <td><b>RMSE</b></td>\n",
        "    </tr>\n",
        "    <tr>\n",
        "      <td><b>Mean</b></td>\n",
        "      <td>0.904</td>\n",
        "      <td>1.311</td>\n",
        "    </tr>\n",
        "    <tr>\n",
        "      <td><b>Std.</b></td>\n",
        "      <td>0.048</td>\n",
        "      <td>0.371</td>\n",
        "    </tr>\n",
        "    <tr>\n",
        "      <td><b>Min</b></td>\n",
        "      <td>0.804</td>\n",
        "      <td>0.666</td>\n",
        "    </tr>\n",
        "    <tr>\n",
        "      <td><b>Max</b></td>\n",
        "      <td>0.979</td>\n",
        "      <td>2.107</td>\n",
        "    </tr>\n",
        "  </tbody>\n",
        "</table>"
      ]
    },
    {
      "cell_type": "code",
      "metadata": {
        "colab": {
          "base_uri": "https://localhost:8080/"
        },
        "id": "JbDs15wREGOI",
        "outputId": "4fe8d31d-fbab-4a2b-91f3-9a14a05e9831"
      },
      "source": [
        "# Apply Grid Search for parameter tuning\n",
        "from sklearn.model_selection import GridSearchCV\n",
        "\n",
        "# param_dict = {'max_depth': [1, 2, 5, 10, 20], \n",
        "#               'learning_rate': [0.05, 0.1, 0.15],\n",
        "#               'reg_alpha':[0.001, 0.01, 0.1, 1, 10, 100],\n",
        "#               'colsample_bytree': [0.3, 0.5, 0.7],\n",
        "#               'n_estimators': [50, 100, 150, 200],\n",
        "#               'min_child_weight': [2, 5, 10],\n",
        "#               'gamma': [0, 0.05, 0.1],\n",
        "#               'subsample': [0.6, 0.8, 1.0],\n",
        "#               'random_state': [0, 1, 5, 10, 20, 40]}\n",
        "\n",
        "# R2 scoring\n",
        "param_dict = {'max_depth': [14], \n",
        "              'min_child_weight': [4],\n",
        "              'gamma': [0.01],\n",
        "              'colsample_bytree': [0.9], \n",
        "              'subsample': [1],\n",
        "              'reg_alpha': [0.9],\n",
        "              'learning_rate': [0.1],\n",
        "              'n_estimators': [111],\n",
        "              'random_state': [0]}\n",
        "\n",
        "# grid = GridSearchCV(reg, param_dict, scoring='neg_mean_absolute_error', cv=cv, n_jobs=-1)\n",
        "# grid = GridSearchCV(reg, param_dict, scoring='neg_mean_squared_error', cv=cv, n_jobs=-1)\n",
        "# grid = GridSearchCV(reg, param_dict, scoring='neg_root_mean_squared_error', cv=cv, n_jobs=-1)\n",
        "grid = GridSearchCV(reg, param_dict, scoring='r2', cv=cv, n_jobs=-1)\n",
        "results = grid.fit(X_train, y_train)\n",
        "\n",
        "# Summarize results\n",
        "best_score = grid.best_score_\n",
        "best_parameters = grid.best_params_\n",
        "print(\"Best Score: %.3f%%\" % (np.abs(best_score * 100)))  # R^2 Scoring\n",
        "# print(\"Best Score: %.3f%%\" % (np.abs(best_score)))  # RMSE\n",
        "print(\"Best Parameters: \", best_parameters)\n"
      ],
      "execution_count": null,
      "outputs": [
        {
          "output_type": "stream",
          "text": [
            "/usr/local/lib/python3.7/dist-packages/sklearn/model_selection/_split.py:667: UserWarning: The least populated class in y has only 1 members, which is less than n_splits=11.\n",
            "  % (min_groups, self.n_splits)), UserWarning)\n",
            "/usr/local/lib/python3.7/dist-packages/sklearn/model_selection/_split.py:667: UserWarning: The least populated class in y has only 1 members, which is less than n_splits=11.\n",
            "  % (min_groups, self.n_splits)), UserWarning)\n",
            "/usr/local/lib/python3.7/dist-packages/sklearn/model_selection/_split.py:667: UserWarning: The least populated class in y has only 1 members, which is less than n_splits=11.\n",
            "  % (min_groups, self.n_splits)), UserWarning)\n"
          ],
          "name": "stderr"
        },
        {
          "output_type": "stream",
          "text": [
            "[14:33:18] WARNING: /workspace/src/objective/regression_obj.cu:152: reg:linear is now deprecated in favor of reg:squarederror.\n",
            "Best Score: 90.394%\n",
            "Best Parameters:  {'colsample_bytree': 0.9, 'gamma': 0.01, 'learning_rate': 0.1, 'max_depth': 14, 'min_child_weight': 4, 'n_estimators': 111, 'random_state': 0, 'reg_alpha': 0.9, 'subsample': 1}\n"
          ],
          "name": "stdout"
        }
      ]
    },
    {
      "cell_type": "markdown",
      "metadata": {
        "id": "onwb2-RxDHrC"
      },
      "source": [
        "##### Grid Search Results\n",
        "\n",
        "<table border = \"1\">\n",
        "  <thead>\n",
        "    <th colspan = \"2\">Grid Search Results</th>\n",
        "  </thead>\n",
        "  <tbody>\n",
        "    <tr>\n",
        "      <td><b>Best Score</b></td>\n",
        "      <td>90.394%</td>\n",
        "    </tr>\n",
        "    <tr>\n",
        "      <td colspan=\"2\"><b>Best Parameters:</b></td>\n",
        "    </tr>\n",
        "    <tr>\n",
        "      <td><b>max_depth</b></td>\n",
        "      <td>14</td>\n",
        "    </tr>\n",
        "    <tr>\n",
        "      <td><b>min_child_weight</b></td>\n",
        "      <td>4</td>\n",
        "    </tr>\n",
        "    <tr>\n",
        "      <td><b>gamma</b></td>\n",
        "      <td>0.01</td>\n",
        "    </tr>\n",
        "    <tr>\n",
        "      <td><b>colsample_bytree</b></td>\n",
        "      <td>0.89</td>\n",
        "    </tr>\n",
        "    <tr>\n",
        "      <td><b>subsample</b></td>\n",
        "      <td>1</td>\n",
        "    </tr>\n",
        "    <tr>\n",
        "      <td><b>reg_alpha</b></td>\n",
        "      <td>0.9</td>\n",
        "    </tr>\n",
        "    <tr>\n",
        "      <td><b>learning_rate</b></td>\n",
        "      <td>0.1</td>\n",
        "    </tr>\n",
        "    <tr>\n",
        "      <td><b>n_estimators</b></td>\n",
        "      <td>111</td>\n",
        "    </tr>\n",
        "    <tr>\n",
        "      <td><b>random_state</b></td>\n",
        "      <td>0</td>\n",
        "    </tr>\n",
        "  </tbody>\n",
        "</table>"
      ]
    }
  ]
}
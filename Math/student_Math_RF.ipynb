{
  "nbformat": 4,
  "nbformat_minor": 0,
  "metadata": {
    "colab": {
      "name": "student-Math-RF.ipynb",
      "provenance": [],
      "collapsed_sections": []
    },
    "kernelspec": {
      "display_name": "Python 3",
      "name": "python3"
    }
  },
  "cells": [
    {
      "cell_type": "markdown",
      "metadata": {
        "id": "dqzCkBIE4Kxb"
      },
      "source": [
        "# Student Grade Regression - Math - Random Forest"
      ]
    },
    {
      "cell_type": "markdown",
      "metadata": {
        "id": "CRPhEIH74HqH"
      },
      "source": [
        "## Import base libraries"
      ]
    },
    {
      "cell_type": "code",
      "metadata": {
        "id": "evXrcw1n1j7A"
      },
      "source": [
        "import numpy as np\n",
        "import matplotlib.pyplot as plt\n",
        "import pandas as pd"
      ],
      "execution_count": null,
      "outputs": []
    },
    {
      "cell_type": "markdown",
      "metadata": {
        "id": "AwQgmYb-5ORR"
      },
      "source": [
        "## Data preprocessing"
      ]
    },
    {
      "cell_type": "code",
      "metadata": {
        "colab": {
          "base_uri": "https://localhost:8080/"
        },
        "id": "S-exXZFi13SS",
        "outputId": "5ff3ed29-bc46-4fe5-e008-a1eade89b629"
      },
      "source": [
        "df = pd.read_csv('student-mat.csv')  # Math class\n",
        "# df = pd.read_csv('student-por.csv')  # Portuguese class\n",
        "X, y = df.iloc[:, :-1].values, df.iloc[:, -1].values\n",
        "\n",
        "print(X.shape, y.shape)"
      ],
      "execution_count": null,
      "outputs": [
        {
          "output_type": "stream",
          "text": [
            "(395, 32) (395,)\n"
          ],
          "name": "stdout"
        }
      ]
    },
    {
      "cell_type": "code",
      "metadata": {
        "colab": {
          "base_uri": "https://localhost:8080/"
        },
        "id": "5eZkNzxii5e0",
        "outputId": "108b98b5-4ad7-4a2e-a6ad-468605009d11"
      },
      "source": [
        "df.dtypes"
      ],
      "execution_count": null,
      "outputs": [
        {
          "output_type": "execute_result",
          "data": {
            "text/plain": [
              "school        object\n",
              "sex           object\n",
              "age            int64\n",
              "address       object\n",
              "famsize       object\n",
              "Pstatus       object\n",
              "Medu           int64\n",
              "Fedu           int64\n",
              "Mjob          object\n",
              "Fjob          object\n",
              "reason        object\n",
              "guardian      object\n",
              "traveltime     int64\n",
              "studytime      int64\n",
              "failures       int64\n",
              "schoolsup     object\n",
              "famsup        object\n",
              "paid          object\n",
              "activities    object\n",
              "nursery       object\n",
              "higher        object\n",
              "internet      object\n",
              "romantic      object\n",
              "famrel         int64\n",
              "freetime       int64\n",
              "goout          int64\n",
              "Dalc           int64\n",
              "Walc           int64\n",
              "health         int64\n",
              "absences       int64\n",
              "G1             int64\n",
              "G2             int64\n",
              "G3             int64\n",
              "dtype: object"
            ]
          },
          "metadata": {
            "tags": []
          },
          "execution_count": 3
        }
      ]
    },
    {
      "cell_type": "code",
      "metadata": {
        "colab": {
          "base_uri": "https://localhost:8080/",
          "height": 310
        },
        "id": "ZX-TsmiZyzoP",
        "outputId": "abe4055a-62d4-41a2-96eb-f3f873fd7bb5"
      },
      "source": [
        "df.describe()"
      ],
      "execution_count": null,
      "outputs": [
        {
          "output_type": "execute_result",
          "data": {
            "text/html": [
              "<div>\n",
              "<style scoped>\n",
              "    .dataframe tbody tr th:only-of-type {\n",
              "        vertical-align: middle;\n",
              "    }\n",
              "\n",
              "    .dataframe tbody tr th {\n",
              "        vertical-align: top;\n",
              "    }\n",
              "\n",
              "    .dataframe thead th {\n",
              "        text-align: right;\n",
              "    }\n",
              "</style>\n",
              "<table border=\"1\" class=\"dataframe\">\n",
              "  <thead>\n",
              "    <tr style=\"text-align: right;\">\n",
              "      <th></th>\n",
              "      <th>age</th>\n",
              "      <th>Medu</th>\n",
              "      <th>Fedu</th>\n",
              "      <th>traveltime</th>\n",
              "      <th>studytime</th>\n",
              "      <th>failures</th>\n",
              "      <th>famrel</th>\n",
              "      <th>freetime</th>\n",
              "      <th>goout</th>\n",
              "      <th>Dalc</th>\n",
              "      <th>Walc</th>\n",
              "      <th>health</th>\n",
              "      <th>absences</th>\n",
              "      <th>G1</th>\n",
              "      <th>G2</th>\n",
              "      <th>G3</th>\n",
              "    </tr>\n",
              "  </thead>\n",
              "  <tbody>\n",
              "    <tr>\n",
              "      <th>count</th>\n",
              "      <td>395.000000</td>\n",
              "      <td>395.000000</td>\n",
              "      <td>395.000000</td>\n",
              "      <td>395.000000</td>\n",
              "      <td>395.000000</td>\n",
              "      <td>395.000000</td>\n",
              "      <td>395.000000</td>\n",
              "      <td>395.000000</td>\n",
              "      <td>395.000000</td>\n",
              "      <td>395.000000</td>\n",
              "      <td>395.000000</td>\n",
              "      <td>395.000000</td>\n",
              "      <td>395.000000</td>\n",
              "      <td>395.000000</td>\n",
              "      <td>395.000000</td>\n",
              "      <td>395.000000</td>\n",
              "    </tr>\n",
              "    <tr>\n",
              "      <th>mean</th>\n",
              "      <td>16.696203</td>\n",
              "      <td>2.749367</td>\n",
              "      <td>2.521519</td>\n",
              "      <td>1.448101</td>\n",
              "      <td>2.035443</td>\n",
              "      <td>0.334177</td>\n",
              "      <td>3.944304</td>\n",
              "      <td>3.235443</td>\n",
              "      <td>3.108861</td>\n",
              "      <td>1.481013</td>\n",
              "      <td>2.291139</td>\n",
              "      <td>3.554430</td>\n",
              "      <td>5.708861</td>\n",
              "      <td>10.908861</td>\n",
              "      <td>10.713924</td>\n",
              "      <td>10.415190</td>\n",
              "    </tr>\n",
              "    <tr>\n",
              "      <th>std</th>\n",
              "      <td>1.276043</td>\n",
              "      <td>1.094735</td>\n",
              "      <td>1.088201</td>\n",
              "      <td>0.697505</td>\n",
              "      <td>0.839240</td>\n",
              "      <td>0.743651</td>\n",
              "      <td>0.896659</td>\n",
              "      <td>0.998862</td>\n",
              "      <td>1.113278</td>\n",
              "      <td>0.890741</td>\n",
              "      <td>1.287897</td>\n",
              "      <td>1.390303</td>\n",
              "      <td>8.003096</td>\n",
              "      <td>3.319195</td>\n",
              "      <td>3.761505</td>\n",
              "      <td>4.581443</td>\n",
              "    </tr>\n",
              "    <tr>\n",
              "      <th>min</th>\n",
              "      <td>15.000000</td>\n",
              "      <td>0.000000</td>\n",
              "      <td>0.000000</td>\n",
              "      <td>1.000000</td>\n",
              "      <td>1.000000</td>\n",
              "      <td>0.000000</td>\n",
              "      <td>1.000000</td>\n",
              "      <td>1.000000</td>\n",
              "      <td>1.000000</td>\n",
              "      <td>1.000000</td>\n",
              "      <td>1.000000</td>\n",
              "      <td>1.000000</td>\n",
              "      <td>0.000000</td>\n",
              "      <td>3.000000</td>\n",
              "      <td>0.000000</td>\n",
              "      <td>0.000000</td>\n",
              "    </tr>\n",
              "    <tr>\n",
              "      <th>25%</th>\n",
              "      <td>16.000000</td>\n",
              "      <td>2.000000</td>\n",
              "      <td>2.000000</td>\n",
              "      <td>1.000000</td>\n",
              "      <td>1.000000</td>\n",
              "      <td>0.000000</td>\n",
              "      <td>4.000000</td>\n",
              "      <td>3.000000</td>\n",
              "      <td>2.000000</td>\n",
              "      <td>1.000000</td>\n",
              "      <td>1.000000</td>\n",
              "      <td>3.000000</td>\n",
              "      <td>0.000000</td>\n",
              "      <td>8.000000</td>\n",
              "      <td>9.000000</td>\n",
              "      <td>8.000000</td>\n",
              "    </tr>\n",
              "    <tr>\n",
              "      <th>50%</th>\n",
              "      <td>17.000000</td>\n",
              "      <td>3.000000</td>\n",
              "      <td>2.000000</td>\n",
              "      <td>1.000000</td>\n",
              "      <td>2.000000</td>\n",
              "      <td>0.000000</td>\n",
              "      <td>4.000000</td>\n",
              "      <td>3.000000</td>\n",
              "      <td>3.000000</td>\n",
              "      <td>1.000000</td>\n",
              "      <td>2.000000</td>\n",
              "      <td>4.000000</td>\n",
              "      <td>4.000000</td>\n",
              "      <td>11.000000</td>\n",
              "      <td>11.000000</td>\n",
              "      <td>11.000000</td>\n",
              "    </tr>\n",
              "    <tr>\n",
              "      <th>75%</th>\n",
              "      <td>18.000000</td>\n",
              "      <td>4.000000</td>\n",
              "      <td>3.000000</td>\n",
              "      <td>2.000000</td>\n",
              "      <td>2.000000</td>\n",
              "      <td>0.000000</td>\n",
              "      <td>5.000000</td>\n",
              "      <td>4.000000</td>\n",
              "      <td>4.000000</td>\n",
              "      <td>2.000000</td>\n",
              "      <td>3.000000</td>\n",
              "      <td>5.000000</td>\n",
              "      <td>8.000000</td>\n",
              "      <td>13.000000</td>\n",
              "      <td>13.000000</td>\n",
              "      <td>14.000000</td>\n",
              "    </tr>\n",
              "    <tr>\n",
              "      <th>max</th>\n",
              "      <td>22.000000</td>\n",
              "      <td>4.000000</td>\n",
              "      <td>4.000000</td>\n",
              "      <td>4.000000</td>\n",
              "      <td>4.000000</td>\n",
              "      <td>3.000000</td>\n",
              "      <td>5.000000</td>\n",
              "      <td>5.000000</td>\n",
              "      <td>5.000000</td>\n",
              "      <td>5.000000</td>\n",
              "      <td>5.000000</td>\n",
              "      <td>5.000000</td>\n",
              "      <td>75.000000</td>\n",
              "      <td>19.000000</td>\n",
              "      <td>19.000000</td>\n",
              "      <td>20.000000</td>\n",
              "    </tr>\n",
              "  </tbody>\n",
              "</table>\n",
              "</div>"
            ],
            "text/plain": [
              "              age        Medu        Fedu  ...          G1          G2          G3\n",
              "count  395.000000  395.000000  395.000000  ...  395.000000  395.000000  395.000000\n",
              "mean    16.696203    2.749367    2.521519  ...   10.908861   10.713924   10.415190\n",
              "std      1.276043    1.094735    1.088201  ...    3.319195    3.761505    4.581443\n",
              "min     15.000000    0.000000    0.000000  ...    3.000000    0.000000    0.000000\n",
              "25%     16.000000    2.000000    2.000000  ...    8.000000    9.000000    8.000000\n",
              "50%     17.000000    3.000000    2.000000  ...   11.000000   11.000000   11.000000\n",
              "75%     18.000000    4.000000    3.000000  ...   13.000000   13.000000   14.000000\n",
              "max     22.000000    4.000000    4.000000  ...   19.000000   19.000000   20.000000\n",
              "\n",
              "[8 rows x 16 columns]"
            ]
          },
          "metadata": {
            "tags": []
          },
          "execution_count": 4
        }
      ]
    },
    {
      "cell_type": "code",
      "metadata": {
        "colab": {
          "base_uri": "https://localhost:8080/",
          "height": 219
        },
        "id": "FmipTIQ6kFFZ",
        "outputId": "12c2ee13-2eff-44cf-a6ab-bc95640bf59b"
      },
      "source": [
        "# Identify all categorical columns\n",
        "obj_df = df.select_dtypes(include=['object']).copy()\n",
        "obj_df.head()"
      ],
      "execution_count": null,
      "outputs": [
        {
          "output_type": "execute_result",
          "data": {
            "text/html": [
              "<div>\n",
              "<style scoped>\n",
              "    .dataframe tbody tr th:only-of-type {\n",
              "        vertical-align: middle;\n",
              "    }\n",
              "\n",
              "    .dataframe tbody tr th {\n",
              "        vertical-align: top;\n",
              "    }\n",
              "\n",
              "    .dataframe thead th {\n",
              "        text-align: right;\n",
              "    }\n",
              "</style>\n",
              "<table border=\"1\" class=\"dataframe\">\n",
              "  <thead>\n",
              "    <tr style=\"text-align: right;\">\n",
              "      <th></th>\n",
              "      <th>school</th>\n",
              "      <th>sex</th>\n",
              "      <th>address</th>\n",
              "      <th>famsize</th>\n",
              "      <th>Pstatus</th>\n",
              "      <th>Mjob</th>\n",
              "      <th>Fjob</th>\n",
              "      <th>reason</th>\n",
              "      <th>guardian</th>\n",
              "      <th>schoolsup</th>\n",
              "      <th>famsup</th>\n",
              "      <th>paid</th>\n",
              "      <th>activities</th>\n",
              "      <th>nursery</th>\n",
              "      <th>higher</th>\n",
              "      <th>internet</th>\n",
              "      <th>romantic</th>\n",
              "    </tr>\n",
              "  </thead>\n",
              "  <tbody>\n",
              "    <tr>\n",
              "      <th>0</th>\n",
              "      <td>GP</td>\n",
              "      <td>F</td>\n",
              "      <td>U</td>\n",
              "      <td>GT3</td>\n",
              "      <td>A</td>\n",
              "      <td>at_home</td>\n",
              "      <td>teacher</td>\n",
              "      <td>course</td>\n",
              "      <td>mother</td>\n",
              "      <td>yes</td>\n",
              "      <td>no</td>\n",
              "      <td>no</td>\n",
              "      <td>no</td>\n",
              "      <td>yes</td>\n",
              "      <td>yes</td>\n",
              "      <td>no</td>\n",
              "      <td>no</td>\n",
              "    </tr>\n",
              "    <tr>\n",
              "      <th>1</th>\n",
              "      <td>GP</td>\n",
              "      <td>F</td>\n",
              "      <td>U</td>\n",
              "      <td>GT3</td>\n",
              "      <td>T</td>\n",
              "      <td>at_home</td>\n",
              "      <td>other</td>\n",
              "      <td>course</td>\n",
              "      <td>father</td>\n",
              "      <td>no</td>\n",
              "      <td>yes</td>\n",
              "      <td>no</td>\n",
              "      <td>no</td>\n",
              "      <td>no</td>\n",
              "      <td>yes</td>\n",
              "      <td>yes</td>\n",
              "      <td>no</td>\n",
              "    </tr>\n",
              "    <tr>\n",
              "      <th>2</th>\n",
              "      <td>GP</td>\n",
              "      <td>F</td>\n",
              "      <td>U</td>\n",
              "      <td>LE3</td>\n",
              "      <td>T</td>\n",
              "      <td>at_home</td>\n",
              "      <td>other</td>\n",
              "      <td>other</td>\n",
              "      <td>mother</td>\n",
              "      <td>yes</td>\n",
              "      <td>no</td>\n",
              "      <td>yes</td>\n",
              "      <td>no</td>\n",
              "      <td>yes</td>\n",
              "      <td>yes</td>\n",
              "      <td>yes</td>\n",
              "      <td>no</td>\n",
              "    </tr>\n",
              "    <tr>\n",
              "      <th>3</th>\n",
              "      <td>GP</td>\n",
              "      <td>F</td>\n",
              "      <td>U</td>\n",
              "      <td>GT3</td>\n",
              "      <td>T</td>\n",
              "      <td>health</td>\n",
              "      <td>services</td>\n",
              "      <td>home</td>\n",
              "      <td>mother</td>\n",
              "      <td>no</td>\n",
              "      <td>yes</td>\n",
              "      <td>yes</td>\n",
              "      <td>yes</td>\n",
              "      <td>yes</td>\n",
              "      <td>yes</td>\n",
              "      <td>yes</td>\n",
              "      <td>yes</td>\n",
              "    </tr>\n",
              "    <tr>\n",
              "      <th>4</th>\n",
              "      <td>GP</td>\n",
              "      <td>F</td>\n",
              "      <td>U</td>\n",
              "      <td>GT3</td>\n",
              "      <td>T</td>\n",
              "      <td>other</td>\n",
              "      <td>other</td>\n",
              "      <td>home</td>\n",
              "      <td>father</td>\n",
              "      <td>no</td>\n",
              "      <td>yes</td>\n",
              "      <td>yes</td>\n",
              "      <td>no</td>\n",
              "      <td>yes</td>\n",
              "      <td>yes</td>\n",
              "      <td>no</td>\n",
              "      <td>no</td>\n",
              "    </tr>\n",
              "  </tbody>\n",
              "</table>\n",
              "</div>"
            ],
            "text/plain": [
              "  school sex address famsize  ... nursery higher internet romantic\n",
              "0     GP   F       U     GT3  ...     yes    yes       no       no\n",
              "1     GP   F       U     GT3  ...      no    yes      yes       no\n",
              "2     GP   F       U     LE3  ...     yes    yes      yes       no\n",
              "3     GP   F       U     GT3  ...     yes    yes      yes      yes\n",
              "4     GP   F       U     GT3  ...     yes    yes       no       no\n",
              "\n",
              "[5 rows x 17 columns]"
            ]
          },
          "metadata": {
            "tags": []
          },
          "execution_count": 5
        }
      ]
    },
    {
      "cell_type": "code",
      "metadata": {
        "colab": {
          "base_uri": "https://localhost:8080/",
          "height": 199
        },
        "id": "SKypUeQCyRv9",
        "outputId": "0720f4a9-824f-490a-e0e7-7e0ae2e4b9c8"
      },
      "source": [
        "# Identify all numerical columns\n",
        "obj_df = df.select_dtypes(include=['int64']).copy()\n",
        "obj_df.head()"
      ],
      "execution_count": null,
      "outputs": [
        {
          "output_type": "execute_result",
          "data": {
            "text/html": [
              "<div>\n",
              "<style scoped>\n",
              "    .dataframe tbody tr th:only-of-type {\n",
              "        vertical-align: middle;\n",
              "    }\n",
              "\n",
              "    .dataframe tbody tr th {\n",
              "        vertical-align: top;\n",
              "    }\n",
              "\n",
              "    .dataframe thead th {\n",
              "        text-align: right;\n",
              "    }\n",
              "</style>\n",
              "<table border=\"1\" class=\"dataframe\">\n",
              "  <thead>\n",
              "    <tr style=\"text-align: right;\">\n",
              "      <th></th>\n",
              "      <th>age</th>\n",
              "      <th>Medu</th>\n",
              "      <th>Fedu</th>\n",
              "      <th>traveltime</th>\n",
              "      <th>studytime</th>\n",
              "      <th>failures</th>\n",
              "      <th>famrel</th>\n",
              "      <th>freetime</th>\n",
              "      <th>goout</th>\n",
              "      <th>Dalc</th>\n",
              "      <th>Walc</th>\n",
              "      <th>health</th>\n",
              "      <th>absences</th>\n",
              "      <th>G1</th>\n",
              "      <th>G2</th>\n",
              "      <th>G3</th>\n",
              "    </tr>\n",
              "  </thead>\n",
              "  <tbody>\n",
              "    <tr>\n",
              "      <th>0</th>\n",
              "      <td>18</td>\n",
              "      <td>4</td>\n",
              "      <td>4</td>\n",
              "      <td>2</td>\n",
              "      <td>2</td>\n",
              "      <td>0</td>\n",
              "      <td>4</td>\n",
              "      <td>3</td>\n",
              "      <td>4</td>\n",
              "      <td>1</td>\n",
              "      <td>1</td>\n",
              "      <td>3</td>\n",
              "      <td>6</td>\n",
              "      <td>5</td>\n",
              "      <td>6</td>\n",
              "      <td>6</td>\n",
              "    </tr>\n",
              "    <tr>\n",
              "      <th>1</th>\n",
              "      <td>17</td>\n",
              "      <td>1</td>\n",
              "      <td>1</td>\n",
              "      <td>1</td>\n",
              "      <td>2</td>\n",
              "      <td>0</td>\n",
              "      <td>5</td>\n",
              "      <td>3</td>\n",
              "      <td>3</td>\n",
              "      <td>1</td>\n",
              "      <td>1</td>\n",
              "      <td>3</td>\n",
              "      <td>4</td>\n",
              "      <td>5</td>\n",
              "      <td>5</td>\n",
              "      <td>6</td>\n",
              "    </tr>\n",
              "    <tr>\n",
              "      <th>2</th>\n",
              "      <td>15</td>\n",
              "      <td>1</td>\n",
              "      <td>1</td>\n",
              "      <td>1</td>\n",
              "      <td>2</td>\n",
              "      <td>3</td>\n",
              "      <td>4</td>\n",
              "      <td>3</td>\n",
              "      <td>2</td>\n",
              "      <td>2</td>\n",
              "      <td>3</td>\n",
              "      <td>3</td>\n",
              "      <td>10</td>\n",
              "      <td>7</td>\n",
              "      <td>8</td>\n",
              "      <td>10</td>\n",
              "    </tr>\n",
              "    <tr>\n",
              "      <th>3</th>\n",
              "      <td>15</td>\n",
              "      <td>4</td>\n",
              "      <td>2</td>\n",
              "      <td>1</td>\n",
              "      <td>3</td>\n",
              "      <td>0</td>\n",
              "      <td>3</td>\n",
              "      <td>2</td>\n",
              "      <td>2</td>\n",
              "      <td>1</td>\n",
              "      <td>1</td>\n",
              "      <td>5</td>\n",
              "      <td>2</td>\n",
              "      <td>15</td>\n",
              "      <td>14</td>\n",
              "      <td>15</td>\n",
              "    </tr>\n",
              "    <tr>\n",
              "      <th>4</th>\n",
              "      <td>16</td>\n",
              "      <td>3</td>\n",
              "      <td>3</td>\n",
              "      <td>1</td>\n",
              "      <td>2</td>\n",
              "      <td>0</td>\n",
              "      <td>4</td>\n",
              "      <td>3</td>\n",
              "      <td>2</td>\n",
              "      <td>1</td>\n",
              "      <td>2</td>\n",
              "      <td>5</td>\n",
              "      <td>4</td>\n",
              "      <td>6</td>\n",
              "      <td>10</td>\n",
              "      <td>10</td>\n",
              "    </tr>\n",
              "  </tbody>\n",
              "</table>\n",
              "</div>"
            ],
            "text/plain": [
              "   age  Medu  Fedu  traveltime  studytime  ...  health  absences  G1  G2  G3\n",
              "0   18     4     4           2          2  ...       3         6   5   6   6\n",
              "1   17     1     1           1          2  ...       3         4   5   5   6\n",
              "2   15     1     1           1          2  ...       3        10   7   8  10\n",
              "3   15     4     2           1          3  ...       5         2  15  14  15\n",
              "4   16     3     3           1          2  ...       5         4   6  10  10\n",
              "\n",
              "[5 rows x 16 columns]"
            ]
          },
          "metadata": {
            "tags": []
          },
          "execution_count": 6
        }
      ]
    },
    {
      "cell_type": "code",
      "metadata": {
        "colab": {
          "base_uri": "https://localhost:8080/"
        },
        "id": "ZRlD-CxiyuYC",
        "outputId": "4439e84e-d3ad-4e82-b2de-f19c41b6b083"
      },
      "source": [
        "# Check for missing values\n",
        "df.isnull().sum()"
      ],
      "execution_count": null,
      "outputs": [
        {
          "output_type": "execute_result",
          "data": {
            "text/plain": [
              "school        0\n",
              "sex           0\n",
              "age           0\n",
              "address       0\n",
              "famsize       0\n",
              "Pstatus       0\n",
              "Medu          0\n",
              "Fedu          0\n",
              "Mjob          0\n",
              "Fjob          0\n",
              "reason        0\n",
              "guardian      0\n",
              "traveltime    0\n",
              "studytime     0\n",
              "failures      0\n",
              "schoolsup     0\n",
              "famsup        0\n",
              "paid          0\n",
              "activities    0\n",
              "nursery       0\n",
              "higher        0\n",
              "internet      0\n",
              "romantic      0\n",
              "famrel        0\n",
              "freetime      0\n",
              "goout         0\n",
              "Dalc          0\n",
              "Walc          0\n",
              "health        0\n",
              "absences      0\n",
              "G1            0\n",
              "G2            0\n",
              "G3            0\n",
              "dtype: int64"
            ]
          },
          "metadata": {
            "tags": []
          },
          "execution_count": 7
        }
      ]
    },
    {
      "cell_type": "code",
      "metadata": {
        "colab": {
          "base_uri": "https://localhost:8080/"
        },
        "id": "gNqSwRCOa6pv",
        "outputId": "5e65638d-499b-41d6-d1a3-db566f79fe31"
      },
      "source": [
        "# Categorical Columns (indices) - 0:1, 3:5, 8:11, 15:22\n",
        "from sklearn.preprocessing import LabelEncoder\n",
        "\n",
        "# Label Encode - 0:1, 3:5, 15:22\n",
        "le = LabelEncoder()\n",
        "# le_columns = X[:, [0, 1, 3, 4, 5, 15, 16, 17, 18, 19, 20, 21, 22]]\n",
        "\n",
        "# for i in X[:]:\n",
        "#   if i in le_columns:\n",
        "#     X[:, i] = le.fit_transform(X[:, i])\n",
        "\n",
        "# Encode nominal attributes\n",
        "X[:, 0] = le.fit_transform(X[:, 0])\n",
        "X[:, 1] = le.fit_transform(X[:, 1])\n",
        "X[:, 3] = le.fit_transform(X[:, 3])\n",
        "X[:, 4] = le.fit_transform(X[:, 4])\n",
        "X[:, 5] = le.fit_transform(X[:, 5])\n",
        "X[:, 8] = le.fit_transform(X[:, 8])\n",
        "X[:, 9] = le.fit_transform(X[:, 9])\n",
        "X[:, 10] = le.fit_transform(X[:, 10])\n",
        "X[:, 11] = le.fit_transform(X[:, 11])\n",
        "\n",
        "# Encode binary attributes\n",
        "X[:, 15] = le.fit_transform(X[:, 15])\n",
        "X[:, 16] = le.fit_transform(X[:, 16])\n",
        "X[:, 17] = le.fit_transform(X[:, 17])\n",
        "X[:, 18] = le.fit_transform(X[:, 18])\n",
        "X[:, 19] = le.fit_transform(X[:, 19])\n",
        "X[:, 20] = le.fit_transform(X[:, 20])\n",
        "X[:, 21] = le.fit_transform(X[:, 21])\n",
        "X[:, 22] = le.fit_transform(X[:, 22])\n",
        "\n",
        "print(X)"
      ],
      "execution_count": null,
      "outputs": [
        {
          "output_type": "stream",
          "text": [
            "[[0 0 18 ... 6 5 6]\n",
            " [0 0 17 ... 4 5 5]\n",
            " [0 0 15 ... 10 7 8]\n",
            " ...\n",
            " [1 1 21 ... 3 10 8]\n",
            " [1 1 18 ... 0 11 12]\n",
            " [1 1 19 ... 5 8 9]]\n"
          ],
          "name": "stdout"
        }
      ]
    },
    {
      "cell_type": "code",
      "metadata": {
        "id": "gFUBpVfq4nZE"
      },
      "source": [
        "# Split dataframe (df) into training and test sets\n",
        "from sklearn.model_selection import train_test_split\n",
        "\n",
        "X_train, X_test, y_train, y_test = train_test_split(X, y, test_size=0.2, \n",
        "                                                    random_state=0)"
      ],
      "execution_count": null,
      "outputs": []
    },
    {
      "cell_type": "code",
      "metadata": {
        "id": "ElvDrV3sUqUn"
      },
      "source": [
        "# Feature scaling\n",
        "from sklearn.preprocessing import StandardScaler\n",
        "\n",
        "sc = StandardScaler()\n",
        "X_train = sc.fit_transform(X_train)\n",
        "X_test = sc.fit_transform(X_test)"
      ],
      "execution_count": null,
      "outputs": []
    },
    {
      "cell_type": "code",
      "metadata": {
        "id": "GF4LhSGQNxI7"
      },
      "source": [
        "# Apply PCA (dimensionality reduction)\n",
        "# from sklearn.decomposition import PCA\n",
        "\n",
        "# pca = PCA(n_components=10)\n",
        "# X_train = pca.fit_transform(X_train)\n",
        "# X_test = pca.transform(X_test)"
      ],
      "execution_count": null,
      "outputs": []
    },
    {
      "cell_type": "markdown",
      "metadata": {
        "id": "sDrH6M7K4gq3"
      },
      "source": [
        "## Define Randrom Forest model"
      ]
    },
    {
      "cell_type": "code",
      "metadata": {
        "colab": {
          "base_uri": "https://localhost:8080/"
        },
        "id": "SayW9c-e4FkJ",
        "outputId": "350aa55d-1cc9-47a2-d26a-f4507d493bf4"
      },
      "source": [
        "from sklearn.ensemble import RandomForestRegressor\n",
        "\n",
        "reg = RandomForestRegressor(criterion='mse', max_depth=30, min_samples_split=2, \n",
        "                            min_samples_leaf=4, n_estimators=69,\n",
        "                            max_samples=0.87, max_features=29, random_state=20)\n",
        "reg.fit(X_train, y_train)"
      ],
      "execution_count": null,
      "outputs": [
        {
          "output_type": "execute_result",
          "data": {
            "text/plain": [
              "RandomForestRegressor(bootstrap=True, ccp_alpha=0.0, criterion='mse',\n",
              "                      max_depth=30, max_features=29, max_leaf_nodes=None,\n",
              "                      max_samples=0.87, min_impurity_decrease=0.0,\n",
              "                      min_impurity_split=None, min_samples_leaf=4,\n",
              "                      min_samples_split=2, min_weight_fraction_leaf=0.0,\n",
              "                      n_estimators=69, n_jobs=None, oob_score=False,\n",
              "                      random_state=20, verbose=0, warm_start=False)"
            ]
          },
          "metadata": {
            "tags": []
          },
          "execution_count": 12
        }
      ]
    },
    {
      "cell_type": "markdown",
      "metadata": {
        "id": "mwaBieZF5wBw"
      },
      "source": [
        "## Evaluate model"
      ]
    },
    {
      "cell_type": "code",
      "metadata": {
        "colab": {
          "base_uri": "https://localhost:8080/"
        },
        "id": "RvTtmY7T5xwO",
        "outputId": "b17459d6-e8cc-4a83-8170-a4786d7a7c4d"
      },
      "source": [
        "from sklearn.metrics import mean_absolute_error, mean_squared_error, r2_score\n",
        "\n",
        "# Predict test set results\n",
        "y_pred = reg.predict(X_test)\n",
        "np.set_printoptions(precision = 2)\n",
        "print(np.concatenate((y_pred.reshape(len(y_pred), 1), y_test.reshape(len(y_test), 1)), 1 ))\n",
        "print('')\n",
        "\n",
        "# Summarize results\n",
        "print('MAE: %.3f' % (mean_absolute_error(y_test, y_pred)))\n",
        "print('MSE: %.3f' % (mean_squared_error(y_test, y_pred)))\n",
        "print('RMSE: %.3f' % (mean_squared_error(y_test, y_pred, squared=False)))\n",
        "print('R^2 Score: %.3f' % (r2_score(y_test, y_pred)))\n"
      ],
      "execution_count": null,
      "outputs": [
        {
          "output_type": "stream",
          "text": [
            "[[13.01 14.  ]\n",
            " [10.98 10.  ]\n",
            " [10.04  9.  ]\n",
            " [14.07 15.  ]\n",
            " [15.46 16.  ]\n",
            " [12.27 12.  ]\n",
            " [13.   14.  ]\n",
            " [10.82 11.  ]\n",
            " [ 9.24  9.  ]\n",
            " [14.2  15.  ]\n",
            " [ 8.43 10.  ]\n",
            " [11.46 11.  ]\n",
            " [10.68 10.  ]\n",
            " [ 8.41  8.  ]\n",
            " [13.91 15.  ]\n",
            " [12.94 14.  ]\n",
            " [12.88 12.  ]\n",
            " [ 9.96  0.  ]\n",
            " [ 9.5  10.  ]\n",
            " [14.12 16.  ]\n",
            " [ 7.1   0.  ]\n",
            " [ 5.1   0.  ]\n",
            " [ 7.2   8.  ]\n",
            " [14.05 16.  ]\n",
            " [12.39 12.  ]\n",
            " [15.79 15.  ]\n",
            " [10.18 10.  ]\n",
            " [18.32 19.  ]\n",
            " [ 4.96  0.  ]\n",
            " [12.91 14.  ]\n",
            " [ 4.79  0.  ]\n",
            " [ 8.33 10.  ]\n",
            " [ 8.76  8.  ]\n",
            " [ 6.27  4.  ]\n",
            " [12.78 13.  ]\n",
            " [10.46 10.  ]\n",
            " [12.64 13.  ]\n",
            " [17.6  18.  ]\n",
            " [ 9.37  8.  ]\n",
            " [12.   11.  ]\n",
            " [ 5.47  6.  ]\n",
            " [17.66 18.  ]\n",
            " [ 8.02  8.  ]\n",
            " [ 9.04  8.  ]\n",
            " [ 9.98 11.  ]\n",
            " [ 4.82  0.  ]\n",
            " [11.81 13.  ]\n",
            " [ 5.05  0.  ]\n",
            " [12.13 13.  ]\n",
            " [ 8.75  7.  ]\n",
            " [ 9.36 10.  ]\n",
            " [17.69 18.  ]\n",
            " [10.52 10.  ]\n",
            " [ 8.27  9.  ]\n",
            " [11.86 11.  ]\n",
            " [ 8.44  6.  ]\n",
            " [ 9.28  9.  ]\n",
            " [12.75 13.  ]\n",
            " [14.14 15.  ]\n",
            " [13.04 14.  ]\n",
            " [12.93 14.  ]\n",
            " [13.42 15.  ]\n",
            " [12.87 14.  ]\n",
            " [14.21 15.  ]\n",
            " [ 9.18  0.  ]\n",
            " [14.02 15.  ]\n",
            " [17.54 19.  ]\n",
            " [12.25 12.  ]\n",
            " [ 5.59  6.  ]\n",
            " [ 9.56  9.  ]\n",
            " [ 9.42  8.  ]\n",
            " [13.18 15.  ]\n",
            " [ 7.29  5.  ]\n",
            " [ 5.16  0.  ]\n",
            " [ 9.02  9.  ]\n",
            " [ 8.9   0.  ]\n",
            " [10.93 11.  ]\n",
            " [17.8  18.  ]\n",
            " [ 7.01  0.  ]]\n",
            "\n",
            "MAE: 1.653\n",
            "MSE: 7.388\n",
            "RMSE: 2.718\n",
            "R^2 Score: 0.732\n"
          ],
          "name": "stdout"
        }
      ]
    },
    {
      "cell_type": "markdown",
      "metadata": {
        "id": "C_B8EAgwmgZU"
      },
      "source": [
        "<table border = \"1\">\n",
        "  <thead>\n",
        "    <th colspan = \"5\">Prediction Scores</th>\n",
        "  </thead>\n",
        "  <tbody>\n",
        "    <tr>\n",
        "      <td><b>MAE:<b></td>\n",
        "      <td>1.653</td>\n",
        "    </tr>\n",
        "    <tr>\n",
        "      <td><b>MSE:<b></td>\n",
        "      <td>7.388</td>\n",
        "    </tr>\n",
        "    <tr>\n",
        "      <td><b>RMSE:<b></td>\n",
        "      <td>2.718</td>\n",
        "    </tr>\n",
        "    <tr>\n",
        "      <td><b>R^2:<b></td>\n",
        "      <td>0.732</td>\n",
        "    </tr>\n",
        "  </tbody>\n",
        "</table>"
      ]
    },
    {
      "cell_type": "code",
      "metadata": {
        "colab": {
          "base_uri": "https://localhost:8080/",
          "height": 408
        },
        "id": "1Emo3CzHuPKE",
        "outputId": "2e758808-b8cc-45d1-af06-d2f42ebfc1bf"
      },
      "source": [
        "# Plot histogram for y_pred\n",
        "fig1 = plt.figure(figsize=(15, 6))\n",
        "ax1 = fig1.add_subplot(1, 2, 1)\n",
        "plt.xticks(np.arange(0, 20, 2))\n",
        "plt.yticks(np.arange(0, 16, 2))\n",
        "plt.hist(x=y_pred, facecolor='violet', alpha=0.7, edgecolor='black')\n",
        "plt.xlabel('Grade', fontsize=12)\n",
        "plt.ylabel('Number of students', fontsize=12)\n",
        "plt.title('Predicted Grade Distribution', fontsize=14)\n",
        "\n",
        "# Plot histogram for y_test\n",
        "ax1 = fig1.add_subplot(1, 2, 2)\n",
        "plt.xticks(np.arange(0, 20, 2))\n",
        "plt.yticks(np.arange(0, 16, 2))\n",
        "plt.hist(x=y_test, facecolor='orange', alpha=0.6, edgecolor='black')\n",
        "plt.xlabel('Grade', fontsize=12)\n",
        "plt.ylabel('Number of students', fontsize=12)\n",
        "plt.title('Validation Grade Distribution', fontsize=14)\n",
        "\n",
        "# Show subplot\n",
        "plt.show()"
      ],
      "execution_count": null,
      "outputs": [
        {
          "output_type": "display_data",
          "data": {
            "image/png": "[encoded data removed]",
            "text/plain": [
              "<Figure size 1080x432 with 2 Axes>"
            ]
          },
          "metadata": {
            "tags": [],
            "needs_background": "light"
          }
        }
      ]
    },
    {
      "cell_type": "code",
      "metadata": {
        "colab": {
          "base_uri": "https://localhost:8080/",
          "height": 1000
        },
        "id": "KY44a5zVEEkT",
        "outputId": "a3ad4fdb-f55a-4d83-d3dc-215758f6c1cc"
      },
      "source": [
        "# Apply k-Fold Cross Validation on the training set\n",
        "from sklearn.model_selection import cross_val_score, RepeatedStratifiedKFold\n",
        "from sklearn.metrics import mean_absolute_error, mean_squared_error, r2_score\n",
        "\n",
        "# Lists of values\n",
        "r2_means, r2_stds, r2_mins, r2_maxs = [], [], [], []  # R^2 Scoring\n",
        "rmse_means, rmse_stds, rmse_mins, rmse_maxs = [], [], [], []  # RMSE Scoring\n",
        "# Cross validate for 10 k-folds, each with 3 repeats\n",
        "for k in range(2, 12):\n",
        "  cv = RepeatedStratifiedKFold(n_splits = k, n_repeats = 3, random_state = 0)\n",
        "  r2_scores = cross_val_score(reg, X_train, y_train, scoring='r2', cv=cv, n_jobs=-1)\n",
        "  # scores = cross_val_score(reg, X_train, y_train, scoring='neg_mean_absolute_error', cv=cv, n_jobs=-1)\n",
        "  # scores = cross_val_score(reg, X_train, y_train, scoring='neg_mean_squared_error', cv=cv, n_jobs=-1)\n",
        "  rmse_scores = cross_val_score(reg, X_train, y_train, scoring='neg_root_mean_squared_error', cv=cv, n_jobs=-1)\n",
        "  \n",
        "  # Force scores to be positive\n",
        "  r2_scores = abs(r2_scores)\n",
        "  rmse_scores = abs(rmse_scores)\n",
        "\n",
        "  # Print values\n",
        "  print('')\n",
        "  print('-- Fold: %d --' % (k-1))\n",
        "  print('')\n",
        "  print('R^2 Scoring:')\n",
        "  print(\"Mean: %f\" % (np.mean(r2_scores)))\n",
        "  print(\"Std: +/- %f\" % (np.std(r2_scores)))\n",
        "  print(\"Min: %f\" % (np.min(r2_scores)))\n",
        "  print(\"Max: %f\" % (np.max(r2_scores)))\n",
        "  \n",
        "  print('')\n",
        "  print('RMSE Scoring:')\n",
        "  print(\"Mean: %f\" % (np.mean(rmse_scores)))\n",
        "  print(\"Std: +/- %f\" % (np.std(rmse_scores)))\n",
        "  print(\"Min: %f\" % (np.min(rmse_scores)))\n",
        "  print(\"Max: %f\" % (np.max(rmse_scores)))\n",
        "  print('')\n",
        "  \n",
        "  # Append R^2 scores\n",
        "  r2_means.append(np.mean(r2_scores))\n",
        "  r2_stds.append(np.std(r2_scores))\n",
        "  r2_mins.append(np.min(r2_scores))\n",
        "  r2_maxs.append(np.max(r2_scores))\n",
        "  \n",
        "  # Append RMSE scores\n",
        "  rmse_means.append(np.mean(rmse_scores))\n",
        "  rmse_stds.append(np.std(rmse_scores))\n",
        "  rmse_mins.append(np.min(rmse_scores))\n",
        "  rmse_maxs.append(np.max(rmse_scores))\n",
        "\n",
        "# Plot R^2 scores per k-fold:\n",
        "fig2 = plt.figure(figsize=(15, 10))\n",
        "ax1 = fig2.add_subplot(2, 2, 1)\n",
        "ax1.plot(np.arange(1,11), r2_means, color='red', label='Mean')\n",
        "ax1.plot(np.arange(1,11), r2_mins, color='green', label='Min')\n",
        "ax1.plot(np.arange(1,11), r2_maxs, color='blue', label='Max')\n",
        "ax1.set_xlabel('k-Fold', fontsize=12)\n",
        "ax1.set_ylabel('R^2 Score', fontsize=12)\n",
        "ax1.set_title('R^2 Score per k-Fold', fontsize=14)\n",
        "ax1.legend()\n",
        "ax1.grid(True)\n",
        "\n",
        "# Plot R^2 Standard Deviations per k-fold:\n",
        "ax2 = fig2.add_subplot(2, 2, 2)\n",
        "ax2.plot(np.arange(1,11), r2_stds, color='red')\n",
        "ax2.set_xlabel('k-Fold', fontsize=12)\n",
        "ax2.set_ylabel('Standard Deviation (+/-)', fontsize=12)\n",
        "ax2.set_title('R^2 Standard Deviation per k-fold', fontsize=14)\n",
        "ax2.grid(True)\n",
        "\n",
        "# Plot RMSE scores per k-fold:\n",
        "ax3 = fig2.add_subplot(2, 2, 3)\n",
        "ax3.plot(np.arange(1,11), rmse_means, color='orangered', label='Mean')\n",
        "ax3.plot(np.arange(1,11), rmse_mins, color='green', label='Min')\n",
        "ax3.plot(np.arange(1,11), rmse_maxs, color='blue', label='Max')\n",
        "ax3.set_xlabel('k-Fold', fontsize=12)\n",
        "ax3.set_ylabel('RMSE Score', fontsize=12)\n",
        "ax3.set_title('RMSE Score per k-Fold', fontsize=14)\n",
        "ax3.legend()\n",
        "ax3.grid(True)\n",
        "\n",
        "# Plot RMSE Standard Deviations per k-fold:\n",
        "ax4 = fig2.add_subplot(2, 2, 4)\n",
        "ax4.plot(np.arange(1,11), rmse_stds, color='orangered')\n",
        "ax4.set_xlabel('k-Fold', fontsize=12)\n",
        "ax4.set_ylabel('Standard Deviation (+/-)', fontsize=12)\n",
        "ax4.set_title('RMSE Standard Deviation per k-fold', fontsize=14)\n",
        "ax4.grid(True)\n",
        "\n",
        "# Show subplot\n",
        "plt.show()\n"
      ],
      "execution_count": null,
      "outputs": [
        {
          "output_type": "stream",
          "text": [
            "/usr/local/lib/python3.7/dist-packages/sklearn/model_selection/_split.py:667: UserWarning: The least populated class in y has only 1 members, which is less than n_splits=2.\n",
            "  % (min_groups, self.n_splits)), UserWarning)\n",
            "/usr/local/lib/python3.7/dist-packages/sklearn/model_selection/_split.py:667: UserWarning: The least populated class in y has only 1 members, which is less than n_splits=2.\n",
            "  % (min_groups, self.n_splits)), UserWarning)\n",
            "/usr/local/lib/python3.7/dist-packages/sklearn/model_selection/_split.py:667: UserWarning: The least populated class in y has only 1 members, which is less than n_splits=2.\n",
            "  % (min_groups, self.n_splits)), UserWarning)\n",
            "/usr/local/lib/python3.7/dist-packages/sklearn/model_selection/_split.py:667: UserWarning: The least populated class in y has only 1 members, which is less than n_splits=2.\n",
            "  % (min_groups, self.n_splits)), UserWarning)\n",
            "/usr/local/lib/python3.7/dist-packages/sklearn/model_selection/_split.py:667: UserWarning: The least populated class in y has only 1 members, which is less than n_splits=2.\n",
            "  % (min_groups, self.n_splits)), UserWarning)\n",
            "/usr/local/lib/python3.7/dist-packages/sklearn/model_selection/_split.py:667: UserWarning: The least populated class in y has only 1 members, which is less than n_splits=2.\n",
            "  % (min_groups, self.n_splits)), UserWarning)\n"
          ],
          "name": "stderr"
        },
        {
          "output_type": "stream",
          "text": [
            "\n",
            "-- Fold: 1 --\n",
            "\n",
            "R^2 Scoring:\n",
            "Mean: 0.856110\n",
            "Std: +/- 0.027534\n",
            "Min: 0.806002\n",
            "Max: 0.887918\n",
            "\n",
            "RMSE Scoring:\n",
            "Mean: 1.654173\n",
            "Std: +/- 0.129140\n",
            "Min: 1.498474\n",
            "Max: 1.893301\n",
            "\n"
          ],
          "name": "stdout"
        },
        {
          "output_type": "stream",
          "text": [
            "/usr/local/lib/python3.7/dist-packages/sklearn/model_selection/_split.py:667: UserWarning: The least populated class in y has only 1 members, which is less than n_splits=3.\n",
            "  % (min_groups, self.n_splits)), UserWarning)\n",
            "/usr/local/lib/python3.7/dist-packages/sklearn/model_selection/_split.py:667: UserWarning: The least populated class in y has only 1 members, which is less than n_splits=3.\n",
            "  % (min_groups, self.n_splits)), UserWarning)\n",
            "/usr/local/lib/python3.7/dist-packages/sklearn/model_selection/_split.py:667: UserWarning: The least populated class in y has only 1 members, which is less than n_splits=3.\n",
            "  % (min_groups, self.n_splits)), UserWarning)\n",
            "/usr/local/lib/python3.7/dist-packages/sklearn/model_selection/_split.py:667: UserWarning: The least populated class in y has only 1 members, which is less than n_splits=3.\n",
            "  % (min_groups, self.n_splits)), UserWarning)\n",
            "/usr/local/lib/python3.7/dist-packages/sklearn/model_selection/_split.py:667: UserWarning: The least populated class in y has only 1 members, which is less than n_splits=3.\n",
            "  % (min_groups, self.n_splits)), UserWarning)\n",
            "/usr/local/lib/python3.7/dist-packages/sklearn/model_selection/_split.py:667: UserWarning: The least populated class in y has only 1 members, which is less than n_splits=3.\n",
            "  % (min_groups, self.n_splits)), UserWarning)\n"
          ],
          "name": "stderr"
        },
        {
          "output_type": "stream",
          "text": [
            "\n",
            "-- Fold: 2 --\n",
            "\n",
            "R^2 Scoring:\n",
            "Mean: 0.870171\n",
            "Std: +/- 0.020240\n",
            "Min: 0.829313\n",
            "Max: 0.900725\n",
            "\n",
            "RMSE Scoring:\n",
            "Mean: 1.576666\n",
            "Std: +/- 0.127178\n",
            "Min: 1.379989\n",
            "Max: 1.822400\n",
            "\n"
          ],
          "name": "stdout"
        },
        {
          "output_type": "stream",
          "text": [
            "/usr/local/lib/python3.7/dist-packages/sklearn/model_selection/_split.py:667: UserWarning: The least populated class in y has only 1 members, which is less than n_splits=4.\n",
            "  % (min_groups, self.n_splits)), UserWarning)\n",
            "/usr/local/lib/python3.7/dist-packages/sklearn/model_selection/_split.py:667: UserWarning: The least populated class in y has only 1 members, which is less than n_splits=4.\n",
            "  % (min_groups, self.n_splits)), UserWarning)\n",
            "/usr/local/lib/python3.7/dist-packages/sklearn/model_selection/_split.py:667: UserWarning: The least populated class in y has only 1 members, which is less than n_splits=4.\n",
            "  % (min_groups, self.n_splits)), UserWarning)\n",
            "/usr/local/lib/python3.7/dist-packages/sklearn/model_selection/_split.py:667: UserWarning: The least populated class in y has only 1 members, which is less than n_splits=4.\n",
            "  % (min_groups, self.n_splits)), UserWarning)\n",
            "/usr/local/lib/python3.7/dist-packages/sklearn/model_selection/_split.py:667: UserWarning: The least populated class in y has only 1 members, which is less than n_splits=4.\n",
            "  % (min_groups, self.n_splits)), UserWarning)\n",
            "/usr/local/lib/python3.7/dist-packages/sklearn/model_selection/_split.py:667: UserWarning: The least populated class in y has only 1 members, which is less than n_splits=4.\n",
            "  % (min_groups, self.n_splits)), UserWarning)\n"
          ],
          "name": "stderr"
        },
        {
          "output_type": "stream",
          "text": [
            "\n",
            "-- Fold: 3 --\n",
            "\n",
            "R^2 Scoring:\n",
            "Mean: 0.864014\n",
            "Std: +/- 0.049510\n",
            "Min: 0.751815\n",
            "Max: 0.913961\n",
            "\n",
            "RMSE Scoring:\n",
            "Mean: 1.590629\n",
            "Std: +/- 0.273254\n",
            "Min: 1.257187\n",
            "Max: 2.190875\n",
            "\n"
          ],
          "name": "stdout"
        },
        {
          "output_type": "stream",
          "text": [
            "/usr/local/lib/python3.7/dist-packages/sklearn/model_selection/_split.py:667: UserWarning: The least populated class in y has only 1 members, which is less than n_splits=5.\n",
            "  % (min_groups, self.n_splits)), UserWarning)\n",
            "/usr/local/lib/python3.7/dist-packages/sklearn/model_selection/_split.py:667: UserWarning: The least populated class in y has only 1 members, which is less than n_splits=5.\n",
            "  % (min_groups, self.n_splits)), UserWarning)\n",
            "/usr/local/lib/python3.7/dist-packages/sklearn/model_selection/_split.py:667: UserWarning: The least populated class in y has only 1 members, which is less than n_splits=5.\n",
            "  % (min_groups, self.n_splits)), UserWarning)\n",
            "/usr/local/lib/python3.7/dist-packages/sklearn/model_selection/_split.py:667: UserWarning: The least populated class in y has only 1 members, which is less than n_splits=5.\n",
            "  % (min_groups, self.n_splits)), UserWarning)\n",
            "/usr/local/lib/python3.7/dist-packages/sklearn/model_selection/_split.py:667: UserWarning: The least populated class in y has only 1 members, which is less than n_splits=5.\n",
            "  % (min_groups, self.n_splits)), UserWarning)\n",
            "/usr/local/lib/python3.7/dist-packages/sklearn/model_selection/_split.py:667: UserWarning: The least populated class in y has only 1 members, which is less than n_splits=5.\n",
            "  % (min_groups, self.n_splits)), UserWarning)\n"
          ],
          "name": "stderr"
        },
        {
          "output_type": "stream",
          "text": [
            "\n",
            "-- Fold: 4 --\n",
            "\n",
            "R^2 Scoring:\n",
            "Mean: 0.869558\n",
            "Std: +/- 0.047888\n",
            "Min: 0.742094\n",
            "Max: 0.932015\n",
            "\n",
            "RMSE Scoring:\n",
            "Mean: 1.557954\n",
            "Std: +/- 0.269574\n",
            "Min: 1.160804\n",
            "Max: 2.208779\n",
            "\n"
          ],
          "name": "stdout"
        },
        {
          "output_type": "stream",
          "text": [
            "/usr/local/lib/python3.7/dist-packages/sklearn/model_selection/_split.py:667: UserWarning: The least populated class in y has only 1 members, which is less than n_splits=6.\n",
            "  % (min_groups, self.n_splits)), UserWarning)\n",
            "/usr/local/lib/python3.7/dist-packages/sklearn/model_selection/_split.py:667: UserWarning: The least populated class in y has only 1 members, which is less than n_splits=6.\n",
            "  % (min_groups, self.n_splits)), UserWarning)\n",
            "/usr/local/lib/python3.7/dist-packages/sklearn/model_selection/_split.py:667: UserWarning: The least populated class in y has only 1 members, which is less than n_splits=6.\n",
            "  % (min_groups, self.n_splits)), UserWarning)\n",
            "/usr/local/lib/python3.7/dist-packages/sklearn/model_selection/_split.py:667: UserWarning: The least populated class in y has only 1 members, which is less than n_splits=6.\n",
            "  % (min_groups, self.n_splits)), UserWarning)\n",
            "/usr/local/lib/python3.7/dist-packages/sklearn/model_selection/_split.py:667: UserWarning: The least populated class in y has only 1 members, which is less than n_splits=6.\n",
            "  % (min_groups, self.n_splits)), UserWarning)\n",
            "/usr/local/lib/python3.7/dist-packages/sklearn/model_selection/_split.py:667: UserWarning: The least populated class in y has only 1 members, which is less than n_splits=6.\n",
            "  % (min_groups, self.n_splits)), UserWarning)\n"
          ],
          "name": "stderr"
        },
        {
          "output_type": "stream",
          "text": [
            "\n",
            "-- Fold: 5 --\n",
            "\n",
            "R^2 Scoring:\n",
            "Mean: 0.875562\n",
            "Std: +/- 0.045893\n",
            "Min: 0.758208\n",
            "Max: 0.931413\n",
            "\n",
            "RMSE Scoring:\n",
            "Mean: 1.518706\n",
            "Std: +/- 0.248358\n",
            "Min: 1.145048\n",
            "Max: 2.129818\n",
            "\n"
          ],
          "name": "stdout"
        },
        {
          "output_type": "stream",
          "text": [
            "/usr/local/lib/python3.7/dist-packages/sklearn/model_selection/_split.py:667: UserWarning: The least populated class in y has only 1 members, which is less than n_splits=7.\n",
            "  % (min_groups, self.n_splits)), UserWarning)\n",
            "/usr/local/lib/python3.7/dist-packages/sklearn/model_selection/_split.py:667: UserWarning: The least populated class in y has only 1 members, which is less than n_splits=7.\n",
            "  % (min_groups, self.n_splits)), UserWarning)\n",
            "/usr/local/lib/python3.7/dist-packages/sklearn/model_selection/_split.py:667: UserWarning: The least populated class in y has only 1 members, which is less than n_splits=7.\n",
            "  % (min_groups, self.n_splits)), UserWarning)\n",
            "/usr/local/lib/python3.7/dist-packages/sklearn/model_selection/_split.py:667: UserWarning: The least populated class in y has only 1 members, which is less than n_splits=7.\n",
            "  % (min_groups, self.n_splits)), UserWarning)\n",
            "/usr/local/lib/python3.7/dist-packages/sklearn/model_selection/_split.py:667: UserWarning: The least populated class in y has only 1 members, which is less than n_splits=7.\n",
            "  % (min_groups, self.n_splits)), UserWarning)\n",
            "/usr/local/lib/python3.7/dist-packages/sklearn/model_selection/_split.py:667: UserWarning: The least populated class in y has only 1 members, which is less than n_splits=7.\n",
            "  % (min_groups, self.n_splits)), UserWarning)\n"
          ],
          "name": "stderr"
        },
        {
          "output_type": "stream",
          "text": [
            "\n",
            "-- Fold: 6 --\n",
            "\n",
            "R^2 Scoring:\n",
            "Mean: 0.863705\n",
            "Std: +/- 0.072450\n",
            "Min: 0.605067\n",
            "Max: 0.928801\n",
            "\n",
            "RMSE Scoring:\n",
            "Mean: 1.571919\n",
            "Std: +/- 0.366920\n",
            "Min: 1.176612\n",
            "Max: 2.728555\n",
            "\n"
          ],
          "name": "stdout"
        },
        {
          "output_type": "stream",
          "text": [
            "/usr/local/lib/python3.7/dist-packages/sklearn/model_selection/_split.py:667: UserWarning: The least populated class in y has only 1 members, which is less than n_splits=8.\n",
            "  % (min_groups, self.n_splits)), UserWarning)\n",
            "/usr/local/lib/python3.7/dist-packages/sklearn/model_selection/_split.py:667: UserWarning: The least populated class in y has only 1 members, which is less than n_splits=8.\n",
            "  % (min_groups, self.n_splits)), UserWarning)\n",
            "/usr/local/lib/python3.7/dist-packages/sklearn/model_selection/_split.py:667: UserWarning: The least populated class in y has only 1 members, which is less than n_splits=8.\n",
            "  % (min_groups, self.n_splits)), UserWarning)\n",
            "/usr/local/lib/python3.7/dist-packages/sklearn/model_selection/_split.py:667: UserWarning: The least populated class in y has only 1 members, which is less than n_splits=8.\n",
            "  % (min_groups, self.n_splits)), UserWarning)\n",
            "/usr/local/lib/python3.7/dist-packages/sklearn/model_selection/_split.py:667: UserWarning: The least populated class in y has only 1 members, which is less than n_splits=8.\n",
            "  % (min_groups, self.n_splits)), UserWarning)\n",
            "/usr/local/lib/python3.7/dist-packages/sklearn/model_selection/_split.py:667: UserWarning: The least populated class in y has only 1 members, which is less than n_splits=8.\n",
            "  % (min_groups, self.n_splits)), UserWarning)\n"
          ],
          "name": "stderr"
        },
        {
          "output_type": "stream",
          "text": [
            "\n",
            "-- Fold: 7 --\n",
            "\n",
            "R^2 Scoring:\n",
            "Mean: 0.873999\n",
            "Std: +/- 0.045481\n",
            "Min: 0.789745\n",
            "Max: 0.954150\n",
            "\n",
            "RMSE Scoring:\n",
            "Mean: 1.523871\n",
            "Std: +/- 0.271964\n",
            "Min: 0.888459\n",
            "Max: 1.978849\n",
            "\n"
          ],
          "name": "stdout"
        },
        {
          "output_type": "stream",
          "text": [
            "/usr/local/lib/python3.7/dist-packages/sklearn/model_selection/_split.py:667: UserWarning: The least populated class in y has only 1 members, which is less than n_splits=9.\n",
            "  % (min_groups, self.n_splits)), UserWarning)\n",
            "/usr/local/lib/python3.7/dist-packages/sklearn/model_selection/_split.py:667: UserWarning: The least populated class in y has only 1 members, which is less than n_splits=9.\n",
            "  % (min_groups, self.n_splits)), UserWarning)\n",
            "/usr/local/lib/python3.7/dist-packages/sklearn/model_selection/_split.py:667: UserWarning: The least populated class in y has only 1 members, which is less than n_splits=9.\n",
            "  % (min_groups, self.n_splits)), UserWarning)\n",
            "/usr/local/lib/python3.7/dist-packages/sklearn/model_selection/_split.py:667: UserWarning: The least populated class in y has only 1 members, which is less than n_splits=9.\n",
            "  % (min_groups, self.n_splits)), UserWarning)\n",
            "/usr/local/lib/python3.7/dist-packages/sklearn/model_selection/_split.py:667: UserWarning: The least populated class in y has only 1 members, which is less than n_splits=9.\n",
            "  % (min_groups, self.n_splits)), UserWarning)\n",
            "/usr/local/lib/python3.7/dist-packages/sklearn/model_selection/_split.py:667: UserWarning: The least populated class in y has only 1 members, which is less than n_splits=9.\n",
            "  % (min_groups, self.n_splits)), UserWarning)\n"
          ],
          "name": "stderr"
        },
        {
          "output_type": "stream",
          "text": [
            "\n",
            "-- Fold: 8 --\n",
            "\n",
            "R^2 Scoring:\n",
            "Mean: 0.871846\n",
            "Std: +/- 0.062901\n",
            "Min: 0.700767\n",
            "Max: 0.941812\n",
            "\n",
            "RMSE Scoring:\n",
            "Mean: 1.528295\n",
            "Std: +/- 0.347270\n",
            "Min: 1.038394\n",
            "Max: 2.421064\n",
            "\n"
          ],
          "name": "stdout"
        },
        {
          "output_type": "stream",
          "text": [
            "/usr/local/lib/python3.7/dist-packages/sklearn/model_selection/_split.py:667: UserWarning: The least populated class in y has only 1 members, which is less than n_splits=10.\n",
            "  % (min_groups, self.n_splits)), UserWarning)\n",
            "/usr/local/lib/python3.7/dist-packages/sklearn/model_selection/_split.py:667: UserWarning: The least populated class in y has only 1 members, which is less than n_splits=10.\n",
            "  % (min_groups, self.n_splits)), UserWarning)\n",
            "/usr/local/lib/python3.7/dist-packages/sklearn/model_selection/_split.py:667: UserWarning: The least populated class in y has only 1 members, which is less than n_splits=10.\n",
            "  % (min_groups, self.n_splits)), UserWarning)\n",
            "/usr/local/lib/python3.7/dist-packages/sklearn/model_selection/_split.py:667: UserWarning: The least populated class in y has only 1 members, which is less than n_splits=10.\n",
            "  % (min_groups, self.n_splits)), UserWarning)\n",
            "/usr/local/lib/python3.7/dist-packages/sklearn/model_selection/_split.py:667: UserWarning: The least populated class in y has only 1 members, which is less than n_splits=10.\n",
            "  % (min_groups, self.n_splits)), UserWarning)\n",
            "/usr/local/lib/python3.7/dist-packages/sklearn/model_selection/_split.py:667: UserWarning: The least populated class in y has only 1 members, which is less than n_splits=10.\n",
            "  % (min_groups, self.n_splits)), UserWarning)\n"
          ],
          "name": "stderr"
        },
        {
          "output_type": "stream",
          "text": [
            "\n",
            "-- Fold: 9 --\n",
            "\n",
            "R^2 Scoring:\n",
            "Mean: 0.873774\n",
            "Std: +/- 0.060776\n",
            "Min: 0.713649\n",
            "Max: 0.962795\n",
            "\n",
            "RMSE Scoring:\n",
            "Mean: 1.512617\n",
            "Std: +/- 0.364740\n",
            "Min: 0.828216\n",
            "Max: 2.349665\n",
            "\n"
          ],
          "name": "stdout"
        },
        {
          "output_type": "stream",
          "text": [
            "/usr/local/lib/python3.7/dist-packages/sklearn/model_selection/_split.py:667: UserWarning: The least populated class in y has only 1 members, which is less than n_splits=11.\n",
            "  % (min_groups, self.n_splits)), UserWarning)\n",
            "/usr/local/lib/python3.7/dist-packages/sklearn/model_selection/_split.py:667: UserWarning: The least populated class in y has only 1 members, which is less than n_splits=11.\n",
            "  % (min_groups, self.n_splits)), UserWarning)\n",
            "/usr/local/lib/python3.7/dist-packages/sklearn/model_selection/_split.py:667: UserWarning: The least populated class in y has only 1 members, which is less than n_splits=11.\n",
            "  % (min_groups, self.n_splits)), UserWarning)\n",
            "/usr/local/lib/python3.7/dist-packages/sklearn/model_selection/_split.py:667: UserWarning: The least populated class in y has only 1 members, which is less than n_splits=11.\n",
            "  % (min_groups, self.n_splits)), UserWarning)\n",
            "/usr/local/lib/python3.7/dist-packages/sklearn/model_selection/_split.py:667: UserWarning: The least populated class in y has only 1 members, which is less than n_splits=11.\n",
            "  % (min_groups, self.n_splits)), UserWarning)\n",
            "/usr/local/lib/python3.7/dist-packages/sklearn/model_selection/_split.py:667: UserWarning: The least populated class in y has only 1 members, which is less than n_splits=11.\n",
            "  % (min_groups, self.n_splits)), UserWarning)\n"
          ],
          "name": "stderr"
        },
        {
          "output_type": "stream",
          "text": [
            "\n",
            "-- Fold: 10 --\n",
            "\n",
            "R^2 Scoring:\n",
            "Mean: 0.879710\n",
            "Std: +/- 0.069803\n",
            "Min: 0.704629\n",
            "Max: 0.980106\n",
            "\n",
            "RMSE Scoring:\n",
            "Mean: 1.450633\n",
            "Std: +/- 0.459594\n",
            "Min: 0.659385\n",
            "Max: 2.422124\n",
            "\n"
          ],
          "name": "stdout"
        },
        {
          "output_type": "display_data",
          "data": {
            "image/png": "[encoded data removed]",
            "text/plain": [
              "<Figure size 1080x720 with 4 Axes>"
            ]
          },
          "metadata": {
            "tags": [],
            "needs_background": "light"
          }
        }
      ]
    },
    {
      "cell_type": "markdown",
      "metadata": {
        "id": "dAN8sW_-0PWt"
      },
      "source": [
        "<table border = \"1\">\n",
        "  <thead>\n",
        "    <th colspan = \"3\">Cross-Validation Results</th>\n",
        "  </thead>\n",
        "  <tbody>\n",
        "    <tr>\n",
        "      <td><b></b></td>\n",
        "      <td><b>R^2</b></td>\n",
        "      <td><b>RMSE</b></td>\n",
        "    </tr>\n",
        "    <tr>\n",
        "      <td><b>Mean</b></td>\n",
        "      <td>0.880</td>\n",
        "      <td>1.451</td>\n",
        "    </tr>\n",
        "    <tr>\n",
        "      <td><b>Std.</b></td>\n",
        "      <td>0.070</td>\n",
        "      <td>0.460</td>\n",
        "    </tr>\n",
        "    <tr>\n",
        "      <td><b>Min</b></td>\n",
        "      <td>0.705</td>\n",
        "      <td>0.659</td>\n",
        "    </tr>\n",
        "    <tr>\n",
        "      <td><b>Max</b></td>\n",
        "      <td>0.980</td>\n",
        "      <td>2.422</td>\n",
        "    </tr>\n",
        "  </tbody>\n",
        "</table>"
      ]
    },
    {
      "cell_type": "code",
      "metadata": {
        "colab": {
          "base_uri": "https://localhost:8080/"
        },
        "id": "JbDs15wREGOI",
        "outputId": "f8eabd0e-0ef8-4be4-dccd-9c84632d8116"
      },
      "source": [
        "# Apply Grid Search for parameter tuning\n",
        "from sklearn.model_selection import GridSearchCV\n",
        "\n",
        "# param_dict = {'n_estimators': [50, 100, 150, 200, 250],\n",
        "#               'criterion': ['mse', 'mae'],\n",
        "#               'max_depth': [10, 25, 50, 75, 100],\n",
        "#               'min_samples_leaf': [2, 5, 10],\n",
        "#               'min_samples_split': [2, 5, 10],\n",
        "#               'max_samples': [0.2, 0.4, 0.6, 0.8, 1],\n",
        "#               'random_state': [0, 1, 2]}\n",
        "\n",
        "# R2 scoring\n",
        "param_dict = {'max_depth': [30],\n",
        "              'min_samples_split': [2],\n",
        "              'min_samples_leaf': [4],\n",
        "              'n_estimators': [69],\n",
        "              'max_samples': [0.87],\n",
        "              'max_features': [29],\n",
        "              'criterion': ['mse'],\n",
        "              'random_state': [20]}\n",
        "\n",
        "# grid = GridSearchCV(reg, param_dict, scoring='neg_mean_absolute_error', cv=cv, n_jobs=-1)\n",
        "# grid = GridSearchCV(reg, param_dict, scoring='neg_mean_squared_error', cv=cv, n_jobs=-1)\n",
        "# grid = GridSearchCV(reg, param_dict, scoring='neg_root_mean_squared_error', cv=cv, n_jobs=-1)\n",
        "grid = GridSearchCV(reg, param_dict, scoring='r2', cv=cv, n_jobs=-1)\n",
        "results = grid.fit(X_train, y_train)\n",
        "\n",
        "# Summarize results\n",
        "best_score = grid.best_score_\n",
        "best_parameters = grid.best_params_\n",
        "print(\"Best Score: %.3f%%\" % (np.abs(best_score * 100)))  # R^2 Scoring\n",
        "# print(\"Best Score: %.3f%%\" % (np.abs(best_score)))  # RMSE\n",
        "print(\"Best Parameters: \", best_parameters)\n"
      ],
      "execution_count": null,
      "outputs": [
        {
          "output_type": "stream",
          "text": [
            "/usr/local/lib/python3.7/dist-packages/sklearn/model_selection/_split.py:667: UserWarning: The least populated class in y has only 1 members, which is less than n_splits=11.\n",
            "  % (min_groups, self.n_splits)), UserWarning)\n",
            "/usr/local/lib/python3.7/dist-packages/sklearn/model_selection/_split.py:667: UserWarning: The least populated class in y has only 1 members, which is less than n_splits=11.\n",
            "  % (min_groups, self.n_splits)), UserWarning)\n",
            "/usr/local/lib/python3.7/dist-packages/sklearn/model_selection/_split.py:667: UserWarning: The least populated class in y has only 1 members, which is less than n_splits=11.\n",
            "  % (min_groups, self.n_splits)), UserWarning)\n"
          ],
          "name": "stderr"
        },
        {
          "output_type": "stream",
          "text": [
            "Best Score: 87.971%\n",
            "Best Parameters:  {'criterion': 'mse', 'max_depth': 30, 'max_features': 29, 'max_samples': 0.87, 'min_samples_leaf': 4, 'min_samples_split': 2, 'n_estimators': 69, 'random_state': 20}\n"
          ],
          "name": "stdout"
        }
      ]
    },
    {
      "cell_type": "markdown",
      "metadata": {
        "id": "onwb2-RxDHrC"
      },
      "source": [
        "<table border = \"1\">\n",
        "  <thead>\n",
        "    <th colspan = \"2\">Grid Search Results</th>\n",
        "  </thead>\n",
        "  <tbody>\n",
        "    <tr>\n",
        "      <td><b>Best Score</b></td>\n",
        "      <td>87.971%</td>\n",
        "    </tr>\n",
        "    <tr>\n",
        "      <td colspan=\"2\"><b>Best Parameters:</b></td>\n",
        "    </tr>\n",
        "    <tr>\n",
        "      <td><b>criterion</b></td>\n",
        "      <td>'mse'</td>\n",
        "    </tr>\n",
        "    <tr>\n",
        "      <td><b>max_depth</b></td>\n",
        "      <td>30</td>\n",
        "    </tr>\n",
        "    <tr>\n",
        "      <td><b>max_features</b></td>\n",
        "      <td>29</td>\n",
        "    </tr>\n",
        "    <tr>\n",
        "      <td><b>max_samples</b></td>\n",
        "      <td>0.87</td>\n",
        "    </tr>\n",
        "    <tr>\n",
        "      <td><b>min_samples_leaf</b></td>\n",
        "      <td>4</td>\n",
        "    </tr>\n",
        "    <tr>\n",
        "      <td><b>min_samples_split</b></td>\n",
        "      <td>2</td>\n",
        "    </tr>\n",
        "    <tr>\n",
        "      <td><b>n_estimators</b></td>\n",
        "      <td>69</td>\n",
        "    </tr>\n",
        "    <tr>\n",
        "      <td><b>random_state</b></td>\n",
        "      <td>20</td>\n",
        "    </tr>\n",
        "  </tbody>\n",
        "</table>"
      ]
    }
  ]
}
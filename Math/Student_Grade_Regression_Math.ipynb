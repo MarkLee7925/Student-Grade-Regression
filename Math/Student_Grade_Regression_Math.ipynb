{
  "nbformat": 4,
  "nbformat_minor": 0,
  "metadata": {
    "colab": {
      "name": "Student-Grade-Regression-Math.ipynb",
      "provenance": [],
      "collapsed_sections": []
    },
    "kernelspec": {
      "display_name": "Python 3",
      "name": "python3"
    }
  },
  "cells": [
    {
      "cell_type": "markdown",
      "metadata": {
        "id": "APZVoQmL47I1"
      },
      "source": [
        "# Student Grade Regression - Math"
      ]
    },
    {
      "cell_type": "markdown",
      "metadata": {
        "id": "nNx9hfINDIam"
      },
      "source": [
        "## 1. Import Libraries"
      ]
    },
    {
      "cell_type": "code",
      "metadata": {
        "id": "xuNOzl914e6q"
      },
      "source": [
        "import numpy as np\n",
        "import matplotlib.pyplot as plt\n",
        "import pandas as pd\n",
        "import seaborn as sns"
      ],
      "execution_count": 105,
      "outputs": []
    },
    {
      "cell_type": "markdown",
      "metadata": {
        "id": "dHpMeEh8Z40u"
      },
      "source": [
        "## 2. Load and Summarize Data"
      ]
    },
    {
      "cell_type": "code",
      "metadata": {
        "colab": {
          "base_uri": "https://localhost:8080/"
        },
        "id": "Vs4q7FIt4s8o",
        "outputId": "d9a7a35b-74e6-4dec-c393-b28ac39538d1"
      },
      "source": [
        "# Load dataframe (df)\n",
        "df = pd.read_csv('student-mat.csv')\n",
        "X, y = df.iloc[:, :-1].values, df.iloc[:, -1].values\n",
        "\n",
        "print(X.shape, y.shape)"
      ],
      "execution_count": 106,
      "outputs": [
        {
          "output_type": "stream",
          "text": [
            "(395, 32) (395,)\n"
          ],
          "name": "stdout"
        }
      ]
    },
    {
      "cell_type": "code",
      "metadata": {
        "colab": {
          "base_uri": "https://localhost:8080/",
          "height": 439
        },
        "id": "Y40bdlo6LmXA",
        "outputId": "be1cf4df-c61b-47b5-9cd4-67f197c53bf0"
      },
      "source": [
        "df"
      ],
      "execution_count": 107,
      "outputs": [
        {
          "output_type": "execute_result",
          "data": {
            "text/html": [
              "<div>\n",
              "<style scoped>\n",
              "    .dataframe tbody tr th:only-of-type {\n",
              "        vertical-align: middle;\n",
              "    }\n",
              "\n",
              "    .dataframe tbody tr th {\n",
              "        vertical-align: top;\n",
              "    }\n",
              "\n",
              "    .dataframe thead th {\n",
              "        text-align: right;\n",
              "    }\n",
              "</style>\n",
              "<table border=\"1\" class=\"dataframe\">\n",
              "  <thead>\n",
              "    <tr style=\"text-align: right;\">\n",
              "      <th></th>\n",
              "      <th>school</th>\n",
              "      <th>sex</th>\n",
              "      <th>age</th>\n",
              "      <th>address</th>\n",
              "      <th>famsize</th>\n",
              "      <th>Pstatus</th>\n",
              "      <th>Medu</th>\n",
              "      <th>Fedu</th>\n",
              "      <th>Mjob</th>\n",
              "      <th>Fjob</th>\n",
              "      <th>reason</th>\n",
              "      <th>guardian</th>\n",
              "      <th>traveltime</th>\n",
              "      <th>studytime</th>\n",
              "      <th>failures</th>\n",
              "      <th>schoolsup</th>\n",
              "      <th>famsup</th>\n",
              "      <th>paid</th>\n",
              "      <th>activities</th>\n",
              "      <th>nursery</th>\n",
              "      <th>higher</th>\n",
              "      <th>internet</th>\n",
              "      <th>romantic</th>\n",
              "      <th>famrel</th>\n",
              "      <th>freetime</th>\n",
              "      <th>goout</th>\n",
              "      <th>Dalc</th>\n",
              "      <th>Walc</th>\n",
              "      <th>health</th>\n",
              "      <th>absences</th>\n",
              "      <th>G1</th>\n",
              "      <th>G2</th>\n",
              "      <th>G3</th>\n",
              "    </tr>\n",
              "  </thead>\n",
              "  <tbody>\n",
              "    <tr>\n",
              "      <th>0</th>\n",
              "      <td>GP</td>\n",
              "      <td>F</td>\n",
              "      <td>18</td>\n",
              "      <td>U</td>\n",
              "      <td>GT3</td>\n",
              "      <td>A</td>\n",
              "      <td>4</td>\n",
              "      <td>4</td>\n",
              "      <td>at_home</td>\n",
              "      <td>teacher</td>\n",
              "      <td>course</td>\n",
              "      <td>mother</td>\n",
              "      <td>2</td>\n",
              "      <td>2</td>\n",
              "      <td>0</td>\n",
              "      <td>yes</td>\n",
              "      <td>no</td>\n",
              "      <td>no</td>\n",
              "      <td>no</td>\n",
              "      <td>yes</td>\n",
              "      <td>yes</td>\n",
              "      <td>no</td>\n",
              "      <td>no</td>\n",
              "      <td>4</td>\n",
              "      <td>3</td>\n",
              "      <td>4</td>\n",
              "      <td>1</td>\n",
              "      <td>1</td>\n",
              "      <td>3</td>\n",
              "      <td>6</td>\n",
              "      <td>5</td>\n",
              "      <td>6</td>\n",
              "      <td>6</td>\n",
              "    </tr>\n",
              "    <tr>\n",
              "      <th>1</th>\n",
              "      <td>GP</td>\n",
              "      <td>F</td>\n",
              "      <td>17</td>\n",
              "      <td>U</td>\n",
              "      <td>GT3</td>\n",
              "      <td>T</td>\n",
              "      <td>1</td>\n",
              "      <td>1</td>\n",
              "      <td>at_home</td>\n",
              "      <td>other</td>\n",
              "      <td>course</td>\n",
              "      <td>father</td>\n",
              "      <td>1</td>\n",
              "      <td>2</td>\n",
              "      <td>0</td>\n",
              "      <td>no</td>\n",
              "      <td>yes</td>\n",
              "      <td>no</td>\n",
              "      <td>no</td>\n",
              "      <td>no</td>\n",
              "      <td>yes</td>\n",
              "      <td>yes</td>\n",
              "      <td>no</td>\n",
              "      <td>5</td>\n",
              "      <td>3</td>\n",
              "      <td>3</td>\n",
              "      <td>1</td>\n",
              "      <td>1</td>\n",
              "      <td>3</td>\n",
              "      <td>4</td>\n",
              "      <td>5</td>\n",
              "      <td>5</td>\n",
              "      <td>6</td>\n",
              "    </tr>\n",
              "    <tr>\n",
              "      <th>2</th>\n",
              "      <td>GP</td>\n",
              "      <td>F</td>\n",
              "      <td>15</td>\n",
              "      <td>U</td>\n",
              "      <td>LE3</td>\n",
              "      <td>T</td>\n",
              "      <td>1</td>\n",
              "      <td>1</td>\n",
              "      <td>at_home</td>\n",
              "      <td>other</td>\n",
              "      <td>other</td>\n",
              "      <td>mother</td>\n",
              "      <td>1</td>\n",
              "      <td>2</td>\n",
              "      <td>3</td>\n",
              "      <td>yes</td>\n",
              "      <td>no</td>\n",
              "      <td>yes</td>\n",
              "      <td>no</td>\n",
              "      <td>yes</td>\n",
              "      <td>yes</td>\n",
              "      <td>yes</td>\n",
              "      <td>no</td>\n",
              "      <td>4</td>\n",
              "      <td>3</td>\n",
              "      <td>2</td>\n",
              "      <td>2</td>\n",
              "      <td>3</td>\n",
              "      <td>3</td>\n",
              "      <td>10</td>\n",
              "      <td>7</td>\n",
              "      <td>8</td>\n",
              "      <td>10</td>\n",
              "    </tr>\n",
              "    <tr>\n",
              "      <th>3</th>\n",
              "      <td>GP</td>\n",
              "      <td>F</td>\n",
              "      <td>15</td>\n",
              "      <td>U</td>\n",
              "      <td>GT3</td>\n",
              "      <td>T</td>\n",
              "      <td>4</td>\n",
              "      <td>2</td>\n",
              "      <td>health</td>\n",
              "      <td>services</td>\n",
              "      <td>home</td>\n",
              "      <td>mother</td>\n",
              "      <td>1</td>\n",
              "      <td>3</td>\n",
              "      <td>0</td>\n",
              "      <td>no</td>\n",
              "      <td>yes</td>\n",
              "      <td>yes</td>\n",
              "      <td>yes</td>\n",
              "      <td>yes</td>\n",
              "      <td>yes</td>\n",
              "      <td>yes</td>\n",
              "      <td>yes</td>\n",
              "      <td>3</td>\n",
              "      <td>2</td>\n",
              "      <td>2</td>\n",
              "      <td>1</td>\n",
              "      <td>1</td>\n",
              "      <td>5</td>\n",
              "      <td>2</td>\n",
              "      <td>15</td>\n",
              "      <td>14</td>\n",
              "      <td>15</td>\n",
              "    </tr>\n",
              "    <tr>\n",
              "      <th>4</th>\n",
              "      <td>GP</td>\n",
              "      <td>F</td>\n",
              "      <td>16</td>\n",
              "      <td>U</td>\n",
              "      <td>GT3</td>\n",
              "      <td>T</td>\n",
              "      <td>3</td>\n",
              "      <td>3</td>\n",
              "      <td>other</td>\n",
              "      <td>other</td>\n",
              "      <td>home</td>\n",
              "      <td>father</td>\n",
              "      <td>1</td>\n",
              "      <td>2</td>\n",
              "      <td>0</td>\n",
              "      <td>no</td>\n",
              "      <td>yes</td>\n",
              "      <td>yes</td>\n",
              "      <td>no</td>\n",
              "      <td>yes</td>\n",
              "      <td>yes</td>\n",
              "      <td>no</td>\n",
              "      <td>no</td>\n",
              "      <td>4</td>\n",
              "      <td>3</td>\n",
              "      <td>2</td>\n",
              "      <td>1</td>\n",
              "      <td>2</td>\n",
              "      <td>5</td>\n",
              "      <td>4</td>\n",
              "      <td>6</td>\n",
              "      <td>10</td>\n",
              "      <td>10</td>\n",
              "    </tr>\n",
              "    <tr>\n",
              "      <th>...</th>\n",
              "      <td>...</td>\n",
              "      <td>...</td>\n",
              "      <td>...</td>\n",
              "      <td>...</td>\n",
              "      <td>...</td>\n",
              "      <td>...</td>\n",
              "      <td>...</td>\n",
              "      <td>...</td>\n",
              "      <td>...</td>\n",
              "      <td>...</td>\n",
              "      <td>...</td>\n",
              "      <td>...</td>\n",
              "      <td>...</td>\n",
              "      <td>...</td>\n",
              "      <td>...</td>\n",
              "      <td>...</td>\n",
              "      <td>...</td>\n",
              "      <td>...</td>\n",
              "      <td>...</td>\n",
              "      <td>...</td>\n",
              "      <td>...</td>\n",
              "      <td>...</td>\n",
              "      <td>...</td>\n",
              "      <td>...</td>\n",
              "      <td>...</td>\n",
              "      <td>...</td>\n",
              "      <td>...</td>\n",
              "      <td>...</td>\n",
              "      <td>...</td>\n",
              "      <td>...</td>\n",
              "      <td>...</td>\n",
              "      <td>...</td>\n",
              "      <td>...</td>\n",
              "    </tr>\n",
              "    <tr>\n",
              "      <th>390</th>\n",
              "      <td>MS</td>\n",
              "      <td>M</td>\n",
              "      <td>20</td>\n",
              "      <td>U</td>\n",
              "      <td>LE3</td>\n",
              "      <td>A</td>\n",
              "      <td>2</td>\n",
              "      <td>2</td>\n",
              "      <td>services</td>\n",
              "      <td>services</td>\n",
              "      <td>course</td>\n",
              "      <td>other</td>\n",
              "      <td>1</td>\n",
              "      <td>2</td>\n",
              "      <td>2</td>\n",
              "      <td>no</td>\n",
              "      <td>yes</td>\n",
              "      <td>yes</td>\n",
              "      <td>no</td>\n",
              "      <td>yes</td>\n",
              "      <td>yes</td>\n",
              "      <td>no</td>\n",
              "      <td>no</td>\n",
              "      <td>5</td>\n",
              "      <td>5</td>\n",
              "      <td>4</td>\n",
              "      <td>4</td>\n",
              "      <td>5</td>\n",
              "      <td>4</td>\n",
              "      <td>11</td>\n",
              "      <td>9</td>\n",
              "      <td>9</td>\n",
              "      <td>9</td>\n",
              "    </tr>\n",
              "    <tr>\n",
              "      <th>391</th>\n",
              "      <td>MS</td>\n",
              "      <td>M</td>\n",
              "      <td>17</td>\n",
              "      <td>U</td>\n",
              "      <td>LE3</td>\n",
              "      <td>T</td>\n",
              "      <td>3</td>\n",
              "      <td>1</td>\n",
              "      <td>services</td>\n",
              "      <td>services</td>\n",
              "      <td>course</td>\n",
              "      <td>mother</td>\n",
              "      <td>2</td>\n",
              "      <td>1</td>\n",
              "      <td>0</td>\n",
              "      <td>no</td>\n",
              "      <td>no</td>\n",
              "      <td>no</td>\n",
              "      <td>no</td>\n",
              "      <td>no</td>\n",
              "      <td>yes</td>\n",
              "      <td>yes</td>\n",
              "      <td>no</td>\n",
              "      <td>2</td>\n",
              "      <td>4</td>\n",
              "      <td>5</td>\n",
              "      <td>3</td>\n",
              "      <td>4</td>\n",
              "      <td>2</td>\n",
              "      <td>3</td>\n",
              "      <td>14</td>\n",
              "      <td>16</td>\n",
              "      <td>16</td>\n",
              "    </tr>\n",
              "    <tr>\n",
              "      <th>392</th>\n",
              "      <td>MS</td>\n",
              "      <td>M</td>\n",
              "      <td>21</td>\n",
              "      <td>R</td>\n",
              "      <td>GT3</td>\n",
              "      <td>T</td>\n",
              "      <td>1</td>\n",
              "      <td>1</td>\n",
              "      <td>other</td>\n",
              "      <td>other</td>\n",
              "      <td>course</td>\n",
              "      <td>other</td>\n",
              "      <td>1</td>\n",
              "      <td>1</td>\n",
              "      <td>3</td>\n",
              "      <td>no</td>\n",
              "      <td>no</td>\n",
              "      <td>no</td>\n",
              "      <td>no</td>\n",
              "      <td>no</td>\n",
              "      <td>yes</td>\n",
              "      <td>no</td>\n",
              "      <td>no</td>\n",
              "      <td>5</td>\n",
              "      <td>5</td>\n",
              "      <td>3</td>\n",
              "      <td>3</td>\n",
              "      <td>3</td>\n",
              "      <td>3</td>\n",
              "      <td>3</td>\n",
              "      <td>10</td>\n",
              "      <td>8</td>\n",
              "      <td>7</td>\n",
              "    </tr>\n",
              "    <tr>\n",
              "      <th>393</th>\n",
              "      <td>MS</td>\n",
              "      <td>M</td>\n",
              "      <td>18</td>\n",
              "      <td>R</td>\n",
              "      <td>LE3</td>\n",
              "      <td>T</td>\n",
              "      <td>3</td>\n",
              "      <td>2</td>\n",
              "      <td>services</td>\n",
              "      <td>other</td>\n",
              "      <td>course</td>\n",
              "      <td>mother</td>\n",
              "      <td>3</td>\n",
              "      <td>1</td>\n",
              "      <td>0</td>\n",
              "      <td>no</td>\n",
              "      <td>no</td>\n",
              "      <td>no</td>\n",
              "      <td>no</td>\n",
              "      <td>no</td>\n",
              "      <td>yes</td>\n",
              "      <td>yes</td>\n",
              "      <td>no</td>\n",
              "      <td>4</td>\n",
              "      <td>4</td>\n",
              "      <td>1</td>\n",
              "      <td>3</td>\n",
              "      <td>4</td>\n",
              "      <td>5</td>\n",
              "      <td>0</td>\n",
              "      <td>11</td>\n",
              "      <td>12</td>\n",
              "      <td>10</td>\n",
              "    </tr>\n",
              "    <tr>\n",
              "      <th>394</th>\n",
              "      <td>MS</td>\n",
              "      <td>M</td>\n",
              "      <td>19</td>\n",
              "      <td>U</td>\n",
              "      <td>LE3</td>\n",
              "      <td>T</td>\n",
              "      <td>1</td>\n",
              "      <td>1</td>\n",
              "      <td>other</td>\n",
              "      <td>at_home</td>\n",
              "      <td>course</td>\n",
              "      <td>father</td>\n",
              "      <td>1</td>\n",
              "      <td>1</td>\n",
              "      <td>0</td>\n",
              "      <td>no</td>\n",
              "      <td>no</td>\n",
              "      <td>no</td>\n",
              "      <td>no</td>\n",
              "      <td>yes</td>\n",
              "      <td>yes</td>\n",
              "      <td>yes</td>\n",
              "      <td>no</td>\n",
              "      <td>3</td>\n",
              "      <td>2</td>\n",
              "      <td>3</td>\n",
              "      <td>3</td>\n",
              "      <td>3</td>\n",
              "      <td>5</td>\n",
              "      <td>5</td>\n",
              "      <td>8</td>\n",
              "      <td>9</td>\n",
              "      <td>9</td>\n",
              "    </tr>\n",
              "  </tbody>\n",
              "</table>\n",
              "<p>395 rows × 33 columns</p>\n",
              "</div>"
            ],
            "text/plain": [
              "    school sex  age address famsize Pstatus  ...  Walc  health absences  G1  G2  G3\n",
              "0       GP   F   18       U     GT3       A  ...     1       3        6   5   6   6\n",
              "1       GP   F   17       U     GT3       T  ...     1       3        4   5   5   6\n",
              "2       GP   F   15       U     LE3       T  ...     3       3       10   7   8  10\n",
              "3       GP   F   15       U     GT3       T  ...     1       5        2  15  14  15\n",
              "4       GP   F   16       U     GT3       T  ...     2       5        4   6  10  10\n",
              "..     ...  ..  ...     ...     ...     ...  ...   ...     ...      ...  ..  ..  ..\n",
              "390     MS   M   20       U     LE3       A  ...     5       4       11   9   9   9\n",
              "391     MS   M   17       U     LE3       T  ...     4       2        3  14  16  16\n",
              "392     MS   M   21       R     GT3       T  ...     3       3        3  10   8   7\n",
              "393     MS   M   18       R     LE3       T  ...     4       5        0  11  12  10\n",
              "394     MS   M   19       U     LE3       T  ...     3       5        5   8   9   9\n",
              "\n",
              "[395 rows x 33 columns]"
            ]
          },
          "metadata": {
            "tags": []
          },
          "execution_count": 107
        }
      ]
    },
    {
      "cell_type": "code",
      "metadata": {
        "colab": {
          "base_uri": "https://localhost:8080/"
        },
        "id": "RUXT12RH4xJs",
        "outputId": "a6052769-be24-4e7d-e9c6-eec10aebe90a"
      },
      "source": [
        "df.info()"
      ],
      "execution_count": 108,
      "outputs": [
        {
          "output_type": "stream",
          "text": [
            "<class 'pandas.core.frame.DataFrame'>\n",
            "RangeIndex: 395 entries, 0 to 394\n",
            "Data columns (total 33 columns):\n",
            " #   Column      Non-Null Count  Dtype \n",
            "---  ------      --------------  ----- \n",
            " 0   school      395 non-null    object\n",
            " 1   sex         395 non-null    object\n",
            " 2   age         395 non-null    int64 \n",
            " 3   address     395 non-null    object\n",
            " 4   famsize     395 non-null    object\n",
            " 5   Pstatus     395 non-null    object\n",
            " 6   Medu        395 non-null    int64 \n",
            " 7   Fedu        395 non-null    int64 \n",
            " 8   Mjob        395 non-null    object\n",
            " 9   Fjob        395 non-null    object\n",
            " 10  reason      395 non-null    object\n",
            " 11  guardian    395 non-null    object\n",
            " 12  traveltime  395 non-null    int64 \n",
            " 13  studytime   395 non-null    int64 \n",
            " 14  failures    395 non-null    int64 \n",
            " 15  schoolsup   395 non-null    object\n",
            " 16  famsup      395 non-null    object\n",
            " 17  paid        395 non-null    object\n",
            " 18  activities  395 non-null    object\n",
            " 19  nursery     395 non-null    object\n",
            " 20  higher      395 non-null    object\n",
            " 21  internet    395 non-null    object\n",
            " 22  romantic    395 non-null    object\n",
            " 23  famrel      395 non-null    int64 \n",
            " 24  freetime    395 non-null    int64 \n",
            " 25  goout       395 non-null    int64 \n",
            " 26  Dalc        395 non-null    int64 \n",
            " 27  Walc        395 non-null    int64 \n",
            " 28  health      395 non-null    int64 \n",
            " 29  absences    395 non-null    int64 \n",
            " 30  G1          395 non-null    int64 \n",
            " 31  G2          395 non-null    int64 \n",
            " 32  G3          395 non-null    int64 \n",
            "dtypes: int64(16), object(17)\n",
            "memory usage: 102.0+ KB\n"
          ],
          "name": "stdout"
        }
      ]
    },
    {
      "cell_type": "code",
      "metadata": {
        "colab": {
          "base_uri": "https://localhost:8080/",
          "height": 317
        },
        "id": "ey97ULPW4yvY",
        "outputId": "9cee9a3d-8843-4180-bae8-139d7f280f50"
      },
      "source": [
        "df.describe()"
      ],
      "execution_count": 109,
      "outputs": [
        {
          "output_type": "execute_result",
          "data": {
            "text/html": [
              "<div>\n",
              "<style scoped>\n",
              "    .dataframe tbody tr th:only-of-type {\n",
              "        vertical-align: middle;\n",
              "    }\n",
              "\n",
              "    .dataframe tbody tr th {\n",
              "        vertical-align: top;\n",
              "    }\n",
              "\n",
              "    .dataframe thead th {\n",
              "        text-align: right;\n",
              "    }\n",
              "</style>\n",
              "<table border=\"1\" class=\"dataframe\">\n",
              "  <thead>\n",
              "    <tr style=\"text-align: right;\">\n",
              "      <th></th>\n",
              "      <th>age</th>\n",
              "      <th>Medu</th>\n",
              "      <th>Fedu</th>\n",
              "      <th>traveltime</th>\n",
              "      <th>studytime</th>\n",
              "      <th>failures</th>\n",
              "      <th>famrel</th>\n",
              "      <th>freetime</th>\n",
              "      <th>goout</th>\n",
              "      <th>Dalc</th>\n",
              "      <th>Walc</th>\n",
              "      <th>health</th>\n",
              "      <th>absences</th>\n",
              "      <th>G1</th>\n",
              "      <th>G2</th>\n",
              "      <th>G3</th>\n",
              "    </tr>\n",
              "  </thead>\n",
              "  <tbody>\n",
              "    <tr>\n",
              "      <th>count</th>\n",
              "      <td>395.000000</td>\n",
              "      <td>395.000000</td>\n",
              "      <td>395.000000</td>\n",
              "      <td>395.000000</td>\n",
              "      <td>395.000000</td>\n",
              "      <td>395.000000</td>\n",
              "      <td>395.000000</td>\n",
              "      <td>395.000000</td>\n",
              "      <td>395.000000</td>\n",
              "      <td>395.000000</td>\n",
              "      <td>395.000000</td>\n",
              "      <td>395.000000</td>\n",
              "      <td>395.000000</td>\n",
              "      <td>395.000000</td>\n",
              "      <td>395.000000</td>\n",
              "      <td>395.000000</td>\n",
              "    </tr>\n",
              "    <tr>\n",
              "      <th>mean</th>\n",
              "      <td>16.696203</td>\n",
              "      <td>2.749367</td>\n",
              "      <td>2.521519</td>\n",
              "      <td>1.448101</td>\n",
              "      <td>2.035443</td>\n",
              "      <td>0.334177</td>\n",
              "      <td>3.944304</td>\n",
              "      <td>3.235443</td>\n",
              "      <td>3.108861</td>\n",
              "      <td>1.481013</td>\n",
              "      <td>2.291139</td>\n",
              "      <td>3.554430</td>\n",
              "      <td>5.708861</td>\n",
              "      <td>10.908861</td>\n",
              "      <td>10.713924</td>\n",
              "      <td>10.415190</td>\n",
              "    </tr>\n",
              "    <tr>\n",
              "      <th>std</th>\n",
              "      <td>1.276043</td>\n",
              "      <td>1.094735</td>\n",
              "      <td>1.088201</td>\n",
              "      <td>0.697505</td>\n",
              "      <td>0.839240</td>\n",
              "      <td>0.743651</td>\n",
              "      <td>0.896659</td>\n",
              "      <td>0.998862</td>\n",
              "      <td>1.113278</td>\n",
              "      <td>0.890741</td>\n",
              "      <td>1.287897</td>\n",
              "      <td>1.390303</td>\n",
              "      <td>8.003096</td>\n",
              "      <td>3.319195</td>\n",
              "      <td>3.761505</td>\n",
              "      <td>4.581443</td>\n",
              "    </tr>\n",
              "    <tr>\n",
              "      <th>min</th>\n",
              "      <td>15.000000</td>\n",
              "      <td>0.000000</td>\n",
              "      <td>0.000000</td>\n",
              "      <td>1.000000</td>\n",
              "      <td>1.000000</td>\n",
              "      <td>0.000000</td>\n",
              "      <td>1.000000</td>\n",
              "      <td>1.000000</td>\n",
              "      <td>1.000000</td>\n",
              "      <td>1.000000</td>\n",
              "      <td>1.000000</td>\n",
              "      <td>1.000000</td>\n",
              "      <td>0.000000</td>\n",
              "      <td>3.000000</td>\n",
              "      <td>0.000000</td>\n",
              "      <td>0.000000</td>\n",
              "    </tr>\n",
              "    <tr>\n",
              "      <th>25%</th>\n",
              "      <td>16.000000</td>\n",
              "      <td>2.000000</td>\n",
              "      <td>2.000000</td>\n",
              "      <td>1.000000</td>\n",
              "      <td>1.000000</td>\n",
              "      <td>0.000000</td>\n",
              "      <td>4.000000</td>\n",
              "      <td>3.000000</td>\n",
              "      <td>2.000000</td>\n",
              "      <td>1.000000</td>\n",
              "      <td>1.000000</td>\n",
              "      <td>3.000000</td>\n",
              "      <td>0.000000</td>\n",
              "      <td>8.000000</td>\n",
              "      <td>9.000000</td>\n",
              "      <td>8.000000</td>\n",
              "    </tr>\n",
              "    <tr>\n",
              "      <th>50%</th>\n",
              "      <td>17.000000</td>\n",
              "      <td>3.000000</td>\n",
              "      <td>2.000000</td>\n",
              "      <td>1.000000</td>\n",
              "      <td>2.000000</td>\n",
              "      <td>0.000000</td>\n",
              "      <td>4.000000</td>\n",
              "      <td>3.000000</td>\n",
              "      <td>3.000000</td>\n",
              "      <td>1.000000</td>\n",
              "      <td>2.000000</td>\n",
              "      <td>4.000000</td>\n",
              "      <td>4.000000</td>\n",
              "      <td>11.000000</td>\n",
              "      <td>11.000000</td>\n",
              "      <td>11.000000</td>\n",
              "    </tr>\n",
              "    <tr>\n",
              "      <th>75%</th>\n",
              "      <td>18.000000</td>\n",
              "      <td>4.000000</td>\n",
              "      <td>3.000000</td>\n",
              "      <td>2.000000</td>\n",
              "      <td>2.000000</td>\n",
              "      <td>0.000000</td>\n",
              "      <td>5.000000</td>\n",
              "      <td>4.000000</td>\n",
              "      <td>4.000000</td>\n",
              "      <td>2.000000</td>\n",
              "      <td>3.000000</td>\n",
              "      <td>5.000000</td>\n",
              "      <td>8.000000</td>\n",
              "      <td>13.000000</td>\n",
              "      <td>13.000000</td>\n",
              "      <td>14.000000</td>\n",
              "    </tr>\n",
              "    <tr>\n",
              "      <th>max</th>\n",
              "      <td>22.000000</td>\n",
              "      <td>4.000000</td>\n",
              "      <td>4.000000</td>\n",
              "      <td>4.000000</td>\n",
              "      <td>4.000000</td>\n",
              "      <td>3.000000</td>\n",
              "      <td>5.000000</td>\n",
              "      <td>5.000000</td>\n",
              "      <td>5.000000</td>\n",
              "      <td>5.000000</td>\n",
              "      <td>5.000000</td>\n",
              "      <td>5.000000</td>\n",
              "      <td>75.000000</td>\n",
              "      <td>19.000000</td>\n",
              "      <td>19.000000</td>\n",
              "      <td>20.000000</td>\n",
              "    </tr>\n",
              "  </tbody>\n",
              "</table>\n",
              "</div>"
            ],
            "text/plain": [
              "              age        Medu        Fedu  ...          G1          G2          G3\n",
              "count  395.000000  395.000000  395.000000  ...  395.000000  395.000000  395.000000\n",
              "mean    16.696203    2.749367    2.521519  ...   10.908861   10.713924   10.415190\n",
              "std      1.276043    1.094735    1.088201  ...    3.319195    3.761505    4.581443\n",
              "min     15.000000    0.000000    0.000000  ...    3.000000    0.000000    0.000000\n",
              "25%     16.000000    2.000000    2.000000  ...    8.000000    9.000000    8.000000\n",
              "50%     17.000000    3.000000    2.000000  ...   11.000000   11.000000   11.000000\n",
              "75%     18.000000    4.000000    3.000000  ...   13.000000   13.000000   14.000000\n",
              "max     22.000000    4.000000    4.000000  ...   19.000000   19.000000   20.000000\n",
              "\n",
              "[8 rows x 16 columns]"
            ]
          },
          "metadata": {
            "tags": []
          },
          "execution_count": 109
        }
      ]
    },
    {
      "cell_type": "code",
      "metadata": {
        "colab": {
          "base_uri": "https://localhost:8080/"
        },
        "id": "0USxoxCsmgVM",
        "outputId": "45e54126-f238-42bc-fe39-55cd5aeb6a43"
      },
      "source": [
        "# Check for missing values\n",
        "df.isnull().sum()"
      ],
      "execution_count": 110,
      "outputs": [
        {
          "output_type": "execute_result",
          "data": {
            "text/plain": [
              "school        0\n",
              "sex           0\n",
              "age           0\n",
              "address       0\n",
              "famsize       0\n",
              "Pstatus       0\n",
              "Medu          0\n",
              "Fedu          0\n",
              "Mjob          0\n",
              "Fjob          0\n",
              "reason        0\n",
              "guardian      0\n",
              "traveltime    0\n",
              "studytime     0\n",
              "failures      0\n",
              "schoolsup     0\n",
              "famsup        0\n",
              "paid          0\n",
              "activities    0\n",
              "nursery       0\n",
              "higher        0\n",
              "internet      0\n",
              "romantic      0\n",
              "famrel        0\n",
              "freetime      0\n",
              "goout         0\n",
              "Dalc          0\n",
              "Walc          0\n",
              "health        0\n",
              "absences      0\n",
              "G1            0\n",
              "G2            0\n",
              "G3            0\n",
              "dtype: int64"
            ]
          },
          "metadata": {
            "tags": []
          },
          "execution_count": 110
        }
      ]
    },
    {
      "cell_type": "markdown",
      "metadata": {
        "id": "g0L7LJYASx4n"
      },
      "source": [
        "## 3. Visualize Data"
      ]
    },
    {
      "cell_type": "markdown",
      "metadata": {
        "id": "NyJSwKlTGHfP"
      },
      "source": [
        "#### Age Distribution"
      ]
    },
    {
      "cell_type": "code",
      "metadata": {
        "colab": {
          "base_uri": "https://localhost:8080/",
          "height": 408
        },
        "id": "AGP7MPe0DLJ8",
        "outputId": "6855cc35-429a-43e8-c134-c8db9fbbac77"
      },
      "source": [
        "plt.figure(figsize=(9, 6))\n",
        "plt.yticks(np.arange(0, 150, 20))\n",
        "age_dist = df['age']\n",
        "plt.hist(x=age_dist, alpha=0.7, edgecolor='black')\n",
        "plt.xlabel('Age', fontsize=12)\n",
        "plt.ylabel('Number of Students', fontsize=12)\n",
        "plt.title('Age Distribution of Students', fontsize=14)\n",
        "plt.show()"
      ],
      "execution_count": 111,
      "outputs": [
        {
          "output_type": "display_data",
          "data": {
            "image/png": "[encoded data removed]",
            "text/plain": [
              "<Figure size 648x432 with 1 Axes>"
            ]
          },
          "metadata": {
            "tags": [],
            "needs_background": "light"
          }
        }
      ]
    },
    {
      "cell_type": "markdown",
      "metadata": {
        "id": "UumUSRbZ4zIx"
      },
      "source": [
        "#### Gender Distribution"
      ]
    },
    {
      "cell_type": "code",
      "metadata": {
        "colab": {
          "base_uri": "https://localhost:8080/",
          "height": 408
        },
        "id": "pzkA6c0r45-a",
        "outputId": "56c7fc74-6b35-45ac-82e5-4fbeabd3ed32"
      },
      "source": [
        "plt.figure(figsize=(8, 6))\n",
        "gender_labels = ['F - Female', 'M - Male']\n",
        "gender_dist = df['sex']\n",
        "gender_plot = sns.countplot(x=df['sex'], hue=df['sex'], dodge=False)\n",
        "plt.yticks(np.arange(0, 250, 25))\n",
        "plt.xlabel('Gender', fontsize=12)\n",
        "plt.ylabel('Number of Students', fontsize=12)\n",
        "plt.title('Gender Distribution', fontsize=14)\n",
        "plt.legend(labels=gender_labels, loc='upper right')\n",
        "plt.show()"
      ],
      "execution_count": 112,
      "outputs": [
        {
          "output_type": "display_data",
          "data": {
            "image/png": "[encoded data removed]",
            "text/plain": [
              "<Figure size 576x432 with 1 Axes>"
            ]
          },
          "metadata": {
            "tags": [],
            "needs_background": "light"
          }
        }
      ]
    },
    {
      "cell_type": "markdown",
      "metadata": {
        "id": "h7dw-h0qJMS6"
      },
      "source": [
        "#### Extracurricular Activities"
      ]
    },
    {
      "cell_type": "code",
      "metadata": {
        "colab": {
          "base_uri": "https://localhost:8080/",
          "height": 408
        },
        "id": "mjUgceieJPK2",
        "outputId": "2c7ce3af-4b93-4962-8c59-a7ebd3df333d"
      },
      "source": [
        "plt.figure(figsize=(8, 6))\n",
        "activities_labels = ['No', 'Yes']\n",
        "sns.countplot(x=df['activities'], hue=df['sex'], dodge=True)\n",
        "plt.yticks(np.arange(0, 150, 25))\n",
        "plt.xlabel('Have Activities?', fontsize=12)\n",
        "plt.ylabel('Number of Students', fontsize=12)\n",
        "plt.title('Extracurricular Activities per Gender', fontsize=14)\n",
        "plt.legend(labels=gender_labels, loc='upper right')\n",
        "plt.show()"
      ],
      "execution_count": 113,
      "outputs": [
        {
          "output_type": "display_data",
          "data": {
            "image/png": "[encoded data removed]",
            "text/plain": [
              "<Figure size 576x432 with 1 Axes>"
            ]
          },
          "metadata": {
            "tags": [],
            "needs_background": "light"
          }
        }
      ]
    },
    {
      "cell_type": "markdown",
      "metadata": {
        "id": "fQrrlmrbfiu6"
      },
      "source": [
        "#### Travel Time from Home to School"
      ]
    },
    {
      "cell_type": "code",
      "metadata": {
        "colab": {
          "base_uri": "https://localhost:8080/",
          "height": 408
        },
        "id": "VKc084C8fl2T",
        "outputId": "1dc8c653-e8c0-4aa6-f23a-09221208c468"
      },
      "source": [
        "plt.figure(figsize=(8, 6))\n",
        "sns.countplot(x=df['traveltime'])\n",
        "plt.yticks(np.arange(0, 300, 25))\n",
        "plt.xlabel('Travel Time Category', fontsize=12)\n",
        "plt.ylabel('Number of Students', fontsize=12)\n",
        "plt.title('Travel Time from Home to School', fontsize=14)\n",
        "plt.show()"
      ],
      "execution_count": 114,
      "outputs": [
        {
          "output_type": "display_data",
          "data": {
            "image/png": "[encoded data removed]",
            "text/plain": [
              "<Figure size 576x432 with 1 Axes>"
            ]
          },
          "metadata": {
            "tags": [],
            "needs_background": "light"
          }
        }
      ]
    },
    {
      "cell_type": "markdown",
      "metadata": {
        "id": "5U9e6Pd8t0Oa"
      },
      "source": [
        "###### **Travel Time Category:**\n",
        "1 = <15 minutes, 2 = 15-30 minutes, 3 = 30 minutes - 1 hour, 4 = >1 hour"
      ]
    },
    {
      "cell_type": "markdown",
      "metadata": {
        "id": "44pETsAvpuDB"
      },
      "source": [
        "#### Weekly Studying Time "
      ]
    },
    {
      "cell_type": "code",
      "metadata": {
        "colab": {
          "base_uri": "https://localhost:8080/",
          "height": 408
        },
        "id": "-4kePrvQpzJE",
        "outputId": "4278dcd3-0b72-43e4-b08d-e00b45de23c1"
      },
      "source": [
        "plt.figure(figsize=(8, 6))\n",
        "study_labels = ['1 - <2 hours', '2 - 2-5 hours', '3 - 5-10 hours', '4 - >10 hours']\n",
        "sns.countplot(x=df['studytime'], dodge=True)\n",
        "plt.yticks(np.arange(0, 225, 25))\n",
        "plt.xlabel('Weekly Study Hours Category', fontsize=12)\n",
        "plt.ylabel('Number of Hours', fontsize=12)\n",
        "plt.title('Weekly Study Hours', fontsize=14)\n",
        "plt.show()"
      ],
      "execution_count": 115,
      "outputs": [
        {
          "output_type": "display_data",
          "data": {
            "image/png": "[encoded data removed]",
            "text/plain": [
              "<Figure size 576x432 with 1 Axes>"
            ]
          },
          "metadata": {
            "tags": [],
            "needs_background": "light"
          }
        }
      ]
    },
    {
      "cell_type": "markdown",
      "metadata": {
        "id": "T7L2H-2rt7t-"
      },
      "source": [
        "#### Number of Absences per Age"
      ]
    },
    {
      "cell_type": "code",
      "metadata": {
        "colab": {
          "base_uri": "https://localhost:8080/",
          "height": 408
        },
        "id": "gBE1etUJt8JG",
        "outputId": "f13bf526-0566-45ef-b092-d85473d1e79f"
      },
      "source": [
        "gender_labels_2 = ['Female', 'Male']\n",
        "plt.figure(figsize=(11, 6))\n",
        "sns.barplot(x=df['age'], y=df['absences'], hue=df['sex'], ci=None)\n",
        "plt.yticks(np.arange(0, 22, 2))\n",
        "plt.xlabel('Age', fontsize=12)\n",
        "plt.ylabel('Number of Absences', fontsize=12)\n",
        "plt.title('Number of Absenses per Age', fontsize=14)\n",
        "plt.legend(labels=gender_labels_2, loc='upper right')\n",
        "plt.show()"
      ],
      "execution_count": 116,
      "outputs": [
        {
          "output_type": "display_data",
          "data": {
            "image/png": "[encoded data removed]",
            "text/plain": [
              "<Figure size 792x432 with 1 Axes>"
            ]
          },
          "metadata": {
            "tags": [],
            "needs_background": "light"
          }
        }
      ]
    },
    {
      "cell_type": "markdown",
      "metadata": {
        "id": "-IGTU2g-t_Kx"
      },
      "source": [
        "#### Number of Failures per Age"
      ]
    },
    {
      "cell_type": "code",
      "metadata": {
        "colab": {
          "base_uri": "https://localhost:8080/",
          "height": 408
        },
        "id": "Nl_gNIS7uASu",
        "outputId": "9289e480-b073-4f06-ed3b-c632aee5ae3a"
      },
      "source": [
        "# Number of failure rates per age\n",
        "plt.figure(figsize=(9, 6))\n",
        "failure_labels = ['0 failures', '1 failure', '2 failures', '3 failures']\n",
        "sns.countplot(x=df['age'], hue=df['failures'])\n",
        "plt.yticks(np.arange(0, 100, 10))\n",
        "plt.xlabel('Age', fontsize=12)\n",
        "plt.ylabel('Number of Failures', fontsize=12)\n",
        "plt.title('Number of Failures per Age', fontsize=14)\n",
        "plt.legend(labels=failure_labels, loc='upper right')\n",
        "plt.show()"
      ],
      "execution_count": 117,
      "outputs": [
        {
          "output_type": "display_data",
          "data": {
            "image/png": "[encoded data removed]",
            "text/plain": [
              "<Figure size 648x432 with 1 Axes>"
            ]
          },
          "metadata": {
            "tags": [],
            "needs_background": "light"
          }
        }
      ]
    },
    {
      "cell_type": "markdown",
      "metadata": {
        "id": "0zZePuPq0eDY"
      },
      "source": [
        "#### Grades Distribution"
      ]
    },
    {
      "cell_type": "code",
      "metadata": {
        "colab": {
          "base_uri": "https://localhost:8080/",
          "height": 680
        },
        "id": "qJwBKdMp64Se",
        "outputId": "94367b62-ad9f-4d16-afb9-59896eb70394"
      },
      "source": [
        "# First period grades\n",
        "fig1 = plt.figure(figsize=(17, 11))\n",
        "ax1 = fig1.add_subplot(2, 2, 1)\n",
        "ax1 = sns.countplot(x=df['G1'], hue=df['sex'])\n",
        "plt.yticks(np.arange(0, 35, 5))\n",
        "plt.xlabel('Grade', fontsize=12)\n",
        "plt.ylabel('Number of Students', fontsize=12)\n",
        "plt.title('First Period Grades', fontsize=14)\n",
        "plt.legend(labels=gender_labels_2, loc='upper right')\n",
        "\n",
        "# Second period grades\n",
        "ax2 = fig1.add_subplot(2, 2, 2)\n",
        "ax2 = sns.countplot(x=df['G2'], hue=df['sex'])\n",
        "plt.yticks(np.arange(0, 35, 5))\n",
        "plt.xlabel('Grade', fontsize=12)\n",
        "plt.ylabel('Number of Students', fontsize=12)\n",
        "plt.title('Second Period Grades', fontsize=14)\n",
        "plt.legend(labels=gender_labels_2, loc='upper right')\n",
        "\n",
        "# Final grades\n",
        "ax3 = fig1.add_subplot(2, 2, 3)\n",
        "ax3 = sns.countplot(x=df['G3'], hue=df['sex'])\n",
        "plt.yticks(np.arange(0, 35, 5))\n",
        "plt.xlabel('Grade', fontsize=12)\n",
        "plt.ylabel('Number of Students', fontsize=12)\n",
        "plt.title('Final Grades', fontsize=14)\n",
        "plt.legend(labels=gender_labels_2, loc='upper right')\n",
        "\n",
        "plt.show()"
      ],
      "execution_count": 118,
      "outputs": [
        {
          "output_type": "display_data",
          "data": {
            "image/png": "[encoded data removed]",
            "text/plain": [
              "<Figure size 1224x792 with 3 Axes>"
            ]
          },
          "metadata": {
            "tags": [],
            "needs_background": "light"
          }
        }
      ]
    },
    {
      "cell_type": "markdown",
      "metadata": {
        "id": "OepfTMjrlNYD"
      },
      "source": [
        "#### Correlation Map"
      ]
    },
    {
      "cell_type": "code",
      "metadata": {
        "colab": {
          "base_uri": "https://localhost:8080/",
          "height": 750
        },
        "id": "JkHBy9_OeE2j",
        "outputId": "49bb1e79-befb-4f01-e235-3b709747d530"
      },
      "source": [
        "# Correlation Map\n",
        "plt.figure(figsize=(12,12))\n",
        "sns.heatmap(df.corr(), cmap='YlGn', annot=True, fmt = \".2f\")\n",
        "plt.xticks(rotation=45)\n",
        "plt.yticks(rotation=0)\n",
        "plt.title('Correlation Map')\n",
        "plt.show()"
      ],
      "execution_count": 119,
      "outputs": [
        {
          "output_type": "display_data",
          "data": {
            "image/png": "[encoded data removed]",
            "text/plain": [
              "<Figure size 864x864 with 2 Axes>"
            ]
          },
          "metadata": {
            "tags": [],
            "needs_background": "light"
          }
        }
      ]
    },
    {
      "cell_type": "markdown",
      "metadata": {
        "id": "91jMLTuvaU_Q"
      },
      "source": [
        "## 4. Data Preprocessing and Feature Engineering"
      ]
    },
    {
      "cell_type": "code",
      "metadata": {
        "colab": {
          "base_uri": "https://localhost:8080/"
        },
        "id": "NRfW8j3Jqq6q",
        "outputId": "1fe996b3-e7da-4dad-df87-453063e4b834"
      },
      "source": [
        "# Categorical Columns (indices) - 0:1, 3:5, 8:11, 15:22\n",
        "from sklearn.preprocessing import LabelEncoder\n",
        "\n",
        "# Label Encode - 0:1, 3:5, 15:22\n",
        "le = LabelEncoder()\n",
        "# le_columns = X[:, [0, 1, 3, 4, 5, 15, 16, 17, 18, 19, 20, 21, 22]]\n",
        "\n",
        "# for i in X[:]:\n",
        "#   if i in le_columns:\n",
        "#     X[:, i] = le.fit_transform(X[:, i])\n",
        "\n",
        "# Encode nominal attributes\n",
        "X[:, 0] = le.fit_transform(X[:, 0])\n",
        "X[:, 1] = le.fit_transform(X[:, 1])\n",
        "X[:, 3] = le.fit_transform(X[:, 3])\n",
        "X[:, 4] = le.fit_transform(X[:, 4])\n",
        "X[:, 5] = le.fit_transform(X[:, 5])\n",
        "X[:, 8] = le.fit_transform(X[:, 8])\n",
        "X[:, 9] = le.fit_transform(X[:, 9])\n",
        "X[:, 10] = le.fit_transform(X[:, 10])\n",
        "X[:, 11] = le.fit_transform(X[:, 11])\n",
        "\n",
        "# Encode binary attributes\n",
        "X[:, 15] = le.fit_transform(X[:, 15])\n",
        "X[:, 16] = le.fit_transform(X[:, 16])\n",
        "X[:, 17] = le.fit_transform(X[:, 17])\n",
        "X[:, 18] = le.fit_transform(X[:, 18])\n",
        "X[:, 19] = le.fit_transform(X[:, 19])\n",
        "X[:, 20] = le.fit_transform(X[:, 20])\n",
        "X[:, 21] = le.fit_transform(X[:, 21])\n",
        "X[:, 22] = le.fit_transform(X[:, 22])\n",
        "\n",
        "print(X)"
      ],
      "execution_count": 120,
      "outputs": [
        {
          "output_type": "stream",
          "text": [
            "[[0 0 18 ... 6 5 6]\n",
            " [0 0 17 ... 4 5 5]\n",
            " [0 0 15 ... 10 7 8]\n",
            " ...\n",
            " [1 1 21 ... 3 10 8]\n",
            " [1 1 18 ... 0 11 12]\n",
            " [1 1 19 ... 5 8 9]]\n"
          ],
          "name": "stdout"
        }
      ]
    },
    {
      "cell_type": "code",
      "metadata": {
        "id": "HVDtA_UylPEp"
      },
      "source": [
        "# Split dataframe (df) into training and test sets\n",
        "from sklearn.model_selection import train_test_split\n",
        "\n",
        "X_train, X_test, y_train, y_test = train_test_split(X, y, test_size=0.2, \n",
        "                                                    random_state=0)"
      ],
      "execution_count": 121,
      "outputs": []
    },
    {
      "cell_type": "code",
      "metadata": {
        "id": "buM5XRz9lS3n"
      },
      "source": [
        "# Feature scaling\n",
        "from sklearn.preprocessing import StandardScaler\n",
        "\n",
        "sc = StandardScaler()\n",
        "X_train = sc.fit_transform(X_train)\n",
        "X_test = sc.fit_transform(X_test)"
      ],
      "execution_count": 122,
      "outputs": []
    },
    {
      "cell_type": "markdown",
      "metadata": {
        "id": "wSYVbECkakwm"
      },
      "source": [
        "## 5. Define and Evalutate Models"
      ]
    },
    {
      "cell_type": "code",
      "metadata": {
        "id": "f0TXcf2dklHZ"
      },
      "source": [
        "# Decision Tree\n",
        "from sklearn.tree import DecisionTreeRegressor\n",
        "# Random Forest\n",
        "from sklearn.ensemble import RandomForestRegressor\n",
        "# XGBoost\n",
        "import xgboost as xgb\n",
        "from xgboost import XGBRegressor\n",
        "# LightGBM\n",
        "import lightgbm as lgb\n",
        "from lightgbm import LGBMRegressor\n",
        "\n",
        "# Additional Libraries\n",
        "from sklearn.metrics import mean_absolute_error, mean_squared_error, r2_score\n",
        "from sklearn.model_selection import cross_val_score, RepeatedStratifiedKFold\n",
        "from sklearn.model_selection import GridSearchCV"
      ],
      "execution_count": 123,
      "outputs": []
    },
    {
      "cell_type": "markdown",
      "metadata": {
        "id": "XJ-wQwibkPrU"
      },
      "source": [
        "### Decision Tree (DT)"
      ]
    },
    {
      "cell_type": "code",
      "metadata": {
        "colab": {
          "base_uri": "https://localhost:8080/"
        },
        "id": "dD2I3unlmYbB",
        "outputId": "e967feda-407b-409a-d9af-badc6807eb81"
      },
      "source": [
        "dt_reg = DecisionTreeRegressor(criterion='mse', max_depth=5, min_samples_split=4,\n",
        "                            min_samples_leaf=5, max_features=31, random_state=0)\n",
        "\n",
        "dt_reg.fit(X_train, y_train)"
      ],
      "execution_count": 124,
      "outputs": [
        {
          "output_type": "execute_result",
          "data": {
            "text/plain": [
              "DecisionTreeRegressor(ccp_alpha=0.0, criterion='mse', max_depth=5,\n",
              "                      max_features=31, max_leaf_nodes=None,\n",
              "                      min_impurity_decrease=0.0, min_impurity_split=None,\n",
              "                      min_samples_leaf=5, min_samples_split=4,\n",
              "                      min_weight_fraction_leaf=0.0, presort='deprecated',\n",
              "                      random_state=0, splitter='best')"
            ]
          },
          "metadata": {
            "tags": []
          },
          "execution_count": 124
        }
      ]
    },
    {
      "cell_type": "code",
      "metadata": {
        "colab": {
          "base_uri": "https://localhost:8080/"
        },
        "id": "t2cyyfZRmoDT",
        "outputId": "7c3d031d-0ac8-4987-d85a-67227c833fce"
      },
      "source": [
        "# Predict test set results\n",
        "y_pred = dt_reg.predict(X_test)\n",
        "np.set_printoptions(precision = 2)\n",
        "print(np.concatenate((y_pred.reshape(len(y_pred), 1), y_test.reshape(len(y_test), 1)), 1 ))\n",
        "print('')\n",
        "\n",
        "# Summarize results\n",
        "print('MAE: %.3f' % (mean_absolute_error(y_test, y_pred)))\n",
        "print('MSE: %.3f' % (mean_squared_error(y_test, y_pred)))\n",
        "print('RMSE: %.3f' % (mean_squared_error(y_test, y_pred, squared=False)))\n",
        "print('R^2 Score: %.3f' % (r2_score(y_test, y_pred)))"
      ],
      "execution_count": 125,
      "outputs": [
        {
          "output_type": "stream",
          "text": [
            "[[12.75 14.  ]\n",
            " [11.36 10.  ]\n",
            " [10.25  9.  ]\n",
            " [13.78 15.  ]\n",
            " [15.31 16.  ]\n",
            " [12.75 12.  ]\n",
            " [13.56 14.  ]\n",
            " [10.75 11.  ]\n",
            " [ 9.23  9.  ]\n",
            " [14.44 15.  ]\n",
            " [ 9.23 10.  ]\n",
            " [11.68 11.  ]\n",
            " [11.36 10.  ]\n",
            " [ 9.23  8.  ]\n",
            " [13.78 15.  ]\n",
            " [12.75 14.  ]\n",
            " [12.75 12.  ]\n",
            " [10.25  0.  ]\n",
            " [ 9.23 10.  ]\n",
            " [13.78 16.  ]\n",
            " [ 6.4   0.  ]\n",
            " [ 5.29  0.  ]\n",
            " [ 6.4   8.  ]\n",
            " [13.78 16.  ]\n",
            " [12.75 12.  ]\n",
            " [15.31 15.  ]\n",
            " [10.25 10.  ]\n",
            " [18.56 19.  ]\n",
            " [ 5.29  0.  ]\n",
            " [13.56 14.  ]\n",
            " [ 5.29  0.  ]\n",
            " [ 8.47 10.  ]\n",
            " [ 9.23  8.  ]\n",
            " [ 6.6   4.  ]\n",
            " [12.75 13.  ]\n",
            " [10.25 10.  ]\n",
            " [12.75 13.  ]\n",
            " [17.4  18.  ]\n",
            " [ 9.23  8.  ]\n",
            " [11.68 11.  ]\n",
            " [ 5.29  6.  ]\n",
            " [17.4  18.  ]\n",
            " [ 8.47  8.  ]\n",
            " [ 8.47  8.  ]\n",
            " [10.25 11.  ]\n",
            " [ 5.29  0.  ]\n",
            " [11.68 13.  ]\n",
            " [ 5.29  0.  ]\n",
            " [11.68 13.  ]\n",
            " [ 8.47  7.  ]\n",
            " [ 9.23 10.  ]\n",
            " [17.4  18.  ]\n",
            " [10.75 10.  ]\n",
            " [ 9.23  9.  ]\n",
            " [11.68 11.  ]\n",
            " [ 9.23  6.  ]\n",
            " [ 9.23  9.  ]\n",
            " [12.75 13.  ]\n",
            " [13.78 15.  ]\n",
            " [13.56 14.  ]\n",
            " [12.75 14.  ]\n",
            " [13.56 15.  ]\n",
            " [12.75 14.  ]\n",
            " [13.78 15.  ]\n",
            " [ 9.23  0.  ]\n",
            " [13.78 15.  ]\n",
            " [17.4  19.  ]\n",
            " [12.75 12.  ]\n",
            " [ 5.29  6.  ]\n",
            " [ 9.23  9.  ]\n",
            " [ 9.23  8.  ]\n",
            " [13.56 15.  ]\n",
            " [ 6.4   5.  ]\n",
            " [ 5.29  0.  ]\n",
            " [ 9.23  9.  ]\n",
            " [ 9.23  0.  ]\n",
            " [11.36 11.  ]\n",
            " [17.4  18.  ]\n",
            " [ 6.4   0.  ]]\n",
            "\n",
            "MAE: 1.728\n",
            "MSE: 7.696\n",
            "RMSE: 2.774\n",
            "R^2 Score: 0.721\n"
          ],
          "name": "stdout"
        }
      ]
    },
    {
      "cell_type": "markdown",
      "metadata": {
        "id": "PbnHyalPwG5K"
      },
      "source": [
        "<table border = \"1\">\n",
        "  <thead>\n",
        "    <th colspan = \"5\">Decision Tree Prediction Scores</th>\n",
        "  </thead>\n",
        "  <tbody>\n",
        "    <tr>\n",
        "      <td><b>MAE:<b></td>\n",
        "      <td>1.728</td>\n",
        "    </tr>\n",
        "    <tr>\n",
        "      <td><b>MSE:<b></td>\n",
        "      <td>7.696</td>\n",
        "    </tr>\n",
        "    <tr>\n",
        "      <td><b>RMSE:<b></td>\n",
        "      <td>2.774</td>\n",
        "    </tr>\n",
        "    <tr>\n",
        "      <td><b>R^2:<b></td>\n",
        "      <td>0.721</td>\n",
        "    </tr>\n",
        "  </tbody>\n",
        "</table>"
      ]
    },
    {
      "cell_type": "code",
      "metadata": {
        "colab": {
          "base_uri": "https://localhost:8080/",
          "height": 408
        },
        "id": "bs5zcd8wwJez",
        "outputId": "98e054fe-fa57-4a6d-8296-149eb212905e"
      },
      "source": [
        "# Plot histogram for y_pred\n",
        "fig1 = plt.figure(figsize=(15, 6))\n",
        "ax1 = fig1.add_subplot(1, 2, 1)\n",
        "plt.xticks(np.arange(0, 20, 2))\n",
        "plt.yticks(np.arange(0, 20, 2))\n",
        "plt.hist(x=y_pred, facecolor='red', alpha=0.6, edgecolor='black')\n",
        "plt.xlabel('Grade', fontsize=12)\n",
        "plt.ylabel('Number of students', fontsize=12)\n",
        "plt.title('Predicted Grade Distribution', fontsize=14)\n",
        "\n",
        "# Plot histogram for y_test\n",
        "ax1 = fig1.add_subplot(1, 2, 2)\n",
        "plt.xticks(np.arange(0, 20, 2))\n",
        "plt.yticks(np.arange(0, 18, 2))\n",
        "plt.hist(x=y_test, facecolor='orange', alpha=0.6, edgecolor='black')\n",
        "plt.xlabel('Grade', fontsize=12)\n",
        "plt.ylabel('Number of students', fontsize=12)\n",
        "plt.title('Validation Grade Distribution', fontsize=14)\n",
        "\n",
        "# Show subplot\n",
        "plt.show()"
      ],
      "execution_count": 130,
      "outputs": [
        {
          "output_type": "display_data",
          "data": {
            "image/png": "[encoded data removed]",
            "text/plain": [
              "<Figure size 1080x432 with 2 Axes>"
            ]
          },
          "metadata": {
            "tags": [],
            "needs_background": "light"
          }
        }
      ]
    },
    {
      "cell_type": "code",
      "metadata": {
        "colab": {
          "base_uri": "https://localhost:8080/",
          "height": 1000
        },
        "id": "XEh1RpQNmqZN",
        "outputId": "b1dace51-ed6e-4ced-8ab7-ff4ff2cb7061"
      },
      "source": [
        "# Apply k-Fold Cross Validation on the training set\n",
        "\n",
        "# Lists of values\n",
        "r2_means, r2_stds, r2_mins, r2_maxs = [], [], [], []  # R^2 Scoring\n",
        "rmse_means, rmse_stds, rmse_mins, rmse_maxs = [], [], [], []  # RMSE Scoring\n",
        "# Cross validate for 10 k-folds, each with 3 repeats\n",
        "for k in range(2, 12):\n",
        "  cv = RepeatedStratifiedKFold(n_splits = k, n_repeats = 3, random_state = 0)\n",
        "  r2_scores = cross_val_score(dt_reg, X_train, y_train, scoring='r2', cv=cv, n_jobs=-1)\n",
        "  # scores = cross_val_score(reg, X_train, y_train, scoring='neg_mean_absolute_error', cv=cv, n_jobs=-1)\n",
        "  # scores = cross_val_score(reg, X_train, y_train, scoring='neg_mean_squared_error', cv=cv, n_jobs=-1)\n",
        "  rmse_scores = cross_val_score(dt_reg, X_train, y_train, scoring='neg_root_mean_squared_error', cv=cv, n_jobs=-1)\n",
        "  \n",
        "  # Force scores to be positive\n",
        "  r2_scores = abs(r2_scores)\n",
        "  rmse_scores = abs(rmse_scores)\n",
        "\n",
        "  # Print values\n",
        "  print('')\n",
        "  print('-- Fold: %d --' % (k-1))\n",
        "  print('')\n",
        "  print('R^2 Scoring:')\n",
        "  print(\"Mean: %f\" % (np.mean(r2_scores)))\n",
        "  print(\"Std: +/- %f\" % (np.std(r2_scores)))\n",
        "  print(\"Min: %f\" % (np.min(r2_scores)))\n",
        "  print(\"Max: %f\" % (np.max(r2_scores)))\n",
        "  \n",
        "  print('')\n",
        "  print('RMSE Scoring:')\n",
        "  print(\"Mean: %f\" % (np.mean(rmse_scores)))\n",
        "  print(\"Std: +/- %f\" % (np.std(rmse_scores)))\n",
        "  print(\"Min: %f\" % (np.min(rmse_scores)))\n",
        "  print(\"Max: %f\" % (np.max(rmse_scores)))\n",
        "  print('')\n",
        "  \n",
        "  # Append R^2 scores\n",
        "  r2_means.append(np.mean(r2_scores))\n",
        "  r2_stds.append(np.std(r2_scores))\n",
        "  r2_mins.append(np.min(r2_scores))\n",
        "  r2_maxs.append(np.max(r2_scores))\n",
        "  \n",
        "  # Append RMSE scores\n",
        "  rmse_means.append(np.mean(rmse_scores))\n",
        "  rmse_stds.append(np.std(rmse_scores))\n",
        "  rmse_mins.append(np.min(rmse_scores))\n",
        "  rmse_maxs.append(np.max(rmse_scores))\n",
        "\n",
        "# Plot R^2 scores per k-fold:\n",
        "fig2 = plt.figure(figsize=(15, 10))\n",
        "ax1 = fig2.add_subplot(2, 2, 1)\n",
        "ax1.plot(np.arange(1,11), r2_means, color='red', label='Mean')\n",
        "ax1.plot(np.arange(1,11), r2_mins, color='green', label='Min')\n",
        "ax1.plot(np.arange(1,11), r2_maxs, color='blue', label='Max')\n",
        "ax1.set_xlabel('k-Fold', fontsize=12)\n",
        "ax1.set_ylabel('R^2 Score', fontsize=12)\n",
        "ax1.set_title('R^2 Score per k-Fold', fontsize=14)\n",
        "ax1.legend()\n",
        "ax1.grid(True)\n",
        "\n",
        "# Plot R^2 Standard Deviations per k-fold:\n",
        "ax2 = fig2.add_subplot(2, 2, 2)\n",
        "ax2.plot(np.arange(1,11), r2_stds, color='red')\n",
        "ax2.set_xlabel('k-Fold', fontsize=12)\n",
        "ax2.set_ylabel('Standard Deviation (+/-)', fontsize=12)\n",
        "ax2.set_title('R^2 Standard Deviation per k-fold', fontsize=14)\n",
        "ax2.grid(True)\n",
        "\n",
        "# Plot RMSE scores per k-fold:\n",
        "ax3 = fig2.add_subplot(2, 2, 3)\n",
        "ax3.plot(np.arange(1,11), rmse_means, color='orangered', label='Mean')\n",
        "ax3.plot(np.arange(1,11), rmse_mins, color='green', label='Min')\n",
        "ax3.plot(np.arange(1,11), rmse_maxs, color='blue', label='Max')\n",
        "ax3.set_xlabel('k-Fold', fontsize=12)\n",
        "ax3.set_ylabel('RMSE Score', fontsize=12)\n",
        "ax3.set_title('RMSE Score per k-Fold', fontsize=14)\n",
        "ax3.legend()\n",
        "ax3.grid(True)\n",
        "\n",
        "# Plot RMSE Standard Deviations per k-fold:\n",
        "ax4 = fig2.add_subplot(2, 2, 4)\n",
        "ax4.plot(np.arange(1,11), rmse_stds, color='orangered')\n",
        "ax4.set_xlabel('k-Fold', fontsize=12)\n",
        "ax4.set_ylabel('Standard Deviation (+/-)', fontsize=12)\n",
        "ax4.set_title('RMSE Standard Deviation per k-fold', fontsize=14)\n",
        "ax4.grid(True)\n",
        "\n",
        "# Show subplot\n",
        "plt.show()"
      ],
      "execution_count": null,
      "outputs": [
        {
          "output_type": "stream",
          "text": [
            "/usr/local/lib/python3.7/dist-packages/sklearn/model_selection/_split.py:667: UserWarning: The least populated class in y has only 1 members, which is less than n_splits=2.\n",
            "  % (min_groups, self.n_splits)), UserWarning)\n",
            "/usr/local/lib/python3.7/dist-packages/sklearn/model_selection/_split.py:667: UserWarning: The least populated class in y has only 1 members, which is less than n_splits=2.\n",
            "  % (min_groups, self.n_splits)), UserWarning)\n",
            "/usr/local/lib/python3.7/dist-packages/sklearn/model_selection/_split.py:667: UserWarning: The least populated class in y has only 1 members, which is less than n_splits=2.\n",
            "  % (min_groups, self.n_splits)), UserWarning)\n",
            "/usr/local/lib/python3.7/dist-packages/sklearn/model_selection/_split.py:667: UserWarning: The least populated class in y has only 1 members, which is less than n_splits=2.\n",
            "  % (min_groups, self.n_splits)), UserWarning)\n",
            "/usr/local/lib/python3.7/dist-packages/sklearn/model_selection/_split.py:667: UserWarning: The least populated class in y has only 1 members, which is less than n_splits=2.\n",
            "  % (min_groups, self.n_splits)), UserWarning)\n",
            "/usr/local/lib/python3.7/dist-packages/sklearn/model_selection/_split.py:667: UserWarning: The least populated class in y has only 1 members, which is less than n_splits=2.\n",
            "  % (min_groups, self.n_splits)), UserWarning)\n",
            "/usr/local/lib/python3.7/dist-packages/sklearn/model_selection/_split.py:667: UserWarning: The least populated class in y has only 1 members, which is less than n_splits=3.\n",
            "  % (min_groups, self.n_splits)), UserWarning)\n",
            "/usr/local/lib/python3.7/dist-packages/sklearn/model_selection/_split.py:667: UserWarning: The least populated class in y has only 1 members, which is less than n_splits=3.\n",
            "  % (min_groups, self.n_splits)), UserWarning)\n",
            "/usr/local/lib/python3.7/dist-packages/sklearn/model_selection/_split.py:667: UserWarning: The least populated class in y has only 1 members, which is less than n_splits=3.\n",
            "  % (min_groups, self.n_splits)), UserWarning)\n",
            "/usr/local/lib/python3.7/dist-packages/sklearn/model_selection/_split.py:667: UserWarning: The least populated class in y has only 1 members, which is less than n_splits=3.\n",
            "  % (min_groups, self.n_splits)), UserWarning)\n",
            "/usr/local/lib/python3.7/dist-packages/sklearn/model_selection/_split.py:667: UserWarning: The least populated class in y has only 1 members, which is less than n_splits=3.\n",
            "  % (min_groups, self.n_splits)), UserWarning)\n",
            "/usr/local/lib/python3.7/dist-packages/sklearn/model_selection/_split.py:667: UserWarning: The least populated class in y has only 1 members, which is less than n_splits=3.\n",
            "  % (min_groups, self.n_splits)), UserWarning)\n",
            "/usr/local/lib/python3.7/dist-packages/sklearn/model_selection/_split.py:667: UserWarning: The least populated class in y has only 1 members, which is less than n_splits=4.\n",
            "  % (min_groups, self.n_splits)), UserWarning)\n",
            "/usr/local/lib/python3.7/dist-packages/sklearn/model_selection/_split.py:667: UserWarning: The least populated class in y has only 1 members, which is less than n_splits=4.\n",
            "  % (min_groups, self.n_splits)), UserWarning)\n",
            "/usr/local/lib/python3.7/dist-packages/sklearn/model_selection/_split.py:667: UserWarning: The least populated class in y has only 1 members, which is less than n_splits=4.\n",
            "  % (min_groups, self.n_splits)), UserWarning)\n"
          ],
          "name": "stderr"
        },
        {
          "output_type": "stream",
          "text": [
            "\n",
            "-- Fold: 1 --\n",
            "\n",
            "R^2 Scoring:\n",
            "Mean: 0.809476\n",
            "Std: +/- 0.032745\n",
            "Min: 0.762291\n",
            "Max: 0.851024\n",
            "\n",
            "RMSE Scoring:\n",
            "Mean: 1.907504\n",
            "Std: +/- 0.163686\n",
            "Min: 1.702997\n",
            "Max: 2.130598\n",
            "\n",
            "\n",
            "-- Fold: 2 --\n",
            "\n",
            "R^2 Scoring:\n",
            "Mean: 0.822577\n",
            "Std: +/- 0.048391\n",
            "Min: 0.755451\n",
            "Max: 0.896690\n",
            "\n",
            "RMSE Scoring:\n",
            "Mean: 1.829666\n",
            "Std: +/- 0.262999\n",
            "Min: 1.407754\n",
            "Max: 2.162550\n",
            "\n",
            "\n",
            "-- Fold: 3 --\n",
            "\n",
            "R^2 Scoring:\n",
            "Mean: 0.797831\n",
            "Std: +/- 0.073378\n",
            "Min: 0.699433\n",
            "Max: 0.927608\n",
            "\n",
            "RMSE Scoring:\n",
            "Mean: 1.930600\n",
            "Std: +/- 0.364216\n",
            "Min: 1.153180\n",
            "Max: 2.411019\n",
            "\n"
          ],
          "name": "stdout"
        },
        {
          "output_type": "stream",
          "text": [
            "/usr/local/lib/python3.7/dist-packages/sklearn/model_selection/_split.py:667: UserWarning: The least populated class in y has only 1 members, which is less than n_splits=4.\n",
            "  % (min_groups, self.n_splits)), UserWarning)\n",
            "/usr/local/lib/python3.7/dist-packages/sklearn/model_selection/_split.py:667: UserWarning: The least populated class in y has only 1 members, which is less than n_splits=4.\n",
            "  % (min_groups, self.n_splits)), UserWarning)\n",
            "/usr/local/lib/python3.7/dist-packages/sklearn/model_selection/_split.py:667: UserWarning: The least populated class in y has only 1 members, which is less than n_splits=4.\n",
            "  % (min_groups, self.n_splits)), UserWarning)\n",
            "/usr/local/lib/python3.7/dist-packages/sklearn/model_selection/_split.py:667: UserWarning: The least populated class in y has only 1 members, which is less than n_splits=5.\n",
            "  % (min_groups, self.n_splits)), UserWarning)\n",
            "/usr/local/lib/python3.7/dist-packages/sklearn/model_selection/_split.py:667: UserWarning: The least populated class in y has only 1 members, which is less than n_splits=5.\n",
            "  % (min_groups, self.n_splits)), UserWarning)\n",
            "/usr/local/lib/python3.7/dist-packages/sklearn/model_selection/_split.py:667: UserWarning: The least populated class in y has only 1 members, which is less than n_splits=5.\n",
            "  % (min_groups, self.n_splits)), UserWarning)\n",
            "/usr/local/lib/python3.7/dist-packages/sklearn/model_selection/_split.py:667: UserWarning: The least populated class in y has only 1 members, which is less than n_splits=5.\n",
            "  % (min_groups, self.n_splits)), UserWarning)\n",
            "/usr/local/lib/python3.7/dist-packages/sklearn/model_selection/_split.py:667: UserWarning: The least populated class in y has only 1 members, which is less than n_splits=5.\n",
            "  % (min_groups, self.n_splits)), UserWarning)\n",
            "/usr/local/lib/python3.7/dist-packages/sklearn/model_selection/_split.py:667: UserWarning: The least populated class in y has only 1 members, which is less than n_splits=5.\n",
            "  % (min_groups, self.n_splits)), UserWarning)\n",
            "/usr/local/lib/python3.7/dist-packages/sklearn/model_selection/_split.py:667: UserWarning: The least populated class in y has only 1 members, which is less than n_splits=6.\n",
            "  % (min_groups, self.n_splits)), UserWarning)\n",
            "/usr/local/lib/python3.7/dist-packages/sklearn/model_selection/_split.py:667: UserWarning: The least populated class in y has only 1 members, which is less than n_splits=6.\n",
            "  % (min_groups, self.n_splits)), UserWarning)\n",
            "/usr/local/lib/python3.7/dist-packages/sklearn/model_selection/_split.py:667: UserWarning: The least populated class in y has only 1 members, which is less than n_splits=6.\n",
            "  % (min_groups, self.n_splits)), UserWarning)\n"
          ],
          "name": "stderr"
        },
        {
          "output_type": "stream",
          "text": [
            "\n",
            "-- Fold: 4 --\n",
            "\n",
            "R^2 Scoring:\n",
            "Mean: 0.823581\n",
            "Std: +/- 0.074240\n",
            "Min: 0.633595\n",
            "Max: 0.946933\n",
            "\n",
            "RMSE Scoring:\n",
            "Mean: 1.802353\n",
            "Std: +/- 0.393200\n",
            "Min: 1.046436\n",
            "Max: 2.632707\n",
            "\n",
            "\n",
            "-- Fold: 5 --\n",
            "\n",
            "R^2 Scoring:\n",
            "Mean: 0.841629\n",
            "Std: +/- 0.091637\n",
            "Min: 0.666401\n",
            "Max: 0.952217\n",
            "\n",
            "RMSE Scoring:\n",
            "Mean: 1.670340\n",
            "Std: +/- 0.477152\n",
            "Min: 0.963399\n",
            "Max: 2.501691\n",
            "\n"
          ],
          "name": "stdout"
        },
        {
          "output_type": "stream",
          "text": [
            "/usr/local/lib/python3.7/dist-packages/sklearn/model_selection/_split.py:667: UserWarning: The least populated class in y has only 1 members, which is less than n_splits=6.\n",
            "  % (min_groups, self.n_splits)), UserWarning)\n",
            "/usr/local/lib/python3.7/dist-packages/sklearn/model_selection/_split.py:667: UserWarning: The least populated class in y has only 1 members, which is less than n_splits=6.\n",
            "  % (min_groups, self.n_splits)), UserWarning)\n",
            "/usr/local/lib/python3.7/dist-packages/sklearn/model_selection/_split.py:667: UserWarning: The least populated class in y has only 1 members, which is less than n_splits=6.\n",
            "  % (min_groups, self.n_splits)), UserWarning)\n",
            "/usr/local/lib/python3.7/dist-packages/sklearn/model_selection/_split.py:667: UserWarning: The least populated class in y has only 1 members, which is less than n_splits=7.\n",
            "  % (min_groups, self.n_splits)), UserWarning)\n",
            "/usr/local/lib/python3.7/dist-packages/sklearn/model_selection/_split.py:667: UserWarning: The least populated class in y has only 1 members, which is less than n_splits=7.\n",
            "  % (min_groups, self.n_splits)), UserWarning)\n",
            "/usr/local/lib/python3.7/dist-packages/sklearn/model_selection/_split.py:667: UserWarning: The least populated class in y has only 1 members, which is less than n_splits=7.\n",
            "  % (min_groups, self.n_splits)), UserWarning)\n",
            "/usr/local/lib/python3.7/dist-packages/sklearn/model_selection/_split.py:667: UserWarning: The least populated class in y has only 1 members, which is less than n_splits=7.\n",
            "  % (min_groups, self.n_splits)), UserWarning)\n",
            "/usr/local/lib/python3.7/dist-packages/sklearn/model_selection/_split.py:667: UserWarning: The least populated class in y has only 1 members, which is less than n_splits=7.\n",
            "  % (min_groups, self.n_splits)), UserWarning)\n",
            "/usr/local/lib/python3.7/dist-packages/sklearn/model_selection/_split.py:667: UserWarning: The least populated class in y has only 1 members, which is less than n_splits=7.\n",
            "  % (min_groups, self.n_splits)), UserWarning)\n"
          ],
          "name": "stderr"
        },
        {
          "output_type": "stream",
          "text": [
            "\n",
            "-- Fold: 6 --\n",
            "\n",
            "R^2 Scoring:\n",
            "Mean: 0.802332\n",
            "Std: +/- 0.114301\n",
            "Min: 0.492024\n",
            "Max: 0.955834\n",
            "\n",
            "RMSE Scoring:\n",
            "Mean: 1.870875\n",
            "Std: +/- 0.554836\n",
            "Min: 0.878979\n",
            "Max: 3.094519\n",
            "\n",
            "\n",
            "-- Fold: 7 --\n",
            "\n",
            "R^2 Scoring:\n",
            "Mean: 0.822187\n",
            "Std: +/- 0.094471\n",
            "Min: 0.590171\n",
            "Max: 0.951138\n",
            "\n",
            "RMSE Scoring:\n",
            "Mean: 1.774821\n",
            "Std: +/- 0.491109\n",
            "Min: 0.922551\n",
            "Max: 2.835953\n",
            "\n"
          ],
          "name": "stdout"
        },
        {
          "output_type": "stream",
          "text": [
            "/usr/local/lib/python3.7/dist-packages/sklearn/model_selection/_split.py:667: UserWarning: The least populated class in y has only 1 members, which is less than n_splits=8.\n",
            "  % (min_groups, self.n_splits)), UserWarning)\n",
            "/usr/local/lib/python3.7/dist-packages/sklearn/model_selection/_split.py:667: UserWarning: The least populated class in y has only 1 members, which is less than n_splits=8.\n",
            "  % (min_groups, self.n_splits)), UserWarning)\n",
            "/usr/local/lib/python3.7/dist-packages/sklearn/model_selection/_split.py:667: UserWarning: The least populated class in y has only 1 members, which is less than n_splits=8.\n",
            "  % (min_groups, self.n_splits)), UserWarning)\n",
            "/usr/local/lib/python3.7/dist-packages/sklearn/model_selection/_split.py:667: UserWarning: The least populated class in y has only 1 members, which is less than n_splits=8.\n",
            "  % (min_groups, self.n_splits)), UserWarning)\n",
            "/usr/local/lib/python3.7/dist-packages/sklearn/model_selection/_split.py:667: UserWarning: The least populated class in y has only 1 members, which is less than n_splits=8.\n",
            "  % (min_groups, self.n_splits)), UserWarning)\n",
            "/usr/local/lib/python3.7/dist-packages/sklearn/model_selection/_split.py:667: UserWarning: The least populated class in y has only 1 members, which is less than n_splits=8.\n",
            "  % (min_groups, self.n_splits)), UserWarning)\n",
            "/usr/local/lib/python3.7/dist-packages/sklearn/model_selection/_split.py:667: UserWarning: The least populated class in y has only 1 members, which is less than n_splits=9.\n",
            "  % (min_groups, self.n_splits)), UserWarning)\n",
            "/usr/local/lib/python3.7/dist-packages/sklearn/model_selection/_split.py:667: UserWarning: The least populated class in y has only 1 members, which is less than n_splits=9.\n",
            "  % (min_groups, self.n_splits)), UserWarning)\n",
            "/usr/local/lib/python3.7/dist-packages/sklearn/model_selection/_split.py:667: UserWarning: The least populated class in y has only 1 members, which is less than n_splits=9.\n",
            "  % (min_groups, self.n_splits)), UserWarning)\n",
            "/usr/local/lib/python3.7/dist-packages/sklearn/model_selection/_split.py:667: UserWarning: The least populated class in y has only 1 members, which is less than n_splits=9.\n",
            "  % (min_groups, self.n_splits)), UserWarning)\n",
            "/usr/local/lib/python3.7/dist-packages/sklearn/model_selection/_split.py:667: UserWarning: The least populated class in y has only 1 members, which is less than n_splits=9.\n",
            "  % (min_groups, self.n_splits)), UserWarning)\n",
            "/usr/local/lib/python3.7/dist-packages/sklearn/model_selection/_split.py:667: UserWarning: The least populated class in y has only 1 members, which is less than n_splits=9.\n",
            "  % (min_groups, self.n_splits)), UserWarning)\n",
            "/usr/local/lib/python3.7/dist-packages/sklearn/model_selection/_split.py:667: UserWarning: The least populated class in y has only 1 members, which is less than n_splits=10.\n",
            "  % (min_groups, self.n_splits)), UserWarning)\n",
            "/usr/local/lib/python3.7/dist-packages/sklearn/model_selection/_split.py:667: UserWarning: The least populated class in y has only 1 members, which is less than n_splits=10.\n",
            "  % (min_groups, self.n_splits)), UserWarning)\n",
            "/usr/local/lib/python3.7/dist-packages/sklearn/model_selection/_split.py:667: UserWarning: The least populated class in y has only 1 members, which is less than n_splits=10.\n",
            "  % (min_groups, self.n_splits)), UserWarning)\n",
            "/usr/local/lib/python3.7/dist-packages/sklearn/model_selection/_split.py:667: UserWarning: The least populated class in y has only 1 members, which is less than n_splits=10.\n",
            "  % (min_groups, self.n_splits)), UserWarning)\n",
            "/usr/local/lib/python3.7/dist-packages/sklearn/model_selection/_split.py:667: UserWarning: The least populated class in y has only 1 members, which is less than n_splits=10.\n",
            "  % (min_groups, self.n_splits)), UserWarning)\n"
          ],
          "name": "stderr"
        },
        {
          "output_type": "stream",
          "text": [
            "\n",
            "-- Fold: 8 --\n",
            "\n",
            "R^2 Scoring:\n",
            "Mean: 0.841801\n",
            "Std: +/- 0.097871\n",
            "Min: 0.619383\n",
            "Max: 0.962315\n",
            "\n",
            "RMSE Scoring:\n",
            "Mean: 1.651792\n",
            "Std: +/- 0.552281\n",
            "Min: 0.856029\n",
            "Max: 2.708069\n",
            "\n",
            "\n",
            "-- Fold: 9 --\n",
            "\n",
            "R^2 Scoring:\n",
            "Mean: 0.840503\n",
            "Std: +/- 0.105040\n",
            "Min: 0.608488\n",
            "Max: 0.962701\n",
            "\n",
            "RMSE Scoring:\n",
            "Mean: 1.655660\n",
            "Std: +/- 0.604848\n",
            "Min: 0.844227\n",
            "Max: 2.884438\n",
            "\n"
          ],
          "name": "stdout"
        },
        {
          "output_type": "stream",
          "text": [
            "/usr/local/lib/python3.7/dist-packages/sklearn/model_selection/_split.py:667: UserWarning: The least populated class in y has only 1 members, which is less than n_splits=10.\n",
            "  % (min_groups, self.n_splits)), UserWarning)\n",
            "/usr/local/lib/python3.7/dist-packages/sklearn/model_selection/_split.py:667: UserWarning: The least populated class in y has only 1 members, which is less than n_splits=11.\n",
            "  % (min_groups, self.n_splits)), UserWarning)\n",
            "/usr/local/lib/python3.7/dist-packages/sklearn/model_selection/_split.py:667: UserWarning: The least populated class in y has only 1 members, which is less than n_splits=11.\n",
            "  % (min_groups, self.n_splits)), UserWarning)\n",
            "/usr/local/lib/python3.7/dist-packages/sklearn/model_selection/_split.py:667: UserWarning: The least populated class in y has only 1 members, which is less than n_splits=11.\n",
            "  % (min_groups, self.n_splits)), UserWarning)\n",
            "/usr/local/lib/python3.7/dist-packages/sklearn/model_selection/_split.py:667: UserWarning: The least populated class in y has only 1 members, which is less than n_splits=11.\n",
            "  % (min_groups, self.n_splits)), UserWarning)\n",
            "/usr/local/lib/python3.7/dist-packages/sklearn/model_selection/_split.py:667: UserWarning: The least populated class in y has only 1 members, which is less than n_splits=11.\n",
            "  % (min_groups, self.n_splits)), UserWarning)\n",
            "/usr/local/lib/python3.7/dist-packages/sklearn/model_selection/_split.py:667: UserWarning: The least populated class in y has only 1 members, which is less than n_splits=11.\n",
            "  % (min_groups, self.n_splits)), UserWarning)\n"
          ],
          "name": "stderr"
        },
        {
          "output_type": "stream",
          "text": [
            "\n",
            "-- Fold: 10 --\n",
            "\n",
            "R^2 Scoring:\n",
            "Mean: 0.868932\n",
            "Std: +/- 0.092926\n",
            "Min: 0.640953\n",
            "Max: 0.972926\n",
            "\n",
            "RMSE Scoring:\n",
            "Mean: 1.483428\n",
            "Std: +/- 0.574670\n",
            "Min: 0.733312\n",
            "Max: 2.730390\n",
            "\n"
          ],
          "name": "stdout"
        },
        {
          "output_type": "display_data",
          "data": {
            "image/png": "[encoded data removed]",
            "text/plain": [
              "<Figure size 1080x720 with 4 Axes>"
            ]
          },
          "metadata": {
            "tags": [],
            "needs_background": "light"
          }
        }
      ]
    },
    {
      "cell_type": "markdown",
      "metadata": {
        "id": "QFJ-AJOcm7fP"
      },
      "source": [
        "<table border = \"1\">\n",
        "  <thead>\n",
        "    <th colspan = \"3\">Decision Tree Cross-Validation Results</th>\n",
        "  </thead>\n",
        "  <tbody>\n",
        "    <tr>\n",
        "      <td><b></b></td>\n",
        "      <td><b>R^2</b></td>\n",
        "      <td><b>RMSE</b></td>\n",
        "    </tr>\n",
        "    <tr>\n",
        "      <td><b>Mean</b></td>\n",
        "      <td>0.869</td>\n",
        "      <td>1.483</td>\n",
        "    </tr>\n",
        "    <tr>\n",
        "      <td><b>Std.</b></td>\n",
        "      <td>0.093</td>\n",
        "      <td>0.575</td>\n",
        "    </tr>\n",
        "    <tr>\n",
        "      <td><b>Min</b></td>\n",
        "      <td>0.641</td>\n",
        "      <td>0.733</td>\n",
        "    </tr>\n",
        "    <tr>\n",
        "      <td><b>Max</b></td>\n",
        "      <td>0.973</td>\n",
        "      <td>2.730</td>\n",
        "    </tr>\n",
        "  </tbody>\n",
        "</table>"
      ]
    },
    {
      "cell_type": "code",
      "metadata": {
        "colab": {
          "base_uri": "https://localhost:8080/"
        },
        "id": "Gy5W6MOWmtPv",
        "outputId": "01fe0ce3-9f73-42c0-860d-6b60c4521588"
      },
      "source": [
        "# Apply Grid Search for parameter tuning\n",
        "\n",
        "# param_dict = {'criterion': ['mse', 'mae'],\n",
        "#               'max_depth': [10, 25, 50, 75, 100],\n",
        "#               'min_samples_leaf': [2, 5, 10],\n",
        "#               'min_samples_split': [2, 5, 10],\n",
        "#               'max_features': [2, 5, 10, 15, 20, 25],\n",
        "#               'random_state': [0, 1, 2]}\n",
        "\n",
        "param_dict = {'max_depth': [4, 5],\n",
        "              'min_samples_split': [4, 5],\n",
        "              'min_samples_leaf': [4, 5],\n",
        "              'max_features': [30, 31, 32],\n",
        "              'random_state': [0, 1, 2, 3]}\n",
        "\n",
        "# grid = GridSearchCV(dt_reg, param_dict, scoring='neg_mean_absolute_error', cv=cv, n_jobs=-1)\n",
        "# grid = GridSearchCV(dt_reg, param_dict, scoring='neg_mean_squared_error', cv=cv, n_jobs=-1)\n",
        "# grid = GridSearchCV(dt_reg, param_dict, scoring='neg_root_mean_squared_error', cv=cv, n_jobs=-1)\n",
        "grid = GridSearchCV(dt_reg, param_dict, scoring='r2', cv=cv, n_jobs=-1)\n",
        "results = grid.fit(X_train, y_train)\n",
        "\n",
        "# Summarize results\n",
        "best_score = grid.best_score_\n",
        "best_parameters = grid.best_params_\n",
        "print(\"Best Score: %.3f%%\" % (np.abs(best_score * 100)))  # R^2 Scoring\n",
        "# print(\"Best Score: %.3f%%\" % (np.abs(best_score)))  # RMSE\n",
        "print(\"Best Parameters: \", best_parameters)"
      ],
      "execution_count": null,
      "outputs": [
        {
          "output_type": "stream",
          "text": [
            "/usr/local/lib/python3.7/dist-packages/sklearn/model_selection/_split.py:667: UserWarning: The least populated class in y has only 1 members, which is less than n_splits=11.\n",
            "  % (min_groups, self.n_splits)), UserWarning)\n",
            "/usr/local/lib/python3.7/dist-packages/sklearn/model_selection/_split.py:667: UserWarning: The least populated class in y has only 1 members, which is less than n_splits=11.\n",
            "  % (min_groups, self.n_splits)), UserWarning)\n",
            "/usr/local/lib/python3.7/dist-packages/sklearn/model_selection/_split.py:667: UserWarning: The least populated class in y has only 1 members, which is less than n_splits=11.\n",
            "  % (min_groups, self.n_splits)), UserWarning)\n"
          ],
          "name": "stderr"
        },
        {
          "output_type": "stream",
          "text": [
            "Best Score: 86.893%\n",
            "Best Parameters:  {'max_depth': 5, 'max_features': 31, 'min_samples_leaf': 5, 'min_samples_split': 4, 'random_state': 0}\n"
          ],
          "name": "stdout"
        }
      ]
    },
    {
      "cell_type": "markdown",
      "metadata": {
        "id": "KJLWzXhsnCs4"
      },
      "source": [
        "<table border = \"1\">\n",
        "  <thead>\n",
        "    <th colspan = \"2\">Decision Tree Grid Search Results</th>\n",
        "  </thead>\n",
        "  <tbody>\n",
        "    <tr>\n",
        "      <td><b>Best Score</b></td>\n",
        "      <td>86.893%</td>\n",
        "    </tr>\n",
        "    <tr>\n",
        "      <td colspan=\"2\"><b>Best Parameters:</b></td>\n",
        "    </tr>\n",
        "    <tr>\n",
        "      <td><b>criterion</b></td>\n",
        "      <td>'mse'</td>\n",
        "    </tr>\n",
        "    <tr>\n",
        "      <td><b>max_depth</b></td>\n",
        "      <td>5</td>\n",
        "    </tr>\n",
        "    <tr>\n",
        "      <td><b>max_features</b></td>\n",
        "      <td>31</td>\n",
        "    </tr>\n",
        "    <tr>\n",
        "      <td><b>min_samples_leaf</b></td>\n",
        "      <td>5</td>\n",
        "    </tr>\n",
        "    <tr>\n",
        "      <td><b>min_samples_split</b></td>\n",
        "      <td>4</td>\n",
        "    </tr>\n",
        "    <tr>\n",
        "      <td><b>random_state</b></td>\n",
        "      <td>0</td>\n",
        "    </tr>\n",
        "  </tbody>\n",
        "</table>"
      ]
    },
    {
      "cell_type": "markdown",
      "metadata": {
        "id": "R0zI1XtnkS_c"
      },
      "source": [
        "### Random Forest (RF)"
      ]
    },
    {
      "cell_type": "code",
      "metadata": {
        "colab": {
          "base_uri": "https://localhost:8080/"
        },
        "id": "s_cX-xjYpQlB",
        "outputId": "109928bc-6545-420c-f7b2-9bcc2343a8e4"
      },
      "source": [
        "rf_reg = RandomForestRegressor(criterion='mse', max_depth=30, min_samples_split=2, \n",
        "                            min_samples_leaf=4, n_estimators=69,\n",
        "                            max_samples=0.87, max_features=29, random_state=20)\n",
        "rf_reg.fit(X_train, y_train)"
      ],
      "execution_count": null,
      "outputs": [
        {
          "output_type": "execute_result",
          "data": {
            "text/plain": [
              "RandomForestRegressor(bootstrap=True, ccp_alpha=0.0, criterion='mse',\n",
              "                      max_depth=30, max_features=29, max_leaf_nodes=None,\n",
              "                      max_samples=0.87, min_impurity_decrease=0.0,\n",
              "                      min_impurity_split=None, min_samples_leaf=4,\n",
              "                      min_samples_split=2, min_weight_fraction_leaf=0.0,\n",
              "                      n_estimators=69, n_jobs=None, oob_score=False,\n",
              "                      random_state=20, verbose=0, warm_start=False)"
            ]
          },
          "metadata": {
            "tags": []
          },
          "execution_count": 89
        }
      ]
    },
    {
      "cell_type": "code",
      "metadata": {
        "colab": {
          "base_uri": "https://localhost:8080/"
        },
        "id": "fzak43i4pT4X",
        "outputId": "7d2878cb-bbaf-4d6f-e697-e2dd2ecc6f69"
      },
      "source": [
        "# Predict test set results\n",
        "y_pred = rf_reg.predict(X_test)\n",
        "np.set_printoptions(precision = 2)\n",
        "print(np.concatenate((y_pred.reshape(len(y_pred), 1), y_test.reshape(len(y_test), 1)), 1 ))\n",
        "print('')\n",
        "\n",
        "# Summarize results\n",
        "print('MAE: %.3f' % (mean_absolute_error(y_test, y_pred)))\n",
        "print('MSE: %.3f' % (mean_squared_error(y_test, y_pred)))\n",
        "print('RMSE: %.3f' % (mean_squared_error(y_test, y_pred, squared=False)))\n",
        "print('R^2 Score: %.3f' % (r2_score(y_test, y_pred)))"
      ],
      "execution_count": null,
      "outputs": [
        {
          "output_type": "stream",
          "text": [
            "[[13.01 14.  ]\n",
            " [10.98 10.  ]\n",
            " [10.04  9.  ]\n",
            " [14.07 15.  ]\n",
            " [15.46 16.  ]\n",
            " [12.27 12.  ]\n",
            " [13.   14.  ]\n",
            " [10.82 11.  ]\n",
            " [ 9.24  9.  ]\n",
            " [14.2  15.  ]\n",
            " [ 8.43 10.  ]\n",
            " [11.46 11.  ]\n",
            " [10.68 10.  ]\n",
            " [ 8.41  8.  ]\n",
            " [13.91 15.  ]\n",
            " [12.94 14.  ]\n",
            " [12.88 12.  ]\n",
            " [ 9.96  0.  ]\n",
            " [ 9.5  10.  ]\n",
            " [14.12 16.  ]\n",
            " [ 7.1   0.  ]\n",
            " [ 5.1   0.  ]\n",
            " [ 7.2   8.  ]\n",
            " [14.05 16.  ]\n",
            " [12.39 12.  ]\n",
            " [15.79 15.  ]\n",
            " [10.18 10.  ]\n",
            " [18.32 19.  ]\n",
            " [ 4.96  0.  ]\n",
            " [12.91 14.  ]\n",
            " [ 4.79  0.  ]\n",
            " [ 8.33 10.  ]\n",
            " [ 8.76  8.  ]\n",
            " [ 6.27  4.  ]\n",
            " [12.78 13.  ]\n",
            " [10.46 10.  ]\n",
            " [12.64 13.  ]\n",
            " [17.6  18.  ]\n",
            " [ 9.37  8.  ]\n",
            " [12.   11.  ]\n",
            " [ 5.47  6.  ]\n",
            " [17.66 18.  ]\n",
            " [ 8.02  8.  ]\n",
            " [ 9.04  8.  ]\n",
            " [ 9.98 11.  ]\n",
            " [ 4.82  0.  ]\n",
            " [11.81 13.  ]\n",
            " [ 5.05  0.  ]\n",
            " [12.13 13.  ]\n",
            " [ 8.75  7.  ]\n",
            " [ 9.36 10.  ]\n",
            " [17.69 18.  ]\n",
            " [10.52 10.  ]\n",
            " [ 8.27  9.  ]\n",
            " [11.86 11.  ]\n",
            " [ 8.44  6.  ]\n",
            " [ 9.28  9.  ]\n",
            " [12.75 13.  ]\n",
            " [14.14 15.  ]\n",
            " [13.04 14.  ]\n",
            " [12.93 14.  ]\n",
            " [13.42 15.  ]\n",
            " [12.87 14.  ]\n",
            " [14.21 15.  ]\n",
            " [ 9.18  0.  ]\n",
            " [14.02 15.  ]\n",
            " [17.54 19.  ]\n",
            " [12.25 12.  ]\n",
            " [ 5.59  6.  ]\n",
            " [ 9.56  9.  ]\n",
            " [ 9.42  8.  ]\n",
            " [13.18 15.  ]\n",
            " [ 7.29  5.  ]\n",
            " [ 5.16  0.  ]\n",
            " [ 9.02  9.  ]\n",
            " [ 8.9   0.  ]\n",
            " [10.93 11.  ]\n",
            " [17.8  18.  ]\n",
            " [ 7.01  0.  ]]\n",
            "\n",
            "MAE: 1.653\n",
            "MSE: 7.388\n",
            "RMSE: 2.718\n",
            "R^2 Score: 0.732\n"
          ],
          "name": "stdout"
        }
      ]
    },
    {
      "cell_type": "markdown",
      "metadata": {
        "id": "dlzTZTnbxz0J"
      },
      "source": [
        "<table border = \"1\">\n",
        "  <thead>\n",
        "    <th colspan = \"5\">Random Forest Prediction Scores</th>\n",
        "  </thead>\n",
        "  <tbody>\n",
        "    <tr>\n",
        "      <td><b>MAE:<b></td>\n",
        "      <td>1.653</td>\n",
        "    </tr>\n",
        "    <tr>\n",
        "      <td><b>MSE:<b></td>\n",
        "      <td>7.388</td>\n",
        "    </tr>\n",
        "    <tr>\n",
        "      <td><b>RMSE:<b></td>\n",
        "      <td>2.718</td>\n",
        "    </tr>\n",
        "    <tr>\n",
        "      <td><b>R^2:<b></td>\n",
        "      <td>0.732</td>\n",
        "    </tr>\n",
        "  </tbody>\n",
        "</table>"
      ]
    },
    {
      "cell_type": "code",
      "metadata": {
        "colab": {
          "base_uri": "https://localhost:8080/",
          "height": 408
        },
        "id": "BGsPKqBYyEpc",
        "outputId": "64f8da71-ad14-4ffd-d98a-7edd56207285"
      },
      "source": [
        "# Plot histogram for y_pred\n",
        "fig1 = plt.figure(figsize=(15, 6))\n",
        "ax1 = fig1.add_subplot(1, 2, 1)\n",
        "plt.xticks(np.arange(0, 20, 2))\n",
        "plt.yticks(np.arange(0, 22, 2))\n",
        "plt.hist(x=y_pred, facecolor='violet', alpha=0.7, edgecolor='black')\n",
        "plt.xlabel('Grade', fontsize=12)\n",
        "plt.ylabel('Number of students', fontsize=12)\n",
        "plt.title('Predicted Grade Distribution', fontsize=14)\n",
        "\n",
        "# Plot histogram for y_test\n",
        "ax1 = fig1.add_subplot(1, 2, 2)\n",
        "plt.xticks(np.arange(0, 20, 2))\n",
        "plt.yticks(np.arange(0, 18, 2))\n",
        "plt.hist(x=y_test, facecolor='orange', alpha=0.6, edgecolor='black')\n",
        "plt.xlabel('Grade', fontsize=12)\n",
        "plt.ylabel('Number of students', fontsize=12)\n",
        "plt.title('Validation Grade Distribution', fontsize=14)\n",
        "\n",
        "# Show subplot\n",
        "plt.show()"
      ],
      "execution_count": 134,
      "outputs": [
        {
          "output_type": "display_data",
          "data": {
            "image/png": "[encoded data removed]",
            "text/plain": [
              "<Figure size 1080x432 with 2 Axes>"
            ]
          },
          "metadata": {
            "tags": [],
            "needs_background": "light"
          }
        }
      ]
    },
    {
      "cell_type": "code",
      "metadata": {
        "colab": {
          "base_uri": "https://localhost:8080/"
        },
        "id": "3OwQvmnnpWSX",
        "outputId": "4e3d83b9-0728-44e1-a36f-a5005c78f487"
      },
      "source": [
        "# Apply k-Fold Cross Validation on the training set\n",
        "\n",
        "# Lists of values\n",
        "r2_means, r2_stds, r2_mins, r2_maxs = [], [], [], []  # R^2 Scoring\n",
        "rmse_means, rmse_stds, rmse_mins, rmse_maxs = [], [], [], []  # RMSE Scoring\n",
        "# Cross validate for 10 k-folds, each with 3 repeats\n",
        "for k in range(2, 12):\n",
        "  cv = RepeatedStratifiedKFold(n_splits = k, n_repeats = 3, random_state = 0)\n",
        "  r2_scores = cross_val_score(rf_reg, X_train, y_train, scoring='r2', cv=cv, n_jobs=-1)\n",
        "  # scores = cross_val_score(reg, X_train, y_train, scoring='neg_mean_absolute_error', cv=cv, n_jobs=-1)\n",
        "  # scores = cross_val_score(reg, X_train, y_train, scoring='neg_mean_squared_error', cv=cv, n_jobs=-1)\n",
        "  rmse_scores = cross_val_score(rf_reg, X_train, y_train, scoring='neg_root_mean_squared_error', cv=cv, n_jobs=-1)\n",
        "  \n",
        "  # Force scores to be positive\n",
        "  r2_scores = abs(r2_scores)\n",
        "  rmse_scores = abs(rmse_scores)\n",
        "\n",
        "  # Print values\n",
        "  print('')\n",
        "  print('-- Fold: %d --' % (k-1))\n",
        "  print('')\n",
        "  print('R^2 Scoring:')\n",
        "  print(\"Mean: %f\" % (np.mean(r2_scores)))\n",
        "  print(\"Std: +/- %f\" % (np.std(r2_scores)))\n",
        "  print(\"Min: %f\" % (np.min(r2_scores)))\n",
        "  print(\"Max: %f\" % (np.max(r2_scores)))\n",
        "  \n",
        "  print('')\n",
        "  print('RMSE Scoring:')\n",
        "  print(\"Mean: %f\" % (np.mean(rmse_scores)))\n",
        "  print(\"Std: +/- %f\" % (np.std(rmse_scores)))\n",
        "  print(\"Min: %f\" % (np.min(rmse_scores)))\n",
        "  print(\"Max: %f\" % (np.max(rmse_scores)))\n",
        "  print('')\n",
        "  \n",
        "  # Append R^2 scores\n",
        "  r2_means.append(np.mean(r2_scores))\n",
        "  r2_stds.append(np.std(r2_scores))\n",
        "  r2_mins.append(np.min(r2_scores))\n",
        "  r2_maxs.append(np.max(r2_scores))\n",
        "  \n",
        "  # Append RMSE scores\n",
        "  rmse_means.append(np.mean(rmse_scores))\n",
        "  rmse_stds.append(np.std(rmse_scores))\n",
        "  rmse_mins.append(np.min(rmse_scores))\n",
        "  rmse_maxs.append(np.max(rmse_scores))\n",
        "\n",
        "# Plot R^2 scores per k-fold:\n",
        "fig2 = plt.figure(figsize=(15, 10))\n",
        "ax1 = fig2.add_subplot(2, 2, 1)\n",
        "ax1.plot(np.arange(1,11), r2_means, color='red', label='Mean')\n",
        "ax1.plot(np.arange(1,11), r2_mins, color='green', label='Min')\n",
        "ax1.plot(np.arange(1,11), r2_maxs, color='blue', label='Max')\n",
        "ax1.set_xlabel('k-Fold', fontsize=12)\n",
        "ax1.set_ylabel('R^2 Score', fontsize=12)\n",
        "ax1.set_title('R^2 Score per k-Fold', fontsize=14)\n",
        "ax1.legend()\n",
        "ax1.grid(True)\n",
        "\n",
        "# Plot R^2 Standard Deviations per k-fold:\n",
        "ax2 = fig2.add_subplot(2, 2, 2)\n",
        "ax2.plot(np.arange(1,11), r2_stds, color='red')\n",
        "ax2.set_xlabel('k-Fold', fontsize=12)\n",
        "ax2.set_ylabel('Standard Deviation (+/-)', fontsize=12)\n",
        "ax2.set_title('R^2 Standard Deviation per k-fold', fontsize=14)\n",
        "ax2.grid(True)\n",
        "\n",
        "# Plot RMSE scores per k-fold:\n",
        "ax3 = fig2.add_subplot(2, 2, 3)\n",
        "ax3.plot(np.arange(1,11), rmse_means, color='orangered', label='Mean')\n",
        "ax3.plot(np.arange(1,11), rmse_mins, color='green', label='Min')\n",
        "ax3.plot(np.arange(1,11), rmse_maxs, color='blue', label='Max')\n",
        "ax3.set_xlabel('k-Fold', fontsize=12)\n",
        "ax3.set_ylabel('RMSE Score', fontsize=12)\n",
        "ax3.set_title('RMSE Score per k-Fold', fontsize=14)\n",
        "ax3.legend()\n",
        "ax3.grid(True)\n",
        "\n",
        "# Plot RMSE Standard Deviations per k-fold:\n",
        "ax4 = fig2.add_subplot(2, 2, 4)\n",
        "ax4.plot(np.arange(1,11), rmse_stds, color='orangered')\n",
        "ax4.set_xlabel('k-Fold', fontsize=12)\n",
        "ax4.set_ylabel('Standard Deviation (+/-)', fontsize=12)\n",
        "ax4.set_title('RMSE Standard Deviation per k-fold', fontsize=14)\n",
        "ax4.grid(True)\n",
        "\n",
        "# Show subplot\n",
        "plt.show()"
      ],
      "execution_count": null,
      "outputs": [
        {
          "output_type": "stream",
          "text": [
            "/usr/local/lib/python3.7/dist-packages/sklearn/model_selection/_split.py:667: UserWarning: The least populated class in y has only 1 members, which is less than n_splits=2.\n",
            "  % (min_groups, self.n_splits)), UserWarning)\n",
            "/usr/local/lib/python3.7/dist-packages/sklearn/model_selection/_split.py:667: UserWarning: The least populated class in y has only 1 members, which is less than n_splits=2.\n",
            "  % (min_groups, self.n_splits)), UserWarning)\n",
            "/usr/local/lib/python3.7/dist-packages/sklearn/model_selection/_split.py:667: UserWarning: The least populated class in y has only 1 members, which is less than n_splits=2.\n",
            "  % (min_groups, self.n_splits)), UserWarning)\n",
            "/usr/local/lib/python3.7/dist-packages/sklearn/model_selection/_split.py:667: UserWarning: The least populated class in y has only 1 members, which is less than n_splits=2.\n",
            "  % (min_groups, self.n_splits)), UserWarning)\n",
            "/usr/local/lib/python3.7/dist-packages/sklearn/model_selection/_split.py:667: UserWarning: The least populated class in y has only 1 members, which is less than n_splits=2.\n",
            "  % (min_groups, self.n_splits)), UserWarning)\n",
            "/usr/local/lib/python3.7/dist-packages/sklearn/model_selection/_split.py:667: UserWarning: The least populated class in y has only 1 members, which is less than n_splits=2.\n",
            "  % (min_groups, self.n_splits)), UserWarning)\n"
          ],
          "name": "stderr"
        },
        {
          "output_type": "stream",
          "text": [
            "\n",
            "-- Fold: 1 --\n",
            "\n",
            "R^2 Scoring:\n",
            "Mean: 0.856110\n",
            "Std: +/- 0.027534\n",
            "Min: 0.806002\n",
            "Max: 0.887918\n",
            "\n",
            "RMSE Scoring:\n",
            "Mean: 1.654173\n",
            "Std: +/- 0.129140\n",
            "Min: 1.498474\n",
            "Max: 1.893301\n",
            "\n"
          ],
          "name": "stdout"
        },
        {
          "output_type": "stream",
          "text": [
            "/usr/local/lib/python3.7/dist-packages/sklearn/model_selection/_split.py:667: UserWarning: The least populated class in y has only 1 members, which is less than n_splits=3.\n",
            "  % (min_groups, self.n_splits)), UserWarning)\n",
            "/usr/local/lib/python3.7/dist-packages/sklearn/model_selection/_split.py:667: UserWarning: The least populated class in y has only 1 members, which is less than n_splits=3.\n",
            "  % (min_groups, self.n_splits)), UserWarning)\n",
            "/usr/local/lib/python3.7/dist-packages/sklearn/model_selection/_split.py:667: UserWarning: The least populated class in y has only 1 members, which is less than n_splits=3.\n",
            "  % (min_groups, self.n_splits)), UserWarning)\n",
            "/usr/local/lib/python3.7/dist-packages/sklearn/model_selection/_split.py:667: UserWarning: The least populated class in y has only 1 members, which is less than n_splits=3.\n",
            "  % (min_groups, self.n_splits)), UserWarning)\n",
            "/usr/local/lib/python3.7/dist-packages/sklearn/model_selection/_split.py:667: UserWarning: The least populated class in y has only 1 members, which is less than n_splits=3.\n",
            "  % (min_groups, self.n_splits)), UserWarning)\n",
            "/usr/local/lib/python3.7/dist-packages/sklearn/model_selection/_split.py:667: UserWarning: The least populated class in y has only 1 members, which is less than n_splits=3.\n",
            "  % (min_groups, self.n_splits)), UserWarning)\n"
          ],
          "name": "stderr"
        },
        {
          "output_type": "stream",
          "text": [
            "\n",
            "-- Fold: 2 --\n",
            "\n",
            "R^2 Scoring:\n",
            "Mean: 0.870171\n",
            "Std: +/- 0.020240\n",
            "Min: 0.829313\n",
            "Max: 0.900725\n",
            "\n",
            "RMSE Scoring:\n",
            "Mean: 1.576666\n",
            "Std: +/- 0.127178\n",
            "Min: 1.379989\n",
            "Max: 1.822400\n",
            "\n"
          ],
          "name": "stdout"
        },
        {
          "output_type": "stream",
          "text": [
            "/usr/local/lib/python3.7/dist-packages/sklearn/model_selection/_split.py:667: UserWarning: The least populated class in y has only 1 members, which is less than n_splits=4.\n",
            "  % (min_groups, self.n_splits)), UserWarning)\n",
            "/usr/local/lib/python3.7/dist-packages/sklearn/model_selection/_split.py:667: UserWarning: The least populated class in y has only 1 members, which is less than n_splits=4.\n",
            "  % (min_groups, self.n_splits)), UserWarning)\n",
            "/usr/local/lib/python3.7/dist-packages/sklearn/model_selection/_split.py:667: UserWarning: The least populated class in y has only 1 members, which is less than n_splits=4.\n",
            "  % (min_groups, self.n_splits)), UserWarning)\n",
            "/usr/local/lib/python3.7/dist-packages/sklearn/model_selection/_split.py:667: UserWarning: The least populated class in y has only 1 members, which is less than n_splits=4.\n",
            "  % (min_groups, self.n_splits)), UserWarning)\n",
            "/usr/local/lib/python3.7/dist-packages/sklearn/model_selection/_split.py:667: UserWarning: The least populated class in y has only 1 members, which is less than n_splits=4.\n",
            "  % (min_groups, self.n_splits)), UserWarning)\n",
            "/usr/local/lib/python3.7/dist-packages/sklearn/model_selection/_split.py:667: UserWarning: The least populated class in y has only 1 members, which is less than n_splits=4.\n",
            "  % (min_groups, self.n_splits)), UserWarning)\n"
          ],
          "name": "stderr"
        },
        {
          "output_type": "stream",
          "text": [
            "\n",
            "-- Fold: 3 --\n",
            "\n",
            "R^2 Scoring:\n",
            "Mean: 0.864014\n",
            "Std: +/- 0.049510\n",
            "Min: 0.751815\n",
            "Max: 0.913961\n",
            "\n",
            "RMSE Scoring:\n",
            "Mean: 1.590629\n",
            "Std: +/- 0.273254\n",
            "Min: 1.257187\n",
            "Max: 2.190875\n",
            "\n"
          ],
          "name": "stdout"
        },
        {
          "output_type": "stream",
          "text": [
            "/usr/local/lib/python3.7/dist-packages/sklearn/model_selection/_split.py:667: UserWarning: The least populated class in y has only 1 members, which is less than n_splits=5.\n",
            "  % (min_groups, self.n_splits)), UserWarning)\n",
            "/usr/local/lib/python3.7/dist-packages/sklearn/model_selection/_split.py:667: UserWarning: The least populated class in y has only 1 members, which is less than n_splits=5.\n",
            "  % (min_groups, self.n_splits)), UserWarning)\n",
            "/usr/local/lib/python3.7/dist-packages/sklearn/model_selection/_split.py:667: UserWarning: The least populated class in y has only 1 members, which is less than n_splits=5.\n",
            "  % (min_groups, self.n_splits)), UserWarning)\n",
            "/usr/local/lib/python3.7/dist-packages/sklearn/model_selection/_split.py:667: UserWarning: The least populated class in y has only 1 members, which is less than n_splits=5.\n",
            "  % (min_groups, self.n_splits)), UserWarning)\n",
            "/usr/local/lib/python3.7/dist-packages/sklearn/model_selection/_split.py:667: UserWarning: The least populated class in y has only 1 members, which is less than n_splits=5.\n",
            "  % (min_groups, self.n_splits)), UserWarning)\n",
            "/usr/local/lib/python3.7/dist-packages/sklearn/model_selection/_split.py:667: UserWarning: The least populated class in y has only 1 members, which is less than n_splits=5.\n",
            "  % (min_groups, self.n_splits)), UserWarning)\n"
          ],
          "name": "stderr"
        },
        {
          "output_type": "stream",
          "text": [
            "\n",
            "-- Fold: 4 --\n",
            "\n",
            "R^2 Scoring:\n",
            "Mean: 0.869558\n",
            "Std: +/- 0.047888\n",
            "Min: 0.742094\n",
            "Max: 0.932015\n",
            "\n",
            "RMSE Scoring:\n",
            "Mean: 1.557954\n",
            "Std: +/- 0.269574\n",
            "Min: 1.160804\n",
            "Max: 2.208779\n",
            "\n"
          ],
          "name": "stdout"
        },
        {
          "output_type": "stream",
          "text": [
            "/usr/local/lib/python3.7/dist-packages/sklearn/model_selection/_split.py:667: UserWarning: The least populated class in y has only 1 members, which is less than n_splits=6.\n",
            "  % (min_groups, self.n_splits)), UserWarning)\n",
            "/usr/local/lib/python3.7/dist-packages/sklearn/model_selection/_split.py:667: UserWarning: The least populated class in y has only 1 members, which is less than n_splits=6.\n",
            "  % (min_groups, self.n_splits)), UserWarning)\n",
            "/usr/local/lib/python3.7/dist-packages/sklearn/model_selection/_split.py:667: UserWarning: The least populated class in y has only 1 members, which is less than n_splits=6.\n",
            "  % (min_groups, self.n_splits)), UserWarning)\n",
            "/usr/local/lib/python3.7/dist-packages/sklearn/model_selection/_split.py:667: UserWarning: The least populated class in y has only 1 members, which is less than n_splits=6.\n",
            "  % (min_groups, self.n_splits)), UserWarning)\n",
            "/usr/local/lib/python3.7/dist-packages/sklearn/model_selection/_split.py:667: UserWarning: The least populated class in y has only 1 members, which is less than n_splits=6.\n",
            "  % (min_groups, self.n_splits)), UserWarning)\n",
            "/usr/local/lib/python3.7/dist-packages/sklearn/model_selection/_split.py:667: UserWarning: The least populated class in y has only 1 members, which is less than n_splits=6.\n",
            "  % (min_groups, self.n_splits)), UserWarning)\n"
          ],
          "name": "stderr"
        },
        {
          "output_type": "stream",
          "text": [
            "\n",
            "-- Fold: 5 --\n",
            "\n",
            "R^2 Scoring:\n",
            "Mean: 0.875562\n",
            "Std: +/- 0.045893\n",
            "Min: 0.758208\n",
            "Max: 0.931413\n",
            "\n",
            "RMSE Scoring:\n",
            "Mean: 1.518706\n",
            "Std: +/- 0.248358\n",
            "Min: 1.145048\n",
            "Max: 2.129818\n",
            "\n"
          ],
          "name": "stdout"
        },
        {
          "output_type": "stream",
          "text": [
            "/usr/local/lib/python3.7/dist-packages/sklearn/model_selection/_split.py:667: UserWarning: The least populated class in y has only 1 members, which is less than n_splits=7.\n",
            "  % (min_groups, self.n_splits)), UserWarning)\n",
            "/usr/local/lib/python3.7/dist-packages/sklearn/model_selection/_split.py:667: UserWarning: The least populated class in y has only 1 members, which is less than n_splits=7.\n",
            "  % (min_groups, self.n_splits)), UserWarning)\n",
            "/usr/local/lib/python3.7/dist-packages/sklearn/model_selection/_split.py:667: UserWarning: The least populated class in y has only 1 members, which is less than n_splits=7.\n",
            "  % (min_groups, self.n_splits)), UserWarning)\n",
            "/usr/local/lib/python3.7/dist-packages/sklearn/model_selection/_split.py:667: UserWarning: The least populated class in y has only 1 members, which is less than n_splits=7.\n",
            "  % (min_groups, self.n_splits)), UserWarning)\n",
            "/usr/local/lib/python3.7/dist-packages/sklearn/model_selection/_split.py:667: UserWarning: The least populated class in y has only 1 members, which is less than n_splits=7.\n",
            "  % (min_groups, self.n_splits)), UserWarning)\n",
            "/usr/local/lib/python3.7/dist-packages/sklearn/model_selection/_split.py:667: UserWarning: The least populated class in y has only 1 members, which is less than n_splits=7.\n",
            "  % (min_groups, self.n_splits)), UserWarning)\n"
          ],
          "name": "stderr"
        },
        {
          "output_type": "stream",
          "text": [
            "\n",
            "-- Fold: 6 --\n",
            "\n",
            "R^2 Scoring:\n",
            "Mean: 0.863705\n",
            "Std: +/- 0.072450\n",
            "Min: 0.605067\n",
            "Max: 0.928801\n",
            "\n",
            "RMSE Scoring:\n",
            "Mean: 1.571919\n",
            "Std: +/- 0.366920\n",
            "Min: 1.176612\n",
            "Max: 2.728555\n",
            "\n"
          ],
          "name": "stdout"
        },
        {
          "output_type": "stream",
          "text": [
            "/usr/local/lib/python3.7/dist-packages/sklearn/model_selection/_split.py:667: UserWarning: The least populated class in y has only 1 members, which is less than n_splits=8.\n",
            "  % (min_groups, self.n_splits)), UserWarning)\n",
            "/usr/local/lib/python3.7/dist-packages/sklearn/model_selection/_split.py:667: UserWarning: The least populated class in y has only 1 members, which is less than n_splits=8.\n",
            "  % (min_groups, self.n_splits)), UserWarning)\n",
            "/usr/local/lib/python3.7/dist-packages/sklearn/model_selection/_split.py:667: UserWarning: The least populated class in y has only 1 members, which is less than n_splits=8.\n",
            "  % (min_groups, self.n_splits)), UserWarning)\n",
            "/usr/local/lib/python3.7/dist-packages/sklearn/model_selection/_split.py:667: UserWarning: The least populated class in y has only 1 members, which is less than n_splits=8.\n",
            "  % (min_groups, self.n_splits)), UserWarning)\n",
            "/usr/local/lib/python3.7/dist-packages/sklearn/model_selection/_split.py:667: UserWarning: The least populated class in y has only 1 members, which is less than n_splits=8.\n",
            "  % (min_groups, self.n_splits)), UserWarning)\n",
            "/usr/local/lib/python3.7/dist-packages/sklearn/model_selection/_split.py:667: UserWarning: The least populated class in y has only 1 members, which is less than n_splits=8.\n",
            "  % (min_groups, self.n_splits)), UserWarning)\n"
          ],
          "name": "stderr"
        },
        {
          "output_type": "stream",
          "text": [
            "\n",
            "-- Fold: 7 --\n",
            "\n",
            "R^2 Scoring:\n",
            "Mean: 0.873999\n",
            "Std: +/- 0.045481\n",
            "Min: 0.789745\n",
            "Max: 0.954150\n",
            "\n",
            "RMSE Scoring:\n",
            "Mean: 1.523871\n",
            "Std: +/- 0.271964\n",
            "Min: 0.888459\n",
            "Max: 1.978849\n",
            "\n"
          ],
          "name": "stdout"
        },
        {
          "output_type": "stream",
          "text": [
            "/usr/local/lib/python3.7/dist-packages/sklearn/model_selection/_split.py:667: UserWarning: The least populated class in y has only 1 members, which is less than n_splits=9.\n",
            "  % (min_groups, self.n_splits)), UserWarning)\n",
            "/usr/local/lib/python3.7/dist-packages/sklearn/model_selection/_split.py:667: UserWarning: The least populated class in y has only 1 members, which is less than n_splits=9.\n",
            "  % (min_groups, self.n_splits)), UserWarning)\n",
            "/usr/local/lib/python3.7/dist-packages/sklearn/model_selection/_split.py:667: UserWarning: The least populated class in y has only 1 members, which is less than n_splits=9.\n",
            "  % (min_groups, self.n_splits)), UserWarning)\n",
            "/usr/local/lib/python3.7/dist-packages/sklearn/model_selection/_split.py:667: UserWarning: The least populated class in y has only 1 members, which is less than n_splits=9.\n",
            "  % (min_groups, self.n_splits)), UserWarning)\n",
            "/usr/local/lib/python3.7/dist-packages/sklearn/model_selection/_split.py:667: UserWarning: The least populated class in y has only 1 members, which is less than n_splits=9.\n",
            "  % (min_groups, self.n_splits)), UserWarning)\n",
            "/usr/local/lib/python3.7/dist-packages/sklearn/model_selection/_split.py:667: UserWarning: The least populated class in y has only 1 members, which is less than n_splits=9.\n",
            "  % (min_groups, self.n_splits)), UserWarning)\n"
          ],
          "name": "stderr"
        },
        {
          "output_type": "stream",
          "text": [
            "\n",
            "-- Fold: 8 --\n",
            "\n",
            "R^2 Scoring:\n",
            "Mean: 0.871846\n",
            "Std: +/- 0.062901\n",
            "Min: 0.700767\n",
            "Max: 0.941812\n",
            "\n",
            "RMSE Scoring:\n",
            "Mean: 1.528295\n",
            "Std: +/- 0.347270\n",
            "Min: 1.038394\n",
            "Max: 2.421064\n",
            "\n"
          ],
          "name": "stdout"
        },
        {
          "output_type": "stream",
          "text": [
            "/usr/local/lib/python3.7/dist-packages/sklearn/model_selection/_split.py:667: UserWarning: The least populated class in y has only 1 members, which is less than n_splits=10.\n",
            "  % (min_groups, self.n_splits)), UserWarning)\n",
            "/usr/local/lib/python3.7/dist-packages/sklearn/model_selection/_split.py:667: UserWarning: The least populated class in y has only 1 members, which is less than n_splits=10.\n",
            "  % (min_groups, self.n_splits)), UserWarning)\n",
            "/usr/local/lib/python3.7/dist-packages/sklearn/model_selection/_split.py:667: UserWarning: The least populated class in y has only 1 members, which is less than n_splits=10.\n",
            "  % (min_groups, self.n_splits)), UserWarning)\n",
            "/usr/local/lib/python3.7/dist-packages/sklearn/model_selection/_split.py:667: UserWarning: The least populated class in y has only 1 members, which is less than n_splits=10.\n",
            "  % (min_groups, self.n_splits)), UserWarning)\n",
            "/usr/local/lib/python3.7/dist-packages/sklearn/model_selection/_split.py:667: UserWarning: The least populated class in y has only 1 members, which is less than n_splits=10.\n",
            "  % (min_groups, self.n_splits)), UserWarning)\n",
            "/usr/local/lib/python3.7/dist-packages/sklearn/model_selection/_split.py:667: UserWarning: The least populated class in y has only 1 members, which is less than n_splits=10.\n",
            "  % (min_groups, self.n_splits)), UserWarning)\n"
          ],
          "name": "stderr"
        },
        {
          "output_type": "stream",
          "text": [
            "\n",
            "-- Fold: 9 --\n",
            "\n",
            "R^2 Scoring:\n",
            "Mean: 0.873774\n",
            "Std: +/- 0.060776\n",
            "Min: 0.713649\n",
            "Max: 0.962795\n",
            "\n",
            "RMSE Scoring:\n",
            "Mean: 1.512617\n",
            "Std: +/- 0.364740\n",
            "Min: 0.828216\n",
            "Max: 2.349665\n",
            "\n"
          ],
          "name": "stdout"
        },
        {
          "output_type": "stream",
          "text": [
            "/usr/local/lib/python3.7/dist-packages/sklearn/model_selection/_split.py:667: UserWarning: The least populated class in y has only 1 members, which is less than n_splits=11.\n",
            "  % (min_groups, self.n_splits)), UserWarning)\n",
            "/usr/local/lib/python3.7/dist-packages/sklearn/model_selection/_split.py:667: UserWarning: The least populated class in y has only 1 members, which is less than n_splits=11.\n",
            "  % (min_groups, self.n_splits)), UserWarning)\n",
            "/usr/local/lib/python3.7/dist-packages/sklearn/model_selection/_split.py:667: UserWarning: The least populated class in y has only 1 members, which is less than n_splits=11.\n",
            "  % (min_groups, self.n_splits)), UserWarning)\n",
            "/usr/local/lib/python3.7/dist-packages/sklearn/model_selection/_split.py:667: UserWarning: The least populated class in y has only 1 members, which is less than n_splits=11.\n",
            "  % (min_groups, self.n_splits)), UserWarning)\n",
            "/usr/local/lib/python3.7/dist-packages/sklearn/model_selection/_split.py:667: UserWarning: The least populated class in y has only 1 members, which is less than n_splits=11.\n",
            "  % (min_groups, self.n_splits)), UserWarning)\n",
            "/usr/local/lib/python3.7/dist-packages/sklearn/model_selection/_split.py:667: UserWarning: The least populated class in y has only 1 members, which is less than n_splits=11.\n",
            "  % (min_groups, self.n_splits)), UserWarning)\n"
          ],
          "name": "stderr"
        },
        {
          "output_type": "stream",
          "text": [
            "\n",
            "-- Fold: 10 --\n",
            "\n",
            "R^2 Scoring:\n",
            "Mean: 0.879710\n",
            "Std: +/- 0.069803\n",
            "Min: 0.704629\n",
            "Max: 0.980106\n",
            "\n",
            "RMSE Scoring:\n",
            "Mean: 1.450633\n",
            "Std: +/- 0.459594\n",
            "Min: 0.659385\n",
            "Max: 2.422124\n",
            "\n"
          ],
          "name": "stdout"
        },
        {
          "output_type": "display_data",
          "data": {
            "image/png": "[encoded data removed]",
            "text/plain": [
              "<Figure size 1080x720 with 4 Axes>"
            ]
          },
          "metadata": {
            "tags": [],
            "needs_background": "light"
          }
        }
      ]
    },
    {
      "cell_type": "markdown",
      "metadata": {
        "id": "uKGKjWPupY-6"
      },
      "source": [
        "<table border = \"1\">\n",
        "  <thead>\n",
        "    <th colspan = \"3\">Random Forest Cross-Validation Results</th>\n",
        "  </thead>\n",
        "  <tbody>\n",
        "    <tr>\n",
        "      <td><b></b></td>\n",
        "      <td><b>R^2</b></td>\n",
        "      <td><b>RMSE</b></td>\n",
        "    </tr>\n",
        "    <tr>\n",
        "      <td><b>Mean</b></td>\n",
        "      <td>0.880</td>\n",
        "      <td>1.451</td>\n",
        "    </tr>\n",
        "    <tr>\n",
        "      <td><b>Std.</b></td>\n",
        "      <td>0.070</td>\n",
        "      <td>0.460</td>\n",
        "    </tr>\n",
        "    <tr>\n",
        "      <td><b>Min</b></td>\n",
        "      <td>0.705</td>\n",
        "      <td>0.659</td>\n",
        "    </tr>\n",
        "    <tr>\n",
        "      <td><b>Max</b></td>\n",
        "      <td>0.980</td>\n",
        "      <td>2.422</td>\n",
        "    </tr>\n",
        "  </tbody>\n",
        "</table>"
      ]
    },
    {
      "cell_type": "code",
      "metadata": {
        "colab": {
          "base_uri": "https://localhost:8080/"
        },
        "id": "yYg-84s7payv",
        "outputId": "a84f56fd-4561-4ecb-b9bb-98d04227c205"
      },
      "source": [
        "# Apply Grid Search for parameter tuning\n",
        "\n",
        "# param_dict = {'n_estimators': [50, 100, 150, 200, 250],\n",
        "#               'criterion': ['mse', 'mae'],\n",
        "#               'max_depth': [10, 25, 50, 75, 100],\n",
        "#               'min_samples_leaf': [2, 5, 10],\n",
        "#               'min_samples_split': [2, 5, 10],\n",
        "#               'max_samples': [0.2, 0.4, 0.6, 0.8, 1],\n",
        "#               'random_state': [0, 1, 2]}\n",
        "\n",
        "param_dict = {'max_depth': [30],\n",
        "              'min_samples_split': [2],\n",
        "              'min_samples_leaf': [4],\n",
        "              'n_estimators': [69],\n",
        "              'max_samples': [0.87],\n",
        "              'max_features': [29],\n",
        "              'criterion': ['mse'],\n",
        "              'random_state': [20]}\n",
        "\n",
        "# grid = GridSearchCV(rf_reg, param_dict, scoring='neg_mean_absolute_error', cv=cv, n_jobs=-1)\n",
        "# grid = GridSearchCV(rf_reg, param_dict, scoring='neg_mean_squared_error', cv=cv, n_jobs=-1)\n",
        "# grid = GridSearchCV(rf_reg, param_dict, scoring='neg_root_mean_squared_error', cv=cv, n_jobs=-1)\n",
        "grid = GridSearchCV(rf_reg, param_dict, scoring='r2', cv=cv, n_jobs=-1)\n",
        "results = grid.fit(X_train, y_train)\n",
        "\n",
        "# Summarize results\n",
        "best_score = grid.best_score_\n",
        "best_parameters = grid.best_params_\n",
        "print(\"Best Score: %.3f%%\" % (np.abs(best_score * 100)))  # R^2 Scoring\n",
        "# print(\"Best Score: %.3f%%\" % (np.abs(best_score)))  # RMSE\n",
        "print(\"Best Parameters: \", best_parameters)"
      ],
      "execution_count": null,
      "outputs": [
        {
          "output_type": "stream",
          "text": [
            "/usr/local/lib/python3.7/dist-packages/sklearn/model_selection/_split.py:667: UserWarning: The least populated class in y has only 1 members, which is less than n_splits=11.\n",
            "  % (min_groups, self.n_splits)), UserWarning)\n",
            "/usr/local/lib/python3.7/dist-packages/sklearn/model_selection/_split.py:667: UserWarning: The least populated class in y has only 1 members, which is less than n_splits=11.\n",
            "  % (min_groups, self.n_splits)), UserWarning)\n",
            "/usr/local/lib/python3.7/dist-packages/sklearn/model_selection/_split.py:667: UserWarning: The least populated class in y has only 1 members, which is less than n_splits=11.\n",
            "  % (min_groups, self.n_splits)), UserWarning)\n"
          ],
          "name": "stderr"
        },
        {
          "output_type": "stream",
          "text": [
            "Best Score: 87.971%\n",
            "Best Parameters:  {'criterion': 'mse', 'max_depth': 30, 'max_features': 29, 'max_samples': 0.87, 'min_samples_leaf': 4, 'min_samples_split': 2, 'n_estimators': 69, 'random_state': 20}\n"
          ],
          "name": "stdout"
        }
      ]
    },
    {
      "cell_type": "markdown",
      "metadata": {
        "id": "WPT3J6Popf29"
      },
      "source": [
        "<table border = \"1\">\n",
        "  <thead>\n",
        "    <th colspan = \"2\">Random Forest Grid Search Results</th>\n",
        "  </thead>\n",
        "  <tbody>\n",
        "    <tr>\n",
        "      <td><b>Best Score</b></td>\n",
        "      <td>87.971%</td>\n",
        "    </tr>\n",
        "    <tr>\n",
        "      <td colspan=\"2\"><b>Best Parameters:</b></td>\n",
        "    </tr>\n",
        "    <tr>\n",
        "      <td><b>criterion</b></td>\n",
        "      <td>'mse'</td>\n",
        "    </tr>\n",
        "    <tr>\n",
        "      <td><b>max_depth</b></td>\n",
        "      <td>30</td>\n",
        "    </tr>\n",
        "    <tr>\n",
        "      <td><b>max_features</b></td>\n",
        "      <td>29</td>\n",
        "    </tr>\n",
        "    <tr>\n",
        "      <td><b>max_samples</b></td>\n",
        "      <td>0.87</td>\n",
        "    </tr>\n",
        "    <tr>\n",
        "      <td><b>min_samples_leaf</b></td>\n",
        "      <td>4</td>\n",
        "    </tr>\n",
        "    <tr>\n",
        "      <td><b>min_samples_split</b></td>\n",
        "      <td>2</td>\n",
        "    </tr>\n",
        "    <tr>\n",
        "      <td><b>n_estimators</b></td>\n",
        "      <td>69</td>\n",
        "    </tr>\n",
        "    <tr>\n",
        "      <td><b>random_state</b></td>\n",
        "      <td>20</td>\n",
        "    </tr>\n",
        "  </tbody>\n",
        "</table>"
      ]
    },
    {
      "cell_type": "markdown",
      "metadata": {
        "id": "WYMgAchVkbcl"
      },
      "source": [
        "### XGBoost (XGB)"
      ]
    },
    {
      "cell_type": "code",
      "metadata": {
        "colab": {
          "base_uri": "https://localhost:8080/"
        },
        "id": "y2EqP41tpqCB",
        "outputId": "44482d26-d0fb-4f32-9ab0-8c97c427f79f"
      },
      "source": [
        "xgb_reg = XGBRegressor(max_depth=14, min_child_weight=4, gamma=0.01, \n",
        "                   colsample_bytree=0.88, subsample=1, reg_alpha=0.9,\n",
        "                   learning_rate=0.1, n_estimators=111, random_state=0)\n",
        "xgb_reg.fit(X_train, y_train)"
      ],
      "execution_count": null,
      "outputs": [
        {
          "output_type": "stream",
          "text": [
            "[22:40:20] WARNING: /workspace/src/objective/regression_obj.cu:152: reg:linear is now deprecated in favor of reg:squarederror.\n"
          ],
          "name": "stdout"
        },
        {
          "output_type": "execute_result",
          "data": {
            "text/plain": [
              "XGBRegressor(base_score=0.5, booster='gbtree', colsample_bylevel=1,\n",
              "             colsample_bynode=1, colsample_bytree=0.88, gamma=0.01,\n",
              "             importance_type='gain', learning_rate=0.1, max_delta_step=0,\n",
              "             max_depth=14, min_child_weight=4, missing=None, n_estimators=111,\n",
              "             n_jobs=1, nthread=None, objective='reg:linear', random_state=0,\n",
              "             reg_alpha=0.9, reg_lambda=1, scale_pos_weight=1, seed=None,\n",
              "             silent=None, subsample=1, verbosity=1)"
            ]
          },
          "metadata": {
            "tags": []
          },
          "execution_count": 94
        }
      ]
    },
    {
      "cell_type": "code",
      "metadata": {
        "colab": {
          "base_uri": "https://localhost:8080/"
        },
        "id": "TQYaniw2preB",
        "outputId": "d5ac2079-3bbc-4ea1-9795-462737f9f6c3"
      },
      "source": [
        "# Predict test set results\n",
        "y_pred = xgb_reg.predict(X_test)\n",
        "np.set_printoptions(precision = 2)\n",
        "print(np.concatenate((y_pred.reshape(len(y_pred), 1), y_test.reshape(len(y_test), 1)), 1 ))\n",
        "print('')\n",
        "\n",
        "# Summarize results\n",
        "print('MAE: %.3f' % (mean_absolute_error(y_test, y_pred)))\n",
        "print('MSE: %.3f' % (mean_squared_error(y_test, y_pred)))\n",
        "print('RMSE: %.3f' % (mean_squared_error(y_test, y_pred, squared=False)))\n",
        "print('R^2 Score: %.3f' % (r2_score(y_test, y_pred)))"
      ],
      "execution_count": null,
      "outputs": [
        {
          "output_type": "stream",
          "text": [
            "[[13.44 14.  ]\n",
            " [10.93 10.  ]\n",
            " [10.06  9.  ]\n",
            " [15.16 15.  ]\n",
            " [15.35 16.  ]\n",
            " [12.16 12.  ]\n",
            " [12.67 14.  ]\n",
            " [10.97 11.  ]\n",
            " [ 9.27  9.  ]\n",
            " [14.13 15.  ]\n",
            " [ 8.15 10.  ]\n",
            " [10.69 11.  ]\n",
            " [11.26 10.  ]\n",
            " [ 8.93  8.  ]\n",
            " [13.55 15.  ]\n",
            " [13.32 14.  ]\n",
            " [12.92 12.  ]\n",
            " [ 9.46  0.  ]\n",
            " [ 9.6  10.  ]\n",
            " [14.11 16.  ]\n",
            " [ 8.28  0.  ]\n",
            " [ 4.67  0.  ]\n",
            " [ 6.94  8.  ]\n",
            " [13.87 16.  ]\n",
            " [12.18 12.  ]\n",
            " [16.15 15.  ]\n",
            " [10.28 10.  ]\n",
            " [18.36 19.  ]\n",
            " [ 4.14  0.  ]\n",
            " [13.37 14.  ]\n",
            " [ 3.71  0.  ]\n",
            " [ 8.71 10.  ]\n",
            " [ 8.22  8.  ]\n",
            " [ 6.34  4.  ]\n",
            " [12.95 13.  ]\n",
            " [10.73 10.  ]\n",
            " [12.67 13.  ]\n",
            " [17.28 18.  ]\n",
            " [ 9.51  8.  ]\n",
            " [11.75 11.  ]\n",
            " [ 5.33  6.  ]\n",
            " [18.06 18.  ]\n",
            " [ 7.45  8.  ]\n",
            " [ 9.54  8.  ]\n",
            " [10.13 11.  ]\n",
            " [ 3.59  0.  ]\n",
            " [11.65 13.  ]\n",
            " [ 4.39  0.  ]\n",
            " [12.25 13.  ]\n",
            " [ 8.39  7.  ]\n",
            " [ 9.71 10.  ]\n",
            " [17.79 18.  ]\n",
            " [10.91 10.  ]\n",
            " [ 7.29  9.  ]\n",
            " [11.81 11.  ]\n",
            " [ 9.13  6.  ]\n",
            " [ 9.6   9.  ]\n",
            " [12.73 13.  ]\n",
            " [13.58 15.  ]\n",
            " [12.86 14.  ]\n",
            " [12.99 14.  ]\n",
            " [14.04 15.  ]\n",
            " [13.25 14.  ]\n",
            " [14.32 15.  ]\n",
            " [ 8.87  0.  ]\n",
            " [14.36 15.  ]\n",
            " [17.3  19.  ]\n",
            " [12.16 12.  ]\n",
            " [ 5.6   6.  ]\n",
            " [10.25  9.  ]\n",
            " [ 9.43  8.  ]\n",
            " [13.47 15.  ]\n",
            " [ 7.49  5.  ]\n",
            " [ 4.39  0.  ]\n",
            " [ 8.43  9.  ]\n",
            " [ 9.18  0.  ]\n",
            " [10.85 11.  ]\n",
            " [17.27 18.  ]\n",
            " [ 7.65  0.  ]]\n",
            "\n",
            "MAE: 1.648\n",
            "MSE: 7.176\n",
            "RMSE: 2.679\n",
            "R^2 Score: 0.740\n"
          ],
          "name": "stdout"
        }
      ]
    },
    {
      "cell_type": "markdown",
      "metadata": {
        "id": "nLzZI5aajQdC"
      },
      "source": [
        "<table border = \"1\">\n",
        "  <thead>\n",
        "    <th colspan = \"5\">XGBoost Prediction Scores</th>\n",
        "  </thead>\n",
        "  <tbody>\n",
        "    <tr>\n",
        "      <td><b>MAE:<b></td>\n",
        "      <td>1.648</td>\n",
        "    </tr>\n",
        "    <tr>\n",
        "      <td><b>MSE:<b></td>\n",
        "      <td>7.176</td>\n",
        "    </tr>\n",
        "    <tr>\n",
        "      <td><b>RMSE:<b></td>\n",
        "      <td>2.679</td>\n",
        "    </tr>\n",
        "    <tr>\n",
        "      <td><b>R^2:<b></td>\n",
        "      <td>0.740</td>\n",
        "    </tr>\n",
        "  </tbody>\n",
        "</table>"
      ]
    },
    {
      "cell_type": "code",
      "metadata": {
        "colab": {
          "base_uri": "https://localhost:8080/",
          "height": 408
        },
        "id": "lmZK_rrRjAj8",
        "outputId": "09039fad-15f3-4c3f-c581-b11ea817f8f6"
      },
      "source": [
        "# Plot histogram for y_pred\n",
        "fig1 = plt.figure(figsize=(15, 6))\n",
        "ax1 = fig1.add_subplot(1, 2, 1)\n",
        "plt.xticks(np.arange(0, 20, 2))\n",
        "plt.yticks(np.arange(0, 20, 2))\n",
        "plt.hist(x=y_pred, facecolor='forestgreen', alpha=0.6, edgecolor='black')\n",
        "plt.xlabel('Grade', fontsize=12)\n",
        "plt.ylabel('Number of students', fontsize=12)\n",
        "plt.title('Predicted Grade Distribution', fontsize=14)\n",
        "\n",
        "# Plot histogram for y_test\n",
        "ax1 = fig1.add_subplot(1, 2, 2)\n",
        "plt.xticks(np.arange(0, 20, 2))\n",
        "plt.yticks(np.arange(0, 18, 2))\n",
        "plt.hist(x=y_test, facecolor='orange', alpha=0.6, edgecolor='black')\n",
        "plt.xlabel('Grade', fontsize=12)\n",
        "plt.ylabel('Number of students', fontsize=12)\n",
        "plt.title('Validation Grade Distribution', fontsize=14)\n",
        "\n",
        "# Show subplot\n",
        "plt.show()"
      ],
      "execution_count": 139,
      "outputs": [
        {
          "output_type": "display_data",
          "data": {
            "image/png": "[encoded data removed]",
            "text/plain": [
              "<Figure size 1080x432 with 2 Axes>"
            ]
          },
          "metadata": {
            "tags": [],
            "needs_background": "light"
          }
        }
      ]
    },
    {
      "cell_type": "code",
      "metadata": {
        "colab": {
          "base_uri": "https://localhost:8080/"
        },
        "id": "y2VhYeLrpuze",
        "outputId": "e35f7529-3f2e-44ee-8ff6-b8529440b073"
      },
      "source": [
        "# Apply k-Fold Cross Validation on the training set\n",
        "\n",
        "# Lists of values\n",
        "r2_means, r2_stds, r2_mins, r2_maxs = [], [], [], []  # R^2 Scoring\n",
        "rmse_means, rmse_stds, rmse_mins, rmse_maxs = [], [], [], []  # RMSE Scoring\n",
        "# Cross validate for 10 k-folds, each with 3 repeats\n",
        "for k in range(2, 12):\n",
        "  cv = RepeatedStratifiedKFold(n_splits = k, n_repeats = 3, random_state = 0)\n",
        "  r2_scores = cross_val_score(xgb_reg, X_train, y_train, scoring='r2', cv=cv, n_jobs=-1)\n",
        "  # scores = cross_val_score(reg, X_train, y_train, scoring='neg_mean_absolute_error', cv=cv, n_jobs=-1)\n",
        "  # scores = cross_val_score(reg, X_train, y_train, scoring='neg_mean_squared_error', cv=cv, n_jobs=-1)\n",
        "  rmse_scores = cross_val_score(xgb_reg, X_train, y_train, scoring='neg_root_mean_squared_error', cv=cv, n_jobs=-1)\n",
        "  \n",
        "  # Force scores to be positive\n",
        "  r2_scores = abs(r2_scores)\n",
        "  rmse_scores = abs(rmse_scores)\n",
        "\n",
        "  # Print values\n",
        "  print('')\n",
        "  print('-- Fold: %d --' % (k-1))\n",
        "  print('')\n",
        "  print('R^2 Scoring:')\n",
        "  print(\"Mean: %f\" % (np.mean(r2_scores)))\n",
        "  print(\"Std: +/- %f\" % (np.std(r2_scores)))\n",
        "  print(\"Min: %f\" % (np.min(r2_scores)))\n",
        "  print(\"Max: %f\" % (np.max(r2_scores)))\n",
        "  \n",
        "  print('')\n",
        "  print('RMSE Scoring:')\n",
        "  print(\"Mean: %f\" % (np.mean(rmse_scores)))\n",
        "  print(\"Std: +/- %f\" % (np.std(rmse_scores)))\n",
        "  print(\"Min: %f\" % (np.min(rmse_scores)))\n",
        "  print(\"Max: %f\" % (np.max(rmse_scores)))\n",
        "  print('')\n",
        "  \n",
        "  # Append R^2 scores\n",
        "  r2_means.append(np.mean(r2_scores))\n",
        "  r2_stds.append(np.std(r2_scores))\n",
        "  r2_mins.append(np.min(r2_scores))\n",
        "  r2_maxs.append(np.max(r2_scores))\n",
        "  \n",
        "  # Append RMSE scores\n",
        "  rmse_means.append(np.mean(rmse_scores))\n",
        "  rmse_stds.append(np.std(rmse_scores))\n",
        "  rmse_mins.append(np.min(rmse_scores))\n",
        "  rmse_maxs.append(np.max(rmse_scores))\n",
        "\n",
        "# Plot R^2 scores per k-fold:\n",
        "fig2 = plt.figure(figsize=(15, 10))\n",
        "ax1 = fig2.add_subplot(2, 2, 1)\n",
        "ax1.plot(np.arange(1,11), r2_means, color='red', label='Mean')\n",
        "ax1.plot(np.arange(1,11), r2_mins, color='green', label='Min')\n",
        "ax1.plot(np.arange(1,11), r2_maxs, color='blue', label='Max')\n",
        "ax1.set_xlabel('k-Fold', fontsize=12)\n",
        "ax1.set_ylabel('R^2 Score', fontsize=12)\n",
        "ax1.set_title('R^2 Score per k-Fold', fontsize=14)\n",
        "ax1.legend()\n",
        "ax1.grid(True)\n",
        "\n",
        "# Plot R^2 Standard Deviations per k-fold:\n",
        "ax2 = fig2.add_subplot(2, 2, 2)\n",
        "ax2.plot(np.arange(1,11), r2_stds, color='red')\n",
        "ax2.set_xlabel('k-Fold', fontsize=12)\n",
        "ax2.set_ylabel('Standard Deviation (+/-)', fontsize=12)\n",
        "ax2.set_title('R^2 Standard Deviation per k-fold', fontsize=14)\n",
        "ax2.grid(True)\n",
        "\n",
        "# Plot RMSE scores per k-fold:\n",
        "ax3 = fig2.add_subplot(2, 2, 3)\n",
        "ax3.plot(np.arange(1,11), rmse_means, color='orangered', label='Mean')\n",
        "ax3.plot(np.arange(1,11), rmse_mins, color='green', label='Min')\n",
        "ax3.plot(np.arange(1,11), rmse_maxs, color='blue', label='Max')\n",
        "ax3.set_xlabel('k-Fold', fontsize=12)\n",
        "ax3.set_ylabel('RMSE Score', fontsize=12)\n",
        "ax3.set_title('RMSE Score per k-Fold', fontsize=14)\n",
        "ax3.legend()\n",
        "ax3.grid(True)\n",
        "\n",
        "# Plot RMSE Standard Deviations per k-fold:\n",
        "ax4 = fig2.add_subplot(2, 2, 4)\n",
        "ax4.plot(np.arange(1,11), rmse_stds, color='orangered')\n",
        "ax4.set_xlabel('k-Fold', fontsize=12)\n",
        "ax4.set_ylabel('Standard Deviation (+/-)', fontsize=12)\n",
        "ax4.set_title('RMSE Standard Deviation per k-fold', fontsize=14)\n",
        "ax4.grid(True)\n",
        "\n",
        "# Show subplot\n",
        "plt.show()"
      ],
      "execution_count": null,
      "outputs": [
        {
          "output_type": "stream",
          "text": [
            "/usr/local/lib/python3.7/dist-packages/sklearn/model_selection/_split.py:667: UserWarning: The least populated class in y has only 1 members, which is less than n_splits=2.\n",
            "  % (min_groups, self.n_splits)), UserWarning)\n",
            "/usr/local/lib/python3.7/dist-packages/sklearn/model_selection/_split.py:667: UserWarning: The least populated class in y has only 1 members, which is less than n_splits=2.\n",
            "  % (min_groups, self.n_splits)), UserWarning)\n",
            "/usr/local/lib/python3.7/dist-packages/sklearn/model_selection/_split.py:667: UserWarning: The least populated class in y has only 1 members, which is less than n_splits=2.\n",
            "  % (min_groups, self.n_splits)), UserWarning)\n",
            "/usr/local/lib/python3.7/dist-packages/sklearn/model_selection/_split.py:667: UserWarning: The least populated class in y has only 1 members, which is less than n_splits=2.\n",
            "  % (min_groups, self.n_splits)), UserWarning)\n",
            "/usr/local/lib/python3.7/dist-packages/sklearn/model_selection/_split.py:667: UserWarning: The least populated class in y has only 1 members, which is less than n_splits=2.\n",
            "  % (min_groups, self.n_splits)), UserWarning)\n",
            "/usr/local/lib/python3.7/dist-packages/sklearn/model_selection/_split.py:667: UserWarning: The least populated class in y has only 1 members, which is less than n_splits=2.\n",
            "  % (min_groups, self.n_splits)), UserWarning)\n"
          ],
          "name": "stderr"
        },
        {
          "output_type": "stream",
          "text": [
            "\n",
            "-- Fold: 1 --\n",
            "\n",
            "R^2 Scoring:\n",
            "Mean: 0.864157\n",
            "Std: +/- 0.029866\n",
            "Min: 0.803269\n",
            "Max: 0.892337\n",
            "\n",
            "RMSE Scoring:\n",
            "Mean: 1.605443\n",
            "Std: +/- 0.143595\n",
            "Min: 1.468639\n",
            "Max: 1.906592\n",
            "\n"
          ],
          "name": "stdout"
        },
        {
          "output_type": "stream",
          "text": [
            "/usr/local/lib/python3.7/dist-packages/sklearn/model_selection/_split.py:667: UserWarning: The least populated class in y has only 1 members, which is less than n_splits=3.\n",
            "  % (min_groups, self.n_splits)), UserWarning)\n",
            "/usr/local/lib/python3.7/dist-packages/sklearn/model_selection/_split.py:667: UserWarning: The least populated class in y has only 1 members, which is less than n_splits=3.\n",
            "  % (min_groups, self.n_splits)), UserWarning)\n",
            "/usr/local/lib/python3.7/dist-packages/sklearn/model_selection/_split.py:667: UserWarning: The least populated class in y has only 1 members, which is less than n_splits=3.\n",
            "  % (min_groups, self.n_splits)), UserWarning)\n",
            "/usr/local/lib/python3.7/dist-packages/sklearn/model_selection/_split.py:667: UserWarning: The least populated class in y has only 1 members, which is less than n_splits=3.\n",
            "  % (min_groups, self.n_splits)), UserWarning)\n",
            "/usr/local/lib/python3.7/dist-packages/sklearn/model_selection/_split.py:667: UserWarning: The least populated class in y has only 1 members, which is less than n_splits=3.\n",
            "  % (min_groups, self.n_splits)), UserWarning)\n",
            "/usr/local/lib/python3.7/dist-packages/sklearn/model_selection/_split.py:667: UserWarning: The least populated class in y has only 1 members, which is less than n_splits=3.\n",
            "  % (min_groups, self.n_splits)), UserWarning)\n"
          ],
          "name": "stderr"
        },
        {
          "output_type": "stream",
          "text": [
            "\n",
            "-- Fold: 2 --\n",
            "\n",
            "R^2 Scoring:\n",
            "Mean: 0.884489\n",
            "Std: +/- 0.013334\n",
            "Min: 0.865986\n",
            "Max: 0.904269\n",
            "\n",
            "RMSE Scoring:\n",
            "Mean: 1.489030\n",
            "Std: +/- 0.089222\n",
            "Min: 1.355130\n",
            "Max: 1.614801\n",
            "\n"
          ],
          "name": "stdout"
        },
        {
          "output_type": "stream",
          "text": [
            "/usr/local/lib/python3.7/dist-packages/sklearn/model_selection/_split.py:667: UserWarning: The least populated class in y has only 1 members, which is less than n_splits=4.\n",
            "  % (min_groups, self.n_splits)), UserWarning)\n",
            "/usr/local/lib/python3.7/dist-packages/sklearn/model_selection/_split.py:667: UserWarning: The least populated class in y has only 1 members, which is less than n_splits=4.\n",
            "  % (min_groups, self.n_splits)), UserWarning)\n",
            "/usr/local/lib/python3.7/dist-packages/sklearn/model_selection/_split.py:667: UserWarning: The least populated class in y has only 1 members, which is less than n_splits=4.\n",
            "  % (min_groups, self.n_splits)), UserWarning)\n",
            "/usr/local/lib/python3.7/dist-packages/sklearn/model_selection/_split.py:667: UserWarning: The least populated class in y has only 1 members, which is less than n_splits=4.\n",
            "  % (min_groups, self.n_splits)), UserWarning)\n",
            "/usr/local/lib/python3.7/dist-packages/sklearn/model_selection/_split.py:667: UserWarning: The least populated class in y has only 1 members, which is less than n_splits=4.\n",
            "  % (min_groups, self.n_splits)), UserWarning)\n",
            "/usr/local/lib/python3.7/dist-packages/sklearn/model_selection/_split.py:667: UserWarning: The least populated class in y has only 1 members, which is less than n_splits=4.\n",
            "  % (min_groups, self.n_splits)), UserWarning)\n"
          ],
          "name": "stderr"
        },
        {
          "output_type": "stream",
          "text": [
            "\n",
            "-- Fold: 3 --\n",
            "\n",
            "R^2 Scoring:\n",
            "Mean: 0.874957\n",
            "Std: +/- 0.040590\n",
            "Min: 0.794014\n",
            "Max: 0.921984\n",
            "\n",
            "RMSE Scoring:\n",
            "Mean: 1.530411\n",
            "Std: +/- 0.238166\n",
            "Min: 1.203471\n",
            "Max: 1.995947\n",
            "\n"
          ],
          "name": "stdout"
        },
        {
          "output_type": "stream",
          "text": [
            "/usr/local/lib/python3.7/dist-packages/sklearn/model_selection/_split.py:667: UserWarning: The least populated class in y has only 1 members, which is less than n_splits=5.\n",
            "  % (min_groups, self.n_splits)), UserWarning)\n",
            "/usr/local/lib/python3.7/dist-packages/sklearn/model_selection/_split.py:667: UserWarning: The least populated class in y has only 1 members, which is less than n_splits=5.\n",
            "  % (min_groups, self.n_splits)), UserWarning)\n",
            "/usr/local/lib/python3.7/dist-packages/sklearn/model_selection/_split.py:667: UserWarning: The least populated class in y has only 1 members, which is less than n_splits=5.\n",
            "  % (min_groups, self.n_splits)), UserWarning)\n",
            "/usr/local/lib/python3.7/dist-packages/sklearn/model_selection/_split.py:667: UserWarning: The least populated class in y has only 1 members, which is less than n_splits=5.\n",
            "  % (min_groups, self.n_splits)), UserWarning)\n",
            "/usr/local/lib/python3.7/dist-packages/sklearn/model_selection/_split.py:667: UserWarning: The least populated class in y has only 1 members, which is less than n_splits=5.\n",
            "  % (min_groups, self.n_splits)), UserWarning)\n",
            "/usr/local/lib/python3.7/dist-packages/sklearn/model_selection/_split.py:667: UserWarning: The least populated class in y has only 1 members, which is less than n_splits=5.\n",
            "  % (min_groups, self.n_splits)), UserWarning)\n"
          ],
          "name": "stderr"
        },
        {
          "output_type": "stream",
          "text": [
            "\n",
            "-- Fold: 4 --\n",
            "\n",
            "R^2 Scoring:\n",
            "Mean: 0.882082\n",
            "Std: +/- 0.045176\n",
            "Min: 0.783907\n",
            "Max: 0.948265\n",
            "\n",
            "RMSE Scoring:\n",
            "Mean: 1.476410\n",
            "Std: +/- 0.288184\n",
            "Min: 1.033224\n",
            "Max: 2.021818\n",
            "\n"
          ],
          "name": "stdout"
        },
        {
          "output_type": "stream",
          "text": [
            "/usr/local/lib/python3.7/dist-packages/sklearn/model_selection/_split.py:667: UserWarning: The least populated class in y has only 1 members, which is less than n_splits=6.\n",
            "  % (min_groups, self.n_splits)), UserWarning)\n",
            "/usr/local/lib/python3.7/dist-packages/sklearn/model_selection/_split.py:667: UserWarning: The least populated class in y has only 1 members, which is less than n_splits=6.\n",
            "  % (min_groups, self.n_splits)), UserWarning)\n",
            "/usr/local/lib/python3.7/dist-packages/sklearn/model_selection/_split.py:667: UserWarning: The least populated class in y has only 1 members, which is less than n_splits=6.\n",
            "  % (min_groups, self.n_splits)), UserWarning)\n",
            "/usr/local/lib/python3.7/dist-packages/sklearn/model_selection/_split.py:667: UserWarning: The least populated class in y has only 1 members, which is less than n_splits=6.\n",
            "  % (min_groups, self.n_splits)), UserWarning)\n",
            "/usr/local/lib/python3.7/dist-packages/sklearn/model_selection/_split.py:667: UserWarning: The least populated class in y has only 1 members, which is less than n_splits=6.\n",
            "  % (min_groups, self.n_splits)), UserWarning)\n",
            "/usr/local/lib/python3.7/dist-packages/sklearn/model_selection/_split.py:667: UserWarning: The least populated class in y has only 1 members, which is less than n_splits=6.\n",
            "  % (min_groups, self.n_splits)), UserWarning)\n"
          ],
          "name": "stderr"
        },
        {
          "output_type": "stream",
          "text": [
            "\n",
            "-- Fold: 5 --\n",
            "\n",
            "R^2 Scoring:\n",
            "Mean: 0.887846\n",
            "Std: +/- 0.039220\n",
            "Min: 0.808348\n",
            "Max: 0.930774\n",
            "\n",
            "RMSE Scoring:\n",
            "Mean: 1.442281\n",
            "Std: +/- 0.222864\n",
            "Min: 1.163295\n",
            "Max: 1.896174\n",
            "\n"
          ],
          "name": "stdout"
        },
        {
          "output_type": "stream",
          "text": [
            "/usr/local/lib/python3.7/dist-packages/sklearn/model_selection/_split.py:667: UserWarning: The least populated class in y has only 1 members, which is less than n_splits=7.\n",
            "  % (min_groups, self.n_splits)), UserWarning)\n",
            "/usr/local/lib/python3.7/dist-packages/sklearn/model_selection/_split.py:667: UserWarning: The least populated class in y has only 1 members, which is less than n_splits=7.\n",
            "  % (min_groups, self.n_splits)), UserWarning)\n",
            "/usr/local/lib/python3.7/dist-packages/sklearn/model_selection/_split.py:667: UserWarning: The least populated class in y has only 1 members, which is less than n_splits=7.\n",
            "  % (min_groups, self.n_splits)), UserWarning)\n",
            "/usr/local/lib/python3.7/dist-packages/sklearn/model_selection/_split.py:667: UserWarning: The least populated class in y has only 1 members, which is less than n_splits=7.\n",
            "  % (min_groups, self.n_splits)), UserWarning)\n",
            "/usr/local/lib/python3.7/dist-packages/sklearn/model_selection/_split.py:667: UserWarning: The least populated class in y has only 1 members, which is less than n_splits=7.\n",
            "  % (min_groups, self.n_splits)), UserWarning)\n",
            "/usr/local/lib/python3.7/dist-packages/sklearn/model_selection/_split.py:667: UserWarning: The least populated class in y has only 1 members, which is less than n_splits=7.\n",
            "  % (min_groups, self.n_splits)), UserWarning)\n"
          ],
          "name": "stderr"
        },
        {
          "output_type": "stream",
          "text": [
            "\n",
            "-- Fold: 6 --\n",
            "\n",
            "R^2 Scoring:\n",
            "Mean: 0.886243\n",
            "Std: +/- 0.066566\n",
            "Min: 0.657652\n",
            "Max: 0.969472\n",
            "\n",
            "RMSE Scoring:\n",
            "Mean: 1.424169\n",
            "Std: +/- 0.374177\n",
            "Min: 0.756223\n",
            "Max: 2.540419\n",
            "\n"
          ],
          "name": "stdout"
        },
        {
          "output_type": "stream",
          "text": [
            "/usr/local/lib/python3.7/dist-packages/sklearn/model_selection/_split.py:667: UserWarning: The least populated class in y has only 1 members, which is less than n_splits=8.\n",
            "  % (min_groups, self.n_splits)), UserWarning)\n",
            "/usr/local/lib/python3.7/dist-packages/sklearn/model_selection/_split.py:667: UserWarning: The least populated class in y has only 1 members, which is less than n_splits=8.\n",
            "  % (min_groups, self.n_splits)), UserWarning)\n",
            "/usr/local/lib/python3.7/dist-packages/sklearn/model_selection/_split.py:667: UserWarning: The least populated class in y has only 1 members, which is less than n_splits=8.\n",
            "  % (min_groups, self.n_splits)), UserWarning)\n",
            "/usr/local/lib/python3.7/dist-packages/sklearn/model_selection/_split.py:667: UserWarning: The least populated class in y has only 1 members, which is less than n_splits=8.\n",
            "  % (min_groups, self.n_splits)), UserWarning)\n",
            "/usr/local/lib/python3.7/dist-packages/sklearn/model_selection/_split.py:667: UserWarning: The least populated class in y has only 1 members, which is less than n_splits=8.\n",
            "  % (min_groups, self.n_splits)), UserWarning)\n",
            "/usr/local/lib/python3.7/dist-packages/sklearn/model_selection/_split.py:667: UserWarning: The least populated class in y has only 1 members, which is less than n_splits=8.\n",
            "  % (min_groups, self.n_splits)), UserWarning)\n"
          ],
          "name": "stderr"
        },
        {
          "output_type": "stream",
          "text": [
            "\n",
            "-- Fold: 7 --\n",
            "\n",
            "R^2 Scoring:\n",
            "Mean: 0.895149\n",
            "Std: +/- 0.036846\n",
            "Min: 0.810464\n",
            "Max: 0.960563\n",
            "\n",
            "RMSE Scoring:\n",
            "Mean: 1.391910\n",
            "Std: +/- 0.242635\n",
            "Min: 0.823991\n",
            "Max: 1.887375\n",
            "\n"
          ],
          "name": "stdout"
        },
        {
          "output_type": "stream",
          "text": [
            "/usr/local/lib/python3.7/dist-packages/sklearn/model_selection/_split.py:667: UserWarning: The least populated class in y has only 1 members, which is less than n_splits=9.\n",
            "  % (min_groups, self.n_splits)), UserWarning)\n",
            "/usr/local/lib/python3.7/dist-packages/sklearn/model_selection/_split.py:667: UserWarning: The least populated class in y has only 1 members, which is less than n_splits=9.\n",
            "  % (min_groups, self.n_splits)), UserWarning)\n",
            "/usr/local/lib/python3.7/dist-packages/sklearn/model_selection/_split.py:667: UserWarning: The least populated class in y has only 1 members, which is less than n_splits=9.\n",
            "  % (min_groups, self.n_splits)), UserWarning)\n",
            "/usr/local/lib/python3.7/dist-packages/sklearn/model_selection/_split.py:667: UserWarning: The least populated class in y has only 1 members, which is less than n_splits=9.\n",
            "  % (min_groups, self.n_splits)), UserWarning)\n",
            "/usr/local/lib/python3.7/dist-packages/sklearn/model_selection/_split.py:667: UserWarning: The least populated class in y has only 1 members, which is less than n_splits=9.\n",
            "  % (min_groups, self.n_splits)), UserWarning)\n",
            "/usr/local/lib/python3.7/dist-packages/sklearn/model_selection/_split.py:667: UserWarning: The least populated class in y has only 1 members, which is less than n_splits=9.\n",
            "  % (min_groups, self.n_splits)), UserWarning)\n"
          ],
          "name": "stderr"
        },
        {
          "output_type": "stream",
          "text": [
            "\n",
            "-- Fold: 8 --\n",
            "\n",
            "R^2 Scoring:\n",
            "Mean: 0.894739\n",
            "Std: +/- 0.045798\n",
            "Min: 0.777222\n",
            "Max: 0.971717\n",
            "\n",
            "RMSE Scoring:\n",
            "Mean: 1.388043\n",
            "Std: +/- 0.305999\n",
            "Min: 0.741592\n",
            "Max: 2.031801\n",
            "\n"
          ],
          "name": "stdout"
        },
        {
          "output_type": "stream",
          "text": [
            "/usr/local/lib/python3.7/dist-packages/sklearn/model_selection/_split.py:667: UserWarning: The least populated class in y has only 1 members, which is less than n_splits=10.\n",
            "  % (min_groups, self.n_splits)), UserWarning)\n",
            "/usr/local/lib/python3.7/dist-packages/sklearn/model_selection/_split.py:667: UserWarning: The least populated class in y has only 1 members, which is less than n_splits=10.\n",
            "  % (min_groups, self.n_splits)), UserWarning)\n",
            "/usr/local/lib/python3.7/dist-packages/sklearn/model_selection/_split.py:667: UserWarning: The least populated class in y has only 1 members, which is less than n_splits=10.\n",
            "  % (min_groups, self.n_splits)), UserWarning)\n",
            "/usr/local/lib/python3.7/dist-packages/sklearn/model_selection/_split.py:667: UserWarning: The least populated class in y has only 1 members, which is less than n_splits=10.\n",
            "  % (min_groups, self.n_splits)), UserWarning)\n",
            "/usr/local/lib/python3.7/dist-packages/sklearn/model_selection/_split.py:667: UserWarning: The least populated class in y has only 1 members, which is less than n_splits=10.\n",
            "  % (min_groups, self.n_splits)), UserWarning)\n",
            "/usr/local/lib/python3.7/dist-packages/sklearn/model_selection/_split.py:667: UserWarning: The least populated class in y has only 1 members, which is less than n_splits=10.\n",
            "  % (min_groups, self.n_splits)), UserWarning)\n"
          ],
          "name": "stderr"
        },
        {
          "output_type": "stream",
          "text": [
            "\n",
            "-- Fold: 9 --\n",
            "\n",
            "R^2 Scoring:\n",
            "Mean: 0.899910\n",
            "Std: +/- 0.040926\n",
            "Min: 0.803722\n",
            "Max: 0.971442\n",
            "\n",
            "RMSE Scoring:\n",
            "Mean: 1.354652\n",
            "Std: +/- 0.295678\n",
            "Min: 0.725625\n",
            "Max: 1.945327\n",
            "\n"
          ],
          "name": "stdout"
        },
        {
          "output_type": "stream",
          "text": [
            "/usr/local/lib/python3.7/dist-packages/sklearn/model_selection/_split.py:667: UserWarning: The least populated class in y has only 1 members, which is less than n_splits=11.\n",
            "  % (min_groups, self.n_splits)), UserWarning)\n",
            "/usr/local/lib/python3.7/dist-packages/sklearn/model_selection/_split.py:667: UserWarning: The least populated class in y has only 1 members, which is less than n_splits=11.\n",
            "  % (min_groups, self.n_splits)), UserWarning)\n",
            "/usr/local/lib/python3.7/dist-packages/sklearn/model_selection/_split.py:667: UserWarning: The least populated class in y has only 1 members, which is less than n_splits=11.\n",
            "  % (min_groups, self.n_splits)), UserWarning)\n",
            "/usr/local/lib/python3.7/dist-packages/sklearn/model_selection/_split.py:667: UserWarning: The least populated class in y has only 1 members, which is less than n_splits=11.\n",
            "  % (min_groups, self.n_splits)), UserWarning)\n",
            "/usr/local/lib/python3.7/dist-packages/sklearn/model_selection/_split.py:667: UserWarning: The least populated class in y has only 1 members, which is less than n_splits=11.\n",
            "  % (min_groups, self.n_splits)), UserWarning)\n",
            "/usr/local/lib/python3.7/dist-packages/sklearn/model_selection/_split.py:667: UserWarning: The least populated class in y has only 1 members, which is less than n_splits=11.\n",
            "  % (min_groups, self.n_splits)), UserWarning)\n"
          ],
          "name": "stderr"
        },
        {
          "output_type": "stream",
          "text": [
            "\n",
            "-- Fold: 10 --\n",
            "\n",
            "R^2 Scoring:\n",
            "Mean: 0.903937\n",
            "Std: +/- 0.048131\n",
            "Min: 0.804352\n",
            "Max: 0.978623\n",
            "\n",
            "RMSE Scoring:\n",
            "Mean: 1.310674\n",
            "Std: +/- 0.371314\n",
            "Min: 0.666226\n",
            "Max: 2.106474\n",
            "\n"
          ],
          "name": "stdout"
        },
        {
          "output_type": "display_data",
          "data": {
            "image/png": "[encoded data removed]",
            "text/plain": [
              "<Figure size 1080x720 with 4 Axes>"
            ]
          },
          "metadata": {
            "tags": [],
            "needs_background": "light"
          }
        }
      ]
    },
    {
      "cell_type": "markdown",
      "metadata": {
        "id": "XDbkuzGWp2sy"
      },
      "source": [
        "<table border = \"1\">\n",
        "  <thead>\n",
        "    <th colspan = \"3\">XGBoost Cross-Validation Results</th>\n",
        "  </thead>\n",
        "  <tbody>\n",
        "    <tr>\n",
        "      <td><b></b></td>\n",
        "      <td><b>R^2</b></td>\n",
        "      <td><b>RMSE</b></td>\n",
        "    </tr>\n",
        "    <tr>\n",
        "      <td><b>Mean</b></td>\n",
        "      <td>0.904</td>\n",
        "      <td>1.311</td>\n",
        "    </tr>\n",
        "    <tr>\n",
        "      <td><b>Std.</b></td>\n",
        "      <td>0.048</td>\n",
        "      <td>0.371</td>\n",
        "    </tr>\n",
        "    <tr>\n",
        "      <td><b>Min</b></td>\n",
        "      <td>0.804</td>\n",
        "      <td>0.666</td>\n",
        "    </tr>\n",
        "    <tr>\n",
        "      <td><b>Max</b></td>\n",
        "      <td>0.979</td>\n",
        "      <td>2.107</td>\n",
        "    </tr>\n",
        "  </tbody>\n",
        "</table>"
      ]
    },
    {
      "cell_type": "code",
      "metadata": {
        "colab": {
          "base_uri": "https://localhost:8080/"
        },
        "id": "lVuvxtBqp0Dj",
        "outputId": "b9a1db3b-6b68-444d-ccd0-b11e80d1044b"
      },
      "source": [
        "# Apply Grid Search for parameter tuning\n",
        "\n",
        "# param_dict = {'max_depth': [1, 2, 5, 10, 20], \n",
        "#               'learning_rate': [0.05, 0.1, 0.15],\n",
        "#               'reg_alpha':[0.001, 0.01, 0.1, 1, 10, 100],\n",
        "#               'colsample_bytree': [0.3, 0.5, 0.7],\n",
        "#               'n_estimators': [50, 100, 150, 200],\n",
        "#               'min_child_weight': [2, 5, 10],\n",
        "#               'gamma': [0, 0.05, 0.1],\n",
        "#               'subsample': [0.6, 0.8, 1.0],\n",
        "#               'random_state': [0, 1, 5, 10, 20, 40]}\n",
        "\n",
        "param_dict = {'max_depth': [14], \n",
        "              'min_child_weight': [4],\n",
        "              'gamma': [0.01],\n",
        "              'colsample_bytree': [0.9], \n",
        "              'subsample': [1],\n",
        "              'reg_alpha': [0.9],\n",
        "              'learning_rate': [0.1],\n",
        "              'n_estimators': [111],\n",
        "              'random_state': [0]}\n",
        "\n",
        "# grid = GridSearchCV(xgb_reg, param_dict, scoring='neg_mean_absolute_error', cv=cv, n_jobs=-1)\n",
        "# grid = GridSearchCV(xgb_reg, param_dict, scoring='neg_mean_squared_error', cv=cv, n_jobs=-1)\n",
        "# grid = GridSearchCV(xgb_reg, param_dict, scoring='neg_root_mean_squared_error', cv=cv, n_jobs=-1)\n",
        "grid = GridSearchCV(xgb_reg, param_dict, scoring='r2', cv=cv, n_jobs=-1)\n",
        "results = grid.fit(X_train, y_train)\n",
        "\n",
        "# Summarize results\n",
        "best_score = grid.best_score_\n",
        "best_parameters = grid.best_params_\n",
        "print(\"Best Score: %.3f%%\" % (np.abs(best_score * 100)))  # R^2 Scoring\n",
        "# print(\"Best Score: %.3f%%\" % (np.abs(best_score)))  # RMSE\n",
        "print(\"Best Parameters: \", best_parameters)"
      ],
      "execution_count": null,
      "outputs": [
        {
          "output_type": "stream",
          "text": [
            "/usr/local/lib/python3.7/dist-packages/sklearn/model_selection/_split.py:667: UserWarning: The least populated class in y has only 1 members, which is less than n_splits=11.\n",
            "  % (min_groups, self.n_splits)), UserWarning)\n",
            "/usr/local/lib/python3.7/dist-packages/sklearn/model_selection/_split.py:667: UserWarning: The least populated class in y has only 1 members, which is less than n_splits=11.\n",
            "  % (min_groups, self.n_splits)), UserWarning)\n",
            "/usr/local/lib/python3.7/dist-packages/sklearn/model_selection/_split.py:667: UserWarning: The least populated class in y has only 1 members, which is less than n_splits=11.\n",
            "  % (min_groups, self.n_splits)), UserWarning)\n"
          ],
          "name": "stderr"
        },
        {
          "output_type": "stream",
          "text": [
            "[22:40:58] WARNING: /workspace/src/objective/regression_obj.cu:152: reg:linear is now deprecated in favor of reg:squarederror.\n",
            "Best Score: 90.394%\n",
            "Best Parameters:  {'colsample_bytree': 0.9, 'gamma': 0.01, 'learning_rate': 0.1, 'max_depth': 14, 'min_child_weight': 4, 'n_estimators': 111, 'random_state': 0, 'reg_alpha': 0.9, 'subsample': 1}\n"
          ],
          "name": "stdout"
        }
      ]
    },
    {
      "cell_type": "markdown",
      "metadata": {
        "id": "LrrU8z4FjluF"
      },
      "source": [
        "<table border = \"1\">\n",
        "  <thead>\n",
        "    <th colspan = \"2\">XGBoost Grid Search Results</th>\n",
        "  </thead>\n",
        "  <tbody>\n",
        "    <tr>\n",
        "      <td><b>Best Score</b></td>\n",
        "      <td>90.394%</td>\n",
        "    </tr>\n",
        "    <tr>\n",
        "      <td colspan=\"2\"><b>Best Parameters:</b></td>\n",
        "    </tr>\n",
        "    <tr>\n",
        "      <td><b>max_depth</b></td>\n",
        "      <td>14</td>\n",
        "    </tr>\n",
        "    <tr>\n",
        "      <td><b>min_child_weight</b></td>\n",
        "      <td>4</td>\n",
        "    </tr>\n",
        "    <tr>\n",
        "      <td><b>gamma</b></td>\n",
        "      <td>0.01</td>\n",
        "    </tr>\n",
        "    <tr>\n",
        "      <td><b>colsample_bytree</b></td>\n",
        "      <td>0.89</td>\n",
        "    </tr>\n",
        "    <tr>\n",
        "      <td><b>subsample</b></td>\n",
        "      <td>1</td>\n",
        "    </tr>\n",
        "    <tr>\n",
        "      <td><b>reg_alpha</b></td>\n",
        "      <td>0.9</td>\n",
        "    </tr>\n",
        "    <tr>\n",
        "      <td><b>learning_rate</b></td>\n",
        "      <td>0.1</td>\n",
        "    </tr>\n",
        "    <tr>\n",
        "      <td><b>n_estimators</b></td>\n",
        "      <td>111</td>\n",
        "    </tr>\n",
        "    <tr>\n",
        "      <td><b>random_state</b></td>\n",
        "      <td>0</td>\n",
        "    </tr>\n",
        "  </tbody>\n",
        "</table>"
      ]
    },
    {
      "cell_type": "markdown",
      "metadata": {
        "id": "i3e1porpkdGO"
      },
      "source": [
        "### LightGBM (LGB)"
      ]
    },
    {
      "cell_type": "code",
      "metadata": {
        "colab": {
          "base_uri": "https://localhost:8080/"
        },
        "id": "cTjcGEIxqBI_",
        "outputId": "5ae1c18f-f8cf-4ca0-d4b4-8e17ef415fd6"
      },
      "source": [
        "lgb_reg = LGBMRegressor(max_depth=2, n_estimators=115, learning_rate=0.16, \n",
        "                    colsample_bytree=1, num_leaves=4, reg_alpha=2.2,\n",
        "                    subsample=1, subsample_freq=1, random_state=0)\n",
        "lgb_reg.fit(X_train, y_train)"
      ],
      "execution_count": null,
      "outputs": [
        {
          "output_type": "execute_result",
          "data": {
            "text/plain": [
              "LGBMRegressor(boosting_type='gbdt', class_weight=None, colsample_bytree=1,\n",
              "              importance_type='split', learning_rate=0.16, max_depth=2,\n",
              "              min_child_samples=20, min_child_weight=0.001, min_split_gain=0.0,\n",
              "              n_estimators=115, n_jobs=-1, num_leaves=4, objective=None,\n",
              "              random_state=0, reg_alpha=2.2, reg_lambda=0.0, silent=True,\n",
              "              subsample=1, subsample_for_bin=200000, subsample_freq=1)"
            ]
          },
          "metadata": {
            "tags": []
          },
          "execution_count": 99
        }
      ]
    },
    {
      "cell_type": "code",
      "metadata": {
        "colab": {
          "base_uri": "https://localhost:8080/"
        },
        "id": "TlmpHXunqD43",
        "outputId": "187405de-d02c-4f7e-ab44-7ad0d73308a5"
      },
      "source": [
        "# Predict test set results\n",
        "y_pred = lgb_reg.predict(X_test)\n",
        "np.set_printoptions(precision = 2)\n",
        "print(np.concatenate((y_pred.reshape(len(y_pred), 1), y_test.reshape(len(y_test), 1)), 1 ))\n",
        "print('')\n",
        "\n",
        "# Summarize results\n",
        "print('MAE: %.3f' % (mean_absolute_error(y_test, y_pred)))\n",
        "print('MSE: %.3f' % (mean_squared_error(y_test, y_pred)))\n",
        "print('RMSE: %.3f' % (mean_squared_error(y_test, y_pred, squared=False)))\n",
        "print('R^2 Score: %.3f' % (r2_score(y_test, y_pred)))"
      ],
      "execution_count": null,
      "outputs": [
        {
          "output_type": "stream",
          "text": [
            "[[13.39 14.  ]\n",
            " [10.7  10.  ]\n",
            " [ 9.8   9.  ]\n",
            " [15.25 15.  ]\n",
            " [15.87 16.  ]\n",
            " [12.66 12.  ]\n",
            " [13.08 14.  ]\n",
            " [10.33 11.  ]\n",
            " [ 9.86  9.  ]\n",
            " [13.97 15.  ]\n",
            " [ 8.69 10.  ]\n",
            " [11.48 11.  ]\n",
            " [11.63 10.  ]\n",
            " [10.13  8.  ]\n",
            " [14.04 15.  ]\n",
            " [13.54 14.  ]\n",
            " [12.71 12.  ]\n",
            " [ 9.19  0.  ]\n",
            " [ 8.86 10.  ]\n",
            " [14.32 16.  ]\n",
            " [ 8.61  0.  ]\n",
            " [ 4.52  0.  ]\n",
            " [ 7.22  8.  ]\n",
            " [14.01 16.  ]\n",
            " [12.45 12.  ]\n",
            " [15.43 15.  ]\n",
            " [ 9.03 10.  ]\n",
            " [18.34 19.  ]\n",
            " [ 5.11  0.  ]\n",
            " [13.61 14.  ]\n",
            " [ 5.48  0.  ]\n",
            " [ 8.99 10.  ]\n",
            " [ 8.26  8.  ]\n",
            " [ 5.23  4.  ]\n",
            " [12.98 13.  ]\n",
            " [ 9.9  10.  ]\n",
            " [12.91 13.  ]\n",
            " [16.8  18.  ]\n",
            " [ 9.63  8.  ]\n",
            " [11.95 11.  ]\n",
            " [ 6.26  6.  ]\n",
            " [18.08 18.  ]\n",
            " [ 7.18  8.  ]\n",
            " [ 9.54  8.  ]\n",
            " [10.89 11.  ]\n",
            " [ 5.08  0.  ]\n",
            " [12.19 13.  ]\n",
            " [ 5.23  0.  ]\n",
            " [13.28 13.  ]\n",
            " [ 8.89  7.  ]\n",
            " [ 9.23 10.  ]\n",
            " [18.03 18.  ]\n",
            " [11.67 10.  ]\n",
            " [ 8.15  9.  ]\n",
            " [11.87 11.  ]\n",
            " [ 9.89  6.  ]\n",
            " [ 9.02  9.  ]\n",
            " [12.32 13.  ]\n",
            " [13.85 15.  ]\n",
            " [13.82 14.  ]\n",
            " [12.62 14.  ]\n",
            " [14.47 15.  ]\n",
            " [12.85 14.  ]\n",
            " [14.65 15.  ]\n",
            " [ 9.21  0.  ]\n",
            " [14.95 15.  ]\n",
            " [16.76 19.  ]\n",
            " [11.93 12.  ]\n",
            " [ 5.75  6.  ]\n",
            " [ 9.56  9.  ]\n",
            " [ 9.21  8.  ]\n",
            " [13.57 15.  ]\n",
            " [ 8.39  5.  ]\n",
            " [ 4.67  0.  ]\n",
            " [ 8.48  9.  ]\n",
            " [ 9.61  0.  ]\n",
            " [11.06 11.  ]\n",
            " [17.68 18.  ]\n",
            " [ 7.4   0.  ]]\n",
            "\n",
            "MAE: 1.681\n",
            "MSE: 7.971\n",
            "RMSE: 2.823\n",
            "R^2 Score: 0.711\n"
          ],
          "name": "stdout"
        }
      ]
    },
    {
      "cell_type": "markdown",
      "metadata": {
        "id": "c1V0ohAWj5kN"
      },
      "source": [
        "<table border = \"1\">\n",
        "  <thead>\n",
        "    <th colspan = \"5\">LightGBM Prediction Scores</th>\n",
        "  </thead>\n",
        "  <tbody>\n",
        "    <tr>\n",
        "      <td><b>MAE:<b></td>\n",
        "      <td>1.681</td>\n",
        "    </tr>\n",
        "    <tr>\n",
        "      <td><b>MSE:<b></td>\n",
        "      <td>7.971</td>\n",
        "    </tr>\n",
        "    <tr>\n",
        "      <td><b>RMSE:<b></td>\n",
        "      <td>2.823</td>\n",
        "    </tr>\n",
        "    <tr>\n",
        "      <td><b>R^2:<b></td>\n",
        "      <td>0.711</td>\n",
        "    </tr>\n",
        "  </tbody>\n",
        "</table>"
      ]
    },
    {
      "cell_type": "code",
      "metadata": {
        "colab": {
          "base_uri": "https://localhost:8080/",
          "height": 408
        },
        "id": "maStpdP7j9Xl",
        "outputId": "b64f94ed-74ba-40cf-8e3c-69b329166f26"
      },
      "source": [
        "# Plot histogram for y_pred\n",
        "fig1 = plt.figure(figsize=(15, 6))\n",
        "ax1 = fig1.add_subplot(1, 2, 1)\n",
        "plt.xticks(np.arange(0, 20, 2))\n",
        "plt.yticks(np.arange(0, 20, 2))\n",
        "plt.hist(x=y_pred, facecolor='deepskyblue', alpha=0.6, edgecolor='black')\n",
        "plt.xlabel('Grade', fontsize=12)\n",
        "plt.ylabel('Number of students', fontsize=12)\n",
        "plt.title('Predicted Grade Distribution', fontsize=14)\n",
        "\n",
        "# Plot histogram for y_test\n",
        "ax1 = fig1.add_subplot(1, 2, 2)\n",
        "plt.xticks(np.arange(0, 20, 2))\n",
        "plt.yticks(np.arange(0, 18, 2))\n",
        "plt.hist(x=y_test, facecolor='orange', alpha=0.6, edgecolor='black')\n",
        "plt.xlabel('Grade', fontsize=12)\n",
        "plt.ylabel('Number of students', fontsize=12)\n",
        "plt.title('Validation Grade Distribution', fontsize=14)\n",
        "\n",
        "# Show subplot\n",
        "plt.show()"
      ],
      "execution_count": 141,
      "outputs": [
        {
          "output_type": "display_data",
          "data": {
            "image/png": "[encoded data removed]",
            "text/plain": [
              "<Figure size 1080x432 with 2 Axes>"
            ]
          },
          "metadata": {
            "tags": [],
            "needs_background": "light"
          }
        }
      ]
    },
    {
      "cell_type": "code",
      "metadata": {
        "colab": {
          "base_uri": "https://localhost:8080/"
        },
        "id": "qbdQIQeAqF30",
        "outputId": "4dd88a5a-2545-483b-a43a-4b5278e91421"
      },
      "source": [
        "# Apply k-Fold Cross Validation on the training set\n",
        "\n",
        "# Lists of values\n",
        "r2_means, r2_stds, r2_mins, r2_maxs = [], [], [], []  # R^2 Scoring\n",
        "rmse_means, rmse_stds, rmse_mins, rmse_maxs = [], [], [], []  # RMSE Scoring\n",
        "# Cross validate for 10 k-folds, each with 3 repeats\n",
        "for k in range(2, 12):\n",
        "  cv = RepeatedStratifiedKFold(n_splits = k, n_repeats = 3, random_state = 0)\n",
        "  r2_scores = cross_val_score(lgb_reg, X_train, y_train, scoring='r2', cv=cv, n_jobs=-1)\n",
        "  # scores = cross_val_score(reg, X_train, y_train, scoring='neg_mean_absolute_error', cv=cv, n_jobs=-1)\n",
        "  # scores = cross_val_score(reg, X_train, y_train, scoring='neg_mean_squared_error', cv=cv, n_jobs=-1)\n",
        "  rmse_scores = cross_val_score(lgb_reg, X_train, y_train, scoring='neg_root_mean_squared_error', cv=cv, n_jobs=-1)\n",
        "  \n",
        "  # Force scores to be positive\n",
        "  r2_scores = abs(r2_scores)\n",
        "  rmse_scores = abs(rmse_scores)\n",
        "\n",
        "  # Print values\n",
        "  print('')\n",
        "  print('-- Fold: %d --' % (k-1))\n",
        "  print('')\n",
        "  print('R^2 Scoring:')\n",
        "  print(\"Mean: %f\" % (np.mean(r2_scores)))\n",
        "  print(\"Std: +/- %f\" % (np.std(r2_scores)))\n",
        "  print(\"Min: %f\" % (np.min(r2_scores)))\n",
        "  print(\"Max: %f\" % (np.max(r2_scores)))\n",
        "  \n",
        "  print('')\n",
        "  print('RMSE Scoring:')\n",
        "  print(\"Mean: %f\" % (np.mean(rmse_scores)))\n",
        "  print(\"Std: +/- %f\" % (np.std(rmse_scores)))\n",
        "  print(\"Min: %f\" % (np.min(rmse_scores)))\n",
        "  print(\"Max: %f\" % (np.max(rmse_scores)))\n",
        "  print('')\n",
        "  \n",
        "  # Append R^2 scores\n",
        "  r2_means.append(np.mean(r2_scores))\n",
        "  r2_stds.append(np.std(r2_scores))\n",
        "  r2_mins.append(np.min(r2_scores))\n",
        "  r2_maxs.append(np.max(r2_scores))\n",
        "  \n",
        "  # Append RMSE scores\n",
        "  rmse_means.append(np.mean(rmse_scores))\n",
        "  rmse_stds.append(np.std(rmse_scores))\n",
        "  rmse_mins.append(np.min(rmse_scores))\n",
        "  rmse_maxs.append(np.max(rmse_scores))\n",
        "\n",
        "# Plot R^2 scores per k-fold:\n",
        "fig2 = plt.figure(figsize=(15, 10))\n",
        "ax1 = fig2.add_subplot(2, 2, 1)\n",
        "ax1.plot(np.arange(1,11), r2_means, color='red', label='Mean')\n",
        "ax1.plot(np.arange(1,11), r2_mins, color='green', label='Min')\n",
        "ax1.plot(np.arange(1,11), r2_maxs, color='blue', label='Max')\n",
        "ax1.set_xlabel('k-Fold', fontsize=12)\n",
        "ax1.set_ylabel('R^2 Score', fontsize=12)\n",
        "ax1.set_title('R^2 Score per k-Fold', fontsize=14)\n",
        "ax1.legend()\n",
        "ax1.grid(True)\n",
        "\n",
        "# Plot R^2 Standard Deviations per k-fold:\n",
        "ax2 = fig2.add_subplot(2, 2, 2)\n",
        "ax2.plot(np.arange(1,11), r2_stds, color='red')\n",
        "ax2.set_xlabel('k-Fold', fontsize=12)\n",
        "ax2.set_ylabel('Standard Deviation (+/-)', fontsize=12)\n",
        "ax2.set_title('R^2 Standard Deviation per k-fold', fontsize=14)\n",
        "ax2.grid(True)\n",
        "\n",
        "# Plot RMSE scores per k-fold:\n",
        "ax3 = fig2.add_subplot(2, 2, 3)\n",
        "ax3.plot(np.arange(1,11), rmse_means, color='orangered', label='Mean')\n",
        "ax3.plot(np.arange(1,11), rmse_mins, color='green', label='Min')\n",
        "ax3.plot(np.arange(1,11), rmse_maxs, color='blue', label='Max')\n",
        "ax3.set_xlabel('k-Fold', fontsize=12)\n",
        "ax3.set_ylabel('RMSE Score', fontsize=12)\n",
        "ax3.set_title('RMSE Score per k-Fold', fontsize=14)\n",
        "ax3.legend()\n",
        "ax3.grid(True)\n",
        "\n",
        "# Plot RMSE Standard Deviations per k-fold:\n",
        "ax4 = fig2.add_subplot(2, 2, 4)\n",
        "ax4.plot(np.arange(1,11), rmse_stds, color='orangered')\n",
        "ax4.set_xlabel('k-Fold', fontsize=12)\n",
        "ax4.set_ylabel('Standard Deviation (+/-)', fontsize=12)\n",
        "ax4.set_title('RMSE Standard Deviation per k-fold', fontsize=14)\n",
        "ax4.grid(True)\n",
        "\n",
        "# Show subplot\n",
        "plt.show()"
      ],
      "execution_count": null,
      "outputs": [
        {
          "output_type": "stream",
          "text": [
            "/usr/local/lib/python3.7/dist-packages/sklearn/model_selection/_split.py:667: UserWarning: The least populated class in y has only 1 members, which is less than n_splits=2.\n",
            "  % (min_groups, self.n_splits)), UserWarning)\n",
            "/usr/local/lib/python3.7/dist-packages/sklearn/model_selection/_split.py:667: UserWarning: The least populated class in y has only 1 members, which is less than n_splits=2.\n",
            "  % (min_groups, self.n_splits)), UserWarning)\n",
            "/usr/local/lib/python3.7/dist-packages/sklearn/model_selection/_split.py:667: UserWarning: The least populated class in y has only 1 members, which is less than n_splits=2.\n",
            "  % (min_groups, self.n_splits)), UserWarning)\n",
            "/usr/local/lib/python3.7/dist-packages/sklearn/model_selection/_split.py:667: UserWarning: The least populated class in y has only 1 members, which is less than n_splits=2.\n",
            "  % (min_groups, self.n_splits)), UserWarning)\n",
            "/usr/local/lib/python3.7/dist-packages/sklearn/model_selection/_split.py:667: UserWarning: The least populated class in y has only 1 members, which is less than n_splits=2.\n",
            "  % (min_groups, self.n_splits)), UserWarning)\n",
            "/usr/local/lib/python3.7/dist-packages/sklearn/model_selection/_split.py:667: UserWarning: The least populated class in y has only 1 members, which is less than n_splits=2.\n",
            "  % (min_groups, self.n_splits)), UserWarning)\n",
            "/usr/local/lib/python3.7/dist-packages/sklearn/model_selection/_split.py:667: UserWarning: The least populated class in y has only 1 members, which is less than n_splits=3.\n",
            "  % (min_groups, self.n_splits)), UserWarning)\n",
            "/usr/local/lib/python3.7/dist-packages/sklearn/model_selection/_split.py:667: UserWarning: The least populated class in y has only 1 members, which is less than n_splits=3.\n",
            "  % (min_groups, self.n_splits)), UserWarning)\n",
            "/usr/local/lib/python3.7/dist-packages/sklearn/model_selection/_split.py:667: UserWarning: The least populated class in y has only 1 members, which is less than n_splits=3.\n",
            "  % (min_groups, self.n_splits)), UserWarning)\n",
            "/usr/local/lib/python3.7/dist-packages/sklearn/model_selection/_split.py:667: UserWarning: The least populated class in y has only 1 members, which is less than n_splits=3.\n",
            "  % (min_groups, self.n_splits)), UserWarning)\n",
            "/usr/local/lib/python3.7/dist-packages/sklearn/model_selection/_split.py:667: UserWarning: The least populated class in y has only 1 members, which is less than n_splits=3.\n",
            "  % (min_groups, self.n_splits)), UserWarning)\n"
          ],
          "name": "stderr"
        },
        {
          "output_type": "stream",
          "text": [
            "\n",
            "-- Fold: 1 --\n",
            "\n",
            "R^2 Scoring:\n",
            "Mean: 0.835119\n",
            "Std: +/- 0.026799\n",
            "Min: 0.781152\n",
            "Max: 0.861231\n",
            "\n",
            "RMSE Scoring:\n",
            "Mean: 1.774093\n",
            "Std: +/- 0.117110\n",
            "Min: 1.667356\n",
            "Max: 2.010909\n",
            "\n"
          ],
          "name": "stdout"
        },
        {
          "output_type": "stream",
          "text": [
            "/usr/local/lib/python3.7/dist-packages/sklearn/model_selection/_split.py:667: UserWarning: The least populated class in y has only 1 members, which is less than n_splits=3.\n",
            "  % (min_groups, self.n_splits)), UserWarning)\n",
            "/usr/local/lib/python3.7/dist-packages/sklearn/model_selection/_split.py:667: UserWarning: The least populated class in y has only 1 members, which is less than n_splits=4.\n",
            "  % (min_groups, self.n_splits)), UserWarning)\n",
            "/usr/local/lib/python3.7/dist-packages/sklearn/model_selection/_split.py:667: UserWarning: The least populated class in y has only 1 members, which is less than n_splits=4.\n",
            "  % (min_groups, self.n_splits)), UserWarning)\n",
            "/usr/local/lib/python3.7/dist-packages/sklearn/model_selection/_split.py:667: UserWarning: The least populated class in y has only 1 members, which is less than n_splits=4.\n",
            "  % (min_groups, self.n_splits)), UserWarning)\n"
          ],
          "name": "stderr"
        },
        {
          "output_type": "stream",
          "text": [
            "\n",
            "-- Fold: 2 --\n",
            "\n",
            "R^2 Scoring:\n",
            "Mean: 0.865957\n",
            "Std: +/- 0.012300\n",
            "Min: 0.841285\n",
            "Max: 0.885135\n",
            "\n",
            "RMSE Scoring:\n",
            "Mean: 1.604984\n",
            "Std: +/- 0.076435\n",
            "Min: 1.482098\n",
            "Max: 1.757331\n",
            "\n"
          ],
          "name": "stdout"
        },
        {
          "output_type": "stream",
          "text": [
            "/usr/local/lib/python3.7/dist-packages/sklearn/model_selection/_split.py:667: UserWarning: The least populated class in y has only 1 members, which is less than n_splits=4.\n",
            "  % (min_groups, self.n_splits)), UserWarning)\n",
            "/usr/local/lib/python3.7/dist-packages/sklearn/model_selection/_split.py:667: UserWarning: The least populated class in y has only 1 members, which is less than n_splits=4.\n",
            "  % (min_groups, self.n_splits)), UserWarning)\n",
            "/usr/local/lib/python3.7/dist-packages/sklearn/model_selection/_split.py:667: UserWarning: The least populated class in y has only 1 members, which is less than n_splits=4.\n",
            "  % (min_groups, self.n_splits)), UserWarning)\n",
            "/usr/local/lib/python3.7/dist-packages/sklearn/model_selection/_split.py:667: UserWarning: The least populated class in y has only 1 members, which is less than n_splits=5.\n",
            "  % (min_groups, self.n_splits)), UserWarning)\n"
          ],
          "name": "stderr"
        },
        {
          "output_type": "stream",
          "text": [
            "\n",
            "-- Fold: 3 --\n",
            "\n",
            "R^2 Scoring:\n",
            "Mean: 0.868442\n",
            "Std: +/- 0.035351\n",
            "Min: 0.789076\n",
            "Max: 0.905771\n",
            "\n",
            "RMSE Scoring:\n",
            "Mean: 1.576760\n",
            "Std: +/- 0.203525\n",
            "Min: 1.315665\n",
            "Max: 2.019727\n",
            "\n"
          ],
          "name": "stdout"
        },
        {
          "output_type": "stream",
          "text": [
            "/usr/local/lib/python3.7/dist-packages/sklearn/model_selection/_split.py:667: UserWarning: The least populated class in y has only 1 members, which is less than n_splits=5.\n",
            "  % (min_groups, self.n_splits)), UserWarning)\n",
            "/usr/local/lib/python3.7/dist-packages/sklearn/model_selection/_split.py:667: UserWarning: The least populated class in y has only 1 members, which is less than n_splits=5.\n",
            "  % (min_groups, self.n_splits)), UserWarning)\n",
            "/usr/local/lib/python3.7/dist-packages/sklearn/model_selection/_split.py:667: UserWarning: The least populated class in y has only 1 members, which is less than n_splits=5.\n",
            "  % (min_groups, self.n_splits)), UserWarning)\n",
            "/usr/local/lib/python3.7/dist-packages/sklearn/model_selection/_split.py:667: UserWarning: The least populated class in y has only 1 members, which is less than n_splits=5.\n",
            "  % (min_groups, self.n_splits)), UserWarning)\n",
            "/usr/local/lib/python3.7/dist-packages/sklearn/model_selection/_split.py:667: UserWarning: The least populated class in y has only 1 members, which is less than n_splits=5.\n",
            "  % (min_groups, self.n_splits)), UserWarning)\n"
          ],
          "name": "stderr"
        },
        {
          "output_type": "stream",
          "text": [
            "\n",
            "-- Fold: 4 --\n",
            "\n",
            "R^2 Scoring:\n",
            "Mean: 0.868503\n",
            "Std: +/- 0.044104\n",
            "Min: 0.740084\n",
            "Max: 0.913509\n",
            "\n",
            "RMSE Scoring:\n",
            "Mean: 1.570151\n",
            "Std: +/- 0.244211\n",
            "Min: 1.296026\n",
            "Max: 2.217369\n",
            "\n"
          ],
          "name": "stdout"
        },
        {
          "output_type": "stream",
          "text": [
            "/usr/local/lib/python3.7/dist-packages/sklearn/model_selection/_split.py:667: UserWarning: The least populated class in y has only 1 members, which is less than n_splits=6.\n",
            "  % (min_groups, self.n_splits)), UserWarning)\n",
            "/usr/local/lib/python3.7/dist-packages/sklearn/model_selection/_split.py:667: UserWarning: The least populated class in y has only 1 members, which is less than n_splits=6.\n",
            "  % (min_groups, self.n_splits)), UserWarning)\n",
            "/usr/local/lib/python3.7/dist-packages/sklearn/model_selection/_split.py:667: UserWarning: The least populated class in y has only 1 members, which is less than n_splits=6.\n",
            "  % (min_groups, self.n_splits)), UserWarning)\n",
            "/usr/local/lib/python3.7/dist-packages/sklearn/model_selection/_split.py:667: UserWarning: The least populated class in y has only 1 members, which is less than n_splits=6.\n",
            "  % (min_groups, self.n_splits)), UserWarning)\n",
            "/usr/local/lib/python3.7/dist-packages/sklearn/model_selection/_split.py:667: UserWarning: The least populated class in y has only 1 members, which is less than n_splits=6.\n",
            "  % (min_groups, self.n_splits)), UserWarning)\n",
            "/usr/local/lib/python3.7/dist-packages/sklearn/model_selection/_split.py:667: UserWarning: The least populated class in y has only 1 members, which is less than n_splits=6.\n",
            "  % (min_groups, self.n_splits)), UserWarning)\n"
          ],
          "name": "stderr"
        },
        {
          "output_type": "stream",
          "text": [
            "\n",
            "-- Fold: 5 --\n",
            "\n",
            "R^2 Scoring:\n",
            "Mean: 0.871511\n",
            "Std: +/- 0.038786\n",
            "Min: 0.764543\n",
            "Max: 0.918626\n",
            "\n",
            "RMSE Scoring:\n",
            "Mean: 1.551514\n",
            "Std: +/- 0.201295\n",
            "Min: 1.268156\n",
            "Max: 2.101731\n",
            "\n"
          ],
          "name": "stdout"
        },
        {
          "output_type": "stream",
          "text": [
            "/usr/local/lib/python3.7/dist-packages/sklearn/model_selection/_split.py:667: UserWarning: The least populated class in y has only 1 members, which is less than n_splits=7.\n",
            "  % (min_groups, self.n_splits)), UserWarning)\n",
            "/usr/local/lib/python3.7/dist-packages/sklearn/model_selection/_split.py:667: UserWarning: The least populated class in y has only 1 members, which is less than n_splits=7.\n",
            "  % (min_groups, self.n_splits)), UserWarning)\n",
            "/usr/local/lib/python3.7/dist-packages/sklearn/model_selection/_split.py:667: UserWarning: The least populated class in y has only 1 members, which is less than n_splits=7.\n",
            "  % (min_groups, self.n_splits)), UserWarning)\n",
            "/usr/local/lib/python3.7/dist-packages/sklearn/model_selection/_split.py:667: UserWarning: The least populated class in y has only 1 members, which is less than n_splits=7.\n",
            "  % (min_groups, self.n_splits)), UserWarning)\n",
            "/usr/local/lib/python3.7/dist-packages/sklearn/model_selection/_split.py:667: UserWarning: The least populated class in y has only 1 members, which is less than n_splits=7.\n",
            "  % (min_groups, self.n_splits)), UserWarning)\n",
            "/usr/local/lib/python3.7/dist-packages/sklearn/model_selection/_split.py:667: UserWarning: The least populated class in y has only 1 members, which is less than n_splits=7.\n",
            "  % (min_groups, self.n_splits)), UserWarning)\n"
          ],
          "name": "stderr"
        },
        {
          "output_type": "stream",
          "text": [
            "\n",
            "-- Fold: 6 --\n",
            "\n",
            "R^2 Scoring:\n",
            "Mean: 0.870601\n",
            "Std: +/- 0.062538\n",
            "Min: 0.646511\n",
            "Max: 0.945838\n",
            "\n",
            "RMSE Scoring:\n",
            "Mean: 1.537996\n",
            "Std: +/- 0.328654\n",
            "Min: 1.038470\n",
            "Max: 2.581423\n",
            "\n"
          ],
          "name": "stdout"
        },
        {
          "output_type": "stream",
          "text": [
            "/usr/local/lib/python3.7/dist-packages/sklearn/model_selection/_split.py:667: UserWarning: The least populated class in y has only 1 members, which is less than n_splits=8.\n",
            "  % (min_groups, self.n_splits)), UserWarning)\n",
            "/usr/local/lib/python3.7/dist-packages/sklearn/model_selection/_split.py:667: UserWarning: The least populated class in y has only 1 members, which is less than n_splits=8.\n",
            "  % (min_groups, self.n_splits)), UserWarning)\n",
            "/usr/local/lib/python3.7/dist-packages/sklearn/model_selection/_split.py:667: UserWarning: The least populated class in y has only 1 members, which is less than n_splits=8.\n",
            "  % (min_groups, self.n_splits)), UserWarning)\n",
            "/usr/local/lib/python3.7/dist-packages/sklearn/model_selection/_split.py:667: UserWarning: The least populated class in y has only 1 members, which is less than n_splits=8.\n",
            "  % (min_groups, self.n_splits)), UserWarning)\n",
            "/usr/local/lib/python3.7/dist-packages/sklearn/model_selection/_split.py:667: UserWarning: The least populated class in y has only 1 members, which is less than n_splits=8.\n",
            "  % (min_groups, self.n_splits)), UserWarning)\n",
            "/usr/local/lib/python3.7/dist-packages/sklearn/model_selection/_split.py:667: UserWarning: The least populated class in y has only 1 members, which is less than n_splits=8.\n",
            "  % (min_groups, self.n_splits)), UserWarning)\n"
          ],
          "name": "stderr"
        },
        {
          "output_type": "stream",
          "text": [
            "\n",
            "-- Fold: 7 --\n",
            "\n",
            "R^2 Scoring:\n",
            "Mean: 0.877696\n",
            "Std: +/- 0.037035\n",
            "Min: 0.803328\n",
            "Max: 0.941041\n",
            "\n",
            "RMSE Scoring:\n",
            "Mean: 1.508587\n",
            "Std: +/- 0.221088\n",
            "Min: 1.007504\n",
            "Max: 1.931766\n",
            "\n"
          ],
          "name": "stdout"
        },
        {
          "output_type": "stream",
          "text": [
            "/usr/local/lib/python3.7/dist-packages/sklearn/model_selection/_split.py:667: UserWarning: The least populated class in y has only 1 members, which is less than n_splits=9.\n",
            "  % (min_groups, self.n_splits)), UserWarning)\n",
            "/usr/local/lib/python3.7/dist-packages/sklearn/model_selection/_split.py:667: UserWarning: The least populated class in y has only 1 members, which is less than n_splits=9.\n",
            "  % (min_groups, self.n_splits)), UserWarning)\n",
            "/usr/local/lib/python3.7/dist-packages/sklearn/model_selection/_split.py:667: UserWarning: The least populated class in y has only 1 members, which is less than n_splits=9.\n",
            "  % (min_groups, self.n_splits)), UserWarning)\n",
            "/usr/local/lib/python3.7/dist-packages/sklearn/model_selection/_split.py:667: UserWarning: The least populated class in y has only 1 members, which is less than n_splits=9.\n",
            "  % (min_groups, self.n_splits)), UserWarning)\n",
            "/usr/local/lib/python3.7/dist-packages/sklearn/model_selection/_split.py:667: UserWarning: The least populated class in y has only 1 members, which is less than n_splits=9.\n",
            "  % (min_groups, self.n_splits)), UserWarning)\n",
            "/usr/local/lib/python3.7/dist-packages/sklearn/model_selection/_split.py:667: UserWarning: The least populated class in y has only 1 members, which is less than n_splits=9.\n",
            "  % (min_groups, self.n_splits)), UserWarning)\n"
          ],
          "name": "stderr"
        },
        {
          "output_type": "stream",
          "text": [
            "\n",
            "-- Fold: 8 --\n",
            "\n",
            "R^2 Scoring:\n",
            "Mean: 0.877079\n",
            "Std: +/- 0.052614\n",
            "Min: 0.745587\n",
            "Max: 0.950209\n",
            "\n",
            "RMSE Scoring:\n",
            "Mean: 1.503859\n",
            "Std: +/- 0.314909\n",
            "Min: 0.983958\n",
            "Max: 2.181326\n",
            "\n"
          ],
          "name": "stdout"
        },
        {
          "output_type": "stream",
          "text": [
            "/usr/local/lib/python3.7/dist-packages/sklearn/model_selection/_split.py:667: UserWarning: The least populated class in y has only 1 members, which is less than n_splits=10.\n",
            "  % (min_groups, self.n_splits)), UserWarning)\n",
            "/usr/local/lib/python3.7/dist-packages/sklearn/model_selection/_split.py:667: UserWarning: The least populated class in y has only 1 members, which is less than n_splits=10.\n",
            "  % (min_groups, self.n_splits)), UserWarning)\n",
            "/usr/local/lib/python3.7/dist-packages/sklearn/model_selection/_split.py:667: UserWarning: The least populated class in y has only 1 members, which is less than n_splits=10.\n",
            "  % (min_groups, self.n_splits)), UserWarning)\n",
            "/usr/local/lib/python3.7/dist-packages/sklearn/model_selection/_split.py:667: UserWarning: The least populated class in y has only 1 members, which is less than n_splits=10.\n",
            "  % (min_groups, self.n_splits)), UserWarning)\n",
            "/usr/local/lib/python3.7/dist-packages/sklearn/model_selection/_split.py:667: UserWarning: The least populated class in y has only 1 members, which is less than n_splits=10.\n",
            "  % (min_groups, self.n_splits)), UserWarning)\n",
            "/usr/local/lib/python3.7/dist-packages/sklearn/model_selection/_split.py:667: UserWarning: The least populated class in y has only 1 members, which is less than n_splits=10.\n",
            "  % (min_groups, self.n_splits)), UserWarning)\n"
          ],
          "name": "stderr"
        },
        {
          "output_type": "stream",
          "text": [
            "\n",
            "-- Fold: 9 --\n",
            "\n",
            "R^2 Scoring:\n",
            "Mean: 0.878564\n",
            "Std: +/- 0.054864\n",
            "Min: 0.707315\n",
            "Max: 0.953128\n",
            "\n",
            "RMSE Scoring:\n",
            "Mean: 1.487211\n",
            "Std: +/- 0.339309\n",
            "Min: 0.937483\n",
            "Max: 2.429817\n",
            "\n"
          ],
          "name": "stdout"
        },
        {
          "output_type": "stream",
          "text": [
            "/usr/local/lib/python3.7/dist-packages/sklearn/model_selection/_split.py:667: UserWarning: The least populated class in y has only 1 members, which is less than n_splits=11.\n",
            "  % (min_groups, self.n_splits)), UserWarning)\n",
            "/usr/local/lib/python3.7/dist-packages/sklearn/model_selection/_split.py:667: UserWarning: The least populated class in y has only 1 members, which is less than n_splits=11.\n",
            "  % (min_groups, self.n_splits)), UserWarning)\n",
            "/usr/local/lib/python3.7/dist-packages/sklearn/model_selection/_split.py:667: UserWarning: The least populated class in y has only 1 members, which is less than n_splits=11.\n",
            "  % (min_groups, self.n_splits)), UserWarning)\n",
            "/usr/local/lib/python3.7/dist-packages/sklearn/model_selection/_split.py:667: UserWarning: The least populated class in y has only 1 members, which is less than n_splits=11.\n",
            "  % (min_groups, self.n_splits)), UserWarning)\n",
            "/usr/local/lib/python3.7/dist-packages/sklearn/model_selection/_split.py:667: UserWarning: The least populated class in y has only 1 members, which is less than n_splits=11.\n",
            "  % (min_groups, self.n_splits)), UserWarning)\n",
            "/usr/local/lib/python3.7/dist-packages/sklearn/model_selection/_split.py:667: UserWarning: The least populated class in y has only 1 members, which is less than n_splits=11.\n",
            "  % (min_groups, self.n_splits)), UserWarning)\n"
          ],
          "name": "stderr"
        },
        {
          "output_type": "stream",
          "text": [
            "\n",
            "-- Fold: 10 --\n",
            "\n",
            "R^2 Scoring:\n",
            "Mean: 0.882857\n",
            "Std: +/- 0.056629\n",
            "Min: 0.755811\n",
            "Max: 0.967814\n",
            "\n",
            "RMSE Scoring:\n",
            "Mean: 1.451302\n",
            "Std: +/- 0.386905\n",
            "Min: 0.799545\n",
            "Max: 2.251709\n",
            "\n"
          ],
          "name": "stdout"
        },
        {
          "output_type": "display_data",
          "data": {
            "image/png": "[encoded data removed]",
            "text/plain": [
              "<Figure size 1080x720 with 4 Axes>"
            ]
          },
          "metadata": {
            "tags": [],
            "needs_background": "light"
          }
        }
      ]
    },
    {
      "cell_type": "markdown",
      "metadata": {
        "id": "Vov8NBqgqHc7"
      },
      "source": [
        "<table border = \"1\">\n",
        "  <thead>\n",
        "    <th colspan = \"3\">LightGBM Cross-Validation Results</th>\n",
        "  </thead>\n",
        "  <tbody>\n",
        "    <tr>\n",
        "      <td><b></b></td>\n",
        "      <td><b>R^2</b></td>\n",
        "      <td><b>RMSE</b></td>\n",
        "    </tr>\n",
        "    <tr>\n",
        "      <td><b>Mean</b></td>\n",
        "      <td>0.883</td>\n",
        "      <td>1.451</td>\n",
        "    </tr>\n",
        "    <tr>\n",
        "      <td><b>Std.</b></td>\n",
        "      <td>0.057</td>\n",
        "      <td>0.387</td>\n",
        "    </tr>\n",
        "    <tr>\n",
        "      <td><b>Min</b></td>\n",
        "      <td>0.756</td>\n",
        "      <td>0.800</td>\n",
        "    </tr>\n",
        "    <tr>\n",
        "      <td><b>Max</b></td>\n",
        "      <td>0.968</td>\n",
        "      <td>2.252</td>\n",
        "    </tr>\n",
        "  </tbody>\n",
        "</table>"
      ]
    },
    {
      "cell_type": "code",
      "metadata": {
        "colab": {
          "base_uri": "https://localhost:8080/"
        },
        "id": "Hv4sgUZEqLfQ",
        "outputId": "08f5d9ef-6aa6-4a56-a4b7-ec347590c3b0"
      },
      "source": [
        "# Apply Grid Search for parameter tuning\n",
        "\n",
        "# param_dict = {'boosting_type': ['gbdt'],\n",
        "#               'max_depth': [10, 25, 50, 75, 100],\n",
        "#               'n_estimators': [50, 100, 150, 200, 250],\n",
        "#               'learning_rate': [0.01, 0.05, 0.1, 0.15],\n",
        "#               'colsample_bytree': [0.2, 0.4, 0.6, 0.8, 1],\n",
        "#               'num_leaves': [1, 5, 10, 20],\n",
        "#               'min_split_gain': [2, 5, 10],\n",
        "#               'max_samples': [0.2, 0.4, 0.6, 0.8, 1],\n",
        "#               'reg_alpha': [0.5, 1, 1.5, 2, 5, 10],\n",
        "#               'reg_lambda': [0.5, 1, 1.5, 2, 5, 10],\n",
        "#               'subsample': [1, 1.5, 2, 5, 10],\n",
        "#               'subsample_freq': [5, 10, 15, 20, 25],\n",
        "#               'random_state': [0, 1, 2, 5, 10, 20, 40]}\n",
        "\n",
        "param_dict = {'max_depth': [2],\n",
        "              'n_estimators': [115],\n",
        "              'learning_rate': [0.16],\n",
        "              'colsample_bytree': [1],\n",
        "              'num_leaves': [4],\n",
        "              'reg_alpha': [2.2],\n",
        "              'subsample': [1],\n",
        "              'subsample_freq': [1],\n",
        "              'random_state': [0, 1]}\n",
        "\n",
        "# grid = GridSearchCV(lgb_reg, param_dict, scoring='neg_mean_absolute_error', cv=cv, n_jobs=-1)\n",
        "# grid = GridSearchCV(lgb_reg, param_dict, scoring='neg_mean_squared_error', cv=cv, n_jobs=-1)\n",
        "# grid = GridSearchCV(lgb_reg, param_dict, scoring='neg_root_mean_squared_error', cv=cv, n_jobs=-1)\n",
        "grid = GridSearchCV(lgb_reg, param_dict, scoring='r2', cv=cv, n_jobs=-1)\n",
        "results = grid.fit(X_train, y_train)\n",
        "\n",
        "# Summarize results\n",
        "best_score = grid.best_score_\n",
        "best_parameters = grid.best_params_\n",
        "print(\"Best Score: %.3f%%\" % (np.abs(best_score * 100)))  # R^2 Scoring\n",
        "# print(\"Best Score: %.3f%%\" % (np.abs(best_score)))  # RMSE\n",
        "print(\"Best Parameters: \", best_parameters)"
      ],
      "execution_count": null,
      "outputs": [
        {
          "output_type": "stream",
          "text": [
            "/usr/local/lib/python3.7/dist-packages/sklearn/model_selection/_split.py:667: UserWarning: The least populated class in y has only 1 members, which is less than n_splits=11.\n",
            "  % (min_groups, self.n_splits)), UserWarning)\n",
            "/usr/local/lib/python3.7/dist-packages/sklearn/model_selection/_split.py:667: UserWarning: The least populated class in y has only 1 members, which is less than n_splits=11.\n",
            "  % (min_groups, self.n_splits)), UserWarning)\n",
            "/usr/local/lib/python3.7/dist-packages/sklearn/model_selection/_split.py:667: UserWarning: The least populated class in y has only 1 members, which is less than n_splits=11.\n",
            "  % (min_groups, self.n_splits)), UserWarning)\n"
          ],
          "name": "stderr"
        },
        {
          "output_type": "stream",
          "text": [
            "Best Score: 88.286%\n",
            "Best Parameters:  {'colsample_bytree': 1, 'learning_rate': 0.16, 'max_depth': 2, 'n_estimators': 115, 'num_leaves': 4, 'random_state': 0, 'reg_alpha': 2.2, 'subsample': 1, 'subsample_freq': 1}\n"
          ],
          "name": "stdout"
        }
      ]
    },
    {
      "cell_type": "markdown",
      "metadata": {
        "id": "_jPd0w9SqPG7"
      },
      "source": [
        "<table border = \"1\">\n",
        "  <thead>\n",
        "    <th colspan = \"2\">LightGBM Grid Search Results</th>\n",
        "  </thead>\n",
        "  <tbody>\n",
        "    <tr>\n",
        "      <td><b>Best Score</b></td>\n",
        "      <td>88.286%</td>\n",
        "    </tr>\n",
        "    <tr>\n",
        "      <td colspan=\"2\"><b>Best Parameters:</b></td>\n",
        "    </tr>\n",
        "    <tr>\n",
        "      <td><b>max_depth</b></td>\n",
        "      <td>2</td>\n",
        "    </tr>\n",
        "    <tr>\n",
        "      <td><b>n_estimators</b></td>\n",
        "      <td>115</td>\n",
        "    </tr>\n",
        "    <tr>\n",
        "      <td><b>learning_rate</b></td>\n",
        "      <td>0.16</td>\n",
        "    </tr>\n",
        "    <tr>\n",
        "      <td><b>colsample_bytree</b></td>\n",
        "      <td>1</td>\n",
        "    </tr>\n",
        "    <tr>\n",
        "      <td><b>num_leaves</b></td>\n",
        "      <td>4</td>\n",
        "    </tr>\n",
        "    <tr>\n",
        "      <td><b>reg_alpha</b></td>\n",
        "      <td>2.2</td>\n",
        "    </tr>\n",
        "    <tr>\n",
        "      <td><b>subsample</b></td>\n",
        "      <td>1</td>\n",
        "    </tr>\n",
        "    <tr>\n",
        "      <td><b>subsample_freq</b></td>\n",
        "      <td>1</td>\n",
        "    </tr>\n",
        "    <tr>\n",
        "      <td><b>random_state</b></td>\n",
        "      <td>0</td>\n",
        "    </tr>\n",
        "  </tbody>\n",
        "</table>"
      ]
    },
    {
      "cell_type": "markdown",
      "metadata": {
        "id": "R91HskYKawd1"
      },
      "source": [
        "## 6. Final Results"
      ]
    },
    {
      "cell_type": "markdown",
      "metadata": {
        "id": "IJsl2nDTqYT2"
      },
      "source": [
        "<table border = \"1\">\n",
        "  <thead>\n",
        "    <th colspan = \"3\">Regression Scores - Math</th>\n",
        "  </thead>\n",
        "  <tbody>\n",
        "    <tr>\n",
        "      <td><b>Model</b></td>\n",
        "      <td><b>R^2</b></td>\n",
        "      <td><b>RMSE</b></td>\n",
        "    </tr>\n",
        "    <tr>\n",
        "      <td><b>Decision Tree (DT)</b></td>\n",
        "      <td>0.869</td>\n",
        "      <td>1.483</td>\n",
        "    </tr>\n",
        "    <tr>\n",
        "      <td><b>LightGBM (LGB)</b></td>\n",
        "      <td>0.883</td>\n",
        "      <td>1.451</td>\n",
        "    </tr>\n",
        "    <tr>\n",
        "      <td><b>Random Forest (RF)</b></td>\n",
        "      <td>0.880</td>\n",
        "      <td>1.451</td>\n",
        "    </tr>\n",
        "    <tr>\n",
        "      <td><b>XGBoost (XGB)</b></td>\n",
        "      <td>0.904</td>\n",
        "      <td>1.311</td>\n",
        "    </tr>\n",
        "  </tbody>\n",
        "</table>"
      ]
    }
  ]
}